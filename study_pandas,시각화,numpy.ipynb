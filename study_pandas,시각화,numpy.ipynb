{
 "cells": [
  {
   "attachments": {},
   "cell_type": "markdown",
   "metadata": {},
   "source": [
    "# Numpy"
   ]
  },
  {
   "cell_type": "code",
   "execution_count": 1,
   "metadata": {},
   "outputs": [],
   "source": [
    "import numpy as np\n",
    "a= np.array([1,2,3,4,5])"
   ]
  },
  {
   "attachments": {},
   "cell_type": "markdown",
   "metadata": {},
   "source": [
    "### 인덱스, 슬라이싱"
   ]
  },
  {
   "cell_type": "code",
   "execution_count": 13,
   "metadata": {},
   "outputs": [
    {
     "data": {
      "text/plain": [
       "array([[0, 1, 2],\n",
       "       [6, 7, 8]])"
      ]
     },
     "execution_count": 13,
     "metadata": {},
     "output_type": "execute_result"
    }
   ],
   "source": [
    "# a[[1,2]]\n",
    "b=np.arange(9).reshape(3,3)\n",
    "b[1,2]\n",
    "b[:,2]\n",
    "b[[0,2],:]"
   ]
  },
  {
   "attachments": {},
   "cell_type": "markdown",
   "metadata": {},
   "source": [
    "### 불린인덱싱"
   ]
  },
  {
   "cell_type": "code",
   "execution_count": null,
   "metadata": {},
   "outputs": [],
   "source": [
    "#조건필터링과 검색\n",
    "ndarry[조건]"
   ]
  },
  {
   "attachments": {},
   "cell_type": "markdown",
   "metadata": {},
   "source": [
    "### 행렬의 정렬"
   ]
  },
  {
   "cell_type": "code",
   "execution_count": 2,
   "metadata": {},
   "outputs": [
    {
     "data": {
      "text/plain": [
       "array([1, 2, 3, 4, 5])"
      ]
     },
     "execution_count": 2,
     "metadata": {},
     "output_type": "execute_result"
    }
   ],
   "source": [
    "np.sort() #원본행렬을 변경하지 않음\n",
    "ndarray.sort() # 원본행렬을 정렬하여 변경\n",
    "\n",
    "# 내림차순\n",
    "np.sort()[::-1]\n",
    "\n",
    "# 정렬된 행렬의 인덱스 반환\n",
    "np.argsort()"
   ]
  },
  {
   "attachments": {},
   "cell_type": "markdown",
   "metadata": {},
   "source": [
    "### 행렬 합치기"
   ]
  },
  {
   "cell_type": "code",
   "execution_count": null,
   "metadata": {},
   "outputs": [],
   "source": [
    "np.c_(a,b) # 2차원 행렬 , 기본값 : axis=1"
   ]
  },
  {
   "attachments": {},
   "cell_type": "markdown",
   "metadata": {},
   "source": [
    "### 행렬 내적"
   ]
  },
  {
   "cell_type": "code",
   "execution_count": null,
   "metadata": {},
   "outputs": [],
   "source": [
    "np.dot(A,B)\n",
    "\n",
    "np.multiply()\n",
    "np.subtract()\n",
    "np.add()\n",
    "\n",
    "# 전치행렬\n",
    "ndarry.T\n",
    "np.transpose(A)"
   ]
  },
  {
   "attachments": {},
   "cell_type": "markdown",
   "metadata": {},
   "source": [
    "# 판다스"
   ]
  },
  {
   "cell_type": "code",
   "execution_count": null,
   "metadata": {},
   "outputs": [],
   "source": [
    "import pandas as pd\n",
    "emp=pd.read_csv(\"/Users/seojeongsik/Desktop/매수종목.csv\")"
   ]
  },
  {
   "attachments": {},
   "cell_type": "markdown",
   "metadata": {},
   "source": [
    "### 시리즈(Series)"
   ]
  },
  {
   "cell_type": "code",
   "execution_count": null,
   "metadata": {},
   "outputs": [],
   "source": [
    "# 시리즈 열벡터\n",
    "emp['dname'].values\n",
    "emp['dname'].index\n",
    "pd.DataFrame(emp.dname)"
   ]
  },
  {
   "cell_type": "code",
   "execution_count": null,
   "metadata": {},
   "outputs": [],
   "source": [
    "# 시리즈 생성 : 인덱스와 데이터값으로 구성\n",
    "sr = pd.Series(값 리스트, index= 인덱스리스트)\n",
    "sr.values\n",
    "sr.index"
   ]
  },
  {
   "cell_type": "code",
   "execution_count": 17,
   "metadata": {},
   "outputs": [
    {
     "data": {
      "text/html": [
       "<div>\n",
       "<style scoped>\n",
       "    .dataframe tbody tr th:only-of-type {\n",
       "        vertical-align: middle;\n",
       "    }\n",
       "\n",
       "    .dataframe tbody tr th {\n",
       "        vertical-align: top;\n",
       "    }\n",
       "\n",
       "    .dataframe thead th {\n",
       "        text-align: right;\n",
       "    }\n",
       "</style>\n",
       "<table border=\"1\" class=\"dataframe\">\n",
       "  <thead>\n",
       "    <tr style=\"text-align: right;\">\n",
       "      <th></th>\n",
       "      <th>학번</th>\n",
       "      <th>이름</th>\n",
       "      <th>점수</th>\n",
       "    </tr>\n",
       "  </thead>\n",
       "  <tbody>\n",
       "    <tr>\n",
       "      <th>0</th>\n",
       "      <td>1000</td>\n",
       "      <td>Steve</td>\n",
       "      <td>90.72</td>\n",
       "    </tr>\n",
       "    <tr>\n",
       "      <th>1</th>\n",
       "      <td>1001</td>\n",
       "      <td>James</td>\n",
       "      <td>78.09</td>\n",
       "    </tr>\n",
       "    <tr>\n",
       "      <th>2</th>\n",
       "      <td>1002</td>\n",
       "      <td>Doyeon</td>\n",
       "      <td>98.43</td>\n",
       "    </tr>\n",
       "    <tr>\n",
       "      <th>3</th>\n",
       "      <td>1003</td>\n",
       "      <td>Jane</td>\n",
       "      <td>64.19</td>\n",
       "    </tr>\n",
       "    <tr>\n",
       "      <th>4</th>\n",
       "      <td>1004</td>\n",
       "      <td>Pilwoong</td>\n",
       "      <td>81.30</td>\n",
       "    </tr>\n",
       "    <tr>\n",
       "      <th>5</th>\n",
       "      <td>1005</td>\n",
       "      <td>Tony</td>\n",
       "      <td>99.14</td>\n",
       "    </tr>\n",
       "  </tbody>\n",
       "</table>\n",
       "</div>"
      ],
      "text/plain": [
       "     학번        이름     점수\n",
       "0  1000     Steve  90.72\n",
       "1  1001     James  78.09\n",
       "2  1002    Doyeon  98.43\n",
       "3  1003      Jane  64.19\n",
       "4  1004  Pilwoong  81.30\n",
       "5  1005      Tony  99.14"
      ]
     },
     "execution_count": 17,
     "metadata": {},
     "output_type": "execute_result"
    }
   ],
   "source": [
    "# 데이타프레임 생성\n",
    "# 2차원 리스트 - 행 단위\n",
    "# 딕셔너리 - 열 단위\n",
    "data = [ ['1000', 'Steve', 90.72], ['1001', 'James', 78.09], ['1002', 'Doyeon', 98.43], ['1003', 'Jane', 64.19], ['1004', 'Pilwoong', 81.30], ['1005', 'Tony', 99.14],]\n",
    "data = { '학번' : ['1000', '1001', '1002', '1003', '1004', '1005'], '이름' : [ 'Steve', 'James', 'Doyeon', 'Jane', 'Pilwoong', 'Tony'], '점수': [90.72, 78.09, 98.43, 64.19, 81.30, 99.14] }\n",
    "df=pd.DataFrame(data)\n",
    "df\n",
    "\n"
   ]
  },
  {
   "attachments": {},
   "cell_type": "markdown",
   "metadata": {},
   "source": [
    "### 데이터프레임 내 정보확인"
   ]
  },
  {
   "cell_type": "code",
   "execution_count": null,
   "metadata": {},
   "outputs": [],
   "source": [
    "df.shape\n",
    "df.keys()\n",
    "df.values\n",
    "df.index\n",
    "df.head()\n",
    "\n",
    "df.info() # 데이터건수, 데이터타입 등\n",
    "df.describe() # 숫자형 특성의 요약 정보 : 평균값, 최댓값, 최솟값\n",
    "\n",
    "np.unique(df[\"\"])\n",
    "\n",
    "df[\"\"].value_counts() # 카테고리와 카테고리별 건수\n",
    "df[\"\"].value_counts(dropna=False) # Null값 포함"
   ]
  },
  {
   "attachments": {},
   "cell_type": "markdown",
   "metadata": {},
   "source": [
    "### 데이터프레임을 ndarray,리스트,딕셔너리로 변환\n",
    "\n",
    "df.values\n",
    "\n",
    "df.values.tolist()\n",
    "\n",
    "df.to_dict()"
   ]
  },
  {
   "attachments": {},
   "cell_type": "markdown",
   "metadata": {},
   "source": [
    "### 데이터프레임 인덱스\n",
    "\n",
    "df.set_index(\"\",inplace=True)\n",
    "df.reset_index([drop=True]) # 숫자열 인덱스로 바뀌고 기존의 인덱스는 새로운 칼럼으로 나온다.\n"
   ]
  },
  {
   "cell_type": "code",
   "execution_count": 21,
   "metadata": {},
   "outputs": [
    {
     "data": {
      "text/html": [
       "<div>\n",
       "<style scoped>\n",
       "    .dataframe tbody tr th:only-of-type {\n",
       "        vertical-align: middle;\n",
       "    }\n",
       "\n",
       "    .dataframe tbody tr th {\n",
       "        vertical-align: top;\n",
       "    }\n",
       "\n",
       "    .dataframe thead th {\n",
       "        text-align: right;\n",
       "    }\n",
       "</style>\n",
       "<table border=\"1\" class=\"dataframe\">\n",
       "  <thead>\n",
       "    <tr style=\"text-align: right;\">\n",
       "      <th></th>\n",
       "      <th>학번</th>\n",
       "      <th>이름</th>\n",
       "      <th>점수</th>\n",
       "    </tr>\n",
       "  </thead>\n",
       "  <tbody>\n",
       "    <tr>\n",
       "      <th>0</th>\n",
       "      <td>1000</td>\n",
       "      <td>Steve</td>\n",
       "      <td>90.72</td>\n",
       "    </tr>\n",
       "    <tr>\n",
       "      <th>1</th>\n",
       "      <td>1001</td>\n",
       "      <td>James</td>\n",
       "      <td>78.09</td>\n",
       "    </tr>\n",
       "    <tr>\n",
       "      <th>2</th>\n",
       "      <td>1002</td>\n",
       "      <td>Doyeon</td>\n",
       "      <td>98.43</td>\n",
       "    </tr>\n",
       "    <tr>\n",
       "      <th>3</th>\n",
       "      <td>1003</td>\n",
       "      <td>Jane</td>\n",
       "      <td>64.19</td>\n",
       "    </tr>\n",
       "    <tr>\n",
       "      <th>4</th>\n",
       "      <td>1004</td>\n",
       "      <td>Pilwoong</td>\n",
       "      <td>81.30</td>\n",
       "    </tr>\n",
       "    <tr>\n",
       "      <th>5</th>\n",
       "      <td>1005</td>\n",
       "      <td>Tony</td>\n",
       "      <td>99.14</td>\n",
       "    </tr>\n",
       "  </tbody>\n",
       "</table>\n",
       "</div>"
      ],
      "text/plain": [
       "     학번        이름     점수\n",
       "0  1000     Steve  90.72\n",
       "1  1001     James  78.09\n",
       "2  1002    Doyeon  98.43\n",
       "3  1003      Jane  64.19\n",
       "4  1004  Pilwoong  81.30\n",
       "5  1005      Tony  99.14"
      ]
     },
     "execution_count": 21,
     "metadata": {},
     "output_type": "execute_result"
    }
   ],
   "source": [
    "# 데이터 프레임 생성 - 컬럼명 지정하여 생성 , 2차원리스트로 구성된 데이터를 사용\n",
    "data = [ ['1000', 'Steve', 90.72], ['1001', 'James', 78.09], ['1002', 'Doyeon', 98.43], ['1003', 'Jane', 64.19], ['1004', 'Pilwoong', 81.30], ['1005', 'Tony', 99.14],]\n",
    "df=pd.DataFrame(data,columns=[\"학번\",\"이름\",\"점수\"])\n",
    "df"
   ]
  },
  {
   "cell_type": "code",
   "execution_count": 24,
   "metadata": {},
   "outputs": [
    {
     "data": {
      "text/html": [
       "<div>\n",
       "<style scoped>\n",
       "    .dataframe tbody tr th:only-of-type {\n",
       "        vertical-align: middle;\n",
       "    }\n",
       "\n",
       "    .dataframe tbody tr th {\n",
       "        vertical-align: top;\n",
       "    }\n",
       "\n",
       "    .dataframe thead th {\n",
       "        text-align: right;\n",
       "    }\n",
       "</style>\n",
       "<table border=\"1\" class=\"dataframe\">\n",
       "  <thead>\n",
       "    <tr style=\"text-align: right;\">\n",
       "      <th></th>\n",
       "      <th>학번</th>\n",
       "      <th>이름</th>\n",
       "      <th>점수</th>\n",
       "    </tr>\n",
       "  </thead>\n",
       "  <tbody>\n",
       "    <tr>\n",
       "      <th>0</th>\n",
       "      <td>1000</td>\n",
       "      <td>Steve</td>\n",
       "      <td>90.72</td>\n",
       "    </tr>\n",
       "    <tr>\n",
       "      <th>1</th>\n",
       "      <td>1001</td>\n",
       "      <td>James</td>\n",
       "      <td>78.09</td>\n",
       "    </tr>\n",
       "    <tr>\n",
       "      <th>2</th>\n",
       "      <td>1002</td>\n",
       "      <td>Doyeon</td>\n",
       "      <td>98.43</td>\n",
       "    </tr>\n",
       "    <tr>\n",
       "      <th>3</th>\n",
       "      <td>1003</td>\n",
       "      <td>Jane</td>\n",
       "      <td>64.19</td>\n",
       "    </tr>\n",
       "    <tr>\n",
       "      <th>4</th>\n",
       "      <td>1004</td>\n",
       "      <td>Pilwoong</td>\n",
       "      <td>81.30</td>\n",
       "    </tr>\n",
       "  </tbody>\n",
       "</table>\n",
       "</div>"
      ],
      "text/plain": [
       "     학번        이름     점수\n",
       "0  1000     Steve  90.72\n",
       "1  1001     James  78.09\n",
       "2  1002    Doyeon  98.43\n",
       "3  1003      Jane  64.19\n",
       "4  1004  Pilwoong  81.30"
      ]
     },
     "execution_count": 24,
     "metadata": {},
     "output_type": "execute_result"
    }
   ],
   "source": [
    "# 데이터 프레임 조회\n",
    "데이터프레임 명[\"열이름\"]\n",
    "df.head(n)\n",
    "df.tail(n)\n"
   ]
  },
  {
   "cell_type": "code",
   "execution_count": null,
   "metadata": {},
   "outputs": [],
   "source": [
    "# 외부 데이터 읽기\n",
    "# csv\n",
    "pd.read_csv('경로')\n",
    "# txt\n",
    "open('경로')\n",
    "file.read()"
   ]
  },
  {
   "cell_type": "code",
   "execution_count": null,
   "metadata": {},
   "outputs": [],
   "source": [
    "import csv\n",
    "\n",
    "csv=csv.reader(file)\n",
    "\n",
    "for i in csv:\n",
    "    i[0]"
   ]
  },
  {
   "cell_type": "code",
   "execution_count": null,
   "metadata": {},
   "outputs": [],
   "source": [
    "import csv\n",
    "\n",
    "csv=csv.reader(\"file\")\n",
    "for i in csv:\n",
    "    i\n",
    "    "
   ]
  },
  {
   "cell_type": "code",
   "execution_count": null,
   "metadata": {},
   "outputs": [],
   "source": [
    "# 데이터프레임 - `조건부` 데이터 불러오기\n",
    "# 파이썬\n",
    "df[[원하는 ]][조건]=해당 조건 데이터\n",
    "df[['컬럼1',\"컬럼2\"]][df[\"조건 컬럼\"]==\"원하는 조건명\"]\n",
    "# sql\n",
    "select 컬럼1,컬럼2\n",
    "from 데이타프레임\n",
    "where 조건"
   ]
  },
  {
   "cell_type": "code",
   "execution_count": null,
   "metadata": {},
   "outputs": [],
   "source": [
    "# 복수 조건\n",
    "# 파이썬\n",
    "import pandas as pd\n",
    "\n",
    "emp = pd.read_csv(\"d:\\\\data\\\\emp2.csv\")\n",
    "emp[['ename', 'sal', 'job']] [(emp['job'] == 'SALESMAN') & (emp['sal'] >= 1000)]\n",
    "# sql\n",
    "select ename, sal, job\n",
    "from emp\n",
    "where job = 'SALESMAN' and sal >= 1000;"
   ]
  },
  {
   "cell_type": "code",
   "execution_count": null,
   "metadata": {},
   "outputs": [],
   "source": [
    "# apply - 특정 콜럼에서 람다식에 해당하는 함수를 적용하고 싶을 때 이용\n",
    "데이터프레임[콜럼명].apply(람다식)"
   ]
  },
  {
   "cell_type": "code",
   "execution_count": null,
   "metadata": {},
   "outputs": [],
   "source": [
    "# 람다식\n",
    "# 파이썬\n",
    "lambda 입력값을 받는 매개변수 : 매개변수에 적용할 식\n",
    "\n",
    "import pandas as pd\n",
    "\n",
    "emp = pd.read_csv(\"d:\\\\data\\\\emp2.csv\")\n",
    "\n",
    "emp['ename_first'] = emp['ename'].apply(lambda x : x[0])\n",
    "emp[['ename', 'ename_first']]\n",
    "\n",
    "# SQL\n",
    "select ename, sal\n",
    "from emp\n",
    "where ename like '%T';\n",
    "\n",
    "첫글자 T%\n",
    "두번쨰 글자 _T\n",
    "substr(키값,시작인덱스,개수) - sql은 인덱스가 1부터 시작"
   ]
  },
  {
   "cell_type": "code",
   "execution_count": null,
   "metadata": {},
   "outputs": [],
   "source": [
    "# 시퀀스 자료형 연결 - 같은 자료형끼리 +로 연결 가능\n",
    "# sql\n",
    "|| 사용\n",
    "initcap() : 첫글자는 대문자 나머지는 소문자로 변환\n",
    "length()\n",
    "# 파이썬\n",
    ".title() : 첫글자는 대문자 나머지는 소문자로 변환\n",
    ".len()\n",
    "\n",
    "# 판다스\n",
    "데이터프레임['컬럼'].between(값1, 값2)\n",
    "데이터프레임['컬럼'].isin([값1,값2])\n",
    "데이터프레임['컬럼'].isnull()\n",
    "데이터프레임['컬럼'].apply(lambda x:x[0])\n",
    "     \n",
    "emp[['ename', 'deptno']][emp['deptno'].isin([10,20])]\n",
    "        출력                        조건"
   ]
  },
  {
   "cell_type": "code",
   "execution_count": null,
   "metadata": {},
   "outputs": [],
   "source": [
    "# 판다스 - not을 ~로 표현\n",
    "select ename, sal\n",
    "from emp\n",
    "where sal not between 1000 and 3000;\n",
    "\n",
    "import pandas as pd\n",
    "\n",
    "emp = pd.read_csv(\"C:\\\\Users\\\\gkdus\\\\PJ\\\\Python\\\\data\\\\emp2.csv\")\n",
    "emp[['ename','sal']][~emp['sal'].between(1000, 3000)]"
   ]
  },
  {
   "cell_type": "code",
   "execution_count": null,
   "metadata": {},
   "outputs": [],
   "source": [
    "# marge(조인) - right outerjoin, left outerjoin, full outerjoin\n",
    "# 없는 데이터는 NaN처리\n",
    "pd.merge(left=, right=, how=, on=, left_on=, right_on=, left_index=, right_index=)\n",
    "pd.concat([left,right], axis=, join=,...)\n",
    "append는 행기준으로 합친다. 세로 ignore_index=True를 넣어야한다."
   ]
  },
  {
   "cell_type": "code",
   "execution_count": null,
   "metadata": {},
   "outputs": [],
   "source": [
    "# 판다스 - 순위 출력\n",
    "# dense는 중복순위 뒤에 순위들을 중복순위와 상관없이 순차적으로 배열한 것\n",
    "emp['순위'] = emp['sal'].rank(method='dense',ascending=False).astype('int')\n",
    "                기준                방법      수치가 높을수록 숫자가 낮은 순위 배정\n",
    "emp[['ename', 'sal','순위']].sort_values(by=['순위'])"
   ]
  },
  {
   "cell_type": "code",
   "execution_count": null,
   "metadata": {},
   "outputs": [],
   "source": [
    "# 판다스 - 그룹함수 \n",
    "데이터프레임.groupby(['그룹핑할컬럼명'])[연산할컬럼명].그룹함수().reset_index()\n",
    "- reset_index()를 통해 데이터프레임 객체로 반환함\n",
    "- 그룹함수\n",
    "emp['sal'].max() # 최대값\n",
    "emp['sal'].min() # 최소값\n",
    "emp['sal'].sum() # 토탈값\n",
    "emp['sal'].count() # 건수\n",
    "emp['sal'].var() # 분산값( 데이터의 퍼짐 정도를 수치로 나타낸것)\n",
    "emp['sal'].std() # 표준편차 ( 분산값에 루트를 씌운값 )"
   ]
  },
  {
   "cell_type": "code",
   "execution_count": null,
   "metadata": {},
   "outputs": [],
   "source": [
    "# 판다스 정렬\n",
    "테이블명[컬럼리스트].sort_values(컬럼명, ascending = False/True)\n",
    "df.sort_values(by=\"컬럼명\",inplace=True)\n",
    "\n",
    "# 판다스 describe\n",
    "데이터프레임[컬럼명].unique()\n",
    "\n",
    "# 판다스 결측치 확인\n",
    "데이터프레임.isnull().sum()\n",
    "데이터프레임[컬럼명].isnull().sum()\n",
    "\n",
    "# 판다스 결측치 처리하기 - 해당컬럼 삭제 , thresh는 특정 개수 이상의 nan값을 지닌 행 또는 열을 제거\n",
    "데이터프레임.drop([삭제할 값이 있는 컬럼명], axis = 1, inplace = [False/True])\n",
    "데이터프레임.dropna(subset = [컬럼명], axis= 0|1 ,thresh= n)"
   ]
  },
  {
   "cell_type": "code",
   "execution_count": 29,
   "metadata": {},
   "outputs": [
    {
     "data": {
      "text/html": [
       "<div>\n",
       "<style scoped>\n",
       "    .dataframe tbody tr th:only-of-type {\n",
       "        vertical-align: middle;\n",
       "    }\n",
       "\n",
       "    .dataframe tbody tr th {\n",
       "        vertical-align: top;\n",
       "    }\n",
       "\n",
       "    .dataframe thead th {\n",
       "        text-align: right;\n",
       "    }\n",
       "</style>\n",
       "<table border=\"1\" class=\"dataframe\">\n",
       "  <thead>\n",
       "    <tr style=\"text-align: right;\">\n",
       "      <th></th>\n",
       "      <th>나이</th>\n",
       "      <th>시간</th>\n",
       "    </tr>\n",
       "  </thead>\n",
       "  <tbody>\n",
       "    <tr>\n",
       "      <th>a</th>\n",
       "      <td>1</td>\n",
       "      <td>1</td>\n",
       "    </tr>\n",
       "    <tr>\n",
       "      <th>b</th>\n",
       "      <td>2</td>\n",
       "      <td>2</td>\n",
       "    </tr>\n",
       "    <tr>\n",
       "      <th>c</th>\n",
       "      <td>3</td>\n",
       "      <td>3</td>\n",
       "    </tr>\n",
       "    <tr>\n",
       "      <th>d</th>\n",
       "      <td>4</td>\n",
       "      <td>4</td>\n",
       "    </tr>\n",
       "    <tr>\n",
       "      <th>e</th>\n",
       "      <td>5</td>\n",
       "      <td>5</td>\n",
       "    </tr>\n",
       "  </tbody>\n",
       "</table>\n",
       "</div>"
      ],
      "text/plain": [
       "   나이  시간\n",
       "a   1   1\n",
       "b   2   2\n",
       "c   3   3\n",
       "d   4   4\n",
       "e   5   5"
      ]
     },
     "execution_count": 29,
     "metadata": {},
     "output_type": "execute_result"
    }
   ],
   "source": [
    "df=pd.DataFrame({\"나이\":[1,2,3,4,5],\"시간\":[1,2,3,4,5]},index=[\"a\",\"b\",\"c\",\"d\",\"e\"])\n",
    "df"
   ]
  },
  {
   "attachments": {},
   "cell_type": "markdown",
   "metadata": {},
   "source": [
    "# 데이터 셀렉션 및 필터링"
   ]
  },
  {
   "attachments": {},
   "cell_type": "markdown",
   "metadata": {},
   "source": [
    "### DataFrame [] 연산자\n",
    "- [칼러명 or 칼럼의 리스트]\n",
    "- [불린 인덱싱]\n",
    "- [슬라이싱]"
   ]
  },
  {
   "attachments": {},
   "cell_type": "markdown",
   "metadata": {},
   "source": [
    "### DataFrame iloc[] 연산자\n",
    "- iloc : 위치 기반 , 정수값 + 정수슬라이싱 , 불린인덱싱 X\n",
    "- loc : 명칭 기반 , 인덱스 값 + 컬럼명, 불린인덱싱 O, 슬라이싱은 end값을 포함하여 반환\n",
    "  - ex) loc[\"name\":\"gender\",\"one\",\"two\"]"
   ]
  },
  {
   "attachments": {},
   "cell_type": "markdown",
   "metadata": {},
   "source": [
    "### 불린인덱싱\n",
    "- DataFrame[조건][칼럼명]\n",
    "- 복합조건\n",
    "  - and는 &\n",
    "  - or은 |\n",
    "  - not은 ~"
   ]
  },
  {
   "attachments": {},
   "cell_type": "markdown",
   "metadata": {},
   "source": [
    "### 정렬, Aggregation 함수, GroupBy 적용"
   ]
  },
  {
   "cell_type": "code",
   "execution_count": null,
   "metadata": {},
   "outputs": [],
   "source": []
  },
  {
   "cell_type": "code",
   "execution_count": 95,
   "metadata": {},
   "outputs": [
    {
     "data": {
      "text/html": [
       "<div>\n",
       "<style scoped>\n",
       "    .dataframe tbody tr th:only-of-type {\n",
       "        vertical-align: middle;\n",
       "    }\n",
       "\n",
       "    .dataframe tbody tr th {\n",
       "        vertical-align: top;\n",
       "    }\n",
       "\n",
       "    .dataframe thead th {\n",
       "        text-align: right;\n",
       "    }\n",
       "</style>\n",
       "<table border=\"1\" class=\"dataframe\">\n",
       "  <thead>\n",
       "    <tr style=\"text-align: right;\">\n",
       "      <th></th>\n",
       "      <th>나이</th>\n",
       "      <th>시간</th>\n",
       "    </tr>\n",
       "  </thead>\n",
       "  <tbody>\n",
       "    <tr>\n",
       "      <th>a</th>\n",
       "      <td>1</td>\n",
       "      <td>1</td>\n",
       "    </tr>\n",
       "    <tr>\n",
       "      <th>b</th>\n",
       "      <td>2</td>\n",
       "      <td>2</td>\n",
       "    </tr>\n",
       "    <tr>\n",
       "      <th>c</th>\n",
       "      <td>3</td>\n",
       "      <td>3</td>\n",
       "    </tr>\n",
       "    <tr>\n",
       "      <th>d</th>\n",
       "      <td>4</td>\n",
       "      <td>4</td>\n",
       "    </tr>\n",
       "    <tr>\n",
       "      <th>e</th>\n",
       "      <td>5</td>\n",
       "      <td>5</td>\n",
       "    </tr>\n",
       "    <tr>\n",
       "      <th>f</th>\n",
       "      <td>6</td>\n",
       "      <td>6</td>\n",
       "    </tr>\n",
       "  </tbody>\n",
       "</table>\n",
       "</div>"
      ],
      "text/plain": [
       "   나이  시간\n",
       "a   1   1\n",
       "b   2   2\n",
       "c   3   3\n",
       "d   4   4\n",
       "e   5   5\n",
       "f   6   6"
      ]
     },
     "execution_count": 95,
     "metadata": {},
     "output_type": "execute_result"
    }
   ],
   "source": [
    "# 데이터프레임에 행추가 - loc , append\n",
    "# 시리즈는 1차원이기때문에 인덱스를 추가하는 개념 - append\n",
    "df.loc[\"f\"]=[6,6]\n",
    "df1.loc[5]=[6,6]\n",
    "df1.append({\"나이\":7,\"시간\":7},ignore_index=True)"
   ]
  },
  {
   "cell_type": "code",
   "execution_count": 99,
   "metadata": {},
   "outputs": [
    {
     "data": {
      "text/html": [
       "<div>\n",
       "<style scoped>\n",
       "    .dataframe tbody tr th:only-of-type {\n",
       "        vertical-align: middle;\n",
       "    }\n",
       "\n",
       "    .dataframe tbody tr th {\n",
       "        vertical-align: top;\n",
       "    }\n",
       "\n",
       "    .dataframe thead th {\n",
       "        text-align: right;\n",
       "    }\n",
       "</style>\n",
       "<table border=\"1\" class=\"dataframe\">\n",
       "  <thead>\n",
       "    <tr style=\"text-align: right;\">\n",
       "      <th></th>\n",
       "      <th>나이</th>\n",
       "      <th>시간</th>\n",
       "    </tr>\n",
       "  </thead>\n",
       "  <tbody>\n",
       "    <tr>\n",
       "      <th>A</th>\n",
       "      <td>1</td>\n",
       "      <td>1</td>\n",
       "    </tr>\n",
       "    <tr>\n",
       "      <th>b</th>\n",
       "      <td>2</td>\n",
       "      <td>2</td>\n",
       "    </tr>\n",
       "    <tr>\n",
       "      <th>c</th>\n",
       "      <td>3</td>\n",
       "      <td>3</td>\n",
       "    </tr>\n",
       "    <tr>\n",
       "      <th>d</th>\n",
       "      <td>4</td>\n",
       "      <td>4</td>\n",
       "    </tr>\n",
       "    <tr>\n",
       "      <th>e</th>\n",
       "      <td>5</td>\n",
       "      <td>5</td>\n",
       "    </tr>\n",
       "    <tr>\n",
       "      <th>f</th>\n",
       "      <td>6</td>\n",
       "      <td>6</td>\n",
       "    </tr>\n",
       "  </tbody>\n",
       "</table>\n",
       "</div>"
      ],
      "text/plain": [
       "   나이  시간\n",
       "A   1   1\n",
       "b   2   2\n",
       "c   3   3\n",
       "d   4   4\n",
       "e   5   5\n",
       "f   6   6"
      ]
     },
     "execution_count": 99,
     "metadata": {},
     "output_type": "execute_result"
    }
   ],
   "source": [
    "# 행 또는 열의 이름 변경\n",
    "df.rename(columns={before:after},index={\"a\":\"A\"})"
   ]
  },
  {
   "cell_type": "code",
   "execution_count": null,
   "metadata": {},
   "outputs": [],
   "source": [
    "# 조회\n",
    "df.index\n",
    "df.columns"
   ]
  },
  {
   "cell_type": "code",
   "execution_count": 101,
   "metadata": {},
   "outputs": [
    {
     "data": {
      "text/plain": [
       "Int64Index([0, 1, 2, 3, 4, 5], dtype='int64')"
      ]
     },
     "execution_count": 101,
     "metadata": {},
     "output_type": "execute_result"
    }
   ],
   "source": [
    "# 결측치값 치환하기\n",
    "데이터프레임[컬럼명].fillna(치환할 값, inplace = [False/True])\n",
    "\n",
    "# 최빈값 카운트 - 결측치값 포함할 것인지 여부\n",
    "데이터프레임[컬럼명].value_counts(dropna = [False/True]).idxmax()\n",
    "# 평균값\n",
    "변수 = 데이터프레임[컬럼명].mean()\n",
    "\n",
    "# 결측치 주변의 값으로 채우기\n",
    "데이터프레임[컬럼명].fillna(method='ffill', inplace=[False/True]) #결측치의 위의 데이터로 치환\n",
    "데이터프레임[컬럼명].fillna(method='bfill', inplace=[False/True]) #결측치의 위의 데이터로 치환"
   ]
  },
  {
   "cell_type": "code",
   "execution_count": 4,
   "metadata": {},
   "outputs": [
    {
     "data": {
      "text/html": [
       "<div>\n",
       "<style scoped>\n",
       "    .dataframe tbody tr th:only-of-type {\n",
       "        vertical-align: middle;\n",
       "    }\n",
       "\n",
       "    .dataframe tbody tr th {\n",
       "        vertical-align: top;\n",
       "    }\n",
       "\n",
       "    .dataframe thead th {\n",
       "        text-align: right;\n",
       "    }\n",
       "</style>\n",
       "<table border=\"1\" class=\"dataframe\">\n",
       "  <thead>\n",
       "    <tr style=\"text-align: right;\">\n",
       "      <th></th>\n",
       "      <th>survived</th>\n",
       "      <th>pclass</th>\n",
       "      <th>sex</th>\n",
       "      <th>age</th>\n",
       "      <th>sibsp</th>\n",
       "      <th>parch</th>\n",
       "      <th>fare</th>\n",
       "      <th>embarked</th>\n",
       "      <th>class</th>\n",
       "      <th>who</th>\n",
       "      <th>adult_male</th>\n",
       "      <th>deck</th>\n",
       "      <th>embark_town</th>\n",
       "      <th>alive</th>\n",
       "      <th>alone</th>\n",
       "      <th>women_child</th>\n",
       "    </tr>\n",
       "  </thead>\n",
       "  <tbody>\n",
       "    <tr>\n",
       "      <th>0</th>\n",
       "      <td>0</td>\n",
       "      <td>3</td>\n",
       "      <td>male</td>\n",
       "      <td>22.0</td>\n",
       "      <td>1</td>\n",
       "      <td>0</td>\n",
       "      <td>7.2500</td>\n",
       "      <td>S</td>\n",
       "      <td>Third</td>\n",
       "      <td>man</td>\n",
       "      <td>True</td>\n",
       "      <td>NaN</td>\n",
       "      <td>Southampton</td>\n",
       "      <td>no</td>\n",
       "      <td>False</td>\n",
       "      <td>0</td>\n",
       "    </tr>\n",
       "    <tr>\n",
       "      <th>1</th>\n",
       "      <td>1</td>\n",
       "      <td>1</td>\n",
       "      <td>female</td>\n",
       "      <td>38.0</td>\n",
       "      <td>1</td>\n",
       "      <td>0</td>\n",
       "      <td>71.2833</td>\n",
       "      <td>C</td>\n",
       "      <td>First</td>\n",
       "      <td>woman</td>\n",
       "      <td>False</td>\n",
       "      <td>C</td>\n",
       "      <td>Cherbourg</td>\n",
       "      <td>yes</td>\n",
       "      <td>False</td>\n",
       "      <td>1</td>\n",
       "    </tr>\n",
       "    <tr>\n",
       "      <th>2</th>\n",
       "      <td>1</td>\n",
       "      <td>3</td>\n",
       "      <td>female</td>\n",
       "      <td>26.0</td>\n",
       "      <td>0</td>\n",
       "      <td>0</td>\n",
       "      <td>7.9250</td>\n",
       "      <td>S</td>\n",
       "      <td>Third</td>\n",
       "      <td>woman</td>\n",
       "      <td>False</td>\n",
       "      <td>NaN</td>\n",
       "      <td>Southampton</td>\n",
       "      <td>yes</td>\n",
       "      <td>True</td>\n",
       "      <td>1</td>\n",
       "    </tr>\n",
       "    <tr>\n",
       "      <th>3</th>\n",
       "      <td>1</td>\n",
       "      <td>1</td>\n",
       "      <td>female</td>\n",
       "      <td>35.0</td>\n",
       "      <td>1</td>\n",
       "      <td>0</td>\n",
       "      <td>53.1000</td>\n",
       "      <td>S</td>\n",
       "      <td>First</td>\n",
       "      <td>woman</td>\n",
       "      <td>False</td>\n",
       "      <td>C</td>\n",
       "      <td>Southampton</td>\n",
       "      <td>yes</td>\n",
       "      <td>False</td>\n",
       "      <td>1</td>\n",
       "    </tr>\n",
       "    <tr>\n",
       "      <th>4</th>\n",
       "      <td>0</td>\n",
       "      <td>3</td>\n",
       "      <td>male</td>\n",
       "      <td>35.0</td>\n",
       "      <td>0</td>\n",
       "      <td>0</td>\n",
       "      <td>8.0500</td>\n",
       "      <td>S</td>\n",
       "      <td>Third</td>\n",
       "      <td>man</td>\n",
       "      <td>True</td>\n",
       "      <td>NaN</td>\n",
       "      <td>Southampton</td>\n",
       "      <td>no</td>\n",
       "      <td>True</td>\n",
       "      <td>0</td>\n",
       "    </tr>\n",
       "    <tr>\n",
       "      <th>...</th>\n",
       "      <td>...</td>\n",
       "      <td>...</td>\n",
       "      <td>...</td>\n",
       "      <td>...</td>\n",
       "      <td>...</td>\n",
       "      <td>...</td>\n",
       "      <td>...</td>\n",
       "      <td>...</td>\n",
       "      <td>...</td>\n",
       "      <td>...</td>\n",
       "      <td>...</td>\n",
       "      <td>...</td>\n",
       "      <td>...</td>\n",
       "      <td>...</td>\n",
       "      <td>...</td>\n",
       "      <td>...</td>\n",
       "    </tr>\n",
       "    <tr>\n",
       "      <th>886</th>\n",
       "      <td>0</td>\n",
       "      <td>2</td>\n",
       "      <td>male</td>\n",
       "      <td>27.0</td>\n",
       "      <td>0</td>\n",
       "      <td>0</td>\n",
       "      <td>13.0000</td>\n",
       "      <td>S</td>\n",
       "      <td>Second</td>\n",
       "      <td>man</td>\n",
       "      <td>True</td>\n",
       "      <td>NaN</td>\n",
       "      <td>Southampton</td>\n",
       "      <td>no</td>\n",
       "      <td>True</td>\n",
       "      <td>0</td>\n",
       "    </tr>\n",
       "    <tr>\n",
       "      <th>887</th>\n",
       "      <td>1</td>\n",
       "      <td>1</td>\n",
       "      <td>female</td>\n",
       "      <td>19.0</td>\n",
       "      <td>0</td>\n",
       "      <td>0</td>\n",
       "      <td>30.0000</td>\n",
       "      <td>S</td>\n",
       "      <td>First</td>\n",
       "      <td>woman</td>\n",
       "      <td>False</td>\n",
       "      <td>B</td>\n",
       "      <td>Southampton</td>\n",
       "      <td>yes</td>\n",
       "      <td>True</td>\n",
       "      <td>1</td>\n",
       "    </tr>\n",
       "    <tr>\n",
       "      <th>888</th>\n",
       "      <td>0</td>\n",
       "      <td>3</td>\n",
       "      <td>female</td>\n",
       "      <td>NaN</td>\n",
       "      <td>1</td>\n",
       "      <td>2</td>\n",
       "      <td>23.4500</td>\n",
       "      <td>S</td>\n",
       "      <td>Third</td>\n",
       "      <td>woman</td>\n",
       "      <td>False</td>\n",
       "      <td>NaN</td>\n",
       "      <td>Southampton</td>\n",
       "      <td>no</td>\n",
       "      <td>False</td>\n",
       "      <td>1</td>\n",
       "    </tr>\n",
       "    <tr>\n",
       "      <th>889</th>\n",
       "      <td>1</td>\n",
       "      <td>1</td>\n",
       "      <td>male</td>\n",
       "      <td>26.0</td>\n",
       "      <td>0</td>\n",
       "      <td>0</td>\n",
       "      <td>30.0000</td>\n",
       "      <td>C</td>\n",
       "      <td>First</td>\n",
       "      <td>man</td>\n",
       "      <td>True</td>\n",
       "      <td>C</td>\n",
       "      <td>Cherbourg</td>\n",
       "      <td>yes</td>\n",
       "      <td>True</td>\n",
       "      <td>0</td>\n",
       "    </tr>\n",
       "    <tr>\n",
       "      <th>890</th>\n",
       "      <td>0</td>\n",
       "      <td>3</td>\n",
       "      <td>male</td>\n",
       "      <td>32.0</td>\n",
       "      <td>0</td>\n",
       "      <td>0</td>\n",
       "      <td>7.7500</td>\n",
       "      <td>Q</td>\n",
       "      <td>Third</td>\n",
       "      <td>man</td>\n",
       "      <td>True</td>\n",
       "      <td>NaN</td>\n",
       "      <td>Queenstown</td>\n",
       "      <td>no</td>\n",
       "      <td>True</td>\n",
       "      <td>0</td>\n",
       "    </tr>\n",
       "  </tbody>\n",
       "</table>\n",
       "<p>891 rows × 16 columns</p>\n",
       "</div>"
      ],
      "text/plain": [
       "     survived  pclass     sex   age  sibsp  parch     fare embarked   class  \\\n",
       "0           0       3    male  22.0      1      0   7.2500        S   Third   \n",
       "1           1       1  female  38.0      1      0  71.2833        C   First   \n",
       "2           1       3  female  26.0      0      0   7.9250        S   Third   \n",
       "3           1       1  female  35.0      1      0  53.1000        S   First   \n",
       "4           0       3    male  35.0      0      0   8.0500        S   Third   \n",
       "..        ...     ...     ...   ...    ...    ...      ...      ...     ...   \n",
       "886         0       2    male  27.0      0      0  13.0000        S  Second   \n",
       "887         1       1  female  19.0      0      0  30.0000        S   First   \n",
       "888         0       3  female   NaN      1      2  23.4500        S   Third   \n",
       "889         1       1    male  26.0      0      0  30.0000        C   First   \n",
       "890         0       3    male  32.0      0      0   7.7500        Q   Third   \n",
       "\n",
       "       who  adult_male deck  embark_town alive  alone  women_child  \n",
       "0      man        True  NaN  Southampton    no  False            0  \n",
       "1    woman       False    C    Cherbourg   yes  False            1  \n",
       "2    woman       False  NaN  Southampton   yes   True            1  \n",
       "3    woman       False    C  Southampton   yes  False            1  \n",
       "4      man        True  NaN  Southampton    no   True            0  \n",
       "..     ...         ...  ...          ...   ...    ...          ...  \n",
       "886    man        True  NaN  Southampton    no   True            0  \n",
       "887  woman       False    B  Southampton   yes   True            1  \n",
       "888  woman       False  NaN  Southampton    no  False            1  \n",
       "889    man        True    C    Cherbourg   yes   True            0  \n",
       "890    man        True  NaN   Queenstown    no   True            0  \n",
       "\n",
       "[891 rows x 16 columns]"
      ]
     },
     "execution_count": 4,
     "metadata": {},
     "output_type": "execute_result"
    }
   ],
   "source": [
    "# 파생변수 - bool값으로 반환\n",
    "import seaborn as sns\n",
    "\n",
    "tat = sns.load_dataset('titanic')\n",
    "#나이가 16살 미만 여성\n",
    "#mask는 시리즈 타입\n",
    "mask = (tat['age'] < 16) | (tat['sex'] == 'female')\n",
    "\n",
    "#False, True로 되어 있는 시리즈 타입의 변수 mask를 int 타입으로 변환하여 tat에 삽입.\n",
    "#이로인해 False는 0, True는 1로 값이 바뀜\n",
    "tat['women_child'] = mask.astype('int')\n",
    "tat\n"
   ]
  },
  {
   "cell_type": "code",
   "execution_count": 20,
   "metadata": {},
   "outputs": [
    {
     "data": {
      "text/plain": [
       "0    0\n",
       "1    1\n",
       "2    1\n",
       "Name: survived, dtype: int64"
      ]
     },
     "execution_count": 20,
     "metadata": {},
     "output_type": "execute_result"
    }
   ],
   "source": [
    "# df.iloc - 슬라이싱을 통한 특정 행열정보 가져오기\n",
    "tat[열][행]\n",
    "df.iloc[[행],[열]]"
   ]
  },
  {
   "cell_type": "code",
   "execution_count": null,
   "metadata": {},
   "outputs": [],
   "source": [
    "# 인덱스 지정하기\n",
    "df.set_index(['년도'], inplace=True)\n",
    "\n",
    "# 데이터프레임의 각 컬럼의 데이터 유형 확인\n",
    "df.dtypes"
   ]
  },
  {
   "cell_type": "code",
   "execution_count": 21,
   "metadata": {},
   "outputs": [
    {
     "data": {
      "text/html": [
       "<div>\n",
       "<style scoped>\n",
       "    .dataframe tbody tr th:only-of-type {\n",
       "        vertical-align: middle;\n",
       "    }\n",
       "\n",
       "    .dataframe tbody tr th {\n",
       "        vertical-align: top;\n",
       "    }\n",
       "\n",
       "    .dataframe thead th {\n",
       "        text-align: right;\n",
       "    }\n",
       "</style>\n",
       "<table border=\"1\" class=\"dataframe\">\n",
       "  <thead>\n",
       "    <tr style=\"text-align: right;\">\n",
       "      <th></th>\n",
       "      <th>survived</th>\n",
       "      <th>pclass</th>\n",
       "      <th>age</th>\n",
       "    </tr>\n",
       "  </thead>\n",
       "  <tbody>\n",
       "    <tr>\n",
       "      <th>0</th>\n",
       "      <td>0</td>\n",
       "      <td>1</td>\n",
       "      <td>43.695312</td>\n",
       "    </tr>\n",
       "    <tr>\n",
       "      <th>1</th>\n",
       "      <td>0</td>\n",
       "      <td>2</td>\n",
       "      <td>33.544444</td>\n",
       "    </tr>\n",
       "    <tr>\n",
       "      <th>2</th>\n",
       "      <td>0</td>\n",
       "      <td>3</td>\n",
       "      <td>26.555556</td>\n",
       "    </tr>\n",
       "    <tr>\n",
       "      <th>3</th>\n",
       "      <td>1</td>\n",
       "      <td>1</td>\n",
       "      <td>35.368197</td>\n",
       "    </tr>\n",
       "    <tr>\n",
       "      <th>4</th>\n",
       "      <td>1</td>\n",
       "      <td>2</td>\n",
       "      <td>25.901566</td>\n",
       "    </tr>\n",
       "    <tr>\n",
       "      <th>5</th>\n",
       "      <td>1</td>\n",
       "      <td>3</td>\n",
       "      <td>20.646118</td>\n",
       "    </tr>\n",
       "  </tbody>\n",
       "</table>\n",
       "</div>"
      ],
      "text/plain": [
       "   survived  pclass        age\n",
       "0         0       1  43.695312\n",
       "1         0       2  33.544444\n",
       "2         0       3  26.555556\n",
       "3         1       1  35.368197\n",
       "4         1       2  25.901566\n",
       "5         1       3  20.646118"
      ]
     },
     "execution_count": 21,
     "metadata": {},
     "output_type": "execute_result"
    }
   ],
   "source": [
    "# 데이터 프레임에서의 날짜\n",
    "pd.to_datetime(테이블명[컬럼명])\n",
    "\n",
    "#시리즈의 dt 함수를 사용하여 년도 4자리(year) 출력\n",
    "df['hiredate'].dt.year\n",
    "\n",
    "# 판다스 데이터 프레임 정보 확인\n",
    "df.info()\n"
   ]
  },
  {
   "attachments": {},
   "cell_type": "markdown",
   "metadata": {},
   "source": [
    "## 데이터프레임 카테고리로 분류"
   ]
  },
  {
   "cell_type": "code",
   "execution_count": null,
   "metadata": {},
   "outputs": [],
   "source": [
    "df[\"컬럼명\"] = pd.cut(df[\"컬럼명\"],\n",
    "                   bins=[분류할 숫자 리스트,np.inf], # np.inf : 무한\n",
    "                   labels=[1,2,3,4,5,,,])"
   ]
  },
  {
   "cell_type": "code",
   "execution_count": null,
   "metadata": {},
   "outputs": [],
   "source": [
    "import numpy as np\n",
    "np.inf"
   ]
  },
  {
   "attachments": {},
   "cell_type": "markdown",
   "metadata": {},
   "source": [
    "# 판다스 시각화하기"
   ]
  },
  {
   "attachments": {},
   "cell_type": "markdown",
   "metadata": {},
   "source": [
    "#### 그래프그리기\n",
    "1. matplotlib.pylplot\n",
    "2. pandas\n",
    "3. seaborn"
   ]
  },
  {
   "attachments": {},
   "cell_type": "markdown",
   "metadata": {},
   "source": [
    "1. 판다스로 그래프 그리기"
   ]
  },
  {
   "cell_type": "code",
   "execution_count": null,
   "metadata": {},
   "outputs": [],
   "source": [
    "# 막대 그래프\n",
    "df.plot(kind = 'bar')\n",
    "df.plot.bar()\n",
    "    # 판다스\n",
    "    데이터프레임.plot.bar(x = '컬럼명', y = '컬럼명')\n",
    "    # seaborn - hue 옵션으로 차별성을 지닌다. 그래프를 범주형으로 시각화\n",
    "    sns.barplot(x = 'deptno', y = 'sal', hue=\"job\", data = emp)\n",
    "    # seaborn + numpy\n",
    "    sns.barplot(x = 'deptno', y = 'sal', hue=\"job\", data = emp, estimator= np.mean)\n",
    "    옵션\n",
    "    np.mean: 평균\n",
    "    np.sum: 토탈값\n",
    "    np.median: 중앙값\n",
    "    np.count_nonzero: 개수\n",
    "\n",
    "# 원형 그래프\n",
    "df.plot(kind = 'pie')\n",
    "df.plot.pie()\n",
    "    # 판다스\n",
    "    emp.sal.plot.pie(labels = emp['ename'], autopct = '%0.0f%%')\n",
    "    # matplotlib - 값들을 리스트로 제공해야한다.\n",
    "    emp = pd.read_csv(\"D:\\\\data\\\\emp2.csv\")\n",
    "\n",
    "    result = emp.groupby('job')['sal'].sum().reset_index()\n",
    "    colors = sns.color_palette()\n",
    "    colors\n",
    "\n",
    "    result['sal'].plot.pie(labels = emp['job'], colors = colors, autopct='%0.0f%%')\n",
    "    plt.plot(list(result.sal.values), labels = list(result.job.values), colors = colors, autopct='%0.0f%%')\n",
    "\n",
    "\n",
    "# 산점도 그래프\n",
    "df.plot(kind = 'scatter')\n",
    "df.plot(style ='.', x='bmi', y='expenses')\n",
    "df.plot.scatter()\n",
    "df.corr(method = 'pearson')\n",
    "    # seaborn - regplot\n",
    "    sns.regplot(x='bmi', y='expenses', data=ins2, fit_reg=True)\n",
    "    plt.grid()\n",
    "    plt.show()\n",
    "    # seaborn - stripplot\n",
    "    sns.stripplot(x ='class', y='age', data = tat)\n",
    "    # seaborn - swarmplot : stripplot와 달리 분산을 표현함\n",
    "\n",
    "\n",
    "# 라인 그래프\n",
    "df.plot(kind = 'line')\n",
    "df.plot.line()\n",
    "    # 판다스\n",
    "    ax = df[['truck', 'cars']].plot.line()\n",
    "    ax = df[['truck', 'cars']].plot(kind = 'line', color = ['orange', 'darkblue'])\n",
    "    # x축의 눈금\n",
    "    ax.set_xticks((0, 1,2,3,4))\n",
    "    # x축 눈금의 라벨\n",
    "    ax.set_xticklabels(('mom', 'tue', 'wed', 'thr', 'fri'))\n",
    "    ax.set_xticklabels(df.년도)\n",
    "\n",
    "    # seaborn\n",
    "    dict_data = {'week':[1,2,3,4,5], 'cars':[1,3,6,4,9], 'truck': [2,5,4,5,12]}\n",
    "\n",
    "    df = pd.DataFrame(dict_data)\n",
    "\n",
    "    sns.set(style = 'darkgrid')\n",
    "    sns.relplot(x = 'week', y= 'cars', kind='line', data = df)\n",
    "    sns.relplot(x = 'week', y= 'truck', kind='line', data = df)\n",
    "\n",
    "    ax.set_xticks((1,2,3,4,5))\n",
    "    ax.set_xticklabels(('mom', 'tue', 'wed', 'thr', 'fri'))\n",
    "    plt.legend(labels = ['car', 'truck'])\n",
    "    plt.show()\n",
    "\n",
    "# 박스 그래프(사분위수 그래프)\n",
    "df.plot(kind = 'box')\n",
    "df.plot.box()\n",
    "\n",
    "# 히스토그램 그래프 - 숫자데이터의 빈도를 표시\n",
    "df.plot(kind = 'hist')\n",
    "df.plot.hist()\n",
    "    # seaborn\n",
    "    sns.distplot(컬럼명) # 확률밀도함수로 y에 확률이 나온다.\n",
    "    sns.displot(컬럼명,kde=False, bins=n) # kde :y에 건수가 나온다.\n",
    "    #bins는 계급의 개수\n",
    "    sns.distplot( emp14.age,bins=10)\n",
    "    #눈금 표시할 것\n",
    "    ax.set_xlim(20,35)\n",
    "    #눈금의 범위\n",
    "    ax.set_xticks(range(20,35))"
   ]
  },
  {
   "cell_type": "code",
   "execution_count": 21,
   "metadata": {},
   "outputs": [
    {
     "data": {
      "image/png": "[encoded data removed]",
      "text/plain": [
       "<Figure size 640x480 with 6 Axes>"
      ]
     },
     "metadata": {},
     "output_type": "display_data"
    }
   ],
   "source": [
    "# 다중 그래프 그리기 - subplots\n",
    "import pandas as pd\n",
    "import numpy as np \n",
    "import matplotlib.pyplot as plt \n",
    "data = np.arange(1, 51)\n",
    "fig,axes=plt.subplots(2,3)\n",
    "axes[0,0].plot(data)\n",
    "plt.show()"
   ]
  },
  {
   "cell_type": "code",
   "execution_count": 11,
   "metadata": {},
   "outputs": [
    {
     "ename": "AttributeError",
     "evalue": "'FacetGrid' object has no attribute 'set_xticks'",
     "output_type": "error",
     "traceback": [
      "\u001b[0;31m---------------------------------------------------------------------------\u001b[0m",
      "\u001b[0;31mAttributeError\u001b[0m                            Traceback (most recent call last)",
      "\u001b[0;32m/var/folders/dj/074406ws2d7f7vkzzjkhcfp80000gn/T/ipykernel_3899/2053123916.py\u001b[0m in \u001b[0;36m<module>\u001b[0;34m\u001b[0m\n\u001b[1;32m     11\u001b[0m \u001b[0msns\u001b[0m\u001b[0;34m.\u001b[0m\u001b[0mrelplot\u001b[0m\u001b[0;34m(\u001b[0m\u001b[0mx\u001b[0m \u001b[0;34m=\u001b[0m \u001b[0;34m'week'\u001b[0m\u001b[0;34m,\u001b[0m \u001b[0my\u001b[0m\u001b[0;34m=\u001b[0m \u001b[0;34m'truck'\u001b[0m\u001b[0;34m,\u001b[0m \u001b[0mkind\u001b[0m\u001b[0;34m=\u001b[0m\u001b[0;34m'line'\u001b[0m\u001b[0;34m,\u001b[0m \u001b[0mdata\u001b[0m \u001b[0;34m=\u001b[0m \u001b[0mdf\u001b[0m\u001b[0;34m)\u001b[0m\u001b[0;34m\u001b[0m\u001b[0;34m\u001b[0m\u001b[0m\n\u001b[1;32m     12\u001b[0m \u001b[0;34m\u001b[0m\u001b[0m\n\u001b[0;32m---> 13\u001b[0;31m \u001b[0mg\u001b[0m\u001b[0;34m.\u001b[0m\u001b[0mset_xticks\u001b[0m\u001b[0;34m(\u001b[0m\u001b[0;34m(\u001b[0m\u001b[0;36m1\u001b[0m\u001b[0;34m,\u001b[0m\u001b[0;36m2\u001b[0m\u001b[0;34m,\u001b[0m\u001b[0;36m3\u001b[0m\u001b[0;34m,\u001b[0m\u001b[0;36m4\u001b[0m\u001b[0;34m,\u001b[0m\u001b[0;36m5\u001b[0m\u001b[0;34m)\u001b[0m\u001b[0;34m)\u001b[0m\u001b[0;34m\u001b[0m\u001b[0;34m\u001b[0m\u001b[0m\n\u001b[0m\u001b[1;32m     14\u001b[0m \u001b[0mg\u001b[0m\u001b[0;34m.\u001b[0m\u001b[0mset_xticklabels\u001b[0m\u001b[0;34m(\u001b[0m\u001b[0;34m(\u001b[0m\u001b[0;34m'mom'\u001b[0m\u001b[0;34m,\u001b[0m \u001b[0;34m'tue'\u001b[0m\u001b[0;34m,\u001b[0m \u001b[0;34m'wed'\u001b[0m\u001b[0;34m,\u001b[0m \u001b[0;34m'thr'\u001b[0m\u001b[0;34m,\u001b[0m \u001b[0;34m'fri'\u001b[0m\u001b[0;34m)\u001b[0m\u001b[0;34m)\u001b[0m\u001b[0;34m\u001b[0m\u001b[0;34m\u001b[0m\u001b[0m\n\u001b[1;32m     15\u001b[0m \u001b[0mplt\u001b[0m\u001b[0;34m.\u001b[0m\u001b[0mlegend\u001b[0m\u001b[0;34m(\u001b[0m\u001b[0mlabels\u001b[0m \u001b[0;34m=\u001b[0m \u001b[0;34m[\u001b[0m\u001b[0;34m'car'\u001b[0m\u001b[0;34m,\u001b[0m \u001b[0;34m'truck'\u001b[0m\u001b[0;34m]\u001b[0m\u001b[0;34m)\u001b[0m\u001b[0;34m\u001b[0m\u001b[0;34m\u001b[0m\u001b[0m\n",
      "\u001b[0;31mAttributeError\u001b[0m: 'FacetGrid' object has no attribute 'set_xticks'"
     ]
    }
   ],
   "source": [
    "import pandas as pd\n",
    "import matplotlib.pyplot as plt\n",
    "import seaborn as sns\n",
    "\n",
    "dict_data = {'week':[1,2,3,4,5], 'cars':[1,3,6,4,9], 'truck': [2,5,4,5,12]}\n",
    "\n",
    "df = pd.DataFrame(dict_data)\n",
    "\n",
    "sns.set(style = 'darkgrid')\n",
    "sns.relplot(x = 'week', y= 'cars', kind='line', data = df)\n",
    "sns.relplot(x = 'week', y= 'truck', kind='line', data = df)\n",
    "\n",
    "ax.set_xticks((1,2,3,4,5))\n",
    "ax.set_xticklabels(('mom', 'tue', 'wed', 'thr', 'fri'))\n",
    "plt.legend(labels = ['car', 'truck'])\n",
    "plt.show()"
   ]
  },
  {
   "attachments": {},
   "cell_type": "markdown",
   "metadata": {},
   "source": [
    "2. matplotlib 그래프 그리기"
   ]
  },
  {
   "cell_type": "code",
   "execution_count": null,
   "metadata": {},
   "outputs": [],
   "source": [
    "# 그래프 스타일 리스트 확인하기\n",
    "plt.style.use('dark_background')\n",
    "\n",
    "개인적으로 괜찮은 스타일들\n",
    "\n",
    "fivethirtyeight, seaborn-colorblind, seaborn-deep\n",
    "\n",
    "크기가 좀 더 큰 것\n",
    "\n",
    "seaborn-poster, tableau-colorblind10\n",
    "\n",
    "# 그래프 출력 시 스타일 바로 지정하기\n",
    "df.plot.bar(color = 'orange', figsize = (10, 5) width = 0.7, fontsize = 15)\n",
    "\n",
    "# 그래프 제목 붙이기\n",
    "plt.title('제목', size = 숫자)\n",
    "\n"
   ]
  },
  {
   "cell_type": "code",
   "execution_count": 32,
   "metadata": {},
   "outputs": [
    {
     "data": {
      "text/plain": [
       "3"
      ]
     },
     "execution_count": 32,
     "metadata": {},
     "output_type": "execute_result"
    }
   ],
   "source": [
    "mat = np.array([[1, 2, 3], [4, 5, 6]])\n",
    "slicing_mat = mat[0][2]\n",
    "slicing_mat"
   ]
  },
  {
   "cell_type": "code",
   "execution_count": 26,
   "metadata": {},
   "outputs": [
    {
     "name": "stdout",
     "output_type": "stream",
     "text": [
      "[2 5]\n"
     ]
    }
   ],
   "source": [
    "slicing_mat = mat[:, 1] #두번째 행 출력\n",
    "print(slicing_mat)"
   ]
  },
  {
   "cell_type": "code",
   "execution_count": 34,
   "metadata": {},
   "outputs": [
    {
     "name": "stdout",
     "output_type": "stream",
     "text": [
      "[[1 2]\n",
      " [4 5]\n",
      " [7 8]]\n",
      "4\n"
     ]
    }
   ],
   "source": [
    "mat = np.array([[1, 2], [4, 5], [7, 8]])\n",
    "print(mat)\n",
    "print(mat[1][0])"
   ]
  },
  {
   "cell_type": "code",
   "execution_count": 35,
   "metadata": {},
   "outputs": [
    {
     "name": "stdout",
     "output_type": "stream",
     "text": [
      "[7 5]\n"
     ]
    }
   ],
   "source": [
    "indexing_mat = mat[[2, 1],[0, 1]]\n",
    "print(indexing_mat)"
   ]
  },
  {
   "cell_type": "code",
   "execution_count": 42,
   "metadata": {},
   "outputs": [
    {
     "data": {
      "text/plain": [
       "array([5, 7, 9])"
      ]
     },
     "execution_count": 42,
     "metadata": {},
     "output_type": "execute_result"
    }
   ],
   "source": [
    "x = np.array([1,2,3])\n",
    "y = np.array([4,5,6])\n",
    "np.add(x,y)"
   ]
  },
  {
   "attachments": {},
   "cell_type": "markdown",
   "metadata": {},
   "source": [
    "# 연습문제"
   ]
  },
  {
   "cell_type": "code",
   "execution_count": 44,
   "metadata": {},
   "outputs": [
    {
     "data": {
      "text/plain": [
       "0     3.0\n",
       "1     5.0\n",
       "2     7.0\n",
       "3     9.0\n",
       "4    11.0\n",
       "dtype: float64"
      ]
     },
     "execution_count": 44,
     "metadata": {},
     "output_type": "execute_result"
    }
   ],
   "source": [
    "import pandas as pd\n",
    "pd.Series([3,5,7,9,11],dtype=\"float\")"
   ]
  },
  {
   "cell_type": "code",
   "execution_count": 45,
   "metadata": {},
   "outputs": [
    {
     "data": {
      "text/plain": [
       "0    가\n",
       "1    나\n",
       "2    다\n",
       "3    라\n",
       "4    마\n",
       "dtype: object"
      ]
     },
     "execution_count": 45,
     "metadata": {},
     "output_type": "execute_result"
    }
   ],
   "source": [
    "pd.Series([\"가\",\"나\",\"다\",\"라\",\"마\"],dtype=\"object\")"
   ]
  },
  {
   "cell_type": "code",
   "execution_count": 51,
   "metadata": {},
   "outputs": [
    {
     "name": "stdout",
     "output_type": "stream",
     "text": [
      "가    10\n",
      "나    20\n",
      "다    30\n",
      "라    40\n",
      "마    50\n",
      "dtype: int64\n"
     ]
    }
   ],
   "source": [
    "sample=pd.Series([10,20,30,40,50],index=[\"가\",\"나\",\"다\",\"라\",\"마\"])\n",
    "print(sample)"
   ]
  },
  {
   "cell_type": "code",
   "execution_count": 55,
   "metadata": {},
   "outputs": [
    {
     "name": "stdout",
     "output_type": "stream",
     "text": [
      "나    20\n",
      "라    40\n",
      "dtype: int64\n"
     ]
    }
   ],
   "source": [
    "print(sample[1::2])"
   ]
  },
  {
   "cell_type": "code",
   "execution_count": 58,
   "metadata": {},
   "outputs": [
    {
     "name": "stdout",
     "output_type": "stream",
     "text": [
      "115\n",
      "128\n",
      "109\n",
      "120\n",
      "122\n",
      "134\n",
      "140\n"
     ]
    }
   ],
   "source": [
    "np.random.seed(20)\n",
    "sample2 = pd.Series(np.random.randint(100, 200, size=(15,)))\n",
    "sample2\n",
    "for i in sample2:\n",
    "    if i<=160:\n",
    "        print(sample)\n",
    "    "
   ]
  },
  {
   "cell_type": "code",
   "execution_count": 67,
   "metadata": {},
   "outputs": [
    {
     "data": {
      "text/plain": [
       "array([[1, 1],\n",
       "       [1, 1]])"
      ]
     },
     "execution_count": 67,
     "metadata": {},
     "output_type": "execute_result"
    }
   ],
   "source": [
    "v=np.array([1,1]).reshape(2,1)\n",
    "v1=np.array([1,1]).reshape(2,1)\n",
    "np.concatenate([v,v1],axis=1)"
   ]
  },
  {
   "cell_type": "code",
   "execution_count": 70,
   "metadata": {},
   "outputs": [
    {
     "data": {
      "text/plain": [
       "array([[-1.,  2.],\n",
       "       [ 2., -1.]])"
      ]
     },
     "execution_count": 70,
     "metadata": {},
     "output_type": "execute_result"
    }
   ],
   "source": [
    "in_a=np.linalg.inv(np.array([[1,2],[2,1]]))\n",
    "y=np.array([[3],[3]])\n",
    "in_a*y"
   ]
  },
  {
   "cell_type": "code",
   "execution_count": null,
   "metadata": {},
   "outputs": [],
   "source": []
  }
 ],
 "metadata": {
  "kernelspec": {
   "display_name": "base",
   "language": "python",
   "name": "python3"
  },
  "language_info": {
   "codemirror_mode": {
    "name": "ipython",
    "version": 3
   },
   "file_extension": ".py",
   "mimetype": "text/x-python",
   "name": "python",
   "nbconvert_exporter": "python",
   "pygments_lexer": "ipython3",
   "version": "3.9.13"
  },
  "orig_nbformat": 4,
  "vscode": {
   "interpreter": {
    "hash": "e35aa464e4f518e3bd80b827b0a7a82608bf016d4c837622545242b48b9bfee6"
   }
  }
 },
 "nbformat": 4,
 "nbformat_minor": 2
}
