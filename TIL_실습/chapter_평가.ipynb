{
 "cells": [
  {
   "cell_type": "code",
   "execution_count": 15,
   "metadata": {},
   "outputs": [],
   "source": [
    "import warnings\n",
    "warnings.filterwarnings(\"ignore\")"
   ]
  },
  {
   "cell_type": "code",
   "execution_count": 1,
   "metadata": {},
   "outputs": [],
   "source": [
    "import numpy as np\n",
    "\n",
    "from sklearn.base import BaseEstimator\n",
    "\n",
    "class MyDummyClassifier(BaseEstimator):\n",
    "    def fit(self, X, y=None):\n",
    "        pass\n",
    "    \n",
    "    def predict(self,X):\n",
    "        pred = np.zeros((X.shape[0],1))\n",
    "        for i in range(X.shape[0]):\n",
    "            if X['Sex'].iloc[i]==1:\n",
    "                pred[i]=0\n",
    "            else:\n",
    "                pred[i]=1\n",
    "        return pred"
   ]
  },
  {
   "cell_type": "code",
   "execution_count": 2,
   "metadata": {},
   "outputs": [],
   "source": [
    "# # Null 처리 함수\n",
    "# def fillna(df):\n",
    "#     df[\"Age\"].fillna(df[\"Age\"].mean(), inplace=True)\n",
    "#     df[\"Cabin\"].fillna('N',inplace=True)\n",
    "#     df[\"Embarked\"].fillna('N',inplace=True)\n",
    "#     return df\n",
    "\n",
    "# # 머신러닝 알고리즘에 불필요한 피처 제거\n",
    "# def drop_features(df):\n",
    "#     df.drop([\"PassengerId\",\"Name\",\"Ticket\"],axis=1,inplace=True)\n",
    "#     return df\n",
    "\n",
    "# # 레이블 인코딩 수행\n",
    "# def format_features(df):\n",
    "#     df.Embarked = df.Embarked.str[:1]\n",
    "#     features=[\"Cabin\",\"Sex\",\"Embarked\"]\n",
    "#     for feature in features:\n",
    "#         le = LabelEncoder()\n",
    "#         le = le.fit(df[feature])\n",
    "#         df[feature]=le.transform(df[feature])\n",
    "#     return df\n",
    "\n",
    "# # 앞에서 설정한 데이터 전처리 함수 호출\n",
    "# def transform_features(df):\n",
    "#     df = fillna(df)\n",
    "#     df = drop_features(df)\n",
    "#     df = format_features(df)\n",
    "#     return df"
   ]
  },
  {
   "cell_type": "code",
   "execution_count": 5,
   "metadata": {},
   "outputs": [
    {
     "name": "stdout",
     "output_type": "stream",
     "text": [
      "0.7840\n"
     ]
    }
   ],
   "source": [
    "import pandas as pd\n",
    "from sklearn.model_selection import train_test_split\n",
    "from sklearn.preprocessing import LabelEncoder\n",
    "from sklearn.metrics import accuracy_score\n",
    "\n",
    "titanic_df = pd.read_csv(\"./타이타닉_생존자예측/train.csv\")\n",
    "y_titanic_df = titanic_df[\"Survived\"]\n",
    "X_titanic_df = titanic_df.drop(\"Survived\",axis=1)\n",
    "X_titanic_df = transform_features(X_titanic_df)\n",
    "\n",
    "X_train,X_test,y_train,y_test = train_test_split(X_titanic_df,\n",
    "                                                 y_titanic_df,\n",
    "                                                 train_size=0.2,\n",
    "                                                 random_state=0)\n",
    "\n",
    "myclf = MyDummyClassifier()\n",
    "myclf.fit(X_train,y_train)\n",
    "mypred = myclf.predict(X_test)\n",
    "print(\"{:.4f}\".format(accuracy_score(y_test,mypred)))\n",
    "\n",
    "# 매우 간단한 알고리즘으로 예측해도 80% 가까운 정확도를 보여준다\n",
    "# 이진분류는 정확도 외에 다른 평가지표가 필요!"
   ]
  },
  {
   "cell_type": "code",
   "execution_count": 7,
   "metadata": {},
   "outputs": [],
   "source": [
    "from sklearn.datasets import load_digits\n",
    "from sklearn.model_selection import train_test_split \n",
    "from sklearn.base import BaseEstimator\n",
    "from sklearn.metrics import accuracy_score\n",
    "import numpy as np\n",
    "import pandas as pd\n",
    "\n",
    "class MyFakeClassifier(BaseEstimator): \n",
    "    def fit(self, X, y):\n",
    "        pass\n",
    "#입력값으로 들어오는 X 데이터 세트의 크기만큼 모두 값 으로 만들어서 반환 \n",
    "    def predict(self, X):\n",
    "        return np.zeros( (len(X), 1), dtype=bool)\n",
    "#사이킷런의 내장 데이터 세트인 load_digits( )를 이용해 MNIST 데이터 로딩\n",
    "digits = load_digits()\n",
    "#digits 번호가 7번이면 True이고 이를 astype(int)로 1로 변환, 7번이 아니면 False이고 0으로 변환.\n",
    "y = (digits.target == 7).astype(int) \n",
    "X_train, X_test, y_train, y_test = train_test_split( digits.data, y, random_state=11)"
   ]
  },
  {
   "cell_type": "code",
   "execution_count": 10,
   "metadata": {},
   "outputs": [
    {
     "name": "stdout",
     "output_type": "stream",
     "text": [
      "레이블 테스트 세트 크기 : (450,)\n",
      "테스트 세트 레이블 0 과 1의 분포도\n",
      "0    405\n",
      "1     45\n",
      "Name: count, dtype: int64\n",
      "모든 예측을 0으로 하여도 정확도는:0.900000\n"
     ]
    }
   ],
   "source": [
    "#불균형한 레이블 데이터 분포도 확인. \n",
    "print('레이블 테스트 세트 크기 :', y_test.shape) \n",
    "print('테스트 세트 레이블 0 과 1의 분포도') \n",
    "print(pd.Series(y_test).value_counts())\n",
    "# Dummy Classifier로 학습/예측/정확도 평가 \n",
    "fakeclf = MyFakeClassifier() \n",
    "fakeclf.fit(X_train, y_train)\n",
    "fakepred = fakeclf.predict(X_test)\n",
    "print('모든 예측을 0으로 하여도 정확도는:{:3f}'.format(accuracy_score(y_test,fakepred)))"
   ]
  },
  {
   "cell_type": "markdown",
   "metadata": {},
   "source": [
    "## 오차 행렬"
   ]
  },
  {
   "cell_type": "code",
   "execution_count": 11,
   "metadata": {},
   "outputs": [
    {
     "data": {
      "text/plain": [
       "array([[405,   0],\n",
       "       [ 45,   0]])"
      ]
     },
     "execution_count": 11,
     "metadata": {},
     "output_type": "execute_result"
    }
   ],
   "source": [
    "from sklearn.metrics import confusion_matrix\n",
    "\n",
    "confusion_matrix(y_test,fakepred)"
   ]
  },
  {
   "cell_type": "code",
   "execution_count": 12,
   "metadata": {},
   "outputs": [],
   "source": [
    "from sklearn.metrics import accuracy_score, precision_score,recall_score,confusion_matrix\n",
    "\n",
    "def get_clf_eval(y_test,pred):\n",
    "    confusion = confusion_matrix(y_test,pred)\n",
    "    accuracy = accuracy_score(y_test,pred)\n",
    "    precision = precision_score(y_test,pred)\n",
    "    recall = recall_score(y_test,pred)\n",
    "    print(\"오차행렬\")\n",
    "    print(confusion)\n",
    "    print('정확도 : {0:.4f},정밀도 : {1:.4f}, 재현율 : {2:.4f}'.format(accuracy,precision,recall))"
   ]
  },
  {
   "cell_type": "code",
   "execution_count": 16,
   "metadata": {},
   "outputs": [
    {
     "name": "stdout",
     "output_type": "stream",
     "text": [
      "오차행렬\n",
      "[[108  10]\n",
      " [ 16  45]]\n",
      "정확도 : 0.8547,정밀도 : 0.8182, 재현율 : 0.7377\n"
     ]
    }
   ],
   "source": [
    "import pandas as pd\n",
    "from sklearn.model_selection import train_test_split\n",
    "from sklearn.linear_model import LogisticRegression\n",
    "\n",
    "titanic_df = pd.read_csv(\"./타이타닉_생존자예측/train.csv\")\n",
    "y_train_df = titanic_df[\"Survived\"]\n",
    "X_titanic_df = titanic_df.drop(\"Survived\",axis=1)\n",
    "X_titanic_df = transform_features(X_titanic_df)\n",
    "\n",
    "X_train,X_test,y_train,y_test = train_test_split(X_titanic_df,y_titanic_df,\n",
    "                                                 test_size=0.2,random_state=11)\n",
    "\n",
    "lr_clf = LogisticRegression(solver='liblinear')\n",
    "\n",
    "lr_clf.fit(X_train,y_train)\n",
    "pred = lr_clf.predict(X_test)\n",
    "get_clf_eval(y_test,pred)"
   ]
  },
  {
   "cell_type": "code",
   "execution_count": 22,
   "metadata": {},
   "outputs": [
    {
     "name": "stdout",
     "output_type": "stream",
     "text": [
      "(179, 2)\n",
      "[[0.45394754 0.54605246]\n",
      " [0.86558975 0.13441025]\n",
      " [0.8656981  0.1343019 ]]\n",
      "[[0.45394754 0.54605246 1.        ]\n",
      " [0.86558975 0.13441025 0.        ]\n",
      " [0.8656981  0.1343019  0.        ]\n",
      " [0.83841217 0.16158783 0.        ]\n",
      " [0.80860513 0.19139487 0.        ]\n",
      " [0.83080999 0.16919001 0.        ]\n",
      " [0.87314056 0.12685944 0.        ]\n",
      " [0.27195146 0.72804854 1.        ]\n",
      " [0.76782602 0.23217398 0.        ]\n",
      " [0.31313609 0.68686391 1.        ]\n",
      " [0.85212166 0.14787834 0.        ]\n",
      " [0.87315067 0.12684933 0.        ]\n",
      " [0.86565662 0.13434338 0.        ]\n",
      " [0.87281054 0.12718946 0.        ]\n",
      " [0.61669823 0.38330177 0.        ]\n",
      " [0.85255407 0.14744593 0.        ]\n",
      " [0.89064168 0.10935832 0.        ]\n",
      " [0.72744111 0.27255889 0.        ]\n",
      " [0.70155794 0.29844206 0.        ]\n",
      " [0.23617606 0.76382394 1.        ]\n",
      " [0.74250973 0.25749027 0.        ]\n",
      " [0.63602359 0.36397641 0.        ]\n",
      " [0.849056   0.150944   0.        ]\n",
      " [0.82679325 0.17320675 0.        ]\n",
      " [0.87012291 0.12987709 0.        ]\n",
      " [0.75706799 0.24293201 0.        ]\n",
      " [0.81810925 0.18189075 0.        ]\n",
      " [0.90434507 0.09565493 0.        ]\n",
      " [0.71835061 0.28164939 0.        ]\n",
      " [0.6795356  0.3204644  0.        ]\n",
      " [0.08532598 0.91467402 1.        ]\n",
      " [0.23953844 0.76046156 1.        ]\n",
      " [0.87128957 0.12871043 0.        ]\n",
      " [0.23966594 0.76033406 1.        ]\n",
      " [0.63837188 0.36162812 0.        ]\n",
      " [0.75706799 0.24293201 0.        ]\n",
      " [0.90676595 0.09323405 0.        ]\n",
      " [0.41125294 0.58874706 1.        ]\n",
      " [0.93199175 0.06800825 0.        ]\n",
      " [0.87857242 0.12142758 0.        ]\n",
      " [0.67641946 0.32358054 0.        ]\n",
      " [0.89781871 0.10218129 0.        ]\n",
      " [0.22149541 0.77850459 1.        ]\n",
      " [0.29866018 0.70133982 1.        ]\n",
      " [0.38231037 0.61768963 1.        ]\n",
      " [0.38220425 0.61779575 1.        ]\n",
      " [0.07682019 0.92317981 1.        ]\n",
      " [0.55826926 0.44173074 0.        ]\n",
      " [0.07756681 0.92243319 1.        ]\n",
      " [0.86987045 0.13012955 0.        ]\n",
      " [0.57453162 0.42546838 0.        ]\n",
      " [0.87281054 0.12718946 0.        ]\n",
      " [0.85820221 0.14179779 0.        ]\n",
      " [0.34795679 0.65204321 1.        ]\n",
      " [0.6996281  0.3003719  0.        ]\n",
      " [0.78840044 0.21159956 0.        ]\n",
      " [0.7396143  0.2603857  0.        ]\n",
      " [0.86569088 0.13430912 0.        ]\n",
      " [0.84341131 0.15658869 0.        ]\n",
      " [0.55500417 0.44499583 0.        ]\n",
      " [0.72022845 0.27977155 0.        ]\n",
      " [0.88925875 0.11074125 0.        ]\n",
      " [0.57920248 0.42079752 0.        ]\n",
      " [0.50296095 0.49703905 0.        ]\n",
      " [0.68134083 0.31865917 0.        ]\n",
      " [0.88557599 0.11442401 0.        ]\n",
      " [0.35635276 0.64364724 1.        ]\n",
      " [0.40362523 0.59637477 1.        ]\n",
      " [0.08556818 0.91443182 1.        ]\n",
      " [0.85040429 0.14959571 0.        ]\n",
      " [0.87038183 0.12961817 0.        ]\n",
      " [0.83338209 0.16661791 0.        ]\n",
      " [0.87855591 0.12144409 0.        ]\n",
      " [0.06395158 0.93604842 1.        ]\n",
      " [0.77404394 0.22595606 0.        ]\n",
      " [0.87281054 0.12718946 0.        ]\n",
      " [0.71621866 0.28378134 0.        ]\n",
      " [0.77747323 0.22252677 0.        ]\n",
      " [0.19102323 0.80897677 1.        ]\n",
      " [0.86569088 0.13430912 0.        ]\n",
      " [0.24167576 0.75832424 1.        ]\n",
      " [0.36899175 0.63100825 1.        ]\n",
      " [0.06722927 0.93277073 1.        ]\n",
      " [0.82893761 0.17106239 0.        ]\n",
      " [0.07765072 0.92234928 1.        ]\n",
      " [0.10821221 0.89178779 1.        ]\n",
      " [0.8469096  0.1530904  0.        ]\n",
      " [0.86383562 0.13616438 0.        ]\n",
      " [0.15385257 0.84614743 1.        ]\n",
      " [0.87281054 0.12718946 0.        ]\n",
      " [0.87281054 0.12718946 0.        ]\n",
      " [0.75706799 0.24293201 0.        ]\n",
      " [0.73746377 0.26253623 0.        ]\n",
      " [0.87281054 0.12718946 0.        ]\n",
      " [0.38220425 0.61779575 1.        ]\n",
      " [0.90050885 0.09949115 0.        ]\n",
      " [0.05926045 0.94073955 1.        ]\n",
      " [0.88100342 0.11899658 0.        ]\n",
      " [0.66656632 0.33343368 0.        ]\n",
      " [0.07898546 0.92101454 1.        ]\n",
      " [0.48190682 0.51809318 1.        ]\n",
      " [0.90598986 0.09401014 0.        ]\n",
      " [0.06359174 0.93640826 1.        ]\n",
      " [0.88385128 0.11614872 0.        ]\n",
      " [0.46021219 0.53978781 1.        ]\n",
      " [0.86405152 0.13594848 0.        ]\n",
      " [0.8522401  0.1477599  0.        ]\n",
      " [0.85040628 0.14959372 0.        ]\n",
      " [0.55915395 0.44084605 0.        ]\n",
      " [0.88372512 0.11627488 0.        ]\n",
      " [0.83699269 0.16300731 0.        ]\n",
      " [0.87481439 0.12518561 0.        ]\n",
      " [0.67649846 0.32350154 0.        ]\n",
      " [0.50878649 0.49121351 0.        ]\n",
      " [0.87012291 0.12987709 0.        ]\n",
      " [0.91784862 0.08215138 0.        ]\n",
      " [0.8312282  0.1687718  0.        ]\n",
      " [0.77566642 0.22433358 0.        ]\n",
      " [0.13075884 0.86924116 1.        ]\n",
      " [0.90697482 0.09302518 0.        ]\n",
      " [0.87287421 0.12712579 0.        ]\n",
      " [0.86872331 0.13127669 0.        ]\n",
      " [0.91594883 0.08405117 0.        ]\n",
      " [0.58297337 0.41702663 0.        ]\n",
      " [0.98043554 0.01956446 0.        ]\n",
      " [0.87287421 0.12712579 0.        ]\n",
      " [0.87386322 0.12613678 0.        ]\n",
      " [0.69601989 0.30398011 0.        ]\n",
      " [0.34742454 0.65257546 1.        ]\n",
      " [0.74976874 0.25023126 0.        ]\n",
      " [0.07898546 0.92101454 1.        ]\n",
      " [0.59181875 0.40818125 0.        ]\n",
      " [0.32866708 0.67133292 1.        ]\n",
      " [0.48468406 0.51531594 1.        ]\n",
      " [0.43323289 0.56676711 1.        ]\n",
      " [0.56396046 0.43603954 0.        ]\n",
      " [0.24279682 0.75720318 1.        ]\n",
      " [0.80865525 0.19134475 0.        ]\n",
      " [0.87837055 0.12162945 0.        ]\n",
      " [0.12216174 0.87783826 1.        ]\n",
      " [0.14554274 0.85445726 1.        ]\n",
      " [0.85040628 0.14959372 0.        ]\n",
      " [0.8690862  0.1309138  0.        ]\n",
      " [0.89773148 0.10226852 0.        ]\n",
      " [0.88806045 0.11193955 0.        ]\n",
      " [0.33003174 0.66996826 1.        ]\n",
      " [0.90087903 0.09912097 0.        ]\n",
      " [0.693259   0.306741   0.        ]\n",
      " [0.13589307 0.86410693 1.        ]\n",
      " [0.80516638 0.19483362 0.        ]\n",
      " [0.57867954 0.42132046 0.        ]\n",
      " [0.38630337 0.61369663 1.        ]\n",
      " [0.38780894 0.61219106 1.        ]\n",
      " [0.86607611 0.13392389 0.        ]\n",
      " [0.23681842 0.76318158 1.        ]\n",
      " [0.10624241 0.89375759 1.        ]\n",
      " [0.60346638 0.39653362 0.        ]\n",
      " [0.85708945 0.14291055 0.        ]\n",
      " [0.31322223 0.68677777 1.        ]\n",
      " [0.34188403 0.65811597 1.        ]\n",
      " [0.84601368 0.15398632 0.        ]\n",
      " [0.21836383 0.78163617 1.        ]\n",
      " [0.89080266 0.10919734 0.        ]\n",
      " [0.35680086 0.64319914 1.        ]\n",
      " [0.58986735 0.41013265 0.        ]\n",
      " [0.36590032 0.63409968 1.        ]\n",
      " [0.14428688 0.85571312 1.        ]\n",
      " [0.6377912  0.3622088  0.        ]\n",
      " [0.88791244 0.11208756 0.        ]\n",
      " [0.1329463  0.8670537  1.        ]\n",
      " [0.87314056 0.12685944 0.        ]\n",
      " [0.20591456 0.79408544 1.        ]\n",
      " [0.74821654 0.25178346 0.        ]\n",
      " [0.76119657 0.23880343 0.        ]\n",
      " [0.50214491 0.49785509 0.        ]\n",
      " [0.91230017 0.08769983 0.        ]\n",
      " [0.85219324 0.14780676 0.        ]\n",
      " [0.58129948 0.41870052 0.        ]\n",
      " [0.52080944 0.47919056 0.        ]]\n"
     ]
    }
   ],
   "source": [
    "pred_proba = lr_clf.predict_proba(X_test)\n",
    "pred = lr_clf.predict(X_test)\n",
    "print(pred_proba.shape)\n",
    "print(pred_proba[:3])\n",
    "\n",
    "pred_proba_result= np.concatenate([pred_proba,pred.reshape(-1,1)],axis=1)\n",
    "print(pred_proba_result)"
   ]
  },
  {
   "cell_type": "code",
   "execution_count": 25,
   "metadata": {},
   "outputs": [
    {
     "name": "stdout",
     "output_type": "stream",
     "text": [
      "오차행렬\n",
      "[[98 20]\n",
      " [11 50]]\n",
      "정확도 : 0.8268,정밀도 : 0.7143, 재현율 : 0.8197\n"
     ]
    }
   ],
   "source": [
    "# 정밀도/재현율 트레이드오프 방식\n",
    "# 임계값 설정\n",
    "from sklearn.preprocessing import Binarizer\n",
    "\n",
    "custom_threshold = 0.4\n",
    "\n",
    "pred_proba_1 = pred_proba[:,1].reshape(-1,1)\n",
    "\n",
    "binarizer = Binarizer(threshold = custom_threshold).fit(pred_proba_1)\n",
    "custom_predict = binarizer.transform(pred_proba_1)\n",
    "\n",
    "get_clf_eval(y_test,custom_predict)"
   ]
  },
  {
   "cell_type": "code",
   "execution_count": 28,
   "metadata": {},
   "outputs": [
    {
     "name": "stdout",
     "output_type": "stream",
     "text": [
      "임계값: 0.4\n",
      "오차행렬\n",
      "[[98 20]\n",
      " [11 50]]\n",
      "정확도 : 0.8268,정밀도 : 0.7143, 재현율 : 0.8197\n",
      "임계값: 0.45\n",
      "오차행렬\n",
      "[[106  12]\n",
      " [ 14  47]]\n",
      "정확도 : 0.8547,정밀도 : 0.7966, 재현율 : 0.7705\n",
      "임계값: 0.5\n",
      "오차행렬\n",
      "[[108  10]\n",
      " [ 16  45]]\n",
      "정확도 : 0.8547,정밀도 : 0.8182, 재현율 : 0.7377\n",
      "임계값: 0.55\n",
      "오차행렬\n",
      "[[111   7]\n",
      " [ 17  44]]\n",
      "정확도 : 0.8659,정밀도 : 0.8627, 재현율 : 0.7213\n",
      "임계값: 0.6\n",
      "오차행렬\n",
      "[[113   5]\n",
      " [ 18  43]]\n",
      "정확도 : 0.8715,정밀도 : 0.8958, 재현율 : 0.7049\n"
     ]
    }
   ],
   "source": [
    "thresholds = [0.4,0.45,0.5,0.55,0.6]\n",
    "\n",
    "def get_eval_by_threshold(y_test,pred_proba_c1,thresholds):\n",
    "    for custom_threshold in thresholds:\n",
    "        binarizer = Binarizer(threshold=custom_threshold).fit(pred_proba_c1)\n",
    "        custom_predict = binarizer.transform(pred_proba_c1)\n",
    "        print(\"임계값:\",custom_threshold)\n",
    "        get_clf_eval(y_test,custom_predict)\n",
    "\n",
    "get_eval_by_threshold(y_test,pred_proba[:,1].reshape(-1,1),thresholds)"
   ]
  },
  {
   "cell_type": "code",
   "execution_count": 32,
   "metadata": {},
   "outputs": [
    {
     "name": "stdout",
     "output_type": "stream",
     "text": [
      "(145,)\n"
     ]
    }
   ],
   "source": [
    "from sklearn.metrics import precision_recall_curve\n",
    "\n",
    "pred_proba_class1 = lr_clf.predict_proba(X_test)[:,1]\n",
    "\n",
    "precisions,recalls, thresholds = precision_recall_curve(y_test,pred_proba_class1)\n",
    "print(thresholds.shape)\n",
    "\n",
    "thr_index = np.arange(0,thresholds.shape[0],15)"
   ]
  },
  {
   "cell_type": "code",
   "execution_count": 33,
   "metadata": {},
   "outputs": [
    {
     "name": "stderr",
     "output_type": "stream",
     "text": [
      "findfont: Font family ['NanumGothic'] not found. Falling back to DejaVu Sans.\n"
     ]
    },
    {
     "data": {
      "image/png": "[encoded data removed]",
      "text/plain": [
       "<Figure size 800x600 with 1 Axes>"
      ]
     },
     "metadata": {},
     "output_type": "display_data"
    }
   ],
   "source": [
    "import matplotlib.pyplot as plt\n",
    "import matplotlib.ticker as ticker\n",
    "\n",
    "def precision_recall_curve_plot(y_test,pred_proba_c1):\n",
    "    precisions, recalls,thresholds = precision_recall_curve(y_test,pred_proba_c1)\n",
    "    \n",
    "    plt.figure(figsize=(8,6))\n",
    "    threshold_boundary = thresholds.shape[0]\n",
    "    plt.plot(thresholds,precisions[0:threshold_boundary],linestyle='--', label='precision')\n",
    "    plt.plot(thresholds,recalls[0:threshold_boundary], label='recall')\n",
    "    \n",
    "    start,end = plt.xlim() # x값 범위 지정\n",
    "    plt.xticks(np.round(np.arange(start,end,0.1),2)) # x축의 scale 단위를 변경\n",
    "    \n",
    "    plt.xlabel('Threshold value')\n",
    "    plt.ylabel('Precision and Recall value')\n",
    "    plt.legend() # 범례추가\n",
    "    plt.grid()\n",
    "    plt.show()\n",
    "    \n",
    "precision_recall_curve_plot(y_test,lr_clf.predict_proba(X_test)[:,1])\n",
    "    "
   ]
  },
  {
   "cell_type": "code",
   "execution_count": 34,
   "metadata": {},
   "outputs": [
    {
     "data": {
      "text/plain": [
       "0.7758620689655172"
      ]
     },
     "execution_count": 34,
     "metadata": {},
     "output_type": "execute_result"
    }
   ],
   "source": [
    "# f1 스코어\n",
    "# 정밀도와 재현율을 결합\n",
    "from sklearn.metrics import f1_score\n",
    "f1 = f1_score(y_test,pred)\n",
    "f1"
   ]
  },
  {
   "cell_type": "code",
   "execution_count": 38,
   "metadata": {},
   "outputs": [],
   "source": [
    "from sklearn.metrics import roc_curve\n",
    "\n",
    "pred_proba_class1 = lr_clf.predict_proba(X_test)[:,1]\n",
    "\n",
    "fprs,tprs,thresholds = roc_curve(y_test,pred_proba_class1)"
   ]
  },
  {
   "cell_type": "code",
   "execution_count": 50,
   "metadata": {},
   "outputs": [
    {
     "data": {
      "image/png": "[encoded data removed]",
      "text/plain": [
       "<Figure size 640x480 with 1 Axes>"
      ]
     },
     "metadata": {},
     "output_type": "display_data"
    }
   ],
   "source": [
    "def roc_curve_plot(y_test, pred_proba_c1):\n",
    "    # 임곗값에 따른 FPR, TPR 값을 반환받음.\n",
    "    fprs, tprs, thresholds = roc_curve(y_test, pred_proba_c1) \n",
    "    #ROC 곡선을 그래프 곡선으로 그림.\n",
    "    plt.plot(fprs, tprs, label=\"ROC\")\n",
    "    # 가운데 대각선 직선을 그림.\n",
    "    plt.plot([0, 1], [0, 1],'--', label=\"Random\")\n",
    "             \n",
    "    # FPR X 축의 Scale을 0.1 단위로 변경, X, Y축 명 설정 등 \n",
    "    start, end = plt.xlim() \n",
    "    plt.xticks(np.round(np.arange(start, end, 0.1), 2)) \n",
    "    plt.xlim(0, 1); plt.ylim(0, 1)\n",
    "    plt.xlabel('FPR( 1 - Specificity )'); plt.ylabel('TPR(Recall)') \n",
    "    plt.legend()\n",
    "    plt.show()\n",
    "    \n",
    "roc_curve_plot(y_test, pred_proba[:, 1])"
   ]
  },
  {
   "cell_type": "code",
   "execution_count": 54,
   "metadata": {},
   "outputs": [
    {
     "data": {
      "text/plain": [
       "0.8979577660461239"
      ]
     },
     "execution_count": 54,
     "metadata": {},
     "output_type": "execute_result"
    }
   ],
   "source": [
    "# AUC\n",
    "# 평가지표\n",
    "from sklearn.metrics import roc_auc_score\n",
    "\n",
    "pred_proba = lr_clf.predict_proba(X_test)[:,1]\n",
    "roc_score = roc_auc_score(y_test,pred_proba)\n",
    "roc_score\n"
   ]
  },
  {
   "cell_type": "code",
   "execution_count": 53,
   "metadata": {},
   "outputs": [],
   "source": [
    "# 분류 평가지표, 예측 확률값을 인수로 추가\n",
    "def get_clf_eval(y_test, pred=None, pred_proba=None): \n",
    "    confusion = confusion_matrix(y_test, pred) \n",
    "    accuracy = accuracy_score(y_test, pred) \n",
    "    precision = precision_score(y_test, pred) \n",
    "    recall = recall_score(y_test, pred)\n",
    "    f1 = f1_score(y_test,pred) \n",
    "    #ROC-AUC 추가\n",
    "    roc_auc = roc_auc_score(y_test, pred_proba) \n",
    "    print('오차 행렬')\n",
    "    print(confusion)\n",
    "    # ROC-AUC print 추가\n",
    "    print('정확도: {0:f}, 정밀도: {1:4f}, 재현율: {2:4f},\\\n",
    "    F1: {3:.4f}, AUC:{4:4f}'.format(accuracy, precision, recall, f1, roc_auc))"
   ]
  }
 ],
 "metadata": {
  "kernelspec": {
   "display_name": "base",
   "language": "python",
   "name": "python3"
  },
  "language_info": {
   "codemirror_mode": {
    "name": "ipython",
    "version": 3
   },
   "file_extension": ".py",
   "mimetype": "text/x-python",
   "name": "python",
   "nbconvert_exporter": "python",
   "pygments_lexer": "ipython3",
   "version": "3.9.13"
  }
 },
 "nbformat": 4,
 "nbformat_minor": 2
}
