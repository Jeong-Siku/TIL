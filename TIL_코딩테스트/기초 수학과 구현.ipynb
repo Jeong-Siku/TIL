{
 "cells": [
  {
   "attachments": {},
   "cell_type": "markdown",
   "metadata": {},
   "source": [
    "# 최장 맨해튼 거리"
   ]
  },
  {
   "attachments": {},
   "cell_type": "markdown",
   "metadata": {},
   "source": [
    "## 완전탐색"
   ]
  },
  {
   "cell_type": "code",
   "execution_count": null,
   "metadata": {},
   "outputs": [],
   "source": [
    "S = list(map(int, input().split()))\n",
    "ans = 0\n",
    "for a in S:\n",
    "    x1 = a\n",
    "    for b in S:\n",
    "        # 수를 중복해서 사용하면 안 된다!\n",
    "        if a == b:\n",
    "            continue\n",
    "        y1 = b\n",
    "        for c in S:\n",
    "            if a == c or b == c:\n",
    "                continue\n",
    "            x2 = c\n",
    "            for d in S:\n",
    "                if a == d or b == d or c == d:\n",
    "                    continue\n",
    "                y2 = d\n",
    "                # 맨해튼 거리 계산\n",
    "                dist = abs(x1 - x2) + abs(y1 - y2)\n",
    "                # 가장 큰 값으로 정답 갱신\n",
    "                ans = max(ans, dist)\n",
    "\n",
    "print(ans)"
   ]
  },
  {
   "attachments": {},
   "cell_type": "markdown",
   "metadata": {},
   "source": [
    "## 정렬\n",
    "> 수학적 접근으로 증명하기 \n",
    "- l.sort\n",
    "  - l.sort(reverse=True)\n",
    "  - l.reverse()\n",
    "  - 원본 변경\n",
    "- sorted(l)\n",
    "  - sorted(l, reverse=True)\n",
    "  - 원본 복사"
   ]
  },
  {
   "cell_type": "code",
   "execution_count": null,
   "metadata": {},
   "outputs": [],
   "source": [
    "S = list(map(int, input().split()))\n",
    "S.sort()\n",
    "print(S[3] + S[2] - S[1] - S[0])"
   ]
  },
  {
   "attachments": {},
   "cell_type": "markdown",
   "metadata": {},
   "source": [
    "# 8진수 계산기"
   ]
  },
  {
   "cell_type": "markdown",
   "metadata": {},
   "source": [
    "진수변환"
   ]
  },
  {
   "cell_type": "code",
   "execution_count": null,
   "metadata": {},
   "outputs": [],
   "source": [
    "A = int(input())\n",
    "result = []\n",
    "while A:\n",
    "    result.append(str(A % 2))\n",
    "    A //= 2\n",
    "# join은 문자열만 가능\n",
    "# reverse는 문자열만 가능\n",
    "print(''.join(reversed(result)))"
   ]
  },
  {
   "attachments": {},
   "cell_type": "markdown",
   "metadata": {},
   "source": [
    "bin()  \n",
    "oct()  \n",
    "hex()\n",
    "- 맨 앞 두글자는 접두사가 붙음"
   ]
  },
  {
   "cell_type": "code",
   "execution_count": null,
   "metadata": {},
   "outputs": [],
   "source": [
    "import sys\n",
    "input = sys.stdin.readline\n",
    "\n",
    "N = int(input())\n",
    "# 배열로 모든 정수를 입력.\n",
    "S = list(map(int, input().split()))\n",
    "\n",
    "# 모든 정수를 더한 후에, 8진수 변환\n",
    "# 맨 앞에는 0b, 0o, 0x 접두사가 붙어 있기 때문에 슬라이싱을 사용\n",
    "print(oct(sum(S))[2:])"
   ]
  },
  {
   "cell_type": "code",
   "execution_count": null,
   "metadata": {},
   "outputs": [],
   "source": [
    "N = int(input())\n",
    "S = map(int, input().split())\n",
    "print(oct(sum(S))[2:])"
   ]
  },
  {
   "attachments": {},
   "cell_type": "markdown",
   "metadata": {},
   "source": [
    "# 소수 찾기"
   ]
  },
  {
   "cell_type": "markdown",
   "metadata": {},
   "source": [
    "## 소수 판정하기"
   ]
  },
  {
   "cell_type": "code",
   "execution_count": null,
   "metadata": {},
   "outputs": [],
   "source": [
    "# 어떤 수 N이 소수인지 판정해보자\n",
    "# 1과 N 사이에 있는 수들 중, N의 약수인게 있으면 소수가 아니다\n",
    "is_prime = 1\n",
    "# 스스로를 제외한 나머지 값들만 비교하기 위해 N 이전까지\n",
    "for i in range(2, N):\n",
    "    if N % i == 0:\n",
    "        is_prime = 0"
   ]
  },
  {
   "attachments": {},
   "cell_type": "markdown",
   "metadata": {},
   "source": [
    "## 에라토스테네스의 체\n",
    "- 10**12 정도로 큰 수의 소수 판별을 할 때는 위의 방식을 사용\n",
    "- 10**6 정도 이하의 소수를 구할 떄는 에라토스테네스의 체를 이용\n",
    "- 기본 아이디어는 어떤 수의 약수를 세는 것보다는 배수를 세는 것이 더 쉽다는 것에서 출발"
   ]
  },
  {
   "cell_type": "code",
   "execution_count": 18,
   "metadata": {},
   "outputs": [],
   "source": [
    "def Sieve(N):\n",
    "    # 초기에는 모두 소수일 수 있다고 가정한다\n",
    "    is_prime = [1 for _ in range(N + 1)]\n",
    "    prime = []\n",
    "    for i in range(2, N + 1):\n",
    "        # 소수가 아니라고 판정된 수는 건너뛴다\n",
    "        if not is_prime[i]:\n",
    "            continue\n",
    "        prime.append(i)\n",
    "        # 소수의 배수들을 쳐내는 과정\n",
    "        for j in range(i, N + 1, i):\n",
    "            is_prime[j] = 0\n",
    "    return prime"
   ]
  },
  {
   "cell_type": "code",
   "execution_count": 19,
   "metadata": {},
   "outputs": [
    {
     "data": {
      "text/plain": [
       "[2, 3, 5, 7, 11, 13, 17, 19, 23]"
      ]
     },
     "execution_count": 19,
     "metadata": {},
     "output_type": "execute_result"
    }
   ],
   "source": [
    "Sieve(23)"
   ]
  },
  {
   "cell_type": "code",
   "execution_count": null,
   "metadata": {},
   "outputs": [],
   "source": [
    "import sys\n",
    "input = sys.stdin.readline\n",
    "\n",
    "def Sieve(N):\n",
    "    is_prime = [1 for _ in range(N + 1)]\n",
    "    prime = []\n",
    "    for i in range(2, N + 1):\n",
    "        if not is_prime[i]:\n",
    "            continue\n",
    "        prime.append(i)\n",
    "        for j in range(2 * i, N + 1, i):\n",
    "            is_prime[j] = 0\n",
    "    return prime\n",
    "\n",
    "N = int(input())\n",
    "# Sieve가 인덱스 0부터 시작했기에 시작점을 맞춰준다.\n",
    "A = [0] + list(map(int, input().split()))\n",
    "ans = 0\n",
    "\n",
    "primes = Sieve(N)\n",
    "for prime in primes:\n",
    "    ans += A[prime]\n",
    "        \n",
    "print(ans)"
   ]
  }
 ],
 "metadata": {
  "kernelspec": {
   "display_name": "base",
   "language": "python",
   "name": "python3"
  },
  "language_info": {
   "codemirror_mode": {
    "name": "ipython",
    "version": 3
   },
   "file_extension": ".py",
   "mimetype": "text/x-python",
   "name": "python",
   "nbconvert_exporter": "python",
   "pygments_lexer": "ipython3",
   "version": "3.9.13"
  },
  "orig_nbformat": 4,
  "vscode": {
   "interpreter": {
    "hash": "e35aa464e4f518e3bd80b827b0a7a82608bf016d4c837622545242b48b9bfee6"
   }
  }
 },
 "nbformat": 4,
 "nbformat_minor": 2
}
