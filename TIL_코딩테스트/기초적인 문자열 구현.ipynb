{
 "cells": [
  {
   "attachments": {},
   "cell_type": "markdown",
   "metadata": {},
   "source": [
    "# 대소문자 바꾸기"
   ]
  },
  {
   "attachments": {},
   "cell_type": "markdown",
   "metadata": {},
   "source": [
    "## input() -> sys.stdin.readline으로 변경하기"
   ]
  },
  {
   "attachments": {},
   "cell_type": "markdown",
   "metadata": {},
   "source": [
    "input()\n",
    "- 입출력이 느리다.\n",
    "1. 입력받은 문자열을 문자 단위로 읽는다.\n",
    "2. 개행문자를 삭제한다.\n",
    "3. 문자를 문자열로 변환하여 반환한다."
   ]
  },
  {
   "cell_type": "code",
   "execution_count": null,
   "metadata": {},
   "outputs": [],
   "source": [
    "import sys\n",
    "input = sys.stdin.readline\n",
    "input()\n",
    "# 개행문자를 포함하기 때문에 개행문자를 제거하는 함수가 필요하다.\n",
    "input().rstrip()"
   ]
  },
  {
   "cell_type": "markdown",
   "metadata": {},
   "source": [
    "## 문자열은 일반적으로 수정이 불가능하다"
   ]
  },
  {
   "attachments": {},
   "cell_type": "markdown",
   "metadata": {},
   "source": [
    "새로운 결과 변수를 선언하여 정답을 작성해야한다."
   ]
  },
  {
   "cell_type": "code",
   "execution_count": null,
   "metadata": {},
   "outputs": [],
   "source": [
    "# Error\n",
    "S = \"1234\"\n",
    "S[2] = 4"
   ]
  },
  {
   "cell_type": "code",
   "execution_count": null,
   "metadata": {},
   "outputs": [],
   "source": [
    "import sys\n",
    "input = sys.stdin.readline\n",
    "N = int(input())\n",
    "S = input().rstrip()\n",
    "# 결과 저장을 위한 변수\n",
    "result = ''\n",
    "\n",
    "# 반복문을 이용해서 현재의 철자가 소문자라면 대문자로, 대문자라면 소문자로 치환하기\n",
    "for i in S:\n",
    "\tif i.islower():\n",
    "\t\tresult += i.upper()\n",
    "\telif i.isupper():\n",
    "\t\tresult += i.lower()\n",
    "\n",
    "print(result)"
   ]
  },
  {
   "attachments": {},
   "cell_type": "markdown",
   "metadata": {},
   "source": [
    "str.replace()  \n",
    "str.swapcase()\n",
    "- 문자열의 현재 문자가 소문자면 대문자로, 대문자면 소문자로 변환하는 메소드"
   ]
  },
  {
   "cell_type": "code",
   "execution_count": null,
   "metadata": {},
   "outputs": [],
   "source": [
    "import sys\n",
    "input = sys.stdin.readline\n",
    "N = int(input())\n",
    "S = input().rstrip()\n",
    "# swapcase()는 문자열의 대문자를 소문자로, 소문자를 대문자로 치환해준다.\n",
    "print(S.swapcase())"
   ]
  },
  {
   "attachments": {},
   "cell_type": "markdown",
   "metadata": {},
   "source": [
    "# 단어 필터"
   ]
  },
  {
   "attachments": {},
   "cell_type": "markdown",
   "metadata": {},
   "source": [
    "map(Function, iterable Data)\n",
    "- 여러 개의 정수를 한 번에 입력 받기 위해서 필요하다."
   ]
  },
  {
   "cell_type": "code",
   "execution_count": 1,
   "metadata": {},
   "outputs": [
    {
     "name": "stdout",
     "output_type": "stream",
     "text": [
      "<map object at 0x7fbda14d3760>\n",
      "[2, 3, 4]\n"
     ]
    }
   ],
   "source": [
    "# a 정수에 1을 더하는 함수\n",
    "def add(a):\n",
    "    return a + 1\n",
    "arr = [1, 2, 3]\n",
    "\n",
    "# arr의 모든 요소에 add 함수를 적용하는 map 함수\n",
    "add_arr = map(add, arr)\n",
    "print(add_arr)\n",
    "# map 객체이기 때문에 list로 반환\n",
    "print(list(add_arr))"
   ]
  },
  {
   "attachments": {},
   "cell_type": "markdown",
   "metadata": {},
   "source": [
    "반복문과 인덱스 찾기를 통해 해결\n",
    "- 문자열은 in을 사용 가능"
   ]
  },
  {
   "cell_type": "code",
   "execution_count": null,
   "metadata": {},
   "outputs": [],
   "source": [
    "# 필터 단어 S가 메세지 E에 포함되어 있는 동안 반복\n",
    "while S in E:\n",
    "    # 현재 필터 단어 S가 가장 처음으로 등장하는 인덱스 추출\n",
    "    idx = E.find(S)\n",
    "    # 문자열에서 idx에 해당하는 인덱스를 지우는 반복문\n",
    "    for _ in range(len(S)):\n",
    "        E = E[:idx] + E[idx + 1:]"
   ]
  },
  {
   "attachments": {},
   "cell_type": "markdown",
   "metadata": {},
   "source": [
    "replace()를 통해 간결하고 직관적으로 코드를 작성"
   ]
  },
  {
   "cell_type": "code",
   "execution_count": null,
   "metadata": {},
   "outputs": [],
   "source": [
    "# 필터 단어 S가 메세지 E에 포함되어 있는 동안 반복\n",
    "while S in E:\n",
    "    # replace 메소드를 통해서 E에서 S 단어를 계속 삭제\n",
    "    E = E.replace(S, '')"
   ]
  },
  {
   "attachments": {},
   "cell_type": "markdown",
   "metadata": {},
   "source": [
    "# 큰 수식 찾기"
   ]
  },
  {
   "attachments": {},
   "cell_type": "markdown",
   "metadata": {},
   "source": [
    "우선 순위가 있는 수식을 편하게 계산해주는 함수\n",
    "- eval()"
   ]
  },
  {
   "cell_type": "code",
   "execution_count": null,
   "metadata": {},
   "outputs": [],
   "source": [
    "A = \"10*10-99\"\n",
    "B = \"10-99*10\"\n",
    "print(eval(A))\n",
    "print(eval(B))"
   ]
  },
  {
   "cell_type": "code",
   "execution_count": null,
   "metadata": {},
   "outputs": [],
   "source": [
    "A, B = input().split()\n",
    "print(max(eval(A), eval(B)))"
   ]
  },
  {
   "attachments": {},
   "cell_type": "markdown",
   "metadata": {},
   "source": [
    "pass와 continue 차이\n",
    "- pass : 실행할 코드가 없는 것으로 다음 행동을 수행한다.\n",
    "- continue : 하위 코딩을 건너뛰고 다음 순번의 loop를 수행한다."
   ]
  },
  {
   "cell_type": "markdown",
   "metadata": {},
   "source": []
  }
 ],
 "metadata": {
  "kernelspec": {
   "display_name": "base",
   "language": "python",
   "name": "python3"
  },
  "language_info": {
   "codemirror_mode": {
    "name": "ipython",
    "version": 3
   },
   "file_extension": ".py",
   "mimetype": "text/x-python",
   "name": "python",
   "nbconvert_exporter": "python",
   "pygments_lexer": "ipython3",
   "version": "3.9.13"
  },
  "orig_nbformat": 4,
  "vscode": {
   "interpreter": {
    "hash": "e35aa464e4f518e3bd80b827b0a7a82608bf016d4c837622545242b48b9bfee6"
   }
  }
 },
 "nbformat": 4,
 "nbformat_minor": 2
}
