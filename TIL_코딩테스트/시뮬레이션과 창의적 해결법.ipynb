{
 "cells": [
  {
   "attachments": {},
   "cell_type": "markdown",
   "metadata": {},
   "source": [
    "# 0커플"
   ]
  },
  {
   "attachments": {},
   "cell_type": "markdown",
   "metadata": {},
   "source": [
    "## Hash 기반 자료구조 이용\n",
    "- Hash Table은 Hash Function을 이용해 Key 값들을 정수로 변환한 뒤, 변환된 각 정수에 고유한 메모리 주소를 할당해서 O(1)의 시간복잡도에 저장된 값들에 접근할 수 있게끔 하는 자료구조\n",
    "- Python은 dict 자료구조를 사용하여 Hash Table의 역할을 수행한다."
   ]
  },
  {
   "cell_type": "code",
   "execution_count": null,
   "metadata": {},
   "outputs": [],
   "source": [
    "N = int(input())\n",
    "S = list(map(int, input().split()))\n",
    "\n",
    "# 빈 딕셔너리 객체 생성\n",
    "occur = dict()\n",
    "for i in range(N):\n",
    "    # 현재 점수가 존재하는지를 occur에 기록해둡니다.\n",
    "    occur[S[i]] = 1\n",
    "\n",
    "ans = 0\n",
    "for i in range(N):\n",
    "    # 각 점수마다 부호가 반대인 점수 값이 occur에 존재하는지를 확인합니다.\n",
    "    # key 값이 존재하는 경우에는 소개팅을 진행할 수 있다는 뜻이니, 넘어가줍시다.\n",
    "    if -S[i] not in occur:\n",
    "        ans += S[i]\n",
    "        \n",
    "print(ans)"
   ]
  },
  {
   "attachments": {},
   "cell_type": "markdown",
   "metadata": {},
   "source": [
    "## 절댓값의 개수를 이용"
   ]
  },
  {
   "cell_type": "code",
   "execution_count": null,
   "metadata": {},
   "outputs": [],
   "source": [
    "\n",
    "N = int(input())\n",
    "S = list(map(int, input().split()))\n",
    "\n",
    "occur = [0 for _ in range(200001)]\n",
    "for i in range(N):\n",
    "    # abs 함수는 인자로 들어온 수의 절댓값을 반환하는 함수입니다.\n",
    "    occur[abs(S[i])] += 1\n",
    "\n",
    "ans = 0\n",
    "for i in range(1, 200001):\n",
    "    if occur[i] != 1:\n",
    "        continue\n",
    "    for j in range(N):\n",
    "        if abs(S[j]) == i:\n",
    "            ans += S[j]\n",
    "        \n",
    "print(ans)"
   ]
  },
  {
   "attachments": {},
   "cell_type": "markdown",
   "metadata": {},
   "source": [
    "## 아이디어"
   ]
  },
  {
   "cell_type": "code",
   "execution_count": null,
   "metadata": {},
   "outputs": [],
   "source": [
    "N = int(input())\n",
    "S = list(map(int, input().split()))\n",
    "print(sum(S))"
   ]
  },
  {
   "attachments": {},
   "cell_type": "markdown",
   "metadata": {},
   "source": [
    "# 규칙 숫자 야구"
   ]
  },
  {
   "attachments": {},
   "cell_type": "markdown",
   "metadata": {},
   "source": [
    "## 입력받기"
   ]
  },
  {
   "cell_type": "code",
   "execution_count": null,
   "metadata": {},
   "outputs": [],
   "source": [
    "answer = list(map(int, input()))\n",
    "user_input = list(map(int, input()))\n",
    "# 사용자 입력을 만든 횟수\n",
    "make_input_count = 0"
   ]
  },
  {
   "attachments": {},
   "cell_type": "markdown",
   "metadata": {},
   "source": [
    "## strike, ball, fail 판단하기\n",
    "- 카테고리를 숫자로 구별한다"
   ]
  },
  {
   "cell_type": "code",
   "execution_count": null,
   "metadata": {},
   "outputs": [],
   "source": [
    "make_input_count = 0\n",
    "while True:\n",
    "    make_input_count += 1\n",
    "    # strike, ball, fail\n",
    "    result = [2, 2, 2, 2]\n",
    "    # user_input과 answer이 같은 경우는 게임이 종료되는 조건에 해당됩니다.\n",
    "    if user_input == answer:\n",
    "        # 따라서 과정을 수행한 횟수를 출력하고 루프를 탈출합니다.\n",
    "        print(make_input_count)\n",
    "        break\n",
    "\n",
    "    # 입력의 첫째 자리부터 순서대로 보면서 상태를 판단합니다.\n",
    "    for i in range(4):\n",
    "        # 헌재 값이 answer에 없는 경우는 Fail에 해당합니다.\n",
    "        # 앞서 상태의 기본값을 Fail로 설정했기 때문에 그냥 넘어가면 됩니다.\n",
    "        if user_input[i] in answer:\n",
    "            # 위치까지 같은 경우는 Strike에 해당합니다.\n",
    "            if user_input[i] == answer[i]:\n",
    "                result[i] = 0\n",
    "            # 그렇지 않은 경우는 Ball에 해당합니다.\n",
    "            else:\n",
    "                result[i] = 1"
   ]
  },
  {
   "cell_type": "code",
   "execution_count": null,
   "metadata": {},
   "outputs": [],
   "source": [
    "# fail인 경우 처리하기\n",
    "def fail():\n",
    "    for i in range(4):\n",
    "        # 상태가 Fail인 자리만 작업을 수행합니다.\n",
    "        if result[i] != 2:\n",
    "            continue\n",
    "        # 조건을 만족하는 값이 나올 때까지 아래 과정을 반복합니다.\n",
    "        while True:\n",
    "            # 현재 자리의 값을 1 증가시킵니다.\n",
    "            # 값을 바로 대입하지 않고, 현재 입력의 다른 자리에 해당 값이 존재하는지를 먼저 판단합니다.\n",
    "            temp = (user_input[i] + 1) % 10\n",
    "            out = temp not in user_input\n",
    "            user_input[i] = temp\n",
    "            if out:\n",
    "                break"
   ]
  },
  {
   "cell_type": "code",
   "execution_count": null,
   "metadata": {},
   "outputs": [],
   "source": [
    "# ball이 있는 경우 처리하기\n",
    "# deque 자료구조를 활용하면 더 효율적\n",
    "def ball():\n",
    "    if 1 not in result:\n",
    "        return\n",
    "    # 자리를 옮기기 위해 ball인 값의 인덱스를 갖는 리스트\n",
    "    pos = []\n",
    "    # 자리를 옮기기 위해 ball인 값을 갖는 리스트\n",
    "    value = []\n",
    "    for i in range(4):\n",
    "        if result[i] != 0:\n",
    "            pos.append(i)\n",
    "            value.append(user_input[i])\n",
    "    for i in range(len(pos)):\n",
    "        if i == 0:\n",
    "            user_input[pos[i]] = value[-1]\n",
    "        else:\n",
    "            user_input[pos[i]] = value[i - 1]"
   ]
  },
  {
   "cell_type": "code",
   "execution_count": 3,
   "metadata": {},
   "outputs": [
    {
     "data": {
      "text/plain": [
       "[]"
      ]
     },
     "execution_count": 3,
     "metadata": {},
     "output_type": "execute_result"
    }
   ],
   "source": [
    "list(map(int,input().split()))"
   ]
  },
  {
   "cell_type": "code",
   "execution_count": 8,
   "metadata": {},
   "outputs": [
    {
     "data": {
      "text/plain": [
       "[[1, 1, 1], [1, 1, 1], [1, 1, 1]]"
      ]
     },
     "execution_count": 8,
     "metadata": {},
     "output_type": "execute_result"
    }
   ],
   "source": [
    "n=3\n",
    "metric = [[1 for _ in range(n)] for _ in range(n)]\n",
    "metric"
   ]
  },
  {
   "cell_type": "code",
   "execution_count": 14,
   "metadata": {},
   "outputs": [
    {
     "data": {
      "text/plain": [
       "9"
      ]
     },
     "execution_count": 14,
     "metadata": {},
     "output_type": "execute_result"
    }
   ],
   "source": [
    "# 2차원 리스트 1차원으로 바꾸기\n",
    "sum(metric,[])"
   ]
  },
  {
   "cell_type": "code",
   "execution_count": null,
   "metadata": {},
   "outputs": [],
   "source": []
  }
 ],
 "metadata": {
  "kernelspec": {
   "display_name": "base",
   "language": "python",
   "name": "python3"
  },
  "language_info": {
   "codemirror_mode": {
    "name": "ipython",
    "version": 3
   },
   "file_extension": ".py",
   "mimetype": "text/x-python",
   "name": "python",
   "nbconvert_exporter": "python",
   "pygments_lexer": "ipython3",
   "version": "3.9.13"
  },
  "orig_nbformat": 4,
  "vscode": {
   "interpreter": {
    "hash": "e35aa464e4f518e3bd80b827b0a7a82608bf016d4c837622545242b48b9bfee6"
   }
  }
 },
 "nbformat": 4,
 "nbformat_minor": 2
}
