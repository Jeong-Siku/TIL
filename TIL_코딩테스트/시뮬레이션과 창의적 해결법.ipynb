{
 "cells": [
  {
   "attachments": {},
   "cell_type": "markdown",
   "metadata": {},
   "source": [
    "# 0커플"
   ]
  },
  {
   "attachments": {},
   "cell_type": "markdown",
   "metadata": {},
   "source": [
    "## Hash 기반 자료구조 이용\n",
    "- Hash Table은 Hash Function을 이용해 Key 값들을 정수로 변환한 뒤, 변환된 각 정수에 고유한 메모리 주소를 할당해서 O(1)의 시간복잡도에 저장된 값들에 접근할 수 있게끔 하는 자료구조\n",
    "- Python은 dict 자료구조를 사용하여 Hash Table의 역할을 수행한다."
   ]
  },
  {
   "cell_type": "code",
   "execution_count": null,
   "metadata": {},
   "outputs": [],
   "source": [
    "N = int(input())\n",
    "S = list(map(int, input().split()))\n",
    "\n",
    "# 빈 딕셔너리 객체 생성\n",
    "occur = dict()\n",
    "for i in range(N):\n",
    "    # 현재 점수가 존재하는지를 occur에 기록해둡니다.\n",
    "    occur[S[i]] = 1\n",
    "\n",
    "ans = 0\n",
    "for i in range(N):\n",
    "    # 각 점수마다 부호가 반대인 점수 값이 occur에 존재하는지를 확인합니다.\n",
    "    # key 값이 존재하는 경우에는 소개팅을 진행할 수 있다는 뜻이니, 넘어가줍시다.\n",
    "    if -S[i] not in occur:\n",
    "        ans += S[i]\n",
    "        \n",
    "print(ans)"
   ]
  },
  {
   "attachments": {},
   "cell_type": "markdown",
   "metadata": {},
   "source": [
    "## 절댓값의 개수를 이용"
   ]
  },
  {
   "cell_type": "code",
   "execution_count": null,
   "metadata": {},
   "outputs": [],
   "source": [
    "\n",
    "N = int(input())\n",
    "S = list(map(int, input().split()))\n",
    "\n",
    "occur = [0 for _ in range(200001)]\n",
    "for i in range(N):\n",
    "    # abs 함수는 인자로 들어온 수의 절댓값을 반환하는 함수입니다.\n",
    "    occur[abs(S[i])] += 1\n",
    "\n",
    "ans = 0\n",
    "for i in range(1, 200001):\n",
    "    if occur[i] != 1:\n",
    "        continue\n",
    "    for j in range(N):\n",
    "        if abs(S[j]) == i:\n",
    "            ans += S[j]\n",
    "        \n",
    "print(ans)"
   ]
  },
  {
   "attachments": {},
   "cell_type": "markdown",
   "metadata": {},
   "source": [
    "## 아이디어"
   ]
  },
  {
   "cell_type": "code",
   "execution_count": null,
   "metadata": {},
   "outputs": [],
   "source": [
    "N = int(input())\n",
    "S = list(map(int, input().split()))\n",
    "print(sum(S))"
   ]
  }
 ],
 "metadata": {
  "kernelspec": {
   "display_name": "base",
   "language": "python",
   "name": "python3"
  },
  "language_info": {
   "name": "python",
   "version": "3.9.13"
  },
  "orig_nbformat": 4,
  "vscode": {
   "interpreter": {
    "hash": "e35aa464e4f518e3bd80b827b0a7a82608bf016d4c837622545242b48b9bfee6"
   }
  }
 },
 "nbformat": 4,
 "nbformat_minor": 2
}
