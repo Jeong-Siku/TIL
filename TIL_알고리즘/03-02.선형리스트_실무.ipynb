{
 "cells": [
  {
   "attachments": {},
   "cell_type": "markdown",
   "metadata": {},
   "source": [
    "# 선형리스트 - 실무형 작성"
   ]
  },
  {
   "cell_type": "code",
   "execution_count": 2,
   "metadata": {},
   "outputs": [
    {
     "name": "stdout",
     "output_type": "stream",
     "text": [
      "['다현', '정연', '쯔위', '사나', '지효']\n",
      "['다현', '정연', '쯔위', '사나', '지효', '모모']\n",
      "['다현', '정연', '쯔위', '미나', '사나', '지효', '모모']\n",
      "['다현', '정연', '쯔위', '미나', '지효', '모모']\n"
     ]
    }
   ],
   "source": [
    "## 함수\n",
    "def add_data(friend):\n",
    "    katok.append(None) # 1단계 : 빈칸추가\n",
    "    kLen = len(katok) # 배열의 길이 파악!!\n",
    "    katok[kLen-1] =friend\n",
    "\n",
    "def insert_data(position, friend):\n",
    "    katok.append(None) # 1단계 : 빈칸추가\n",
    "    kLen = len(katok) # 배열의 길이 파악!!\n",
    "    # 2단계 : 한칸씩 오른쪽으로...\n",
    "    for i in range(kLen-1, position,-1) : # 어려움!\n",
    "        katok[i] = katok[i-1]\n",
    "        katok[i-1] = None\n",
    "    # 3단계\n",
    "    katok[position] = friend\n",
    "\n",
    "def delete_data(position):\n",
    "    katok[position] = None # 1단계\n",
    "    kLen = len(katok)\n",
    "    # 2단계 : 한칸씩 왼쪽으로\n",
    "    for i in range(position+1, kLen, 1):\n",
    "        katok[i-1] = katok[i]\n",
    "        katok[i] = None\n",
    "    #3단계 : 마지막 칸 삭제\n",
    "    del(katok[kLen-1])\n",
    "\n",
    "    \n",
    "\n",
    "## 전역\n",
    "katok = []\n",
    "\n",
    "## 메인\n",
    "add_data('다현')\n",
    "add_data('정연')\n",
    "add_data('쯔위')\n",
    "add_data('사나')\n",
    "add_data('지효')\n",
    "print(katok)\n",
    "add_data('모모')\n",
    "print(katok)\n",
    "\n",
    "insert_data(3, '미나')\n",
    "print(katok)\n",
    "\n",
    "delete_data(4)\n",
    "print(katok)"
   ]
  },
  {
   "cell_type": "code",
   "execution_count": 1,
   "metadata": {},
   "outputs": [
    {
     "ename": "NameError",
     "evalue": "name 'insert_data' is not defined",
     "output_type": "error",
     "traceback": [
      "\u001b[0;31m---------------------------------------------------------------------------\u001b[0m",
      "\u001b[0;31mNameError\u001b[0m                                 Traceback (most recent call last)",
      "\u001b[0;32m/var/folders/dj/074406ws2d7f7vkzzjkhcfp80000gn/T/ipykernel_98145/790964432.py\u001b[0m in \u001b[0;36m<module>\u001b[0;34m\u001b[0m\n\u001b[1;32m     10\u001b[0m         \u001b[0mpos\u001b[0m \u001b[0;34m=\u001b[0m \u001b[0mint\u001b[0m\u001b[0;34m(\u001b[0m\u001b[0minput\u001b[0m\u001b[0;34m(\u001b[0m\u001b[0;34m\"삽입할 위치 --> \"\u001b[0m\u001b[0;34m)\u001b[0m\u001b[0;34m)\u001b[0m\u001b[0;34m\u001b[0m\u001b[0;34m\u001b[0m\u001b[0m\n\u001b[1;32m     11\u001b[0m         \u001b[0mdata\u001b[0m \u001b[0;34m=\u001b[0m \u001b[0minput\u001b[0m\u001b[0;34m(\u001b[0m\u001b[0;34m\"추가할 데이터 --> \"\u001b[0m\u001b[0;34m)\u001b[0m\u001b[0;34m\u001b[0m\u001b[0;34m\u001b[0m\u001b[0m\n\u001b[0;32m---> 12\u001b[0;31m         \u001b[0minsert_data\u001b[0m\u001b[0;34m(\u001b[0m\u001b[0mpos\u001b[0m\u001b[0;34m,\u001b[0m\u001b[0mdata\u001b[0m\u001b[0;34m)\u001b[0m\u001b[0;34m\u001b[0m\u001b[0;34m\u001b[0m\u001b[0m\n\u001b[0m\u001b[1;32m     13\u001b[0m         \u001b[0mprint\u001b[0m\u001b[0;34m(\u001b[0m\u001b[0mkatok\u001b[0m\u001b[0;34m)\u001b[0m\u001b[0;34m\u001b[0m\u001b[0;34m\u001b[0m\u001b[0m\n\u001b[1;32m     14\u001b[0m \u001b[0;34m\u001b[0m\u001b[0m\n",
      "\u001b[0;31mNameError\u001b[0m: name 'insert_data' is not defined"
     ]
    }
   ],
   "source": [
    "select = int(input(\"선택하세요(1: 추가, 2:삽입, 3:삭제, 4:종료)-->\"))\n",
    "while (select !=4):\n",
    "\n",
    "    if (select==1):\n",
    "        data = input(\"추가할 데이터 --> \")\n",
    "        add_data(data)\n",
    "        print(katok)\n",
    "\n",
    "    elif (select==2):\n",
    "        pos = int(input(\"삽입할 위치 --> \"))\n",
    "        data = input(\"추가할 데이터 --> \")\n",
    "        insert_data(pos,data)\n",
    "        print(katok)\n",
    "            \n",
    "    elif (select==3):\n",
    "        pos = int(input(\"삭제할 위치 --> \"))\n",
    "        data = input(\"추가할 데이터 --> \")\n",
    "        delete_data(pos)\n",
    "        print(katok)\n",
    "\n",
    "    elif (select == 4) :\n",
    "        print(katok)\n",
    "        exit\n",
    "        \n",
    "\n",
    "    else :\n",
    "        print(\"1~4 중 하나를 입력하세요.\")\n",
    "        continue"
   ]
  },
  {
   "cell_type": "code",
   "execution_count": null,
   "metadata": {},
   "outputs": [],
   "source": []
  }
 ],
 "metadata": {
  "kernelspec": {
   "display_name": "base",
   "language": "python",
   "name": "python3"
  },
  "language_info": {
   "codemirror_mode": {
    "name": "ipython",
    "version": 3
   },
   "file_extension": ".py",
   "mimetype": "text/x-python",
   "name": "python",
   "nbconvert_exporter": "python",
   "pygments_lexer": "ipython3",
   "version": "3.9.13"
  },
  "orig_nbformat": 4,
  "vscode": {
   "interpreter": {
    "hash": "e35aa464e4f518e3bd80b827b0a7a82608bf016d4c837622545242b48b9bfee6"
   }
  }
 },
 "nbformat": 4,
 "nbformat_minor": 2
}
