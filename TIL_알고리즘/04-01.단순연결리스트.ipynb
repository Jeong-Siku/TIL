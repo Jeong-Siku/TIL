{
 "cells": [
  {
   "attachments": {},
   "cell_type": "markdown",
   "metadata": {},
   "source": [
    "# 단순연결리스트\n",
    "- 노드를 클래스로 구현"
   ]
  },
  {
   "cell_type": "code",
   "execution_count": 6,
   "metadata": {},
   "outputs": [
    {
     "name": "stdout",
     "output_type": "stream",
     "text": [
      "다현 정연 사나 지효 \n"
     ]
    }
   ],
   "source": [
    "## 함수\n",
    "# 파이썬에는 노드가 없기에 클래스로 구현한다.\n",
    "class Node():\n",
    "    def __init__(self):\n",
    "        self.data = None\n",
    "        self.link = None\n",
    "\n",
    "## 전역\n",
    "\n",
    "## 메인\n",
    "node1 = Node()\n",
    "node1.data = '다현'\n",
    "\n",
    "node2 = Node()\n",
    "node2.data = '정연'\n",
    "node1.link = node2\n",
    "\n",
    "node3 = Node()\n",
    "node3.data = '쯔위'\n",
    "node2.link = node3\n",
    "\n",
    "node4 = Node()\n",
    "node4.data = '사나'\n",
    "node3.link = node4\n",
    "\n",
    "node5 = Node()\n",
    "node5.data = '지효'\n",
    "node4.link = node5\n",
    "\n",
    "# newNode = Node()\n",
    "# newNode.data = '재남'\n",
    "# newNode.link = node2.link\n",
    "# node2.link = newNode\n",
    "\n",
    "node2.link = node3.link\n",
    "del(node3)\n",
    "\n",
    "current = node1\n",
    "print(current.data, end=\" \")\n",
    "while (current.link != None) : \n",
    "    current = current.link\n",
    "    print(current.data, end=' ')\n",
    "print()\n",
    "\n",
    "\n",
    "\n",
    "# head = node1\n",
    "# print(head.data, end=' ')\n",
    "# print(head.link.data, end=' ')\n",
    "# print(head.link.link.data, end=' ')\n",
    "# print(head.link.link.link.data, end=' ')\n",
    "# print(head.link.link.link.link.data, end=' ')\n",
    "# print(head.link.link.link.link.link.data, end=' ')\n",
    "\n",
    "\n",
    "# print(node1.data, end=\" \")\n",
    "# print(node2.data, end=\" \")\n",
    "# print(node3.data, end=\" \")\n",
    "# print(node4.data, end=\" \")\n",
    "# print(node5.data, end=\" \")"
   ]
  },
  {
   "cell_type": "code",
   "execution_count": null,
   "metadata": {},
   "outputs": [],
   "source": []
  }
 ],
 "metadata": {
  "kernelspec": {
   "display_name": "base",
   "language": "python",
   "name": "python3"
  },
  "language_info": {
   "codemirror_mode": {
    "name": "ipython",
    "version": 3
   },
   "file_extension": ".py",
   "mimetype": "text/x-python",
   "name": "python",
   "nbconvert_exporter": "python",
   "pygments_lexer": "ipython3",
   "version": "3.9.13"
  },
  "orig_nbformat": 4,
  "vscode": {
   "interpreter": {
    "hash": "e35aa464e4f518e3bd80b827b0a7a82608bf016d4c837622545242b48b9bfee6"
   }
  }
 },
 "nbformat": 4,
 "nbformat_minor": 2
}
