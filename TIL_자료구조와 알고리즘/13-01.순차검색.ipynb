{
 "cells": [
  {
   "attachments": {},
   "cell_type": "markdown",
   "metadata": {},
   "source": [
    "# 검색_정렬 알고리즘\n",
    "- 순차검색 : 정렬이 되어 있지 않을 때. 순차검색은 오래 걸림!\n",
    "- 이진검색 : 정렬된 상태에서 빠르게 원하는 것을 찾음.\n",
    "- 데이터가 없을 시를 위해 반환값으로 -1을 지정함. 인덱스를 반환"
   ]
  },
  {
   "attachments": {},
   "cell_type": "markdown",
   "metadata": {},
   "source": [
    "# 순차검색"
   ]
  },
  {
   "cell_type": "code",
   "execution_count": 1,
   "metadata": {},
   "outputs": [
    {
     "name": "stdout",
     "output_type": "stream",
     "text": [
      "배열 --> [198, 90, 82, 153, 129, 101, 148, 124]\n",
      "198 는 0 번째 있어요.\n"
     ]
    }
   ],
   "source": [
    "## 함수\n",
    "import random\n",
    "def seqSearch(ary, fData): # 찾는 값의 인덱스를 반환 \n",
    "    pos= -1\n",
    "    for i in range(len(ary)):\n",
    "        if ary[i]==fData :\n",
    "            pos = i\n",
    "            break\n",
    "    return pos\n",
    "\n",
    "\n",
    "## 전역\n",
    "dataAry = [random.randint(30,200) for _ in range(8)]\n",
    "findData = random.choice(dataAry)\n",
    "\n",
    "\n",
    "## 메인\n",
    "print('배열 -->', dataAry)\n",
    "position = seqSearch(dataAry, findData)\n",
    "if (position == -1): # 관례적으로 없는 값은 -1로 표현\n",
    "    print(findData, '는 없어요')\n",
    "else:\n",
    "    print(findData, '는',position,'번째 있어요.')\n"
   ]
  },
  {
   "cell_type": "code",
   "execution_count": null,
   "metadata": {},
   "outputs": [],
   "source": []
  }
 ],
 "metadata": {
  "kernelspec": {
   "display_name": "base",
   "language": "python",
   "name": "python3"
  },
  "language_info": {
   "codemirror_mode": {
    "name": "ipython",
    "version": 3
   },
   "file_extension": ".py",
   "mimetype": "text/x-python",
   "name": "python",
   "nbconvert_exporter": "python",
   "pygments_lexer": "ipython3",
   "version": "3.9.13"
  },
  "orig_nbformat": 4,
  "vscode": {
   "interpreter": {
    "hash": "e35aa464e4f518e3bd80b827b0a7a82608bf016d4c837622545242b48b9bfee6"
   }
  }
 },
 "nbformat": 4,
 "nbformat_minor": 2
}
