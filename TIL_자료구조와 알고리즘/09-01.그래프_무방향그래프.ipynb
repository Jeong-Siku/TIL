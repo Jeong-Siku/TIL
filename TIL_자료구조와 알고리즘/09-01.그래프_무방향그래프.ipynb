{
 "cells": [
  {
   "attachments": {},
   "cell_type": "markdown",
   "metadata": {},
   "source": [
    "# 그래프\n",
    "- 여러 노드가 서로 연결된 자료구조\n",
    "- 종류 : \n",
    "  - 무방향그래프 : 정점, 에지(간선)로 구성됨. 그래프는 트리와 달리 이름을 붙인다. 방향이 없기에 간선집합 표현을 할 때 중복된 간선은 표현X\n",
    "  - 방향그래프 : \n",
    "  - 가중치 그래프\n",
    "- 그래프 순회 : 모든 정점을 한 번씩 방문하는 것\n",
    "  - 깊이우선탐색 : 방문할 곳이 없으면 다시 되돌아온다.\n",
    "  - 너비우선탐색\n",
    "- 그래프는 트리와 달리 루트와 같이 우선 되는 정점이 없다. 모두 동일한 의미를 지님. 어디서든 시작 가능\n",
    "\n",
    "- 그래프의 인접행렬 표현 : 코드로 구현할 때 인접행렬을 사용. 정방형으로 구성된 행렬 N X N(정점 개수)\n",
    "  - 연결 여부로 0,1\n",
    "  - 가중치그래프는 가중치로 데이터를 채운다."
   ]
  },
  {
   "cell_type": "code",
   "execution_count": null,
   "metadata": {},
   "outputs": [],
   "source": [
    "## 함수\n",
    "class Graph():\n",
    "    def __init__(self, size): # 인접행렬을 위해 size 받음\n",
    "        self.graph = [[0 for _ in range(size)] for _ in range(size)]\n",
    "\n",
    "## 전역\n",
    "A, B, C, D = 0, 1, 2, 3\n",
    "\n",
    "## 메인\n",
    "G1 = Graph(4)\n",
    "\n",
    "# 무방향 그래프의 인접행렬은 대각선을 기준으로 서로 대칭\n",
    "G1.graph[A][B] = 1\n",
    "G1.graph[A][C] = 1\n",
    "G1.graph[A][D] = 1\n",
    "G1.graph[B][A] = 1; G1.graph[B][C] = 1\n",
    "G1.graph[C][A] = 1; G1.graph[C][B] = 1; G1.graph[C][D] = 1\n",
    "G1.graph[D][A] = 1; G1.graph[D][C] = 1\n",
    "\n",
    "for row in range(4) :\n",
    "    for col in range(4):\n",
    "        print(G1.graph[row][col], end= '  ')\n",
    "    print()"
   ]
  }
 ],
 "metadata": {
  "kernelspec": {
   "display_name": "base",
   "language": "python",
   "name": "python3"
  },
  "language_info": {
   "name": "python",
   "version": "3.9.13"
  },
  "orig_nbformat": 4,
  "vscode": {
   "interpreter": {
    "hash": "e35aa464e4f518e3bd80b827b0a7a82608bf016d4c837622545242b48b9bfee6"
   }
  }
 },
 "nbformat": 4,
 "nbformat_minor": 2
}
