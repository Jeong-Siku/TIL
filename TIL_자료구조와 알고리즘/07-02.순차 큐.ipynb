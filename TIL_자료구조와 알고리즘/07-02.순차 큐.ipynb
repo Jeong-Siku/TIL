{
 "cells": [
  {
   "attachments": {},
   "cell_type": "markdown",
   "metadata": {},
   "source": [
    "# 순차 큐 (= 일반 큐)\n",
    "- 데이터 삽입 : 큐가 꽉 찼는지 확인 필요. 오버플로우\n",
    "- 데이터 추출 : 큐가 비었는지 확인 필요. 언더플로우\n",
    "- 데이터 살펴보기 : 언더플로우 조심\n",
    "- 오버헤드 발생\n",
    "- rear와 front는 인덱스값, 기본값은 -1"
   ]
  },
  {
   "cell_type": "code",
   "execution_count": 6,
   "metadata": {},
   "outputs": [
    {
     "name": "stdout",
     "output_type": "stream",
     "text": [
      "출구<-- ['화사', '솔라', None, None, None] <--입구\n",
      "**식사 손님 : 화사\n",
      "곧 들어가요. 준비하세요--> 솔라\n",
      "**식사 손님 : 솔라\n",
      "출구<-- [None, None, None, None, None] <--입구\n",
      "큐 텅\n",
      "**식사 손님 : None\n"
     ]
    }
   ],
   "source": [
    "## 함수\n",
    "def isQueueFull():\n",
    "    global SIZE, queue, front, rear\n",
    "    if (rear >= SIZE-1) : # rear는 마지막으로 삽입된 데이터의 위치, 인덱스\n",
    "        return True\n",
    "    else:\n",
    "        return False\n",
    "\n",
    "def enQueue(data) :\n",
    "    global SIZE, queue, front, rear\n",
    "    if (isQueueFull()) :\n",
    "        print('큐 꽉')\n",
    "        return\n",
    "    rear +=1\n",
    "    queue[rear] = data\n",
    "\n",
    "def isQueueEmpty():\n",
    "    global SIZE, queue, front, rear\n",
    "    if (front == rear): # 프론트는 마지막으로 데이터가 추출된 위치\n",
    "        return True\n",
    "    else:\n",
    "        return False\n",
    "\n",
    "\n",
    "def deQueue() :\n",
    "    global SIZE, queue, front, rear\n",
    "    if (isQueueEmpty()):\n",
    "        print('큐 텅')\n",
    "        return\n",
    "    front +=1\n",
    "    data = queue[front]\n",
    "    queue[front] = None\n",
    "    return data\n",
    "\n",
    "def peek():\n",
    "    global SIZE, queue, front, rear\n",
    "    if (isQueueEmpty()):\n",
    "        print('큐 텅')\n",
    "        return\n",
    "    return queue[front+1]\n",
    "\n",
    "## 변수\n",
    "SIZE = 5\n",
    "queue = [None for _ in range(SIZE)]\n",
    "front = rear = -1\n",
    "\n",
    "## 메인\n",
    "\n",
    "enQueue('화사')\n",
    "enQueue('솔라')\n",
    "# enQueue('문별')\n",
    "# enQueue('휘인')\n",
    "# enQueue('선미')\n",
    "# print('출구<--',queue,'<--입구')\n",
    "# enQueue('재남')\n",
    "print('출구<--',queue,'<--입구')\n",
    "\n",
    "retData = deQueue()\n",
    "print('**식사 손님 :', retData)\n",
    "\n",
    "print('곧 들어가요. 준비하세요-->', peek())\n",
    "\n",
    "retData = deQueue()\n",
    "print('**식사 손님 :', retData)\n",
    "\n",
    "print('출구<--',queue,'<--입구')\n",
    "\n",
    "retData = deQueue()\n",
    "print('**식사 손님 :', retData)"
   ]
  },
  {
   "cell_type": "code",
   "execution_count": null,
   "metadata": {},
   "outputs": [],
   "source": []
  }
 ],
 "metadata": {
  "kernelspec": {
   "display_name": "base",
   "language": "python",
   "name": "python3"
  },
  "language_info": {
   "codemirror_mode": {
    "name": "ipython",
    "version": 3
   },
   "file_extension": ".py",
   "mimetype": "text/x-python",
   "name": "python",
   "nbconvert_exporter": "python",
   "pygments_lexer": "ipython3",
   "version": "3.9.13"
  },
  "orig_nbformat": 4,
  "vscode": {
   "interpreter": {
    "hash": "e35aa464e4f518e3bd80b827b0a7a82608bf016d4c837622545242b48b9bfee6"
   }
  }
 },
 "nbformat": 4,
 "nbformat_minor": 2
}
