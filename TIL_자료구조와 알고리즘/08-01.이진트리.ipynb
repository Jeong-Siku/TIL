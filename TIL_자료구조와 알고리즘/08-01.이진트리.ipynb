{
 "cells": [
  {
   "attachments": {},
   "cell_type": "markdown",
   "metadata": {},
   "source": [
    "# 트리구조 : 이진트리\n",
    "- 특징 : root가 한 개부터 시작\n",
    "- 구성 : 루트, 노드 , 에지\n",
    "- 부모노드, 자식노드, 부모-자식관계, \n",
    "- 차수 : 자식의 개수 , 리프노드 : 자식이 없는 노드\n",
    "- 이진트리 : 모든 노드의 자식이 최대 2개인 트리(자식이 2개이하로 구성)\n",
    "  - 서브트리를 왼쪽과 오른쪽으로 명확히 나눌 수 있다.\n",
    "  - 번호 부여는 위치에 따라 상수로 부여\n",
    "  - 종류 : 포화이진트리, 완전이진트리: 구성은 빠졌으나 순서가 완전, 일반 이진트리, 편향이진트리\n",
    "- 이진트리의 노드 구조 : 트리노드의 구현을 위한 이중 연결리스트"
   ]
  },
  {
   "cell_type": "code",
   "execution_count": 3,
   "metadata": {},
   "outputs": [
    {
     "name": "stdout",
     "output_type": "stream",
     "text": [
      "화사\n",
      "솔라 문별\n",
      "휘인 쯔위 선미\n"
     ]
    }
   ],
   "source": [
    "## 함수\n",
    "class TreeNode():\n",
    "    def __init__(self):\n",
    "        self.left = None\n",
    "        self.data = None\n",
    "        self.right = None\n",
    "\n",
    "## 전역\n",
    "\n",
    "\n",
    "## 메인\n",
    "node1 = TreeNode()\n",
    "node1.data = '화사'\n",
    "\n",
    "node2 = TreeNode()\n",
    "node2.data = '솔라'\n",
    "node1.left = node2\n",
    "\n",
    "node3 = TreeNode()\n",
    "node3.data = '문별'\n",
    "node1.right = node3\n",
    "\n",
    "node4 = TreeNode()\n",
    "node4.data = '휘인'\n",
    "node2.left = node4\n",
    "\n",
    "node5 = TreeNode()\n",
    "node5.data = '쯔위'\n",
    "node2.right = node5\n",
    "\n",
    "node6 = TreeNode()\n",
    "node6.data = '선미'\n",
    "node3.left = node6\n",
    "\n",
    "# print(node1.data)\n",
    "# print(node2.data, node3.data)\n",
    "# print(node4.data,node5.data,node6.data)\n",
    "\n",
    "root = node1 # 이진트리를 만드는 이유 : 루트를 통해 데이터를 가져오기 위해서\n",
    "\n",
    "print(root.data)\n",
    "print(root.left.data, root.right.data)\n",
    "print(root.left.left.data,root.left.right.data,root.right.left.data)\n"
   ]
  },
  {
   "cell_type": "code",
   "execution_count": null,
   "metadata": {},
   "outputs": [],
   "source": []
  }
 ],
 "metadata": {
  "kernelspec": {
   "display_name": "base",
   "language": "python",
   "name": "python3"
  },
  "language_info": {
   "codemirror_mode": {
    "name": "ipython",
    "version": 3
   },
   "file_extension": ".py",
   "mimetype": "text/x-python",
   "name": "python",
   "nbconvert_exporter": "python",
   "pygments_lexer": "ipython3",
   "version": "3.9.13"
  },
  "orig_nbformat": 4,
  "vscode": {
   "interpreter": {
    "hash": "e35aa464e4f518e3bd80b827b0a7a82608bf016d4c837622545242b48b9bfee6"
   }
  }
 },
 "nbformat": 4,
 "nbformat_minor": 2
}
