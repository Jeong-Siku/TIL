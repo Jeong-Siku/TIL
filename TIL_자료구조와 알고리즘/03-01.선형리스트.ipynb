{
 "cells": [
  {
   "attachments": {},
   "cell_type": "markdown",
   "metadata": {},
   "source": [
    "# 선형리스트\n",
    "- 데이터 사이에 빈틈이 없다.\n",
    "  - 삽입, 삭제 시에 공간을 만들거나 채워야한다."
   ]
  },
  {
   "cell_type": "code",
   "execution_count": 15,
   "metadata": {},
   "outputs": [
    {
     "name": "stdout",
     "output_type": "stream",
     "text": [
      "['다현', '정연', '쯔위', '사나', '지효']\n",
      "['다현', '정연', '쯔위', '사나', '지효', '모모']\n",
      "['다현', '정연', '쯔위', '미나', '사나', '지효', '모모']\n",
      "['다현', '정연', '쯔위', '미나', '지효', '모모']\n"
     ]
    }
   ],
   "source": [
    "## 함수 선언부\n",
    "\n",
    "## 전역 변수부\n",
    "katok = ['다현','정연','쯔위','사나','지효']\n",
    "\n",
    "## 메인 코드부\n",
    "print(katok)\n",
    "##데이터 추가(모모가 카톡 1회)\n",
    "#1단계 : 빈칸 확보\n",
    "katok.append(None)\n",
    "katok[5] = '모모'\n",
    "print(katok)\n",
    "\n",
    "## 데이터 삽입(미나가 카톡 연속 40회)\n",
    "# 1단계 : 빈칸 확보\n",
    "katok.append(None)\n",
    "# 2단계 : 한칸식 뒤로 이동(3등자리까지)\n",
    "katok[6] = katok[5]\n",
    "katok[5] = None\n",
    "katok[5] = katok[4]\n",
    "katok[4] = None\n",
    "katok[4] = katok[3]\n",
    "katok[3] = None\n",
    "# 3단계 ; 미나를 빈 자리에 넣기\n",
    "katok[3] = '미나'\n",
    "print(katok)\n",
    "\n",
    "## 데이터삭제 (사나가 카톡 차단)\n",
    "# 1단계 : 지우기\n",
    "katok[4] = None\n",
    "# 2단계 : 한칸씩 앞으로 이동 (마지막 친구까지)\n",
    "katok[4] = katok[5]\n",
    "katok[5] = None\n",
    "katok[5] = katok[6]\n",
    "katok[6] = None\n",
    "# 3단계 : 마지막 빈칸 제거\n",
    "del(katok[6])\n",
    "print(katok)"
   ]
  },
  {
   "cell_type": "code",
   "execution_count": 14,
   "metadata": {},
   "outputs": [
    {
     "data": {
      "text/plain": [
       "[None, '정연', '쯔위', '미나', '지효', '모모']"
      ]
     },
     "execution_count": 14,
     "metadata": {},
     "output_type": "execute_result"
    }
   ],
   "source": []
  },
  {
   "cell_type": "code",
   "execution_count": null,
   "metadata": {},
   "outputs": [],
   "source": []
  }
 ],
 "metadata": {
  "kernelspec": {
   "display_name": "base",
   "language": "python",
   "name": "python3"
  },
  "language_info": {
   "codemirror_mode": {
    "name": "ipython",
    "version": 3
   },
   "file_extension": ".py",
   "mimetype": "text/x-python",
   "name": "python",
   "nbconvert_exporter": "python",
   "pygments_lexer": "ipython3",
   "version": "3.9.13"
  },
  "orig_nbformat": 4,
  "vscode": {
   "interpreter": {
    "hash": "e35aa464e4f518e3bd80b827b0a7a82608bf016d4c837622545242b48b9bfee6"
   }
  }
 },
 "nbformat": 4,
 "nbformat_minor": 2
}
