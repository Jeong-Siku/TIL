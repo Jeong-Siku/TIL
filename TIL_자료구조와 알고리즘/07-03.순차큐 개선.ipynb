{
 "cells": [
  {
   "attachments": {},
   "cell_type": "markdown",
   "metadata": {},
   "source": [
    "# 순차 큐 (= 일반 큐)\n",
    "- 성능 개선\n",
    "- deQueue를 해서 앞의 공간은 있으나 큐가 다 찼을 때 삽입은?\n",
    "  - Case1 : rear 뒤에 여유가 있는 상태\n",
    "  - Case2 : 큐가 꽉 찬 상태. front = -1\n",
    "  - Case3 : rear는 끝이지만 앞쪽에 여유가 있는 경우. front가 -1에서 벗어나있음\n",
    "  - isQueueFull 수정"
   ]
  },
  {
   "cell_type": "code",
   "execution_count": 1,
   "metadata": {},
   "outputs": [
    {
     "name": "stdout",
     "output_type": "stream",
     "text": [
      "출구<-- ['화사', '솔라', '문별', '휘인', '선미'] <--입구\n",
      "**식사 손님 : 화사\n",
      "**식사 손님 : 솔라\n",
      "출구<-- [None, None, '문별', '휘인', '선미'] <--입구\n",
      "출구<-- [None, '문별', '휘인', '선미', '재남'] <--입구\n",
      "출구<-- ['문별', '휘인', '선미', '재남', '뷔'] <--입구\n",
      "큐 꽉\n",
      "출구<-- ['문별', '휘인', '선미', '재남', '뷔'] <--입구\n"
     ]
    }
   ],
   "source": [
    "## 함수\n",
    "def isQueueFull():\n",
    "    global SIZE, queue, front, rear\n",
    "    if (rear != SIZE-1):\n",
    "        return False\n",
    "    elif (rear == SIZE-1 and front == -1):\n",
    "        return True\n",
    "    elif (rear == SIZE-1 and front != -1): # else:\n",
    "        # 한칸씩만 땡기기\n",
    "        for i in range(front+1,SIZE,1):\n",
    "            queue[i-1] = queue[i]\n",
    "            queue[i] = None\n",
    "        front -= 1\n",
    "        rear -= 1\n",
    "        return False\n",
    "\n",
    "def enQueue(data) :\n",
    "    global SIZE, queue, front, rear\n",
    "    if (isQueueFull()) :\n",
    "        print('큐 꽉')\n",
    "        return\n",
    "    rear +=1\n",
    "    queue[rear] = data\n",
    "\n",
    "def isQueueEmpty():\n",
    "    global SIZE, queue, front, rear\n",
    "    if (front == rear):\n",
    "        return True\n",
    "    else:\n",
    "        return False\n",
    "\n",
    "\n",
    "def deQueue() :\n",
    "    global SIZE, queue, front, rear\n",
    "    if (isQueueEmpty()):\n",
    "        print('큐 텅')\n",
    "        return\n",
    "    front +=1\n",
    "    data = queue[front]\n",
    "    queue[front] = None\n",
    "    return data\n",
    "\n",
    "def peek():\n",
    "    global SIZE, queue, front, rear\n",
    "    if (isQueueEmpty()):\n",
    "        print('큐 텅')\n",
    "        return\n",
    "    return queue[front+1]\n",
    "\n",
    "## 변수\n",
    "SIZE = 5\n",
    "queue = [None for _ in range(SIZE)]\n",
    "front = rear = -1\n",
    "\n",
    "## 메인\n",
    "\n",
    "enQueue('화사')\n",
    "enQueue('솔라')\n",
    "enQueue('문별')\n",
    "enQueue('휘인')\n",
    "enQueue('선미')\n",
    "print('출구<--',queue,'<--입구')\n",
    "\n",
    "retData = deQueue()\n",
    "print('**식사 손님 :', retData)\n",
    "retData = deQueue()\n",
    "print('**식사 손님 :', retData)\n",
    "print('출구<--',queue,'<--입구')\n",
    "\n",
    "enQueue('재남')\n",
    "print('출구<--',queue,'<--입구')\n",
    "enQueue('뷔')\n",
    "print('출구<--',queue,'<--입구')\n",
    "enQueue('길동이')\n",
    "print('출구<--',queue,'<--입구')"
   ]
  },
  {
   "cell_type": "code",
   "execution_count": null,
   "metadata": {},
   "outputs": [],
   "source": []
  }
 ],
 "metadata": {
  "kernelspec": {
   "display_name": "base",
   "language": "python",
   "name": "python3"
  },
  "language_info": {
   "codemirror_mode": {
    "name": "ipython",
    "version": 3
   },
   "file_extension": ".py",
   "mimetype": "text/x-python",
   "name": "python",
   "nbconvert_exporter": "python",
   "pygments_lexer": "ipython3",
   "version": "3.9.13"
  },
  "orig_nbformat": 4,
  "vscode": {
   "interpreter": {
    "hash": "e35aa464e4f518e3bd80b827b0a7a82608bf016d4c837622545242b48b9bfee6"
   }
  }
 },
 "nbformat": 4,
 "nbformat_minor": 2
}
