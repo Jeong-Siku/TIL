{
 "cells": [
  {
   "attachments": {},
   "cell_type": "markdown",
   "metadata": {},
   "source": [
    "# 스택\n",
    "- 구멍이 막힌 통 모양\n",
    "- top의 시작점은 -1\n",
    "- push, pop, top"
   ]
  },
  {
   "cell_type": "code",
   "execution_count": 4,
   "metadata": {},
   "outputs": [
    {
     "name": "stdout",
     "output_type": "stream",
     "text": [
      "바닥: ['커피', '녹차', '꿀물', None, None]\n",
      "팝--> 꿀물\n",
      "팝--> 녹차\n",
      "팝--> 커피\n",
      "바닥: [None, None, None, None, None]\n"
     ]
    }
   ],
   "source": [
    "## 함수\n",
    "\n",
    "\n",
    "## 전역\n",
    "stack = [None, None, None, None, None]\n",
    "top= -1\n",
    "\n",
    "## 메인\n",
    "# Push()\n",
    "top += 1\n",
    "stack[top] = \"커피\"\n",
    "top += 1\n",
    "stack[top] = \"녹차\"\n",
    "top += 1\n",
    "stack[top] = \"꿀물\"\n",
    "print('바닥:', stack)\n",
    "\n",
    "# Pop()\n",
    "data = stack[top]\n",
    "stack[top] = None\n",
    "top -= 1\n",
    "print('팝-->', data)\n",
    "\n",
    "data = stack[top]\n",
    "stack[top] = None\n",
    "top -= 1\n",
    "print('팝-->', data)\n",
    "\n",
    "data = stack[top]\n",
    "stack[top] = None\n",
    "top -= 1\n",
    "print('팝-->', data)\n",
    "print('바닥:', stack)"
   ]
  },
  {
   "cell_type": "code",
   "execution_count": null,
   "metadata": {},
   "outputs": [],
   "source": []
  }
 ],
 "metadata": {
  "kernelspec": {
   "display_name": "base",
   "language": "python",
   "name": "python3"
  },
  "language_info": {
   "codemirror_mode": {
    "name": "ipython",
    "version": 3
   },
   "file_extension": ".py",
   "mimetype": "text/x-python",
   "name": "python",
   "nbconvert_exporter": "python",
   "pygments_lexer": "ipython3",
   "version": "3.9.13"
  },
  "orig_nbformat": 4,
  "vscode": {
   "interpreter": {
    "hash": "e35aa464e4f518e3bd80b827b0a7a82608bf016d4c837622545242b48b9bfee6"
   }
  }
 },
 "nbformat": 4,
 "nbformat_minor": 2
}
