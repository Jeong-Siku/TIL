{
 "cells": [
  {
   "attachments": {},
   "cell_type": "markdown",
   "metadata": {},
   "source": [
    "# 스택\n",
    "- push 할때 메모리가 차있을때 데이터를 넣으면 오류가 나타나기 때문에 데이터가 차있는지 확인하는 과정이 필요하다.\n",
    "- pop을 할때 top의 -1은 오류를 불러일으킬 수 있기 때문에 메모리에 데이타가 존재하는지 확인하는 과정이 필요하다\n",
    "  - 확인은 top을 통해 진행"
   ]
  },
  {
   "cell_type": "code",
   "execution_count": 5,
   "metadata": {},
   "outputs": [
    {
     "name": "stdout",
     "output_type": "stream",
     "text": [
      "바닥: ['커피', '녹차', None, None, None]\n",
      "팝--> 녹차\n",
      "팝한 것 --> None\n",
      "다음 후보 --> 커피\n",
      "팝--> 커피\n",
      "팝한 것 --> None\n",
      "스택 텅\n",
      "팝한 것 --> None\n",
      "바닥: [None, None, None, None, None]\n"
     ]
    }
   ],
   "source": [
    "## 함수\n",
    "def isStackFull():\n",
    "    global SIZE, stack, top\n",
    "    if (top >= SIZE-1):\n",
    "        return True\n",
    "    else:\n",
    "        return False\n",
    "\n",
    "def push(data):\n",
    "    global SIZE, stack, top\n",
    "    if (isStackFull()==True) :\n",
    "        print('스택 꽉!')\n",
    "        return\n",
    "    top += 1\n",
    "    stack[top] = data\n",
    "\n",
    "def isStackEmpty() :\n",
    "    global SIZE, stack, top\n",
    "    if (top <= -1) :\n",
    "        return True\n",
    "    else:\n",
    "        return False\n",
    "\n",
    "def pop():\n",
    "    global SIZE, stack, top\n",
    "    if (isStackEmpty()) :\n",
    "        print('스택 텅')\n",
    "        return\n",
    "    data = stack[top]\n",
    "    stack[top] = None\n",
    "    top -= 1\n",
    "    print('팝-->', data)\n",
    "    \n",
    "def peek() :\n",
    "    if (isStackEmpty()) :\n",
    "        print('스택 텅')\n",
    "        return\n",
    "    return stack[top]\n",
    "\n",
    "\n",
    "## 전역\n",
    "SIZE = 5\n",
    "stack = [None for _ in range(SIZE)]\n",
    "top= -1\n",
    "\n",
    "## 메인\n",
    "\n",
    "push('커피')\n",
    "push('녹차')\n",
    "# push('꿀물')\n",
    "# push('콜라')\n",
    "# push('환타')\n",
    "# print('바닥:', stack)\n",
    "\n",
    "# push('게토레이')\n",
    "print('바닥:', stack)\n",
    "\n",
    "retData = pop()\n",
    "print('팝한 것 -->', retData)\n",
    "\n",
    "print('다음 후보 -->', peek())\n",
    "\n",
    "retData = pop()\n",
    "print('팝한 것 -->', retData)\n",
    "retData = pop()\n",
    "print('팝한 것 -->', retData)\n",
    "print('바닥:', stack)"
   ]
  },
  {
   "attachments": {},
   "cell_type": "markdown",
   "metadata": {},
   "source": [
    "# 미니특강2 - 실무 알고리즘 문제 풀기\n",
    "- 배경\n",
    "  - 구글 : 직원에게 알고리즘 시험\n",
    "  - 우리나라 : 삼성, LG, KT, SK ...\n",
    "  - "
   ]
  },
  {
   "cell_type": "code",
   "execution_count": null,
   "metadata": {},
   "outputs": [],
   "source": []
  }
 ],
 "metadata": {
  "kernelspec": {
   "display_name": "base",
   "language": "python",
   "name": "python3"
  },
  "language_info": {
   "codemirror_mode": {
    "name": "ipython",
    "version": 3
   },
   "file_extension": ".py",
   "mimetype": "text/x-python",
   "name": "python",
   "nbconvert_exporter": "python",
   "pygments_lexer": "ipython3",
   "version": "3.9.13"
  },
  "orig_nbformat": 4,
  "vscode": {
   "interpreter": {
    "hash": "e35aa464e4f518e3bd80b827b0a7a82608bf016d4c837622545242b48b9bfee6"
   }
  }
 },
 "nbformat": 4,
 "nbformat_minor": 2
}
