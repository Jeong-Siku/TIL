{
 "cells": [
  {
   "attachments": {},
   "cell_type": "markdown",
   "metadata": {},
   "source": [
    "# 원형큐\n",
    "- 큐의 응용 : 순차큐를 개선, 데이터가 많을 시 순차큐 대신 사용\n",
    "- 순차큐의 문제인 오버헤드의 발생을 개선함\n",
    "- rear+1과 front가 같은 경우에 원형큐가 꽉찬것으로 이해. 데이터가 많을 시 한칸으로는 용량소비가 크다고 할 수 없음\n",
    "- rear=front가 꽉찬 것으로 인식할 시 빈 것과 동일한 인식으로 오류가 난다.\n",
    "- %SIZE를 통해 원형 모양을 구현"
   ]
  },
  {
   "cell_type": "code",
   "execution_count": null,
   "metadata": {},
   "outputs": [],
   "source": [
    "## 함수\n",
    "def isQueueFull():\n",
    "    global SIZE, queue, front, rear\n",
    "    if ((rear+1)%SIZE == front) : # isQueueEmpty와 충돌 방지 , %를 통해 원형을 구현함\n",
    "        return True\n",
    "    \n",
    "\n",
    "\n",
    "def enQueue(data) :\n",
    "    global SIZE, queue, front, rear\n",
    "    if (isQueueFull()) :\n",
    "        print('큐 꽉')\n",
    "        return\n",
    "    rear = (rear+1)%SIZE\n",
    "    queue[rear] = data\n",
    "\n",
    "def isQueueEmpty():\n",
    "    global SIZE, queue, front, rear\n",
    "    if (front == rear):\n",
    "        return True\n",
    "    else:\n",
    "        return False\n",
    "\n",
    "\n",
    "def deQueue() :\n",
    "    global SIZE, queue, front, rear\n",
    "    if (isQueueEmpty()):\n",
    "        print('큐 텅')\n",
    "        return\n",
    "    front = (front+1)%SIZE\n",
    "    data = queue[front]\n",
    "    queue[front] = None\n",
    "    return data\n",
    "\n",
    "def peek():\n",
    "    global SIZE, queue, front, rear\n",
    "    if (isQueueEmpty()):\n",
    "        print('큐 텅')\n",
    "        return\n",
    "    return queue[(front+1)%SIZE]\n",
    "\n",
    "## 변수\n",
    "SIZE = 5\n",
    "queue = [None for _ in range(SIZE)]\n",
    "front = rear = -1\n",
    "\n",
    "## 메인\n",
    "\n",
    "enQueue('화사')\n",
    "enQueue('솔라')\n",
    "enQueue('문별')\n",
    "enQueue('휘인')\n",
    "enQueue('선미')\n",
    "print('출구<--',queue,'<--입구')\n",
    "\n",
    "retData = deQueue()\n",
    "print('**식사 손님 :', retData)\n",
    "retData = deQueue()\n",
    "print('**식사 손님 :', retData)\n",
    "print('출구<--',queue,'<--입구')\n",
    "\n",
    "enQueue('재남')\n",
    "print('출구<--',queue,'<--입구')\n",
    "enQueue('뷔')\n",
    "print('출구<--',queue,'<--입구')\n",
    "enQueue('길동이')\n",
    "print('출구<--',queue,'<--입구')"
   ]
  }
 ],
 "metadata": {
  "kernelspec": {
   "display_name": "base",
   "language": "python",
   "name": "python3"
  },
  "language_info": {
   "name": "python",
   "version": "3.9.13"
  },
  "orig_nbformat": 4,
  "vscode": {
   "interpreter": {
    "hash": "e35aa464e4f518e3bd80b827b0a7a82608bf016d4c837622545242b48b9bfee6"
   }
  }
 },
 "nbformat": 4,
 "nbformat_minor": 2
}
