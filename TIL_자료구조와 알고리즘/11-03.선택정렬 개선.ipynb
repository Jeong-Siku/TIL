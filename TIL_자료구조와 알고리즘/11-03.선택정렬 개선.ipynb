{
 "cells": [
  {
   "attachments": {},
   "cell_type": "markdown",
   "metadata": {},
   "source": [
    "# ★선택정렬 개선\n",
    "- 사이클 이용"
   ]
  },
  {
   "cell_type": "code",
   "execution_count": null,
   "metadata": {},
   "outputs": [],
   "source": [
    "## 함수\n",
    "import random\n",
    "def selectSort(ary):\n",
    "    n = len(ary)\n",
    "    for i in range(0,n-1): # 사이클 3번\n",
    "        minIdx = i\n",
    "        for k in range(i+1, n):\n",
    "            if ary[minIdx] > ary[k]:\n",
    "                minIdx = k\n",
    "        ary[i], ary[minIdx] = ary[minIdx], ary[i]\n",
    "\n",
    "    return ary       \n",
    "\n",
    "## 변수\n",
    "dataAry = [random.randint(30,200) for _ in range(10)]\n",
    "\n",
    "## 메인\n",
    "print('정렬 전 -->', dataAry)\n",
    "dataAry = selectSort(dataAry)\n",
    "print('졍렬 후 -->', dataAry)"
   ]
  }
 ],
 "metadata": {
  "kernelspec": {
   "display_name": "base",
   "language": "python",
   "name": "python3"
  },
  "language_info": {
   "name": "python",
   "version": "3.9.13"
  },
  "orig_nbformat": 4,
  "vscode": {
   "interpreter": {
    "hash": "e35aa464e4f518e3bd80b827b0a7a82608bf016d4c837622545242b48b9bfee6"
   }
  }
 },
 "nbformat": 4,
 "nbformat_minor": 2
}
