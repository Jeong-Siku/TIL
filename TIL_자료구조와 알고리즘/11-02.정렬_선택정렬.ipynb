{
 "cells": [
  {
   "attachments": {},
   "cell_type": "markdown",
   "metadata": {},
   "source": [
    "# 선택정렬"
   ]
  },
  {
   "cell_type": "code",
   "execution_count": 3,
   "metadata": {},
   "outputs": [
    {
     "name": "stdout",
     "output_type": "stream",
     "text": [
      "정렬 전 --> [138, 170, 41, 68, 169, 118, 122, 72, 46, 155]\n",
      "졍렬 후 --> [41, 46, 68, 72, 118, 122, 138, 155, 169, 170]\n"
     ]
    }
   ],
   "source": [
    "## 함수\n",
    "import random\n",
    "def findMinIndex(ary):\n",
    "    minIdx = 0\n",
    "    for i in range(1,len(ary)):\n",
    "        if ary[minIdx] > ary[i] :\n",
    "            minIdx = i\n",
    "    return minIdx\n",
    "\n",
    "## 변수\n",
    "before = [random.randint(30,200) for _ in range(10)]\n",
    "after = []\n",
    "\n",
    "## 메인\n",
    "print('정렬 전 -->', before)\n",
    "for _ in range(len(before)):\n",
    "    minPos = findMinIndex(before)\n",
    "    after.append(before[minPos])\n",
    "    del before[minPos]\n",
    "\n",
    "print('졍렬 후 -->', after)"
   ]
  },
  {
   "cell_type": "code",
   "execution_count": null,
   "metadata": {},
   "outputs": [],
   "source": []
  }
 ],
 "metadata": {
  "kernelspec": {
   "display_name": "base",
   "language": "python",
   "name": "python3"
  },
  "language_info": {
   "codemirror_mode": {
    "name": "ipython",
    "version": 3
   },
   "file_extension": ".py",
   "mimetype": "text/x-python",
   "name": "python",
   "nbconvert_exporter": "python",
   "pygments_lexer": "ipython3",
   "version": "3.9.13"
  },
  "orig_nbformat": 4,
  "vscode": {
   "interpreter": {
    "hash": "e35aa464e4f518e3bd80b827b0a7a82608bf016d4c837622545242b48b9bfee6"
   }
  }
 },
 "nbformat": 4,
 "nbformat_minor": 2
}
