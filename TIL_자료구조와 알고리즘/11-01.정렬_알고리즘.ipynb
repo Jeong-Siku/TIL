{
 "cells": [
  {
   "attachments": {},
   "cell_type": "markdown",
   "metadata": {},
   "source": [
    "# 알고리즘 - 정렬\n",
    "- 종류 : 결과 형태만 다를 뿐이지 같은 방식으로 처리됨\n",
    "  - 선택 정렬 : 여러 데이터 중에서 가장 작은 값을 뽑는 작동을 반복하여 값을 정렬\n",
    "    - 최솟값 찾기가 핵심\n",
    "  - 버블 정렬\n",
    "  - 퀵 정렬"
   ]
  },
  {
   "cell_type": "code",
   "execution_count": 4,
   "metadata": {},
   "outputs": [
    {
     "name": "stdout",
     "output_type": "stream",
     "text": [
      "[53, 92, 68, 148, 162, 42, 77, 41, 135, 183, 186, 61, 78, 141, 67, 102, 179, 33, 111, 181]\n",
      "최솟값--> 33\n"
     ]
    }
   ],
   "source": [
    "## 함수\n",
    "import random\n",
    "def findMinIndex(ary): # 인덱스 반환\n",
    "    minIdx = 0\n",
    "    for i in range(1,len(ary)):\n",
    "        if ary[minIdx] > ary[i] :\n",
    "            minIdx = i\n",
    "    return minIdx\n",
    "\n",
    "\n",
    "\n",
    "\n",
    "## 전역\n",
    "testAry = [random.randint(30,200) for _ in range(20)]\n",
    "\n",
    "\n",
    "## 메인\n",
    "print( testAry)\n",
    "minPos = findMinIndex(testAry)\n",
    "print('최솟값-->', testAry[minPos])"
   ]
  },
  {
   "cell_type": "code",
   "execution_count": null,
   "metadata": {},
   "outputs": [],
   "source": []
  }
 ],
 "metadata": {
  "kernelspec": {
   "display_name": "base",
   "language": "python",
   "name": "python3"
  },
  "language_info": {
   "codemirror_mode": {
    "name": "ipython",
    "version": 3
   },
   "file_extension": ".py",
   "mimetype": "text/x-python",
   "name": "python",
   "nbconvert_exporter": "python",
   "pygments_lexer": "ipython3",
   "version": "3.9.13"
  },
  "orig_nbformat": 4,
  "vscode": {
   "interpreter": {
    "hash": "e35aa464e4f518e3bd80b827b0a7a82608bf016d4c837622545242b48b9bfee6"
   }
  }
 },
 "nbformat": 4,
 "nbformat_minor": 2
}
