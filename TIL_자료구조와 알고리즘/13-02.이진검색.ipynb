{
 "cells": [
  {
   "attachments": {},
   "cell_type": "markdown",
   "metadata": {},
   "source": [
    "# 이진검색\n",
    "- 정렬되어있어야 사용 가능\n",
    "- start, end, mid, // 사용\n",
    "- Case3를 3개로 나눠서 찾는다.\n",
    "  - 중간지점 데이터와 찾는 데이터의 크기를 비교하여 start와 end의 위치를 바꾼다.\n",
    "  - pos의 기본값 -1"
   ]
  },
  {
   "cell_type": "code",
   "execution_count": 3,
   "metadata": {},
   "outputs": [
    {
     "name": "stdout",
     "output_type": "stream",
     "text": [
      "배열 --> [33, 52, 53, 59, 62, 107, 114, 116, 122, 124, 124, 127, 128, 136, 139, 146, 168, 173, 175, 186]\n",
      "139 는 14 번째 있어요. 2 번 실행\n"
     ]
    }
   ],
   "source": [
    "## 함수\n",
    "import random\n",
    "def binSearch(ary, fData):\n",
    "    global count\n",
    "    pos = -1\n",
    "    start = 0\n",
    "    end = len(ary)-1\n",
    "    while (start<=end):\n",
    "        count+=1\n",
    "        mid = (start+end)//2\n",
    "        if (ary[mid] == fData):\n",
    "            pos = mid\n",
    "            break\n",
    "        elif (ary[mid]<fData):\n",
    "            start = mid+1\n",
    "        else:\n",
    "            end = mid -1 \n",
    "\n",
    "    return pos\n",
    "\n",
    "\n",
    "## 전역\n",
    "count = 0\n",
    "dataAry = [random.randint(30,200) for _ in range(20)]\n",
    "findData = random.choice(dataAry)\n",
    "dataAry.sort()\n",
    "\n",
    "\n",
    "## 메인\n",
    "print('배열 -->', dataAry)\n",
    "position = binSearch(dataAry, findData)\n",
    "if (position == -1): # 관례적으로 없는 값은 -1로 표현\n",
    "    print(findData, '는 없어요')\n",
    "else:\n",
    "    print(findData, '는',position,'번째 있어요.', count,'번 실행')\n"
   ]
  },
  {
   "cell_type": "code",
   "execution_count": null,
   "metadata": {},
   "outputs": [],
   "source": []
  }
 ],
 "metadata": {
  "kernelspec": {
   "display_name": "base",
   "language": "python",
   "name": "python3"
  },
  "language_info": {
   "codemirror_mode": {
    "name": "ipython",
    "version": 3
   },
   "file_extension": ".py",
   "mimetype": "text/x-python",
   "name": "python",
   "nbconvert_exporter": "python",
   "pygments_lexer": "ipython3",
   "version": "3.9.13"
  },
  "orig_nbformat": 4,
  "vscode": {
   "interpreter": {
    "hash": "e35aa464e4f518e3bd80b827b0a7a82608bf016d4c837622545242b48b9bfee6"
   }
  }
 },
 "nbformat": 4,
 "nbformat_minor": 2
}
