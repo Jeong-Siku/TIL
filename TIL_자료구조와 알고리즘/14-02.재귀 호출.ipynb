{
 "cells": [
  {
   "attachments": {},
   "cell_type": "markdown",
   "metadata": {},
   "source": [
    "# 재귀 호출\n",
    "- 정방향으로 호출 뒤 역순으로 호출\n",
    "- 자신을 호출하는 위치와 출력의 위치에 따라 역순으로 호출하는 것이 정해진다.\n",
    "- 재귀호출이 종료되는 조건을 입력할 것"
   ]
  },
  {
   "cell_type": "code",
   "execution_count": 2,
   "metadata": {},
   "outputs": [
    {
     "name": "stdout",
     "output_type": "stream",
     "text": [
      "상자를 엽니다\n",
      "상자를 엽니다\n",
      "상자를 엽니다\n",
      "상자를 엽니다\n",
      "상자를 엽니다\n",
      "상자를 엽니다\n",
      "상자를 엽니다\n",
      "상자를 엽니다\n",
      "상자를 엽니다\n",
      "상자를 엽니다\n",
      "** 선물 넣기 **\n",
      "상자 닫습니다. ###\n",
      "상자 닫습니다. ###\n",
      "상자 닫습니다. ###\n",
      "상자 닫습니다. ###\n",
      "상자 닫습니다. ###\n",
      "상자 닫습니다. ###\n",
      "상자 닫습니다. ###\n",
      "상자 닫습니다. ###\n",
      "상자 닫습니다. ###\n"
     ]
    }
   ],
   "source": [
    "## 함수\n",
    "def openBox():\n",
    "    global count\n",
    "    print('상자를 엽니다')\n",
    "    count -= 1\n",
    "    if count == 0 :\n",
    "        print('** 선물 넣기 **')\n",
    "        return # \n",
    "    openBox()\n",
    "    print('상자 닫습니다. ###')\n",
    "\n",
    "\n",
    "## 메인\n",
    "count = 10\n",
    "openBox()"
   ]
  },
  {
   "cell_type": "code",
   "execution_count": 5,
   "metadata": {},
   "outputs": [
    {
     "name": "stdout",
     "output_type": "stream",
     "text": [
      "125\n",
      "25\n",
      "5\n",
      "1\n"
     ]
    }
   ],
   "source": [
    "def pow(data,num):\n",
    "    \n",
    "    if num==0:\n",
    "        return print(1)\n",
    "    print(data**num)\n",
    "    pow(data, num-1)\n",
    "\n",
    "pow(5,3)"
   ]
  }
 ],
 "metadata": {
  "kernelspec": {
   "display_name": "base",
   "language": "python",
   "name": "python3"
  },
  "language_info": {
   "codemirror_mode": {
    "name": "ipython",
    "version": 3
   },
   "file_extension": ".py",
   "mimetype": "text/x-python",
   "name": "python",
   "nbconvert_exporter": "python",
   "pygments_lexer": "ipython3",
   "version": "3.9.13"
  },
  "orig_nbformat": 4,
  "vscode": {
   "interpreter": {
    "hash": "e35aa464e4f518e3bd80b827b0a7a82608bf016d4c837622545242b48b9bfee6"
   }
  }
 },
 "nbformat": 4,
 "nbformat_minor": 2
}
