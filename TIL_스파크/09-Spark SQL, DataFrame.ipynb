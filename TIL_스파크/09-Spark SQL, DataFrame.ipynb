{
 "cells": [
  {
   "cell_type": "code",
   "execution_count": 1,
   "id": "697088a0",
   "metadata": {},
   "outputs": [
    {
     "name": "stderr",
     "output_type": "stream",
     "text": [
      "WARNING: An illegal reflective access operation has occurred\n",
      "WARNING: Illegal reflective access by org.apache.spark.unsafe.Platform (file:/home/ubuntu/spark-3.2.4/jars/spark-unsafe_2.12-3.2.4.jar) to constructor java.nio.DirectByteBuffer(long,int)\n",
      "WARNING: Please consider reporting this to the maintainers of org.apache.spark.unsafe.Platform\n",
      "WARNING: Use --illegal-access=warn to enable warnings of further illegal reflective access operations\n",
      "WARNING: All illegal access operations will be denied in a future release\n",
      "Using Spark's default log4j profile: org/apache/spark/log4j-defaults.properties\n",
      "Setting default log level to \"WARN\".\n",
      "To adjust logging level use sc.setLogLevel(newLevel). For SparkR, use setLogLevel(newLevel).\n",
      "23/06/07 02:02:55 WARN NativeCodeLoader: Unable to load native-hadoop library for your platform... using builtin-java classes where applicable\n"
     ]
    }
   ],
   "source": [
    "# RDD와 비교하기\n",
    "from pyspark import SparkConf, SparkContext\n",
    "conf = SparkConf().setMaster('local').setAppName('spark_sql_basic')\n",
    "sc = SparkContext(conf=conf)"
   ]
  },
  {
   "cell_type": "markdown",
   "id": "247e3bfb",
   "metadata": {},
   "source": [
    "# RDD만을 이용한 데이터 추출"
   ]
  },
  {
   "cell_type": "code",
   "execution_count": 2,
   "id": "ebcf2826",
   "metadata": {},
   "outputs": [],
   "source": [
    "movies_rdd = sc.parallelize([\n",
    "    (1, (\"어벤져스\", \"마블\")),\n",
    "    (2, (\"슈퍼맨\", \"DC\")),\n",
    "    (3, (\"배트맨\", \"DC\")),\n",
    "    (4, (\"겨울왕국\", \"디즈니\")),\n",
    "    (5, (\"아이언맨\", \"마블\"))\n",
    "])\n",
    "\n",
    "\n",
    "attendances_rdd = sc.parallelize([\n",
    "    (1, (13934592, \"KR\")),\n",
    "    (2, (2182227,\"KR\")),\n",
    "    (3, (4226242, \"KR\")),\n",
    "    (4, (10303058, \"KR\")),\n",
    "    (5, (4300365, \"KR\"))\n",
    "])"
   ]
  },
  {
   "cell_type": "markdown",
   "id": "d11a011e",
   "metadata": {},
   "source": [
    "마블 영화 중 관객 수가 500만 이상인 영화 가져오기\n",
    "1. Inner Join -> Filter By Movies -> Filter By Attendance\n",
    "2. Filter By Movies, Attendance -> Inner Join"
   ]
  },
  {
   "cell_type": "code",
   "execution_count": 3,
   "id": "773cae14",
   "metadata": {},
   "outputs": [
    {
     "name": "stderr",
     "output_type": "stream",
     "text": [
      "                                                                                \r"
     ]
    },
    {
     "data": {
      "text/plain": [
       "[(2, (('슈퍼맨', 'DC'), (2182227, 'KR'))),\n",
       " (4, (('겨울왕국', '디즈니'), (10303058, 'KR'))),\n",
       " (1, (('어벤져스', '마블'), (13934592, 'KR'))),\n",
       " (3, (('배트맨', 'DC'), (4226242, 'KR'))),\n",
       " (5, (('아이언맨', '마블'), (4300365, 'KR')))]"
      ]
     },
     "execution_count": 3,
     "metadata": {},
     "output_type": "execute_result"
    }
   ],
   "source": [
    "# Case 1. Join 먼저, filter 나중에\n",
    "movie_att = movies_rdd.join(attendances_rdd)\n",
    "movie_att.collect()"
   ]
  },
  {
   "cell_type": "code",
   "execution_count": 4,
   "id": "94d84d91",
   "metadata": {},
   "outputs": [
    {
     "data": {
      "text/plain": [
       "[(1, (('어벤져스', '마블'), (13934592, 'KR')))]"
      ]
     },
     "execution_count": 4,
     "metadata": {},
     "output_type": "execute_result"
    }
   ],
   "source": [
    "movie_att.filter(\n",
    "    lambda x: x[1][0][1] == '마블' and x[1][1][0] >= 5000000).collect()"
   ]
  },
  {
   "cell_type": "code",
   "execution_count": 5,
   "id": "18d2b784",
   "metadata": {},
   "outputs": [
    {
     "ename": "NameError",
     "evalue": "name 'movie' is not defined",
     "output_type": "error",
     "traceback": [
      "\u001b[0;31m---------------------------------------------------------------------------\u001b[0m",
      "\u001b[0;31mNameError\u001b[0m                                 Traceback (most recent call last)",
      "Cell \u001b[0;32mIn[5], line 2\u001b[0m\n\u001b[1;32m      1\u001b[0m \u001b[38;5;66;03m# Case 2. Filter 먼저, Join 나중에\u001b[39;00m\n\u001b[0;32m----> 2\u001b[0m \u001b[43mmovie\u001b[49m\n",
      "\u001b[0;31mNameError\u001b[0m: name 'movie' is not defined"
     ]
    }
   ],
   "source": [
    "# Case 2. Filter 먼저, Join 나중에\n",
    "movie"
   ]
  },
  {
   "cell_type": "code",
   "execution_count": 7,
   "id": "7a25c28f",
   "metadata": {},
   "outputs": [
    {
     "data": {
      "text/plain": [
       "[(1, (('어벤져스', '마블'), (13934592, 'KR')))]"
      ]
     },
     "execution_count": 7,
     "metadata": {},
     "output_type": "execute_result"
    }
   ],
   "source": [
    "filtered_mov=movies_rdd.filter(lambda x : x[1][1]==\"마블\")\n",
    "filtered_att=attendances_rdd.filter(lambda x : x[1][0] >= 5000000)\n",
    "\n",
    "filtered_mov.join(filtered_att).collect()"
   ]
  },
  {
   "cell_type": "markdown",
   "id": "889a6de3",
   "metadata": {},
   "source": [
    "# Spark SQL 사용하기"
   ]
  },
  {
   "cell_type": "markdown",
   "id": "f3705222",
   "metadata": {},
   "source": [
    "SparkSession 생성\n",
    "- SparkContext에 해당하며, 새로운 스파크 어플리케이션을 생성"
   ]
  },
  {
   "cell_type": "code",
   "execution_count": 8,
   "id": "0b78534f",
   "metadata": {},
   "outputs": [
    {
     "data": {
      "text/html": [
       "\n",
       "            <div>\n",
       "                <p><b>SparkSession - in-memory</b></p>\n",
       "                \n",
       "        <div>\n",
       "            <p><b>SparkContext</b></p>\n",
       "\n",
       "            <p><a href=\"http://ip-172-31-47-237.ap-northeast-3.compute.internal:4040\">Spark UI</a></p>\n",
       "\n",
       "            <dl>\n",
       "              <dt>Version</dt>\n",
       "                <dd><code>v3.2.4</code></dd>\n",
       "              <dt>Master</dt>\n",
       "                <dd><code>local</code></dd>\n",
       "              <dt>AppName</dt>\n",
       "                <dd><code>spark_sql_basic</code></dd>\n",
       "            </dl>\n",
       "        </div>\n",
       "        \n",
       "            </div>\n",
       "        "
      ],
      "text/plain": [
       "<pyspark.sql.session.SparkSession at 0x7f6c1c18e5e0>"
      ]
     },
     "execution_count": 8,
     "metadata": {},
     "output_type": "execute_result"
    }
   ],
   "source": [
    "from pyspark.sql import SparkSession\n",
    "spark = SparkSession.builder.master('local').appName(\"spark-sql\").getOrCreate() # spark 이름이 바뀌면 안된다.\n",
    "spark                                                              # 같은 이름이 있으면 가져오고 없으면 생성"
   ]
  },
  {
   "cell_type": "markdown",
   "id": "bd6fa3b0",
   "metadata": {},
   "source": [
    "RDD를 이용해서 데이터프레임 생성하기"
   ]
  },
  {
   "cell_type": "code",
   "execution_count": 9,
   "id": "b2d85dd9",
   "metadata": {},
   "outputs": [],
   "source": [
    "movies = [\n",
    "    (1, \"어벤져스\", \"마블\", 2012, 4, 26),\n",
    "    (2, \"슈퍼맨\", \"DC\", 2013, 6, 13),\n",
    "    (3, \"배트맨\", \"DC\", 2008, 8, 6),\n",
    "    (4, \"겨울왕국\", \"디즈니\", 2014, 1, 16),\n",
    "    (5, \"아이언맨\", \"마블\", 2008, 4, 30)\n",
    "]\n",
    "\n",
    "movie_schema = [\"id\", \"name\", \"company\", \"year\", \"month\", \"day\"] # 형태는 들억가지 않았음."
   ]
  },
  {
   "cell_type": "markdown",
   "id": "f78981a4",
   "metadata": {},
   "source": [
    "## 데이터프레임 생성\n",
    "- inferSchema 옵션을 활용하면 타입을 스파크가 자동으로 결정(기본)"
   ]
  },
  {
   "cell_type": "code",
   "execution_count": 10,
   "id": "d2f40e2d",
   "metadata": {},
   "outputs": [],
   "source": [
    "df= spark.createDataFrame(data=movies, schema = movie_schema)"
   ]
  },
  {
   "cell_type": "code",
   "execution_count": 11,
   "id": "ddd70220",
   "metadata": {},
   "outputs": [
    {
     "data": {
      "text/plain": [
       "[('id', 'bigint'),\n",
       " ('name', 'string'),\n",
       " ('company', 'string'),\n",
       " ('year', 'bigint'),\n",
       " ('month', 'bigint'),\n",
       " ('day', 'bigint')]"
      ]
     },
     "execution_count": 11,
     "metadata": {},
     "output_type": "execute_result"
    }
   ],
   "source": [
    "# 스키마 확인\n",
    "df.dtypes"
   ]
  },
  {
   "cell_type": "code",
   "execution_count": 12,
   "id": "462eac1c",
   "metadata": {},
   "outputs": [
    {
     "data": {
      "text/plain": [
       "DataFrame[id: bigint, name: string, company: string, year: bigint, month: bigint, day: bigint]"
      ]
     },
     "execution_count": 12,
     "metadata": {},
     "output_type": "execute_result"
    }
   ],
   "source": [
    "# dataframe은 곧 rdd\n",
    "df"
   ]
  },
  {
   "cell_type": "markdown",
   "id": "7bc1578f",
   "metadata": {},
   "source": [
    "전체 데이터프레임의 내용을 확인\n",
    "- show()"
   ]
  },
  {
   "cell_type": "code",
   "execution_count": 13,
   "id": "14a39a06",
   "metadata": {},
   "outputs": [
    {
     "name": "stdout",
     "output_type": "stream",
     "text": [
      "+---+--------+-------+----+-----+---+\n",
      "| id|    name|company|year|month|day|\n",
      "+---+--------+-------+----+-----+---+\n",
      "|  1|어벤져스|   마블|2012|    4| 26|\n",
      "|  2|  슈퍼맨|     DC|2013|    6| 13|\n",
      "|  3|  배트맨|     DC|2008|    8|  6|\n",
      "|  4|겨울왕국| 디즈니|2014|    1| 16|\n",
      "|  5|아이언맨|   마블|2008|    4| 30|\n",
      "+---+--------+-------+----+-----+---+\n",
      "\n"
     ]
    }
   ],
   "source": [
    "df.show()"
   ]
  },
  {
   "cell_type": "markdown",
   "id": "696f3734",
   "metadata": {},
   "source": [
    "## 데이터프레임에 SQL 사용하기\n",
    "- 데이터프레임을 temporary view에 등록해야 Spark SQL을 사용할 수 있다."
   ]
  },
  {
   "cell_type": "code",
   "execution_count": 14,
   "id": "cf66895d",
   "metadata": {},
   "outputs": [],
   "source": [
    "df.createOrReplaceTempView(\"movies\") # movies라는 임시 테이블 생성"
   ]
  },
  {
   "cell_type": "markdown",
   "id": "9a6ed691",
   "metadata": {},
   "source": [
    "movies 테이블에서 영화 이름(name)만 가져오기"
   ]
  },
  {
   "cell_type": "code",
   "execution_count": 15,
   "id": "6ebe36af",
   "metadata": {},
   "outputs": [
    {
     "name": "stdout",
     "output_type": "stream",
     "text": [
      "root\n",
      " |-- id: long (nullable = true)\n",
      " |-- name: string (nullable = true)\n",
      " |-- company: string (nullable = true)\n",
      " |-- year: long (nullable = true)\n",
      " |-- month: long (nullable = true)\n",
      " |-- day: long (nullable = true)\n",
      "\n"
     ]
    }
   ],
   "source": [
    "df.printSchema()"
   ]
  },
  {
   "cell_type": "code",
   "execution_count": 16,
   "id": "312c5049",
   "metadata": {},
   "outputs": [
    {
     "name": "stdout",
     "output_type": "stream",
     "text": [
      "+--------+\n",
      "|    name|\n",
      "+--------+\n",
      "|어벤져스|\n",
      "|  슈퍼맨|\n",
      "|  배트맨|\n",
      "|겨울왕국|\n",
      "|아이언맨|\n",
      "+--------+\n",
      "\n"
     ]
    }
   ],
   "source": [
    "query = '''\n",
    "SELECT name\n",
    "FROM movies\n",
    "'''\n",
    "\n",
    "# query 실행\n",
    "spark.sql(query).show()"
   ]
  },
  {
   "cell_type": "code",
   "execution_count": 17,
   "id": "c3568e1d",
   "metadata": {},
   "outputs": [
    {
     "name": "stdout",
     "output_type": "stream",
     "text": [
      "+---+--------+-------+----+-----+---+\n",
      "| id|    name|company|year|month|day|\n",
      "+---+--------+-------+----+-----+---+\n",
      "|  1|어벤져스|   마블|2012|    4| 26|\n",
      "|  2|  슈퍼맨|     DC|2013|    6| 13|\n",
      "|  4|겨울왕국| 디즈니|2014|    1| 16|\n",
      "+---+--------+-------+----+-----+---+\n",
      "\n"
     ]
    }
   ],
   "source": [
    "# 2010년 이후에 개봉한 영화를 조회\n",
    "query='''\n",
    "SELECT *\n",
    "FROM movies\n",
    "WHERE year>=2010\n",
    "'''\n",
    "\n",
    "spark.sql(query).show()"
   ]
  },
  {
   "cell_type": "code",
   "execution_count": 18,
   "id": "83ac5475",
   "metadata": {},
   "outputs": [],
   "source": [
    "# 제목이 ~~맨으로 끝나는 영화 정보 조회"
   ]
  },
  {
   "cell_type": "code",
   "execution_count": 19,
   "id": "5f618dc2",
   "metadata": {},
   "outputs": [
    {
     "name": "stdout",
     "output_type": "stream",
     "text": [
      "+---+--------+-------+----+-----+---+\n",
      "| id|    name|company|year|month|day|\n",
      "+---+--------+-------+----+-----+---+\n",
      "|  2|  슈퍼맨|     DC|2013|    6| 13|\n",
      "|  3|  배트맨|     DC|2008|    8|  6|\n",
      "|  5|아이언맨|   마블|2008|    4| 30|\n",
      "+---+--------+-------+----+-----+---+\n",
      "\n"
     ]
    }
   ],
   "source": [
    "query='''\n",
    "SELECT *\n",
    "FROM movies\n",
    "WHERE name LIKE \"%맨\" \n",
    "'''\n",
    "# __은 특정 개수를 채워야하기 때문에 ㄴㄴ \n",
    "\n",
    "spark.sql(query).show()"
   ]
  },
  {
   "cell_type": "code",
   "execution_count": 20,
   "id": "b0911b42",
   "metadata": {},
   "outputs": [
    {
     "name": "stdout",
     "output_type": "stream",
     "text": [
      "+---+--------+-------+----+-----+---+\n",
      "| id|    name|company|year|month|day|\n",
      "+---+--------+-------+----+-----+---+\n",
      "|  1|어벤져스|   마블|2012|    4| 26|\n",
      "|  2|  슈퍼맨|     DC|2013|    6| 13|\n",
      "|  3|  배트맨|     DC|2008|    8|  6|\n",
      "|  5|아이언맨|   마블|2008|    4| 30|\n",
      "+---+--------+-------+----+-----+---+\n",
      "\n"
     ]
    }
   ],
   "source": [
    "# 개봉 월이 4~8월 사이인 영화 정보 조회\n",
    "query='''\n",
    "SELECT *\n",
    "FROM movies\n",
    "WHERE month BETWEEN 4 AND 8  \n",
    "'''\n",
    "\n",
    "spark.sql(query).show()"
   ]
  },
  {
   "cell_type": "code",
   "execution_count": 21,
   "id": "114bb233",
   "metadata": {},
   "outputs": [
    {
     "name": "stdout",
     "output_type": "stream",
     "text": [
      "+---+--------+-------+----+-----+---+\n",
      "| id|    name|company|year|month|day|\n",
      "+---+--------+-------+----+-----+---+\n",
      "|  1|어벤져스|   마블|2012|    4| 26|\n",
      "|  4|겨울왕국| 디즈니|2014|    1| 16|\n",
      "+---+--------+-------+----+-----+---+\n",
      "\n"
     ]
    }
   ],
   "source": [
    "# 회사 이름이 \"마\"로 시작하거나 \"니\"로 끝나는 영화 중 2010년 이후로 개봉한 영화\n",
    "query='''\n",
    "SELECT *\n",
    "FROM movies\n",
    "WHERE (company like \"마%\" OR company like \"%니\") and year >= 2010  \n",
    "'''\n",
    "# in에서는 %를 못쓴다.\n",
    "\n",
    "spark.sql(query).show()"
   ]
  },
  {
   "cell_type": "code",
   "execution_count": 22,
   "id": "6476f4d5",
   "metadata": {},
   "outputs": [
    {
     "name": "stdout",
     "output_type": "stream",
     "text": [
      "+---+--------+-------+----+-----+---+\n",
      "| id|    name|company|year|month|day|\n",
      "+---+--------+-------+----+-----+---+\n",
      "|  3|  배트맨|     DC|2008|    8|  6|\n",
      "|  5|아이언맨|   마블|2008|    4| 30|\n",
      "|  1|어벤져스|   마블|2012|    4| 26|\n",
      "|  2|  슈퍼맨|     DC|2013|    6| 13|\n",
      "|  4|겨울왕국| 디즈니|2014|    1| 16|\n",
      "+---+--------+-------+----+-----+---+\n",
      "\n"
     ]
    }
   ],
   "source": [
    "# 개봉연도 오름차순 정렬\n",
    "query='''\n",
    "SELECT *\n",
    "FROM movies\n",
    "ORDER BY year ASC;  \n",
    "'''\n",
    "\n",
    "spark.sql(query).show()"
   ]
  },
  {
   "cell_type": "code",
   "execution_count": 23,
   "id": "378a7eb9",
   "metadata": {},
   "outputs": [
    {
     "name": "stdout",
     "output_type": "stream",
     "text": [
      "+-------+---------+\n",
      "|company|movie_cnt|\n",
      "+-------+---------+\n",
      "| 디즈니|        1|\n",
      "|   마블|        2|\n",
      "|     DC|        2|\n",
      "+-------+---------+\n",
      "\n"
     ]
    }
   ],
   "source": [
    "# 회사 별 몇개의 영화가 있는지 조회\n",
    "query='''\n",
    "SELECT company, count(year) as movie_cnt\n",
    "FROM movies\n",
    "GROUP BY company\n",
    "'''\n",
    "\n",
    "spark.sql(query).show()"
   ]
  },
  {
   "cell_type": "code",
   "execution_count": 24,
   "id": "ec44ecdd",
   "metadata": {},
   "outputs": [],
   "source": [
    "attendances = [\n",
    "    (1, 13934592., \"KR\"),\n",
    "    (2, 2182227.,\"KR\"),\n",
    "    (3, 4226242., \"KR\"),\n",
    "    (4, 10303058., \"KR\"),\n",
    "    (5, 4300365., \"KR\")\n",
    "]"
   ]
  },
  {
   "cell_type": "code",
   "execution_count": 25,
   "id": "53d6a870",
   "metadata": {},
   "outputs": [],
   "source": [
    "#직접 스키마 지정하기, 기존의 RDD를 테이블화시키기 위해 스키마를 정해주는 것\n",
    "from pyspark.sql.types import StringType, FloatType, IntegerType # 데이터 타입\n",
    "\n",
    "# StructField : 각 컬럼을 만들기 위한 집합, 필드 하나의 값, 컬럼스키마 작성, 이름,Type,....\n",
    "# StructType : 컬럼 집합, 컬럼을 모두 포함한 인스턴스 정의\n",
    "from pyspark.sql.types import StructType, StructField # 구조"
   ]
  },
  {
   "cell_type": "code",
   "execution_count": 26,
   "id": "0f06d3c9",
   "metadata": {},
   "outputs": [],
   "source": [
    "att_schema = StructType([\n",
    "    StructField(\"id\",IntegerType(),True), # True는 null허용을 뜻한다.\n",
    "    StructField(\"att\",FloatType(),True),\n",
    "    StructField(\"country\",StringType(),True)\n",
    "])"
   ]
  },
  {
   "cell_type": "code",
   "execution_count": 27,
   "id": "07d50e04",
   "metadata": {},
   "outputs": [
    {
     "data": {
      "text/plain": [
       "[('id', 'int'), ('att', 'float'), ('country', 'string')]"
      ]
     },
     "execution_count": 27,
     "metadata": {},
     "output_type": "execute_result"
    }
   ],
   "source": [
    "att_df = spark.createDataFrame(\n",
    "    data = attendances,\n",
    "    schema = att_schema\n",
    ")\n",
    "\n",
    "att_df.dtypes"
   ]
  },
  {
   "cell_type": "code",
   "execution_count": 28,
   "id": "a2d13572",
   "metadata": {},
   "outputs": [],
   "source": [
    "att_df.createOrReplaceTempView(\"att\")"
   ]
  },
  {
   "cell_type": "code",
   "execution_count": 29,
   "id": "b7a2b5f2",
   "metadata": {},
   "outputs": [
    {
     "name": "stdout",
     "output_type": "stream",
     "text": [
      "+---+-----------+-------+\n",
      "| id|        att|country|\n",
      "+---+-----------+-------+\n",
      "|  1|1.3934592E7|     KR|\n",
      "|  2|  2182227.0|     KR|\n",
      "|  3|  4226242.0|     KR|\n",
      "|  4|1.0303058E7|     KR|\n",
      "|  5|  4300365.0|     KR|\n",
      "+---+-----------+-------+\n",
      "\n"
     ]
    }
   ],
   "source": [
    "att_df.show()"
   ]
  },
  {
   "cell_type": "code",
   "execution_count": 30,
   "id": "abf3a4d9",
   "metadata": {},
   "outputs": [
    {
     "name": "stdout",
     "output_type": "stream",
     "text": [
      "+---+--------+-------+-----------+\n",
      "| id|    name|company|        att|\n",
      "+---+--------+-------+-----------+\n",
      "|  1|어벤져스|   마블|1.3934592E7|\n",
      "|  2|  슈퍼맨|     DC|  2182227.0|\n",
      "|  3|  배트맨|     DC|  4226242.0|\n",
      "|  4|겨울왕국| 디즈니|1.0303058E7|\n",
      "|  5|아이언맨|   마블|  4300365.0|\n",
      "+---+--------+-------+-----------+\n",
      "\n"
     ]
    }
   ],
   "source": [
    "# 영화 아이디, 영화 이름, 회사, 관객수 조회\n",
    "query = '''\n",
    "SELECT movies.id, movies.name,movies.company, att.att\n",
    "FROM movies\n",
    "JOIN att ON movies.id = att.id\n",
    "'''\n",
    "\n",
    "spark.sql(query).show()"
   ]
  },
  {
   "cell_type": "markdown",
   "id": "9f478988",
   "metadata": {},
   "source": [
    "# 데이터프레임 API"
   ]
  },
  {
   "cell_type": "code",
   "execution_count": 33,
   "id": "ad8b0acb",
   "metadata": {},
   "outputs": [
    {
     "data": {
      "text/plain": [
       "[Row(id=1, name='어벤져스', company='마블', year=2012, month=4, day=26),\n",
       " Row(id=2, name='슈퍼맨', company='DC', year=2013, month=6, day=13),\n",
       " Row(id=3, name='배트맨', company='DC', year=2008, month=8, day=6),\n",
       " Row(id=4, name='겨울왕국', company='디즈니', year=2014, month=1, day=16),\n",
       " Row(id=5, name='아이언맨', company='마블', year=2008, month=4, day=30)]"
      ]
     },
     "execution_count": 33,
     "metadata": {},
     "output_type": "execute_result"
    }
   ],
   "source": [
    "# collect를 사용하면 RDD처럼 등장\n",
    "df.select(\"*\").collect()"
   ]
  },
  {
   "cell_type": "code",
   "execution_count": 34,
   "id": "f49a1fcd",
   "metadata": {},
   "outputs": [
    {
     "data": {
      "text/plain": [
       "[Row(name='어벤져스', company='마블'),\n",
       " Row(name='슈퍼맨', company='DC'),\n",
       " Row(name='배트맨', company='DC'),\n",
       " Row(name='겨울왕국', company='디즈니'),\n",
       " Row(name='아이언맨', company='마블')]"
      ]
     },
     "execution_count": 34,
     "metadata": {},
     "output_type": "execute_result"
    }
   ],
   "source": [
    "df.select(\"name\",\"company\").collect()"
   ]
  },
  {
   "cell_type": "code",
   "execution_count": 38,
   "id": "93b8375a",
   "metadata": {},
   "outputs": [
    {
     "name": "stdout",
     "output_type": "stream",
     "text": [
      "+--------+----+\n",
      "|    name|year|\n",
      "+--------+----+\n",
      "|어벤져스|  12|\n",
      "|  슈퍼맨|  13|\n",
      "|  배트맨|   8|\n",
      "|겨울왕국|  14|\n",
      "|아이언맨|   8|\n",
      "+--------+----+\n",
      "\n"
     ]
    }
   ],
   "source": [
    "df.select(df.name, (df.year-2000).alias(\"year\")).show() # 데이터를 가지고 온 뒤에 수정\n",
    "# alias는 고치고자 하는 컬럼 뒤에"
   ]
  },
  {
   "cell_type": "code",
   "execution_count": 36,
   "id": "6e2b3847",
   "metadata": {},
   "outputs": [
    {
     "data": {
      "text/plain": [
       "[Row(name='어벤져스', (year - 2000)=12),\n",
       " Row(name='슈퍼맨', (year - 2000)=13),\n",
       " Row(name='배트맨', (year - 2000)=8),\n",
       " Row(name='겨울왕국', (year - 2000)=14),\n",
       " Row(name='아이언맨', (year - 2000)=8)]"
      ]
     },
     "execution_count": 36,
     "metadata": {},
     "output_type": "execute_result"
    }
   ],
   "source": [
    "df.select(df.name, (df.year-2000)).collect()"
   ]
  },
  {
   "cell_type": "code",
   "execution_count": 39,
   "id": "e2ba9ae3",
   "metadata": {},
   "outputs": [
    {
     "data": {
      "text/plain": [
       "[Row(count(id)=5)]"
      ]
     },
     "execution_count": 39,
     "metadata": {},
     "output_type": "execute_result"
    }
   ],
   "source": [
    "# agg : Aggregate의 약자. 그룹핑 후 데이터를 하나로 합쳐주는 역할\n",
    "df.agg({\"id\":\"count\"}).collect()"
   ]
  },
  {
   "cell_type": "code",
   "execution_count": 40,
   "id": "5cdd647d",
   "metadata": {},
   "outputs": [
    {
     "data": {
      "text/plain": [
       "DataFrame[min(year): bigint]"
      ]
     },
     "execution_count": 40,
     "metadata": {},
     "output_type": "execute_result"
    }
   ],
   "source": [
    "# query에서 사용가능한 함수들을 모아놓은 패키지가 존재\n",
    "from pyspark.sql import functions as F\n",
    "\n",
    "df.agg(F.min(df.year))"
   ]
  },
  {
   "cell_type": "code",
   "execution_count": 41,
   "id": "a8530ffe",
   "metadata": {},
   "outputs": [
    {
     "data": {
      "text/plain": [
       "[Row(avg(id)=3.0, avg(year)=2011.0, avg(month)=4.6, avg(day)=18.2)]"
      ]
     },
     "execution_count": 41,
     "metadata": {},
     "output_type": "execute_result"
    }
   ],
   "source": [
    "# groupBy\n",
    "df.groupBy().avg().collect() # 컬럼명이 부여되지 않으면 각 컬럼별로 집계를 수행한다."
   ]
  },
  {
   "cell_type": "code",
   "execution_count": 45,
   "id": "2cbaac83",
   "metadata": {},
   "outputs": [
    {
     "data": {
      "text/plain": [
       "[Row(company='디즈니', month=1, count(id)=1),\n",
       " Row(company='DC', month=8, count(id)=1),\n",
       " Row(company='DC', month=6, count(id)=1),\n",
       " Row(company='마블', month=4, count(id)=2)]"
      ]
     },
     "execution_count": 45,
     "metadata": {},
     "output_type": "execute_result"
    }
   ],
   "source": [
    "# 회사 별 월 별 영화 개수 정ㅂㅂ보\n",
    "df.groupBy([df.company,df.month]).count().collect()\n",
    "# df.groupBy([df.company,df.month]).agg({\"id\":\"count\"}).collect()"
   ]
  },
  {
   "cell_type": "code",
   "execution_count": 46,
   "id": "cf858299",
   "metadata": {},
   "outputs": [
    {
     "data": {
      "text/plain": [
       "[Row(company='디즈니', avg(month)=1.0),\n",
       " Row(company='마블', avg(month)=4.0),\n",
       " Row(company='DC', avg(month)=7.0)]"
      ]
     },
     "execution_count": 46,
     "metadata": {},
     "output_type": "execute_result"
    }
   ],
   "source": [
    "# 회사 별 개봉 월 평균\n",
    "df.groupBy(\"company\").agg({\"month\":\"mean\"}).collect()"
   ]
  },
  {
   "cell_type": "code",
   "execution_count": 47,
   "id": "41cab467",
   "metadata": {},
   "outputs": [
    {
     "name": "stdout",
     "output_type": "stream",
     "text": [
      "+--------+-----------+\n",
      "|    name|        att|\n",
      "+--------+-----------+\n",
      "|어벤져스|1.3934592E7|\n",
      "|  슈퍼맨|  2182227.0|\n",
      "|  배트맨|  4226242.0|\n",
      "|겨울왕국|1.0303058E7|\n",
      "|아이언맨|  4300365.0|\n",
      "+--------+-----------+\n",
      "\n"
     ]
    }
   ],
   "source": [
    "# join\n",
    "df.join(att_df,'id').select(df.name,att_df.att).show()"
   ]
  },
  {
   "cell_type": "code",
   "execution_count": 48,
   "id": "355921e1",
   "metadata": {},
   "outputs": [
    {
     "data": {
      "text/plain": [
       "[Row(name='어벤져스', company='마블', year=2012),\n",
       " Row(name='아이언맨', company='마블', year=2008)]"
      ]
     },
     "execution_count": 48,
     "metadata": {},
     "output_type": "execute_result"
    }
   ],
   "source": [
    "# select, where, orderBy 사용\n",
    "df.select(\"name\",\"company\",\"year\").where(\"company='마블'\").orderBy(\"id\").collect()"
   ]
  },
  {
   "cell_type": "code",
   "execution_count": 49,
   "id": "9da004c2",
   "metadata": {},
   "outputs": [],
   "source": [
    "spark.stop()\n",
    "sc.stop()"
   ]
  },
  {
   "cell_type": "code",
   "execution_count": null,
   "id": "b2a7f2f7",
   "metadata": {},
   "outputs": [],
   "source": []
  }
 ],
 "metadata": {
  "kernelspec": {
   "display_name": "Python 3 (ipykernel)",
   "language": "python",
   "name": "python3"
  },
  "language_info": {
   "codemirror_mode": {
    "name": "ipython",
    "version": 3
   },
   "file_extension": ".py",
   "mimetype": "text/x-python",
   "name": "python",
   "nbconvert_exporter": "python",
   "pygments_lexer": "ipython3",
   "version": "3.8.16"
  }
 },
 "nbformat": 4,
 "nbformat_minor": 5
}
