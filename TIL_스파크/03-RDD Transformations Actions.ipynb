{
 "cells": [
  {
   "cell_type": "code",
   "execution_count": 1,
   "id": "6a6533f6",
   "metadata": {},
   "outputs": [
    {
     "name": "stderr",
     "output_type": "stream",
     "text": [
      "WARNING: An illegal reflective access operation has occurred\n",
      "WARNING: Illegal reflective access by org.apache.spark.unsafe.Platform (file:/home/ubuntu/spark-3.2.4/jars/spark-unsafe_2.12-3.2.4.jar) to constructor java.nio.DirectByteBuffer(long,int)\n",
      "WARNING: Please consider reporting this to the maintainers of org.apache.spark.unsafe.Platform\n",
      "WARNING: Use --illegal-access=warn to enable warnings of further illegal reflective access operations\n",
      "WARNING: All illegal access operations will be denied in a future release\n",
      "Using Spark's default log4j profile: org/apache/spark/log4j-defaults.properties\n",
      "Setting default log level to \"WARN\".\n",
      "To adjust logging level use sc.setLogLevel(newLevel). For SparkR, use setLogLevel(newLevel).\n",
      "23/06/02 06:33:35 WARN NativeCodeLoader: Unable to load native-hadoop library for your platform... using builtin-java classes where applicable\n"
     ]
    }
   ],
   "source": [
    "from pyspark import SparkConf, SparkContext\n",
    "\n",
    "conf = SparkConf().setMaster('local').setAppName(\"transformation_actions\")\n",
    "sc = SparkContext(conf=conf)"
   ]
  },
  {
   "cell_type": "code",
   "execution_count": 2,
   "id": "474388fa",
   "metadata": {},
   "outputs": [
    {
     "data": {
      "text/plain": [
       "[('spark.master', 'local'),\n",
       " ('spark.driver.port', '43821'),\n",
       " ('spark.app.id', 'local-1685687616602'),\n",
       " ('spark.rdd.compress', 'True'),\n",
       " ('spark.serializer.objectStreamReset', '100'),\n",
       " ('spark.submit.pyFiles', ''),\n",
       " ('spark.app.startTime', '1685687614945'),\n",
       " ('spark.executor.id', 'driver'),\n",
       " ('spark.app.name', 'transformation_actions'),\n",
       " ('spark.submit.deployMode', 'client'),\n",
       " ('spark.driver.host', 'ip-172-31-47-237.ap-northeast-3.compute.internal'),\n",
       " ('spark.ui.showConsoleProgress', 'true')]"
      ]
     },
     "execution_count": 2,
     "metadata": {},
     "output_type": "execute_result"
    }
   ],
   "source": [
    "# 스파크 설정 환경 확인\n",
    "sc.getConf().getAll()"
   ]
  },
  {
   "cell_type": "markdown",
   "id": "cddb3988",
   "metadata": {},
   "source": [
    "# Python 리스트를 RDD로 만들기"
   ]
  },
  {
   "cell_type": "code",
   "execution_count": 4,
   "id": "f540f77f",
   "metadata": {},
   "outputs": [
    {
     "data": {
      "text/plain": [
       "ParallelCollectionRDD[0] at readRDDFromFile at PythonRDD.scala:274"
      ]
     },
     "execution_count": 4,
     "metadata": {},
     "output_type": "execute_result"
    }
   ],
   "source": [
    "# 패럴라이즈 사용\n",
    "foods = sc.parallelize([\n",
    "    \"짜장면\", \"마라탕\", \"짬뽕\", \"떡볶이\", \"쌀국수\", \"짬뽕\", \"짜장면\", \"짜장면\", \"짜장면\", \"라면\", \"우동\", \"라면\"\n",
    "])\n",
    "foods"
   ]
  },
  {
   "cell_type": "markdown",
   "id": "b93735e4",
   "metadata": {},
   "source": [
    "1. RDD내의 모든 데이터 가져오기\n",
    "- collect()"
   ]
  },
  {
   "cell_type": "code",
   "execution_count": 5,
   "id": "5f44ad26",
   "metadata": {},
   "outputs": [
    {
     "name": "stderr",
     "output_type": "stream",
     "text": [
      "\r\n",
      "[Stage 0:===========================================================(1 + 0) / 1]\r\n",
      "\r\n",
      "                                                                                \r"
     ]
    },
    {
     "data": {
      "text/plain": [
       "['짜장면', '마라탕', '짬뽕', '떡볶이', '쌀국수', '짬뽕', '짜장면', '짜장면', '짜장면', '라면', '우동', '라면']"
      ]
     },
     "execution_count": 5,
     "metadata": {},
     "output_type": "execute_result"
    }
   ],
   "source": [
    "foods.collect()"
   ]
  },
  {
   "cell_type": "markdown",
   "id": "aef4c032",
   "metadata": {},
   "source": [
    "2. 각 데이터 별 개수 세기\n",
    "- countByValue()"
   ]
  },
  {
   "cell_type": "code",
   "execution_count": 6,
   "id": "2b6bba28",
   "metadata": {},
   "outputs": [
    {
     "name": "stderr",
     "output_type": "stream",
     "text": [
      "                                                                                \r"
     ]
    },
    {
     "data": {
      "text/plain": [
       "defaultdict(int,\n",
       "            {'짜장면': 4,\n",
       "             '마라탕': 1,\n",
       "             '짬뽕': 2,\n",
       "             '떡볶이': 1,\n",
       "             '쌀국수': 1,\n",
       "             '라면': 2,\n",
       "             '우동': 1})"
      ]
     },
     "execution_count": 6,
     "metadata": {},
     "output_type": "execute_result"
    }
   ],
   "source": [
    "foods.countByValue()"
   ]
  },
  {
   "cell_type": "markdown",
   "id": "3a4d786b",
   "metadata": {},
   "source": [
    "3. 상위 n개의 데이터 가져오기\n",
    "- take(n)"
   ]
  },
  {
   "cell_type": "code",
   "execution_count": 7,
   "id": "27545a7f",
   "metadata": {},
   "outputs": [
    {
     "data": {
      "text/plain": [
       "['짜장면', '마라탕', '짬뽕']"
      ]
     },
     "execution_count": 7,
     "metadata": {},
     "output_type": "execute_result"
    }
   ],
   "source": [
    "foods.take(3)"
   ]
  },
  {
   "cell_type": "markdown",
   "id": "30b41a84",
   "metadata": {},
   "source": [
    "4. 처음 1개의 데이터만 가져오기 \n",
    "- first()"
   ]
  },
  {
   "cell_type": "code",
   "execution_count": 8,
   "id": "4f7d941b",
   "metadata": {},
   "outputs": [
    {
     "data": {
      "text/plain": [
       "'짜장면'"
      ]
     },
     "execution_count": 8,
     "metadata": {},
     "output_type": "execute_result"
    }
   ],
   "source": [
    "foods.first()"
   ]
  },
  {
   "cell_type": "markdown",
   "id": "50a8264c",
   "metadata": {},
   "source": [
    "5. RDD내의 데이터 개수 세기\n",
    "- count"
   ]
  },
  {
   "cell_type": "code",
   "execution_count": 9,
   "id": "622b57ad",
   "metadata": {},
   "outputs": [
    {
     "data": {
      "text/plain": [
       "12"
      ]
     },
     "execution_count": 9,
     "metadata": {},
     "output_type": "execute_result"
    }
   ],
   "source": [
    "foods.count()"
   ]
  },
  {
   "attachments": {},
   "cell_type": "markdown",
   "id": "f493f5db",
   "metadata": {},
   "source": [
    "6. 중복데이터 제거(Transformations)\n",
    "- distinct"
   ]
  },
  {
   "cell_type": "code",
   "execution_count": 10,
   "id": "44d300f9",
   "metadata": {},
   "outputs": [
    {
     "data": {
      "text/plain": [
       "PythonRDD[9] at RDD at PythonRDD.scala:53"
      ]
     },
     "execution_count": 10,
     "metadata": {},
     "output_type": "execute_result"
    }
   ],
   "source": [
    "fd = foods.distinct()\n",
    "fd"
   ]
  },
  {
   "cell_type": "code",
   "execution_count": 11,
   "id": "6be9fbc8",
   "metadata": {},
   "outputs": [
    {
     "data": {
      "text/plain": [
       "['짜장면', '마라탕', '짬뽕', '떡볶이', '쌀국수', '라면', '우동']"
      ]
     },
     "execution_count": 11,
     "metadata": {},
     "output_type": "execute_result"
    }
   ],
   "source": [
    "fd.collect()"
   ]
  },
  {
   "cell_type": "code",
   "execution_count": 12,
   "id": "278087d8",
   "metadata": {},
   "outputs": [
    {
     "data": {
      "text/plain": [
       "7"
      ]
     },
     "execution_count": 12,
     "metadata": {},
     "output_type": "execute_result"
    }
   ],
   "source": [
    "# 중복을 제외한 개수는 distinct 후 Count\n",
    "foods.distinct().count()"
   ]
  },
  {
   "cell_type": "markdown",
   "id": "08b7f60a",
   "metadata": {},
   "source": [
    "* 중요한 기능은 아님!\n",
    "- 요소를 하나씩 꺼내서 함수에 저장할 때 사용\n",
    "- foreach\n",
    "- 마스터한테 리턴이 안되고 워커들 내에서만 작동\n",
    "- 연산의 결과를 로그화 시킬 때 많이 사용"
   ]
  },
  {
   "cell_type": "code",
   "execution_count": 13,
   "id": "416eefeb",
   "metadata": {},
   "outputs": [
    {
     "name": "stderr",
     "output_type": "stream",
     "text": [
      "짜장면\n",
      "마라탕\n",
      "짬뽕\n",
      "떡볶이\n",
      "쌀국수\n",
      "짬뽕\n",
      "짜장면\n",
      "짜장면\n",
      "짜장면\n",
      "라면\n",
      "우동\n",
      "라면\n"
     ]
    }
   ],
   "source": [
    "foods.foreach(lambda x: print(x))"
   ]
  },
  {
   "cell_type": "code",
   "execution_count": 14,
   "id": "5b2a5d28",
   "metadata": {},
   "outputs": [],
   "source": [
    "foods.foreach(lambda x: x)"
   ]
  },
  {
   "cell_type": "markdown",
   "id": "1bb32feb",
   "metadata": {},
   "source": [
    "Narrow Transformations\n",
    "- 1:1 변환을 의미\n",
    "- 하나의 열을 조작하기 위해 다른 열 및 파티션의 데이터를 사용하지 않는다.\n",
    "- filter(), map(),flatMap(), sample(), union()"
   ]
  },
  {
   "cell_type": "code",
   "execution_count": 15,
   "id": "bd262c44",
   "metadata": {},
   "outputs": [
    {
     "data": {
      "text/plain": [
       "ParallelCollectionRDD[17] at readRDDFromFile at PythonRDD.scala:274"
      ]
     },
     "execution_count": 15,
     "metadata": {},
     "output_type": "execute_result"
    }
   ],
   "source": [
    "sample_rdd = sc.parallelize([1,2,3])\n",
    "sample_rdd"
   ]
  },
  {
   "attachments": {},
   "cell_type": "markdown",
   "id": "d57010fc",
   "metadata": {},
   "source": [
    "map(<task>)\n",
    "- 데이터를 하나씩 꺼내서 `<func>` 함수가 적용된 새로운 RDD가 만들어 진다."
   ]
  },
  {
   "cell_type": "code",
   "execution_count": 16,
   "id": "5136de61",
   "metadata": {},
   "outputs": [
    {
     "data": {
      "text/plain": [
       "PythonRDD[18] at RDD at PythonRDD.scala:53"
      ]
     },
     "execution_count": 16,
     "metadata": {},
     "output_type": "execute_result"
    }
   ],
   "source": [
    "sample_rdd2 = sample_rdd.map(lambda x : x+2)\n",
    "sample_rdd2"
   ]
  },
  {
   "cell_type": "code",
   "execution_count": 17,
   "id": "498888b9",
   "metadata": {},
   "outputs": [
    {
     "data": {
      "text/plain": [
       "[3, 4, 5]"
      ]
     },
     "execution_count": 17,
     "metadata": {},
     "output_type": "execute_result"
    }
   ],
   "source": [
    "sample_rdd2.collect()"
   ]
  },
  {
   "attachments": {},
   "cell_type": "markdown",
   "id": "89b82625",
   "metadata": {},
   "source": [
    "flatMap(<func>)\n",
    "- `map` 함수와 거의 비슷하나, `flatMap` 함수는 `map`의 모든 결과를 1차원 배열 형식으로 평평(`flat`)하게 나타낸다."
   ]
  },
  {
   "cell_type": "code",
   "execution_count": 19,
   "id": "f739abfb",
   "metadata": {},
   "outputs": [],
   "source": [
    "movies = [\n",
    "    \"그린 북\",\n",
    "    \"매트릭스\",\n",
    "    \"토이 스토리\",\n",
    "    \"캐스트 어웨이\",\n",
    "    \"포드 V 페라리\",\n",
    "    \"보헤미안 랩소디\",\n",
    "    \"빽 투 더 퓨처\",\n",
    "    \"반지의 제왕\",\n",
    "    \"죽은 시인의 사회\"\n",
    "]"
   ]
  },
  {
   "cell_type": "code",
   "execution_count": 20,
   "id": "1032b257",
   "metadata": {},
   "outputs": [
    {
     "data": {
      "text/plain": [
       "ParallelCollectionRDD[19] at readRDDFromFile at PythonRDD.scala:274"
      ]
     },
     "execution_count": 20,
     "metadata": {},
     "output_type": "execute_result"
    }
   ],
   "source": [
    "moviesRDD = sc.parallelize(movies)\n",
    "moviesRDD"
   ]
  },
  {
   "cell_type": "code",
   "execution_count": 21,
   "id": "280ef5e6",
   "metadata": {},
   "outputs": [],
   "source": [
    "def split(row):\n",
    "    row = row.split()\n",
    "    return row"
   ]
  },
  {
   "cell_type": "code",
   "execution_count": 23,
   "id": "68b73ed9",
   "metadata": {},
   "outputs": [
    {
     "data": {
      "text/plain": [
       "[['그린', '북'],\n",
       " ['매트릭스'],\n",
       " ['토이', '스토리'],\n",
       " ['캐스트', '어웨이'],\n",
       " ['포드', 'V', '페라리'],\n",
       " ['보헤미안', '랩소디'],\n",
       " ['빽', '투', '더', '퓨처'],\n",
       " ['반지의', '제왕'],\n",
       " ['죽은', '시인의', '사회']]"
      ]
     },
     "execution_count": 23,
     "metadata": {},
     "output_type": "execute_result"
    }
   ],
   "source": [
    "mapMovies = moviesRDD.map(split)\n",
    "# mapMovies = moviesRDD.map(lambda x:x.split() )\n",
    "mapMovies.collect()"
   ]
  },
  {
   "cell_type": "code",
   "execution_count": 24,
   "id": "0682df87",
   "metadata": {},
   "outputs": [
    {
     "data": {
      "text/plain": [
       "['그린',\n",
       " '북',\n",
       " '매트릭스',\n",
       " '토이',\n",
       " '스토리',\n",
       " '캐스트',\n",
       " '어웨이',\n",
       " '포드',\n",
       " 'V',\n",
       " '페라리',\n",
       " '보헤미안',\n",
       " '랩소디',\n",
       " '빽',\n",
       " '투',\n",
       " '더',\n",
       " '퓨처',\n",
       " '반지의',\n",
       " '제왕',\n",
       " '죽은',\n",
       " '시인의',\n",
       " '사회']"
      ]
     },
     "execution_count": 24,
     "metadata": {},
     "output_type": "execute_result"
    }
   ],
   "source": [
    "flatMovies = moviesRDD.flatMap(lambda x : x.split())\n",
    "flatMovies.collect()"
   ]
  },
  {
   "cell_type": "markdown",
   "id": "d972f330",
   "metadata": {},
   "source": [
    "# Wide Transformation\n",
    "- shuffling"
   ]
  },
  {
   "cell_type": "code",
   "execution_count": 25,
   "id": "cfda6ef0",
   "metadata": {},
   "outputs": [
    {
     "data": {
      "text/plain": [
       "ParallelCollectionRDD[22] at readRDDFromFile at PythonRDD.scala:274"
      ]
     },
     "execution_count": 25,
     "metadata": {},
     "output_type": "execute_result"
    }
   ],
   "source": [
    "foods = sc.parallelize([\n",
    "    \"짜장면\", \"마라탕\", \"짬뽕\", \"떡볶이\", \"쌀국수\", \"짬뽕\", \"짜장면\", \"짜장면\", \"짜장면\", \"라면\", \"우동\", \"라면\"\n",
    "])\n",
    "foods"
   ]
  },
  {
   "cell_type": "markdown",
   "id": "a65942ec",
   "metadata": {},
   "source": []
  },
  {
   "cell_type": "markdown",
   "id": "369b4ea6",
   "metadata": {},
   "source": [
    "`groupBy(<func>)`\n",
    "- `<func>` : 기준을 마련하는 함수\n",
    "- 키값을 마련하는 것"
   ]
  },
  {
   "cell_type": "code",
   "execution_count": 26,
   "id": "e457ad28",
   "metadata": {},
   "outputs": [
    {
     "data": {
      "text/plain": [
       "[('짜', <pyspark.resultiterable.ResultIterable at 0x7f210c1a5e20>),\n",
       " ('마', <pyspark.resultiterable.ResultIterable at 0x7f21017962b0>),\n",
       " ('짬', <pyspark.resultiterable.ResultIterable at 0x7f2101796310>),\n",
       " ('떡', <pyspark.resultiterable.ResultIterable at 0x7f21017963d0>),\n",
       " ('쌀', <pyspark.resultiterable.ResultIterable at 0x7f2101796400>),\n",
       " ('라', <pyspark.resultiterable.ResultIterable at 0x7f2101796460>),\n",
       " ('우', <pyspark.resultiterable.ResultIterable at 0x7f21017964f0>)]"
      ]
     },
     "execution_count": 26,
     "metadata": {},
     "output_type": "execute_result"
    }
   ],
   "source": [
    "foodsGroup = foods.groupBy(lambda x : x[0])\n",
    "foodsGroup.collect()"
   ]
  },
  {
   "cell_type": "code",
   "execution_count": 27,
   "id": "1bc30961",
   "metadata": {},
   "outputs": [
    {
     "data": {
      "text/plain": [
       "[('짜', <pyspark.resultiterable.ResultIterable at 0x7f210c1a5bb0>),\n",
       " ('마', <pyspark.resultiterable.ResultIterable at 0x7f2130294550>),\n",
       " ('짬', <pyspark.resultiterable.ResultIterable at 0x7f2130294520>),\n",
       " ('떡', <pyspark.resultiterable.ResultIterable at 0x7f210c147f40>),\n",
       " ('쌀', <pyspark.resultiterable.ResultIterable at 0x7f210c0492b0>),\n",
       " ('라', <pyspark.resultiterable.ResultIterable at 0x7f2101740ee0>),\n",
       " ('우', <pyspark.resultiterable.ResultIterable at 0x7f2101796880>)]"
      ]
     },
     "execution_count": 27,
     "metadata": {},
     "output_type": "execute_result"
    }
   ],
   "source": [
    "res =foodsGroup.collect()\n",
    "res"
   ]
  },
  {
   "cell_type": "code",
   "execution_count": 28,
   "id": "4925e0ad",
   "metadata": {},
   "outputs": [
    {
     "name": "stdout",
     "output_type": "stream",
     "text": [
      "짜 ['짜장면', '짜장면', '짜장면', '짜장면']\n",
      "마 ['마라탕']\n",
      "짬 ['짬뽕', '짬뽕']\n",
      "떡 ['떡볶이']\n",
      "쌀 ['쌀국수']\n",
      "라 ['라면', '라면']\n",
      "우 ['우동']\n"
     ]
    }
   ],
   "source": [
    "for (k,v) in res:\n",
    "    print(k, list(v))"
   ]
  },
  {
   "cell_type": "code",
   "execution_count": 30,
   "id": "1b7c99da",
   "metadata": {},
   "outputs": [],
   "source": [
    "sc.stop()"
   ]
  },
  {
   "cell_type": "code",
   "execution_count": null,
   "id": "ab27ce74",
   "metadata": {},
   "outputs": [],
   "source": []
  }
 ],
 "metadata": {
  "kernelspec": {
   "display_name": "base",
   "language": "python",
   "name": "python3"
  },
  "language_info": {
   "codemirror_mode": {
    "name": "ipython",
    "version": 3
   },
   "file_extension": ".py",
   "mimetype": "text/x-python",
   "name": "python",
   "nbconvert_exporter": "python",
   "pygments_lexer": "ipython3",
   "version": "3.9.13"
  },
  "vscode": {
   "interpreter": {
    "hash": "e35aa464e4f518e3bd80b827b0a7a82608bf016d4c837622545242b48b9bfee6"
   }
  }
 },
 "nbformat": 4,
 "nbformat_minor": 5
}
