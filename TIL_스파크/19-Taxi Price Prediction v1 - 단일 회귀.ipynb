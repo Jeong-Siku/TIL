{
 "cells": [
  {
   "cell_type": "code",
   "execution_count": 1,
   "id": "2c1378cd",
   "metadata": {},
   "outputs": [
    {
     "name": "stderr",
     "output_type": "stream",
     "text": [
      "WARNING: An illegal reflective access operation has occurred\n",
      "WARNING: Illegal reflective access by org.apache.spark.unsafe.Platform (file:/home/ubuntu/spark-3.2.4/jars/spark-unsafe_2.12-3.2.4.jar) to constructor java.nio.DirectByteBuffer(long,int)\n",
      "WARNING: Please consider reporting this to the maintainers of org.apache.spark.unsafe.Platform\n",
      "WARNING: Use --illegal-access=warn to enable warnings of further illegal reflective access operations\n",
      "WARNING: All illegal access operations will be denied in a future release\n",
      "Using Spark's default log4j profile: org/apache/spark/log4j-defaults.properties\n",
      "Setting default log level to \"WARN\".\n",
      "To adjust logging level use sc.setLogLevel(newLevel). For SparkR, use setLogLevel(newLevel).\n",
      "23/06/14 04:44:05 WARN NativeCodeLoader: Unable to load native-hadoop library for your platform... using builtin-java classes where applicable\n",
      "23/06/14 04:44:08 WARN Utils: Service 'SparkUI' could not bind on port 4040. Attempting port 4041.\n"
     ]
    }
   ],
   "source": [
    "from pyspark.sql import SparkSession\n",
    "\n",
    "spark= SparkSession.builder.appName(\"trip_count_sql\").getOrCreate()"
   ]
  },
  {
   "cell_type": "code",
   "execution_count": 2,
   "id": "8777e51b",
   "metadata": {},
   "outputs": [
    {
     "name": "stderr",
     "output_type": "stream",
     "text": [
      "                                                                                \r"
     ]
    }
   ],
   "source": [
    "# 다수의 파일 동시에 불러오기\n",
    "directory = \"/home/ubuntu/working/spark-examples/data\"\n",
    "trip_files = \"/trips/*\" # 에스터리스크를 활용하여 trips 디렉토리 내의 모든 파일을 불러오기\n",
    "trip_df = spark.read.csv(f\"file://{directory}/{trip_files}\",inferSchema=True, header=True)\n",
    "# 너무 오래걸리면 만개정도만 샘플링해서 사용할 것(sample 사용)"
   ]
  },
  {
   "cell_type": "code",
   "execution_count": 3,
   "id": "a7ced715",
   "metadata": {},
   "outputs": [
    {
     "name": "stdout",
     "output_type": "stream",
     "text": [
      "root\n",
      " |-- VendorID: integer (nullable = true)\n",
      " |-- tpep_pickup_datetime: string (nullable = true)\n",
      " |-- tpep_dropoff_datetime: string (nullable = true)\n",
      " |-- passenger_count: integer (nullable = true)\n",
      " |-- trip_distance: double (nullable = true)\n",
      " |-- RatecodeID: integer (nullable = true)\n",
      " |-- store_and_fwd_flag: string (nullable = true)\n",
      " |-- PULocationID: integer (nullable = true)\n",
      " |-- DOLocationID: integer (nullable = true)\n",
      " |-- payment_type: integer (nullable = true)\n",
      " |-- fare_amount: double (nullable = true)\n",
      " |-- extra: double (nullable = true)\n",
      " |-- mta_tax: double (nullable = true)\n",
      " |-- tip_amount: double (nullable = true)\n",
      " |-- tolls_amount: double (nullable = true)\n",
      " |-- improvement_surcharge: double (nullable = true)\n",
      " |-- total_amount: double (nullable = true)\n",
      " |-- congestion_surcharge: double (nullable = true)\n",
      "\n"
     ]
    }
   ],
   "source": [
    "trip_df.printSchema()"
   ]
  },
  {
   "cell_type": "code",
   "execution_count": 4,
   "id": "4053e0a6",
   "metadata": {},
   "outputs": [],
   "source": [
    "# 단일 변수로 distance 사용\n",
    "trip_df.createOrReplaceTempView(\"trips\")"
   ]
  },
  {
   "cell_type": "markdown",
   "id": "34d71c05",
   "metadata": {},
   "source": [
    "#### 운행 거리(trip_distance)에 따른 요금(total_amount)를 예측"
   ]
  },
  {
   "cell_type": "code",
   "execution_count": 5,
   "id": "b5e2ac36",
   "metadata": {},
   "outputs": [],
   "source": [
    "# 데이터 마트 구성\n",
    "query=\"\"\"\n",
    "SELECT \n",
    "    trip_distance,\n",
    "    total_amount\n",
    "FROM trips\n",
    "WHERE total_amount < 50000\n",
    "    AND total_amount > 0\n",
    "    AND passenger_count < 5\n",
    "    AND trip_distance > 0\n",
    "    AND trip_distance < 500\n",
    "    AND TO_DATE(tpep_pickup_datetime) >= '2021-01-01'\n",
    "    AND TO_DATE(tpep_pickup_datetime) < '2021-08-01'\n",
    "\"\"\"\n",
    "\n",
    "data_df = spark.sql(query)\n",
    "data_df.createOrReplaceTempView(\"data\") # 데이터 마트 생성"
   ]
  },
  {
   "cell_type": "code",
   "execution_count": 6,
   "id": "5b1115d7",
   "metadata": {},
   "outputs": [
    {
     "name": "stdout",
     "output_type": "stream",
     "text": [
      "+-------------+------------+\n",
      "|trip_distance|total_amount|\n",
      "+-------------+------------+\n",
      "|         16.5|       70.07|\n",
      "|         1.13|       11.16|\n",
      "|         2.68|       18.59|\n",
      "|         12.4|        43.8|\n",
      "|          9.7|        32.3|\n",
      "|          9.3|       43.67|\n",
      "|         9.58|        46.1|\n",
      "|         16.2|        45.3|\n",
      "|         3.58|        19.3|\n",
      "|         0.91|        14.8|\n",
      "|         2.57|        12.8|\n",
      "|          0.4|         5.3|\n",
      "|         3.26|        17.3|\n",
      "|        13.41|       47.25|\n",
      "|         18.3|       61.42|\n",
      "|         1.53|       14.16|\n",
      "|          2.0|        11.8|\n",
      "|         16.6|       54.96|\n",
      "|         15.5|       56.25|\n",
      "|          1.3|        16.8|\n",
      "+-------------+------------+\n",
      "only showing top 20 rows\n",
      "\n"
     ]
    }
   ],
   "source": [
    "data_df.show()"
   ]
  },
  {
   "cell_type": "code",
   "execution_count": 7,
   "id": "527a0be5",
   "metadata": {},
   "outputs": [],
   "source": [
    "train_df, test_df = data_df.randomSplit([0.8,0.2], seed=42)"
   ]
  },
  {
   "cell_type": "code",
   "execution_count": 8,
   "id": "4189da2a",
   "metadata": {},
   "outputs": [
    {
     "data": {
      "text/plain": [
       "DataFrame[trip_distance: double, total_amount: double]"
      ]
     },
     "execution_count": 8,
     "metadata": {},
     "output_type": "execute_result"
    }
   ],
   "source": [
    "# 훈련데이터는 캐싱\n",
    "# 전처리 전에 캐싱을 한다. 분석 방식에 따라 여러 모양으로 가공하기 때문에!\n",
    "train_df.cache()"
   ]
  },
  {
   "cell_type": "code",
   "execution_count": 9,
   "id": "6714d70e",
   "metadata": {},
   "outputs": [
    {
     "name": "stderr",
     "output_type": "stream",
     "text": [
      "                                                                                \r"
     ]
    },
    {
     "data": {
      "text/plain": [
       "(10660958, 2665176)"
      ]
     },
     "execution_count": 9,
     "metadata": {},
     "output_type": "execute_result"
    }
   ],
   "source": [
    "train_df.count(), test_df.count()"
   ]
  },
  {
   "cell_type": "markdown",
   "id": "c15fdb77",
   "metadata": {},
   "source": [
    "### 머신러닝을 하기위해서는 feature가 벡터화되고 Matrix로 차원화 되어야 사용가능하다."
   ]
  },
  {
   "cell_type": "markdown",
   "id": "5405fc51",
   "metadata": {},
   "source": [
    "### `feature`가 하나 밖에 없지만 `VectorAssembler`를 활용해서 1차원 배열 형식으로 각각의 데이터를 만들어 준다.\n",
    "- 즉 $\\mathbb{R}^{N} => \\mathbb{R}^{N \\times 1}$"
   ]
  },
  {
   "cell_type": "code",
   "execution_count": 10,
   "id": "7462cd84",
   "metadata": {},
   "outputs": [
    {
     "name": "stdout",
     "output_type": "stream",
     "text": [
      "+-------------+------------+--------+\n",
      "|trip_distance|total_amount|features|\n",
      "+-------------+------------+--------+\n",
      "|         0.01|        3.05|  [0.01]|\n",
      "|         0.01|         3.3|  [0.01]|\n",
      "|         0.01|         3.3|  [0.01]|\n",
      "|         0.01|         3.3|  [0.01]|\n",
      "|         0.01|         3.3|  [0.01]|\n",
      "|         0.01|         3.3|  [0.01]|\n",
      "|         0.01|         3.3|  [0.01]|\n",
      "|         0.01|         3.3|  [0.01]|\n",
      "|         0.01|         3.3|  [0.01]|\n",
      "|         0.01|         3.3|  [0.01]|\n",
      "|         0.01|         3.3|  [0.01]|\n",
      "|         0.01|         3.3|  [0.01]|\n",
      "|         0.01|         3.3|  [0.01]|\n",
      "|         0.01|         3.3|  [0.01]|\n",
      "|         0.01|         3.3|  [0.01]|\n",
      "|         0.01|         3.3|  [0.01]|\n",
      "|         0.01|         3.3|  [0.01]|\n",
      "|         0.01|         3.3|  [0.01]|\n",
      "|         0.01|         3.3|  [0.01]|\n",
      "|         0.01|         3.3|  [0.01]|\n",
      "+-------------+------------+--------+\n",
      "only showing top 20 rows\n",
      "\n"
     ]
    }
   ],
   "source": [
    "# 벡터 어셈블\n",
    "from pyspark.ml.feature import VectorAssembler\n",
    "\n",
    "vec_assembler = VectorAssembler(inputCols=[\"trip_distance\"], outputCol=\"features\") # 블랑켓을 통해 배열형식으로 변환\n",
    "vec_train_df = vec_assembler.transform(train_df)\n",
    "\n",
    "vec_train_df.show()"
   ]
  },
  {
   "cell_type": "code",
   "execution_count": 11,
   "id": "d1d5b582",
   "metadata": {},
   "outputs": [],
   "source": [
    "from pyspark.ml.regression import LinearRegression\n",
    "\n",
    "lr = LinearRegression(\n",
    "        maxIter= 50,\n",
    "        labelCol=\"total_amount\",\n",
    "        featuresCol=\"features\")\n",
    "    "
   ]
  },
  {
   "cell_type": "code",
   "execution_count": 12,
   "id": "d850959f",
   "metadata": {},
   "outputs": [
    {
     "name": "stderr",
     "output_type": "stream",
     "text": [
      "23/06/14 04:50:45 WARN Instrumentation: [bc9a21c6] regParam is zero, which might cause numerical instability and overfitting.\n",
      "23/06/14 04:50:45 WARN InstanceBuilder$NativeBLAS: Failed to load implementation from:dev.ludovic.netlib.blas.JNIBLAS\n",
      "23/06/14 04:50:45 WARN InstanceBuilder$NativeBLAS: Failed to load implementation from:dev.ludovic.netlib.blas.ForeignLinkerBLAS\n",
      "23/06/14 04:51:16 WARN InstanceBuilder$NativeLAPACK: Failed to load implementation from:dev.ludovic.netlib.lapack.JNILAPACK\n",
      "                                                                                \r"
     ]
    }
   ],
   "source": [
    "lr_model = lr.fit(vec_train_df)"
   ]
  },
  {
   "cell_type": "code",
   "execution_count": 13,
   "id": "c3f4ce6f",
   "metadata": {},
   "outputs": [
    {
     "name": "stderr",
     "output_type": "stream",
     "text": [
      "\r",
      "[Stage 14:>                                                         (0 + 1) / 1]\r"
     ]
    },
    {
     "name": "stdout",
     "output_type": "stream",
     "text": [
      "+-------------+------------+--------+-----------------+\n",
      "|trip_distance|total_amount|features|       prediction|\n",
      "+-------------+------------+--------+-----------------+\n",
      "|         0.01|         3.3|  [0.01]|9.421365960326911|\n",
      "|         0.01|         3.3|  [0.01]|9.421365960326911|\n",
      "|         0.01|         3.3|  [0.01]|9.421365960326911|\n",
      "|         0.01|         3.3|  [0.01]|9.421365960326911|\n",
      "|         0.01|         3.3|  [0.01]|9.421365960326911|\n",
      "|         0.01|         3.3|  [0.01]|9.421365960326911|\n",
      "|         0.01|         3.3|  [0.01]|9.421365960326911|\n",
      "|         0.01|         3.3|  [0.01]|9.421365960326911|\n",
      "|         0.01|         3.3|  [0.01]|9.421365960326911|\n",
      "|         0.01|         3.3|  [0.01]|9.421365960326911|\n",
      "|         0.01|         3.3|  [0.01]|9.421365960326911|\n",
      "|         0.01|         3.3|  [0.01]|9.421365960326911|\n",
      "|         0.01|         3.3|  [0.01]|9.421365960326911|\n",
      "|         0.01|         3.3|  [0.01]|9.421365960326911|\n",
      "|         0.01|         3.3|  [0.01]|9.421365960326911|\n",
      "|         0.01|         3.3|  [0.01]|9.421365960326911|\n",
      "|         0.01|         3.8|  [0.01]|9.421365960326911|\n",
      "|         0.01|         3.8|  [0.01]|9.421365960326911|\n",
      "|         0.01|         3.8|  [0.01]|9.421365960326911|\n",
      "|         0.01|         4.3|  [0.01]|9.421365960326911|\n",
      "+-------------+------------+--------+-----------------+\n",
      "only showing top 20 rows\n",
      "\n"
     ]
    },
    {
     "name": "stderr",
     "output_type": "stream",
     "text": [
      "\r",
      "                                                                                \r"
     ]
    }
   ],
   "source": [
    "# 테스트 데이터로 예측 -transform\n",
    "vec_test_df = vec_assembler.transform(test_df)\n",
    "predictions = lr_model.transform(vec_test_df)\n",
    "\n",
    "predictions.show()"
   ]
  },
  {
   "cell_type": "code",
   "execution_count": 14,
   "id": "aea77564",
   "metadata": {},
   "outputs": [
    {
     "data": {
      "text/plain": [
       "7.055695718414497"
      ]
     },
     "execution_count": 14,
     "metadata": {},
     "output_type": "execute_result"
    }
   ],
   "source": [
    "# Evaluator를 쓰지 않고 Train 데이터에 대한 RMSE값 확인\n",
    "lr_model.summary.rootMeanSquaredError"
   ]
  },
  {
   "cell_type": "code",
   "execution_count": 15,
   "id": "1906636f",
   "metadata": {},
   "outputs": [
    {
     "data": {
      "text/plain": [
       "0.7233170486063777"
      ]
     },
     "execution_count": 15,
     "metadata": {},
     "output_type": "execute_result"
    }
   ],
   "source": [
    "# R^2확인\n",
    "lr_model.summary.r2"
   ]
  },
  {
   "cell_type": "code",
   "execution_count": 19,
   "id": "d454cc91",
   "metadata": {},
   "outputs": [],
   "source": []
  },
  {
   "cell_type": "code",
   "execution_count": null,
   "id": "9507633d",
   "metadata": {},
   "outputs": [],
   "source": []
  },
  {
   "cell_type": "code",
   "execution_count": null,
   "id": "d5221f03",
   "metadata": {},
   "outputs": [],
   "source": []
  },
  {
   "cell_type": "code",
   "execution_count": null,
   "id": "13c3b974",
   "metadata": {},
   "outputs": [],
   "source": []
  },
  {
   "cell_type": "code",
   "execution_count": null,
   "id": "28436c8a",
   "metadata": {},
   "outputs": [],
   "source": []
  }
 ],
 "metadata": {
  "kernelspec": {
   "display_name": "Python 3 (ipykernel)",
   "language": "python",
   "name": "python3"
  },
  "language_info": {
   "codemirror_mode": {
    "name": "ipython",
    "version": 3
   },
   "file_extension": ".py",
   "mimetype": "text/x-python",
   "name": "python",
   "nbconvert_exporter": "python",
   "pygments_lexer": "ipython3",
   "version": "3.8.16"
  }
 },
 "nbformat": 4,
 "nbformat_minor": 5
}
