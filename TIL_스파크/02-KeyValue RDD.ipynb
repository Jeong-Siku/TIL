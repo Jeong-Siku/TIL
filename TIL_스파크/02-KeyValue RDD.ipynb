{
 "cells": [
  {
   "cell_type": "markdown",
   "id": "66c57b7d",
   "metadata": {},
   "source": [
    "# Spark Context 설정"
   ]
  },
  {
   "cell_type": "code",
   "execution_count": 1,
   "id": "0ea18a06",
   "metadata": {},
   "outputs": [
    {
     "name": "stderr",
     "output_type": "stream",
     "text": [
      "WARNING: An illegal reflective access operation has occurred\n",
      "WARNING: Illegal reflective access by org.apache.spark.unsafe.Platform (file:/home/ubuntu/spark-3.2.4/jars/spark-unsafe_2.12-3.2.4.jar) to constructor java.nio.DirectByteBuffer(long,int)\n",
      "WARNING: Please consider reporting this to the maintainers of org.apache.spark.unsafe.Platform\n",
      "WARNING: Use --illegal-access=warn to enable warnings of further illegal reflective access operations\n",
      "WARNING: All illegal access operations will be denied in a future release\n",
      "Using Spark's default log4j profile: org/apache/spark/log4j-defaults.properties\n",
      "Setting default log level to \"WARN\".\n",
      "To adjust logging level use sc.setLogLevel(newLevel). For SparkR, use setLogLevel(newLevel).\n",
      "23/06/02 04:02:37 WARN NativeCodeLoader: Unable to load native-hadoop library for your platform... using builtin-java classes where applicable\n"
     ]
    }
   ],
   "source": [
    "from pyspark import SparkConf, SparkContext\n",
    "\n",
    "conf = SparkConf().setMaster('local').setAppName(\"restaurant-review-average\")\n",
    "sc = SparkContext(conf=conf)\n",
    "\n",
    "# master = namenode\n",
    "# worker = datanode 원활한 진행을 위해 서로 같은 위치에 둔다.\n",
    "# hadoop을 부르지 못했기에 나오는 에러"
   ]
  },
  {
   "cell_type": "markdown",
   "id": "922e5bf5",
   "metadata": {},
   "source": [
    "# CSV 파일을 RDD 로딩"
   ]
  },
  {
   "cell_type": "code",
   "execution_count": 7,
   "id": "2d33c5e1",
   "metadata": {},
   "outputs": [],
   "source": [
    "filepath = \"/home/ubuntu/working/spark-examples/data/restaurant_reviews.csv\""
   ]
  },
  {
   "cell_type": "code",
   "execution_count": 8,
   "id": "1ae42276",
   "metadata": {},
   "outputs": [
    {
     "data": {
      "text/plain": [
       "file:////home/ubuntu/working/spark-examples/data/restaurant_reviews.csv MapPartitionsRDD[5] at textFile at NativeMethodAccessorImpl.java:0"
      ]
     },
     "execution_count": 8,
     "metadata": {},
     "output_type": "execute_result"
    }
   ],
   "source": [
    "lines = sc.textFile(f\"file:///{filepath}\")\n",
    "lines"
   ]
  },
  {
   "cell_type": "code",
   "execution_count": 9,
   "id": "22ddfd4b",
   "metadata": {},
   "outputs": [
    {
     "data": {
      "text/plain": [
       "['id,item,cateogry,reviews,',\n",
       " '0,짜장면,중식,125,',\n",
       " '1,짬뽕,중식,235,',\n",
       " '2,김밥,분식,32,',\n",
       " '3,떡볶이,분식,534,',\n",
       " '4,라멘,일식,223,',\n",
       " '5,돈가스,일식,52,',\n",
       " '6,우동,일식,12,',\n",
       " '7,쌀국수,아시안,312,',\n",
       " '8,햄버거,패스트푸드,12,',\n",
       " '9,치킨,패스트푸드,23']"
      ]
     },
     "execution_count": 9,
     "metadata": {},
     "output_type": "execute_result"
    }
   ],
   "source": [
    "# collect(): rdd 내의 데이터를 모두 출력\n",
    "lines.collect()\n",
    "# 문자열!!"
   ]
  },
  {
   "cell_type": "code",
   "execution_count": 10,
   "id": "8e7216d0",
   "metadata": {},
   "outputs": [
    {
     "name": "stderr",
     "output_type": "stream",
     "text": [
      "                                                                                \r"
     ]
    },
    {
     "data": {
      "text/plain": [
       "PythonRDD[7] at RDD at PythonRDD.scala:53"
      ]
     },
     "execution_count": 10,
     "metadata": {},
     "output_type": "execute_result"
    }
   ],
   "source": [
    "# header 제거\n",
    "header = lines.first() # 첫번쨰 자료\n",
    "\n",
    "datas = lines.filter(lambda row : row !=header)\n",
    "datas"
   ]
  },
  {
   "cell_type": "code",
   "execution_count": 11,
   "id": "3f89a692",
   "metadata": {},
   "outputs": [
    {
     "data": {
      "text/plain": [
       "['0,짜장면,중식,125,',\n",
       " '1,짬뽕,중식,235,',\n",
       " '2,김밥,분식,32,',\n",
       " '3,떡볶이,분식,534,',\n",
       " '4,라멘,일식,223,',\n",
       " '5,돈가스,일식,52,',\n",
       " '6,우동,일식,12,',\n",
       " '7,쌀국수,아시안,312,',\n",
       " '8,햄버거,패스트푸드,12,',\n",
       " '9,치킨,패스트푸드,23']"
      ]
     },
     "execution_count": 11,
     "metadata": {},
     "output_type": "execute_result"
    }
   ],
   "source": [
    "datas.collect()"
   ]
  },
  {
   "cell_type": "code",
   "execution_count": 14,
   "id": "29ce65ad",
   "metadata": {},
   "outputs": [],
   "source": [
    "# 파싱 : 원하는 데이터의 형태로 변경\n",
    "def parse_task(row):\n",
    "    # 2번 3번 필드 반환. 단, 3번 필드는 정수로 리턴\n",
    "    fields = row.split(',')\n",
    "    \n",
    "    category = fields[2]\n",
    "    review_cnt = int(fields[3])\n",
    "    \n",
    "    return category, review_cnt\n"
   ]
  },
  {
   "cell_type": "code",
   "execution_count": 15,
   "id": "0d72db9c",
   "metadata": {
    "scrolled": true
   },
   "outputs": [
    {
     "data": {
      "text/plain": [
       "('중식', 125)"
      ]
     },
     "execution_count": 15,
     "metadata": {},
     "output_type": "execute_result"
    }
   ],
   "source": [
    "parse_task('0,짜장면,중식,125,')"
   ]
  },
  {
   "cell_type": "markdown",
   "id": "23945f1d",
   "metadata": {},
   "source": [
    "### RDD 내의 모든 데이터에 대해 `parse_task`함수를 적용 후 추출(`map`)"
   ]
  },
  {
   "cell_type": "code",
   "execution_count": 16,
   "id": "aff75545",
   "metadata": {},
   "outputs": [
    {
     "data": {
      "text/plain": [
       "PythonRDD[8] at RDD at PythonRDD.scala:53"
      ]
     },
     "execution_count": 16,
     "metadata": {},
     "output_type": "execute_result"
    }
   ],
   "source": [
    "category_reviews = datas.map(parse_task)\n",
    "category_reviews\n",
    "# transforamtions"
   ]
  },
  {
   "cell_type": "code",
   "execution_count": 17,
   "id": "4fc8c2ac",
   "metadata": {},
   "outputs": [
    {
     "data": {
      "text/plain": [
       "[('중식', 125),\n",
       " ('중식', 235),\n",
       " ('분식', 32),\n",
       " ('분식', 534),\n",
       " ('일식', 223),\n",
       " ('일식', 52),\n",
       " ('일식', 12),\n",
       " ('아시안', 312),\n",
       " ('패스트푸드', 12),\n",
       " ('패스트푸드', 23)]"
      ]
     },
     "execution_count": 17,
     "metadata": {},
     "output_type": "execute_result"
    }
   ],
   "source": [
    "category_reviews.collect()\n",
    "# keyvalue RDD 형태로!\n",
    "# RDD가 자동으로 셔플한 것임. 같은 것들끼리 모아놓음. 정렬과 다름. 파티션을 배치"
   ]
  },
  {
   "cell_type": "markdown",
   "id": "4dc57f68",
   "metadata": {},
   "source": [
    "카테고리 별 리뷰 개수 평균"
   ]
  },
  {
   "cell_type": "code",
   "execution_count": 19,
   "id": "42db549e",
   "metadata": {
    "scrolled": true
   },
   "outputs": [
    {
     "data": {
      "text/plain": [
       "[('중식', (125, 1)),\n",
       " ('중식', (235, 1)),\n",
       " ('분식', (32, 1)),\n",
       " ('분식', (534, 1)),\n",
       " ('일식', (223, 1)),\n",
       " ('일식', (52, 1)),\n",
       " ('일식', (12, 1)),\n",
       " ('아시안', (312, 1)),\n",
       " ('패스트푸드', (12, 1)),\n",
       " ('패스트푸드', (23, 1))]"
      ]
     },
     "execution_count": 19,
     "metadata": {},
     "output_type": "execute_result"
    }
   ],
   "source": [
    "# 리덕션 필요\n",
    "# values의 형태 변환\n",
    "# mapvalues를 주로 사용할 것, map을 사용할 경우 파티션이 무너질 경우가 생김. \n",
    "# 셔플이 많이 일어남\n",
    "category_reviews_count = category_reviews.mapValues(lambda x: (x,1))\n",
    "category_reviews_count.collect()"
   ]
  },
  {
   "cell_type": "markdown",
   "id": "6763e587",
   "metadata": {},
   "source": [
    "reduceByKey를 이용해 `Key`별 `Value`에 대한 집계를 수행. 집계 Task정의가 필요하다(함수)"
   ]
  },
  {
   "cell_type": "code",
   "execution_count": 23,
   "id": "707a81fa",
   "metadata": {},
   "outputs": [
    {
     "name": "stderr",
     "output_type": "stream",
     "text": [
      "                                                                                \r"
     ]
    },
    {
     "data": {
      "text/plain": [
       "[('중식', (360, 2)),\n",
       " ('분식', (566, 2)),\n",
       " ('일식', (287, 3)),\n",
       " ('아시안', (312, 1)),\n",
       " ('패스트푸드', (35, 2))]"
      ]
     },
     "execution_count": 23,
     "metadata": {},
     "output_type": "execute_result"
    }
   ],
   "source": [
    "reduced = category_reviews_count.reduceByKey(lambda x,y: (x[0]+y[0],x[1]+y[1]))\n",
    "reduced.collect()"
   ]
  },
  {
   "cell_type": "markdown",
   "id": "e84d4679",
   "metadata": {},
   "source": [
    "예를 들어 중식의 x,y\n",
    "- 첫 번째 중식: (125,1) -> x\n",
    "- 두 번째 중식: (235,1) -> y"
   ]
  },
  {
   "cell_type": "markdown",
   "id": "9f50cf86",
   "metadata": {},
   "source": [
    "- 리뷰의 개수끼리 합치기: x[0] + y[0]\n",
    "- 건수 끼리 합치기: x[1] + y[1]"
   ]
  },
  {
   "cell_type": "code",
   "execution_count": 26,
   "id": "98b4d7a3",
   "metadata": {},
   "outputs": [
    {
     "data": {
      "text/plain": [
       "[('중식', 180.0),\n",
       " ('분식', 283.0),\n",
       " ('일식', 95.66666666666667),\n",
       " ('아시안', 312.0),\n",
       " ('패스트푸드', 17.5)]"
      ]
     },
     "execution_count": 26,
     "metadata": {},
     "output_type": "execute_result"
    }
   ],
   "source": [
    "average = reduced.mapValues(lambda x: x[0]/x[1])\n",
    "average.collect()"
   ]
  },
  {
   "cell_type": "code",
   "execution_count": 27,
   "id": "b0c5f7f6",
   "metadata": {},
   "outputs": [],
   "source": [
    "sc.stop()"
   ]
  },
  {
   "attachments": {},
   "cell_type": "markdown",
   "id": "2f08ec7e",
   "metadata": {},
   "source": [
    "# Transformations\n",
    "- map()\n",
    "  - 데이터 마다 배열을 만드는 것\n",
    "- flatMap()  # 자바 형식이기 때문에 단어와 단어사이를 잇는 문자를 대문자로 치환\n",
    "  - 평탄화(1차원)된 데이터 배열을 만드는 것\n",
    "- filter()\n",
    "- distinct()\n",
    "- reduceByKey\n",
    "- groupByKey()\n",
    "- mapValues()\n",
    "- flatMapValues()\n",
    "- sortByKey()"
   ]
  },
  {
   "attachments": {},
   "cell_type": "markdown",
   "id": "23537cc5",
   "metadata": {},
   "source": [
    "# Actions\n",
    "- collect()\n",
    "  - 출력\n",
    "- count()\n",
    "- countByValue()\n",
    "- take()\n",
    "  - 정해진 개수 출력\n",
    "- top()\n",
    "- reduce()\n",
    "- fold()\n",
    "- foreach()"
   ]
  },
  {
   "cell_type": "code",
   "execution_count": null,
   "id": "0a20aabf",
   "metadata": {},
   "outputs": [],
   "source": []
  },
  {
   "cell_type": "code",
   "execution_count": null,
   "id": "bd5baa94",
   "metadata": {},
   "outputs": [],
   "source": []
  },
  {
   "cell_type": "code",
   "execution_count": null,
   "id": "b806dc62",
   "metadata": {},
   "outputs": [],
   "source": []
  }
 ],
 "metadata": {
  "kernelspec": {
   "display_name": "base",
   "language": "python",
   "name": "python3"
  },
  "language_info": {
   "codemirror_mode": {
    "name": "ipython",
    "version": 3
   },
   "file_extension": ".py",
   "mimetype": "text/x-python",
   "name": "python",
   "nbconvert_exporter": "python",
   "pygments_lexer": "ipython3",
   "version": "3.9.13"
  },
  "vscode": {
   "interpreter": {
    "hash": "e35aa464e4f518e3bd80b827b0a7a82608bf016d4c837622545242b48b9bfee6"
   }
  }
 },
 "nbformat": 4,
 "nbformat_minor": 5
}
