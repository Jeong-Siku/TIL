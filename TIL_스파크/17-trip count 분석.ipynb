{
 "cells": [
  {
   "cell_type": "markdown",
   "id": "fcbac0be",
   "metadata": {},
   "source": [
    "뉴욕 택시 데이터 활용\n",
    "- `fhvhv_tripdata_2020-03.csv` : 2020년 3월 뉴욕 택시 데이터\n",
    "    - `hvfhs_license_num` : 택시 회사 ID(뉴욕 택시, 우버, 등등...)\n",
    "    - `dispatching_base_num` : 택시 회사 별 고유 택시 ID\n",
    "    - `pickup_datetime` : 승객을 태운 시간\n",
    "    - `dropoff_datetime` : 승객이 하차한 시간\n",
    "    - `PULocationID` : `PickUp LocationID`. 승객이 승차한 지역 ID\n",
    "    - `DOLocationID` : `DropOff LocationID`. 승객이 하차한 지역 ID"
   ]
  },
  {
   "cell_type": "code",
   "execution_count": 1,
   "id": "325209e8",
   "metadata": {},
   "outputs": [
    {
     "name": "stderr",
     "output_type": "stream",
     "text": [
      "WARNING: An illegal reflective access operation has occurred\n",
      "WARNING: Illegal reflective access by org.apache.spark.unsafe.Platform (file:/home/ubuntu/spark-3.2.4/jars/spark-unsafe_2.12-3.2.4.jar) to constructor java.nio.DirectByteBuffer(long,int)\n",
      "WARNING: Please consider reporting this to the maintainers of org.apache.spark.unsafe.Platform\n",
      "WARNING: Use --illegal-access=warn to enable warnings of further illegal reflective access operations\n",
      "WARNING: All illegal access operations will be denied in a future release\n",
      "Using Spark's default log4j profile: org/apache/spark/log4j-defaults.properties\n",
      "Setting default log level to \"WARN\".\n",
      "To adjust logging level use sc.setLogLevel(newLevel). For SparkR, use setLogLevel(newLevel).\n",
      "23/06/13 06:04:49 WARN NativeCodeLoader: Unable to load native-hadoop library for your platform... using builtin-java classes where applicable\n"
     ]
    }
   ],
   "source": [
    "from pyspark.sql import SparkSession\n",
    "\n",
    "spark = SparkSession.builder.appName(\"trip_count_sql\").getOrCreate()"
   ]
  },
  {
   "cell_type": "code",
   "execution_count": 4,
   "id": "99e617ab",
   "metadata": {},
   "outputs": [
    {
     "name": "stderr",
     "output_type": "stream",
     "text": [
      "                                                                                \r"
     ]
    },
    {
     "name": "stdout",
     "output_type": "stream",
     "text": [
      "+-----------------+--------------------+-------------------+-------------------+------------+------------+-------+\n",
      "|hvfhs_license_num|dispatching_base_num|    pickup_datetime|   dropoff_datetime|PULocationID|DOLocationID|SR_Flag|\n",
      "+-----------------+--------------------+-------------------+-------------------+------------+------------+-------+\n",
      "|           HV0005|              B02510|2020-03-01 00:03:40|2020-03-01 00:23:39|          81|         159|   null|\n",
      "|           HV0005|              B02510|2020-03-01 00:28:05|2020-03-01 00:38:57|         168|         119|   null|\n",
      "|           HV0003|              B02764|2020-03-01 00:03:07|2020-03-01 00:15:04|         137|         209|      1|\n",
      "|           HV0003|              B02764|2020-03-01 00:18:42|2020-03-01 00:38:42|         209|          80|   null|\n",
      "|           HV0003|              B02764|2020-03-01 00:44:24|2020-03-01 00:58:44|         256|         226|   null|\n",
      "+-----------------+--------------------+-------------------+-------------------+------------+------------+-------+\n",
      "only showing top 5 rows\n",
      "\n"
     ]
    }
   ],
   "source": [
    "filepath = \"/home/ubuntu/working/spark-examples/data/fhvhv_tripdata_2020-03.csv\"\n",
    "taxi_df = spark.read.csv(f\"file://{filepath}\", inferSchema=True, header=True)\n",
    "taxi_df.show(5)"
   ]
  },
  {
   "cell_type": "code",
   "execution_count": 11,
   "id": "4ce2aac6",
   "metadata": {},
   "outputs": [],
   "source": [
    "taxi_df.createOrReplaceTempView(\"mobility_data\")"
   ]
  },
  {
   "cell_type": "code",
   "execution_count": 12,
   "id": "ed50a73a",
   "metadata": {},
   "outputs": [
    {
     "name": "stderr",
     "output_type": "stream",
     "text": [
      "[Stage 6:==================================================>        (6 + 1) / 7]\r"
     ]
    },
    {
     "name": "stdout",
     "output_type": "stream",
     "text": [
      "+-----------+------+\n",
      "|pickup_date| trips|\n",
      "+-----------+------+\n",
      "| 2020-03-03|697880|\n",
      "| 2020-03-02|648986|\n",
      "| 2020-03-01|784246|\n",
      "| 2020-03-06|872012|\n",
      "| 2020-03-05|731165|\n",
      "| 2020-03-04|707879|\n",
      "| 2020-03-09|628940|\n",
      "| 2020-03-08|731222|\n",
      "| 2020-03-07|886071|\n",
      "| 2020-03-10|626474|\n",
      "| 2020-03-12|643257|\n",
      "| 2020-03-11|628601|\n",
      "| 2020-03-16|391518|\n",
      "| 2020-03-13|660914|\n",
      "| 2020-03-15|448125|\n",
      "| 2020-03-14|569397|\n",
      "| 2020-03-26|141607|\n",
      "| 2020-03-25|141088|\n",
      "| 2020-03-20|261900|\n",
      "| 2020-03-24|141686|\n",
      "+-----------+------+\n",
      "only showing top 20 rows\n",
      "\n"
     ]
    },
    {
     "name": "stderr",
     "output_type": "stream",
     "text": [
      "\r\n",
      "                                                                                \r"
     ]
    }
   ],
   "source": [
    "# 승차 년-월-일 별 카운트 세기\n",
    "query=\"\"\"\n",
    "select pickup_date, count(*) as trips\n",
    "\n",
    "from (\n",
    "        select split(pickup_datetime, ' ')[0] as pickup_date\n",
    "        from mobility_data\n",
    ")\n",
    "group by pickup_date\n",
    "\n",
    "\"\"\"\n",
    "spark.sql(query).show()\n"
   ]
  },
  {
   "cell_type": "code",
   "execution_count": 13,
   "id": "aa5014ac",
   "metadata": {},
   "outputs": [
    {
     "name": "stdout",
     "output_type": "stream",
     "text": [
      "+----------+-------------+--------------------+------------+\n",
      "|LocationID|      Borough|                Zone|service_zone|\n",
      "+----------+-------------+--------------------+------------+\n",
      "|         1|          EWR|      Newark Airport|         EWR|\n",
      "|         2|       Queens|         Jamaica Bay|   Boro Zone|\n",
      "|         3|        Bronx|Allerton/Pelham G...|   Boro Zone|\n",
      "|         4|    Manhattan|       Alphabet City| Yellow Zone|\n",
      "|         5|Staten Island|       Arden Heights|   Boro Zone|\n",
      "+----------+-------------+--------------------+------------+\n",
      "only showing top 5 rows\n",
      "\n"
     ]
    }
   ],
   "source": [
    "zone_filepath= \"/home/ubuntu/working/spark-examples/data/taxi+_zone_lookup.csv\"\n",
    "zone_df = spark.read.csv(f\"file://{zone_filepath}\", inferSchema=True, header=True)\n",
    "zone_df.show(5)"
   ]
  },
  {
   "cell_type": "code",
   "execution_count": 14,
   "id": "154b20e6",
   "metadata": {},
   "outputs": [],
   "source": [
    "zone_df.createOrReplaceTempView(\"zone_data\")"
   ]
  },
  {
   "cell_type": "code",
   "execution_count": 15,
   "id": "5eefe419",
   "metadata": {},
   "outputs": [
    {
     "name": "stderr",
     "output_type": "stream",
     "text": [
      "[Stage 13:=================================================>        (6 + 1) / 7]\r"
     ]
    },
    {
     "name": "stdout",
     "output_type": "stream",
     "text": [
      "+-------------+-------+\n",
      "|      borough|  trips|\n",
      "+-------------+-------+\n",
      "|       Queens|2437383|\n",
      "|          EWR|    362|\n",
      "|      Unknown|    845|\n",
      "|     Brooklyn|3735764|\n",
      "|Staten Island| 178818|\n",
      "|    Manhattan|4953140|\n",
      "|        Bronx|2086592|\n",
      "+-------------+-------+\n",
      "\n"
     ]
    },
    {
     "name": "stderr",
     "output_type": "stream",
     "text": [
      "\r\n",
      "                                                                                \r"
     ]
    }
   ],
   "source": [
    "# Borough 별 택시 trip 수, 뉴욕 노랑택시 trips 수\n",
    "query=\"\"\"\n",
    "    SELECT zone_data.borough, count(zone_data.borough) as trips\n",
    "    FROM mobility_data\n",
    "    JOIN zone_data ON mobility_data.PULocationID = zone_data.LocationID\n",
    "    \n",
    "    GROUP BY zone_data.borough\n",
    "\"\"\"\n",
    "\n",
    "spark.sql(query).show()"
   ]
  },
  {
   "cell_type": "code",
   "execution_count": 16,
   "id": "1cff16e3",
   "metadata": {},
   "outputs": [
    {
     "name": "stderr",
     "output_type": "stream",
     "text": [
      "[Stage 17:=================================================>        (6 + 1) / 7]\r"
     ]
    },
    {
     "name": "stdout",
     "output_type": "stream",
     "text": [
      "+-------------+-------+\n",
      "|      borough|  trips|\n",
      "+-------------+-------+\n",
      "|       Queens|1863688|\n",
      "|      Unknown|    548|\n",
      "|     Brooklyn|2779375|\n",
      "|Staten Island| 148199|\n",
      "|    Manhattan|3270666|\n",
      "|        Bronx|1774283|\n",
      "|          EWR|      4|\n",
      "+-------------+-------+\n",
      "\n"
     ]
    },
    {
     "name": "stderr",
     "output_type": "stream",
     "text": [
      "\r\n",
      "                                                                                \r"
     ]
    }
   ],
   "source": [
    "# Borough 별 뉴욕 노랑택시 trips 수\n",
    "query=\"\"\"\n",
    "    SELECT zone_data.borough, count(zone_data.borough) as trips\n",
    "    FROM mobility_data\n",
    "    JOIN zone_data ON mobility_data.PULocationID = zone_data.LocationID\n",
    "    WHERE hvfhs_license_num = \"HV0003\"\n",
    "    GROUP BY zone_data.borough\n",
    "\"\"\"\n",
    "\n",
    "spark.sql(query).show()"
   ]
  },
  {
   "cell_type": "code",
   "execution_count": 17,
   "id": "0422d68d",
   "metadata": {
    "scrolled": true
   },
   "outputs": [
    {
     "name": "stdout",
     "output_type": "stream",
     "text": [
      "== Parsed Logical Plan ==\n",
      "'Aggregate ['zone_data.borough], ['zone_data.borough, 'count('zone_data.borough) AS trips#246]\n",
      "+- 'Filter ('hvfhs_license_num = HV0003)\n",
      "   +- 'Join Inner, ('mobility_data.PULocationID = 'zone_data.LocationID)\n",
      "      :- 'UnresolvedRelation [mobility_data], [], false\n",
      "      +- 'UnresolvedRelation [zone_data], [], false\n",
      "\n",
      "== Analyzed Logical Plan ==\n",
      "borough: string, trips: bigint\n",
      "Aggregate [borough#175], [borough#175, count(borough#175) AS trips#246L]\n",
      "+- Filter (hvfhs_license_num#16 = HV0003)\n",
      "   +- Join Inner, (PULocationID#20 = LocationID#174)\n",
      "      :- SubqueryAlias mobility_data\n",
      "      :  +- View (`mobility_data`, [hvfhs_license_num#16,dispatching_base_num#17,pickup_datetime#18,dropoff_datetime#19,PULocationID#20,DOLocationID#21,SR_Flag#22])\n",
      "      :     +- Relation [hvfhs_license_num#16,dispatching_base_num#17,pickup_datetime#18,dropoff_datetime#19,PULocationID#20,DOLocationID#21,SR_Flag#22] csv\n",
      "      +- SubqueryAlias zone_data\n",
      "         +- View (`zone_data`, [LocationID#174,Borough#175,Zone#176,service_zone#177])\n",
      "            +- Relation [LocationID#174,Borough#175,Zone#176,service_zone#177] csv\n",
      "\n",
      "== Optimized Logical Plan ==\n",
      "Aggregate [borough#175], [borough#175, count(borough#175) AS trips#246L]\n",
      "+- Project [Borough#175]\n",
      "   +- Join Inner, (PULocationID#20 = LocationID#174)\n",
      "      :- Project [PULocationID#20]\n",
      "      :  +- Filter ((isnotnull(hvfhs_license_num#16) AND (hvfhs_license_num#16 = HV0003)) AND isnotnull(PULocationID#20))\n",
      "      :     +- Relation [hvfhs_license_num#16,dispatching_base_num#17,pickup_datetime#18,dropoff_datetime#19,PULocationID#20,DOLocationID#21,SR_Flag#22] csv\n",
      "      +- Project [LocationID#174, Borough#175]\n",
      "         +- Filter isnotnull(LocationID#174)\n",
      "            +- Relation [LocationID#174,Borough#175,Zone#176,service_zone#177] csv\n",
      "\n",
      "== Physical Plan ==\n",
      "AdaptiveSparkPlan isFinalPlan=false\n",
      "+- HashAggregate(keys=[borough#175], functions=[count(borough#175)], output=[borough#175, trips#246L])\n",
      "   +- Exchange hashpartitioning(borough#175, 200), ENSURE_REQUIREMENTS, [plan_id=488]\n",
      "      +- HashAggregate(keys=[borough#175], functions=[partial_count(borough#175)], output=[borough#175, count#251L])\n",
      "         +- Project [Borough#175]\n",
      "            +- BroadcastHashJoin [PULocationID#20], [LocationID#174], Inner, BuildRight, false\n",
      "               :- Project [PULocationID#20]\n",
      "               :  +- Filter ((isnotnull(hvfhs_license_num#16) AND (hvfhs_license_num#16 = HV0003)) AND isnotnull(PULocationID#20))\n",
      "               :     +- FileScan csv [hvfhs_license_num#16,PULocationID#20] Batched: false, DataFilters: [isnotnull(hvfhs_license_num#16), (hvfhs_license_num#16 = HV0003), isnotnull(PULocationID#20)], Format: CSV, Location: InMemoryFileIndex(1 paths)[file:/home/ubuntu/working/spark-examples/data/fhvhv_tripdata_2020-03.csv], PartitionFilters: [], PushedFilters: [IsNotNull(hvfhs_license_num), EqualTo(hvfhs_license_num,HV0003), IsNotNull(PULocationID)], ReadSchema: struct<hvfhs_license_num:string,PULocationID:int>\n",
      "               +- BroadcastExchange HashedRelationBroadcastMode(List(cast(input[0, int, false] as bigint)),false), [plan_id=483]\n",
      "                  +- Filter isnotnull(LocationID#174)\n",
      "                     +- FileScan csv [LocationID#174,Borough#175] Batched: false, DataFilters: [isnotnull(LocationID#174)], Format: CSV, Location: InMemoryFileIndex(1 paths)[file:/home/ubuntu/working/spark-examples/data/taxi+_zone_lookup.csv], PartitionFilters: [], PushedFilters: [IsNotNull(LocationID)], ReadSchema: struct<LocationID:int,Borough:string>\n",
      "\n"
     ]
    }
   ],
   "source": [
    "spark.sql(query).explain(True)"
   ]
  },
  {
   "cell_type": "code",
   "execution_count": 18,
   "id": "69a6e63b",
   "metadata": {},
   "outputs": [],
   "source": [
    "spark.stop()"
   ]
  },
  {
   "cell_type": "code",
   "execution_count": null,
   "id": "71968954",
   "metadata": {},
   "outputs": [],
   "source": []
  }
 ],
 "metadata": {
  "kernelspec": {
   "display_name": "base",
   "language": "python",
   "name": "python3"
  },
  "language_info": {
   "codemirror_mode": {
    "name": "ipython",
    "version": 3
   },
   "file_extension": ".py",
   "mimetype": "text/x-python",
   "name": "python",
   "nbconvert_exporter": "python",
   "pygments_lexer": "ipython3",
   "version": "3.9.13"
  },
  "vscode": {
   "interpreter": {
    "hash": "e35aa464e4f518e3bd80b827b0a7a82608bf016d4c837622545242b48b9bfee6"
   }
  }
 },
 "nbformat": 4,
 "nbformat_minor": 5
}
