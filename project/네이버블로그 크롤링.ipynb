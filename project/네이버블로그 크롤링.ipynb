{
 "cells": [
  {
   "cell_type": "code",
   "execution_count": 10,
   "metadata": {},
   "outputs": [],
   "source": [
    "CLIENT_ID = \"\"\n",
    "NAVER_API_KEY = \"\"\n",
    "NAVER_WEB_SEARCH_URL = \"https://openapi.naver.com/v1/search/blog.json?query={}&sort=date\""
   ]
  },
  {
   "cell_type": "code",
   "execution_count": 11,
   "metadata": {},
   "outputs": [],
   "source": [
    "import re\n",
    "import os\n",
    "import sys\n",
    "import urllib.request\n",
    "import pandas as pd\n",
    "import json"
   ]
  },
  {
   "cell_type": "code",
   "execution_count": 12,
   "metadata": {},
   "outputs": [],
   "source": [
    "from selenium import webdriver\n",
    "from selenium.webdriver.chrome.service import Service\n",
    "from webdriver_manager.chrome import ChromeDriverManager\n",
    "from selenium.webdriver.common.by import By\n",
    "import time\n",
    "import csv\n",
    "import pandas as pd\n",
    "import re\n",
    "import os\n",
    "import sys\n",
    "import urllib.request\n",
    "import pandas as pd\n",
    "import json\n",
    "\n",
    "CLIENT_ID = \"QJHcVytm5ItA03xEzf1D\"\n",
    "NAVER_API_KEY = \"jC4tK6Jawq\"\n",
    "NAVER_WEB_SEARCH_URL = \"https://openapi.naver.com/v1/search/blog.json?query={}&sort=date\"\n",
    "\n",
    "def get_chrome_driver():\n",
    "    # 1.브라우저 옵션 세팅\n",
    "    chrome_options = webdriver.ChromeOptions()\n",
    "    chrome_options.add_argument('--no-sandbox')\n",
    "    chrome_options.add_argument('--disable-dev-shm-usage')\n",
    "    options.addArguments(\"lang=ko\")\n",
    "    \n",
    "    # 2.driver 생성\n",
    "    driver = webdriver.Chrome(\n",
    "        service = Service(ChromeDriverManager().install()),\n",
    "        options = chrome_options\n",
    "                    )\n",
    "    return driver"
   ]
  },
  {
   "cell_type": "code",
   "execution_count": 13,
   "metadata": {},
   "outputs": [],
   "source": [
    "# 특정 단어 검색 및 데이터프레임 형성\n",
    "\n",
    "############################################################################# STEP 1\n",
    "search_li = ['\"금천구\" 가볼만 한 곳','\"안양시 동안\"구 가볼만 한 곳','\"기장\"군 가볼만 한 곳'] # @@@@ 여기에 원하는 검색어 넣기 @@@@\n",
    "result_urls = [[] for i in range(len(search_li))]\n",
    "# '\"광주 서구\" 가볼만 한 곳'\n",
    "# query = input(\"검색할 내용 : \")\n",
    "\n",
    "for i in search_li:\n",
    "    \n",
    "    for start_num in range(1,1000,100):\n",
    "        try:\n",
    "            client_id = CLIENT_ID\n",
    "            client_secret = NAVER_API_KEY\n",
    "            encText = urllib.parse.quote(i) # json 결과\n",
    "            url = \"https://openapi.naver.com/v1/search/blog?query=\" + encText + \"&display=100&sort=date&start={}\".format(start_num)# JSON 결과\n",
    "            # url = \"https://openapi.naver.com/v1/search/blog.xml?query=\" + encText # XML 결과\n",
    "            request = urllib.request.Request(url)\n",
    "            request.add_header(\"X-Naver-Client-Id\",client_id)\n",
    "            request.add_header(\"X-Naver-Client-Secret\",client_secret)\n",
    "            response = urllib.request.urlopen(request) \n",
    "            rescode = response.getcode()\n",
    "\n",
    "            if(rescode==200):\n",
    "                # response_body = response.read()\n",
    "                # response_body = json.dumps(json.load(response),indent=4, ensure_ascii=False)\n",
    "                # response_body_dict = json.loads(response_body.decode(\"utf-8\")) # 딕셔너리화\n",
    "                response_body = json.load(response) # 딕셔너리 형태\n",
    "                if start_num==1 and i == search_li[0]:\n",
    "                    df_search = pd.DataFrame(response_body)\n",
    "                df_search_new = pd.DataFrame(response_body) # 데이터프레임\n",
    "                df_search=pd.concat([df_search,df_search_new],axis=0,ignore_index=True)\n",
    "                \n",
    "            else:\n",
    "                print(\"Error Code:\" + rescode)\n",
    "                \n",
    "            for p in range(len(response_body['items'])):\n",
    "                result_urls[search_li.index(i)].append(response_body['items'][p]['link'])\n",
    "        except:\n",
    "            pass"
   ]
  },
  {
   "attachments": {},
   "cell_type": "markdown",
   "metadata": {},
   "source": [
    "driver=webdriver.Chrome('./chromedriver')\n",
    "driver.implicitly_wait(2)"
   ]
  },
  {
   "cell_type": "code",
   "execution_count": 14,
   "metadata": {},
   "outputs": [],
   "source": [
    "# link별로 본문내용 추출\n",
    "contents = [[] for i in range(len(search_li))]\n",
    "\n",
    "for k in result_urls:\n",
    "    for i in k:\n",
    "        driver.get(i)\n",
    "        time.sleep(1)\n",
    "        try:\n",
    "            #블로그 안 본문이 있는 iframe에 접근하기(pc버전)\n",
    "            driver.switch_to.frame(\"mainFrame\")\n",
    "            #모바일 버전으로 변경할것\n",
    "            #본문 내용 크롤링하기\n",
    "            try:\n",
    "                a = driver.find_element(By.CSS_SELECTOR,'div.se-main-container').text\n",
    "                contents[result_urls.index(k)].append(a.replace(\"\\n\",'').replace('/','').strip())\n",
    "            # NoSuchElement 오류시 예외처리(구버전 블로그에 적용)\n",
    "        #     except NoSuchElementException:\n",
    "            except:\n",
    "                pass\n",
    "            #print(본문: \\n', a)\n",
    "        except:\n",
    "            pass\n",
    "driver.quit() #창닫기\n",
    "print(\"<<본문 크롤링이 완료되었습니다.>>\")"
   ]
  },
  {
   "cell_type": "code",
   "execution_count": 15,
   "metadata": {},
   "outputs": [],
   "source": [
    "# 데이터프레임 -> csv 파일 생성\n",
    "df_search_body.to_csv(query+\"_naver_blo############################################################################# STEP 4\n",
    "for i in range(len(search_li)):\n",
    "    news_df = pd.DataFrame({'search_li': contents[i]})\n",
    "    news_df = news_df.drop_duplicates()\n",
    "    #CSV로 저장하기\n",
    "    news_df.to_csv('NaverBlogs_%s.csv' % search_li[i].replace('\"',''), index=False, encoding='utf-8-sig')g.csv\",mode='w',encoding='utf-8')"
   ]
  }
 ],
 "metadata": {
  "kernelspec": {
   "display_name": "base",
   "language": "python",
   "name": "python3"
  },
  "language_info": {
   "codemirror_mode": {
    "name": "ipython",
    "version": 3
   },
   "file_extension": ".py",
   "mimetype": "text/x-python",
   "name": "python",
   "nbconvert_exporter": "python",
   "pygments_lexer": "ipython3",
   "version": "3.9.13"
  },
  "orig_nbformat": 4,
  "vscode": {
   "interpreter": {
    "hash": "e35aa464e4f518e3bd80b827b0a7a82608bf016d4c837622545242b48b9bfee6"
   }
  }
 },
 "nbformat": 4,
 "nbformat_minor": 2
}
