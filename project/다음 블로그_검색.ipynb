{
 "cells": [
  {
   "cell_type": "code",
   "execution_count": 17,
   "metadata": {},
   "outputs": [],
   "source": [
    "KAKAO_API_KEY = \"3f5005be79635b749c5700788289837d\"\n",
    "KAKAO_WEB_SEARCH_URL = \"https://dapi.kakao.com/v2/search/blog?query={}&sort=recency&size=50&page={}\"\n",
    "\n",
    "header = {\n",
    "    \"Authorization\": \"KakaoAK {}\".format(KAKAO_API_KEY)\n",
    "}"
   ]
  },
  {
   "cell_type": "code",
   "execution_count": 3,
   "metadata": {},
   "outputs": [],
   "source": [
    "import requests\n",
    "import pandas as pd"
   ]
  },
  {
   "cell_type": "code",
   "execution_count": 26,
   "metadata": {},
   "outputs": [],
   "source": [
    "# 검색할 단어 입력\n",
    "query = input(\"검색할 단어 : \")\n",
    "\n",
    "\n",
    "for start_num in range(1,51): # 시작할 페이지 지정\n",
    "    response = requests.get(\n",
    "    KAKAO_WEB_SEARCH_URL.format(query,start_num),\n",
    "    headers=header\n",
    ")\n",
    "    datas = response.json()\n",
    "    if start_num==1:\n",
    "        documents = datas['documents']  # 첫 데이터프레임 생성\n",
    "        df_search = pd.DataFrame(documents)\n",
    "    documents = datas['documents'] # meta와 documents 콜럼 중에서 documents만 남긴다.\n",
    "    df_search_new = pd.DataFrame(documents)\n",
    "    df_search=pd.concat([df_search,df_search_new],axis=0,ignore_index=True)\n",
    "\n",
    "df_search = df_search.drop([\"blogname\",\"thumbnail\"],axis=1) # 필요없는 콜럼 삭제\n"
   ]
  },
  {
   "cell_type": "code",
   "execution_count": 27,
   "metadata": {},
   "outputs": [],
   "source": [
    "df_search.to_csv(query+\"_daum_blog.csv\",mode='w',encoding='utf-8')"
   ]
  },
  {
   "cell_type": "code",
   "execution_count": null,
   "metadata": {},
   "outputs": [],
   "source": []
  }
 ],
 "metadata": {
  "kernelspec": {
   "display_name": "base",
   "language": "python",
   "name": "python3"
  },
  "language_info": {
   "codemirror_mode": {
    "name": "ipython",
    "version": 3
   },
   "file_extension": ".py",
   "mimetype": "text/x-python",
   "name": "python",
   "nbconvert_exporter": "python",
   "pygments_lexer": "ipython3",
   "version": "3.9.13"
  },
  "orig_nbformat": 4,
  "vscode": {
   "interpreter": {
    "hash": "e35aa464e4f518e3bd80b827b0a7a82608bf016d4c837622545242b48b9bfee6"
   }
  }
 },
 "nbformat": 4,
 "nbformat_minor": 2
}
