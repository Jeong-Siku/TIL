{
  "cells": [
    {
      "cell_type": "code",
      "execution_count": 1,
      "metadata": {
        "colab": {
          "base_uri": "https://localhost:8080/"
        },
        "id": "0fAmFBndkT1g",
        "outputId": "7830b369-9b90-41db-979b-396dc5ff2d51"
      },
      "outputs": [
        {
          "name": "stdout",
          "output_type": "stream",
          "text": [
            "Looking in indexes: https://pypi.org/simple, https://us-python.pkg.dev/colab-wheels/public/simple/\n",
            "Collecting selenium\n",
            "  Downloading selenium-4.9.1-py3-none-any.whl (6.6 MB)\n",
            "\u001b[2K     \u001b[90m━━━━━━━━━━━━━━━━━━━━━━━━━━━━━━━━━━━━━━━━\u001b[0m \u001b[32m6.6/6.6 MB\u001b[0m \u001b[31m36.5 MB/s\u001b[0m eta \u001b[36m0:00:00\u001b[0m\n",
            "\u001b[?25hRequirement already satisfied: urllib3[socks]<3,>=1.26 in /usr/local/lib/python3.10/dist-packages (from selenium) (1.26.15)\n",
            "Collecting trio~=0.17 (from selenium)\n",
            "  Downloading trio-0.22.0-py3-none-any.whl (384 kB)\n",
            "\u001b[2K     \u001b[90m━━━━━━━━━━━━━━━━━━━━━━━━━━━━━━━━━━━━━━\u001b[0m \u001b[32m384.9/384.9 kB\u001b[0m \u001b[31m14.7 MB/s\u001b[0m eta \u001b[36m0:00:00\u001b[0m\n",
            "\u001b[?25hCollecting trio-websocket~=0.9 (from selenium)\n",
            "  Downloading trio_websocket-0.10.2-py3-none-any.whl (17 kB)\n",
            "Requirement already satisfied: certifi>=2021.10.8 in /usr/local/lib/python3.10/dist-packages (from selenium) (2022.12.7)\n",
            "Requirement already satisfied: attrs>=19.2.0 in /usr/local/lib/python3.10/dist-packages (from trio~=0.17->selenium) (23.1.0)\n",
            "Requirement already satisfied: sortedcontainers in /usr/local/lib/python3.10/dist-packages (from trio~=0.17->selenium) (2.4.0)\n",
            "Collecting async-generator>=1.9 (from trio~=0.17->selenium)\n",
            "  Downloading async_generator-1.10-py3-none-any.whl (18 kB)\n",
            "Requirement already satisfied: idna in /usr/local/lib/python3.10/dist-packages (from trio~=0.17->selenium) (3.4)\n",
            "Collecting outcome (from trio~=0.17->selenium)\n",
            "  Downloading outcome-1.2.0-py2.py3-none-any.whl (9.7 kB)\n",
            "Requirement already satisfied: sniffio in /usr/local/lib/python3.10/dist-packages (from trio~=0.17->selenium) (1.3.0)\n",
            "Requirement already satisfied: exceptiongroup>=1.0.0rc9 in /usr/local/lib/python3.10/dist-packages (from trio~=0.17->selenium) (1.1.1)\n",
            "Collecting wsproto>=0.14 (from trio-websocket~=0.9->selenium)\n",
            "  Downloading wsproto-1.2.0-py3-none-any.whl (24 kB)\n",
            "Requirement already satisfied: PySocks!=1.5.7,<2.0,>=1.5.6 in /usr/local/lib/python3.10/dist-packages (from urllib3[socks]<3,>=1.26->selenium) (1.7.1)\n",
            "Collecting h11<1,>=0.9.0 (from wsproto>=0.14->trio-websocket~=0.9->selenium)\n",
            "  Downloading h11-0.14.0-py3-none-any.whl (58 kB)\n",
            "\u001b[2K     \u001b[90m━━━━━━━━━━━━━━━━━━━━━━━━━━━━━━━━━━━━━━━━\u001b[0m \u001b[32m58.3/58.3 kB\u001b[0m \u001b[31m4.9 MB/s\u001b[0m eta \u001b[36m0:00:00\u001b[0m\n",
            "\u001b[?25hInstalling collected packages: outcome, h11, async-generator, wsproto, trio, trio-websocket, selenium\n",
            "Successfully installed async-generator-1.10 h11-0.14.0 outcome-1.2.0 selenium-4.9.1 trio-0.22.0 trio-websocket-0.10.2 wsproto-1.2.0\n",
            "Get:1 http://security.ubuntu.com/ubuntu focal-security InRelease [114 kB]\n",
            "Get:2 https://cloud.r-project.org/bin/linux/ubuntu focal-cran40/ InRelease [3,622 B]\n",
            "Get:3 https://developer.download.nvidia.com/compute/cuda/repos/ubuntu2004/x86_64  InRelease [1,581 B]\n",
            "Hit:4 http://archive.ubuntu.com/ubuntu focal InRelease\n",
            "Get:5 http://archive.ubuntu.com/ubuntu focal-updates InRelease [114 kB]\n",
            "Hit:6 http://ppa.launchpad.net/c2d4u.team/c2d4u4.0+/ubuntu focal InRelease\n",
            "Get:7 http://archive.ubuntu.com/ubuntu focal-backports InRelease [108 kB]\n",
            "Hit:8 http://ppa.launchpad.net/cran/libgit2/ubuntu focal InRelease\n",
            "Hit:9 http://ppa.launchpad.net/deadsnakes/ppa/ubuntu focal InRelease\n",
            "Hit:10 http://ppa.launchpad.net/graphics-drivers/ppa/ubuntu focal InRelease\n",
            "Hit:11 http://ppa.launchpad.net/ubuntugis/ppa/ubuntu focal InRelease\n",
            "Get:12 https://developer.download.nvidia.com/compute/cuda/repos/ubuntu2004/x86_64  Packages [1,010 kB]\n",
            "Get:13 http://security.ubuntu.com/ubuntu focal-security/universe amd64 Packages [1,047 kB]\n",
            "Get:14 http://security.ubuntu.com/ubuntu focal-security/main amd64 Packages [2,675 kB]\n",
            "Get:15 http://archive.ubuntu.com/ubuntu focal-updates/universe amd64 Packages [1,342 kB]\n",
            "Get:16 http://archive.ubuntu.com/ubuntu focal-updates/main amd64 Packages [3,157 kB]\n",
            "Fetched 9,573 kB in 4s (2,197 kB/s)\n",
            "Reading package lists... Done\n",
            "Reading package lists... Done\n",
            "Building dependency tree       \n",
            "Reading state information... Done\n",
            "The following additional packages will be installed:\n",
            "  apparmor chromium-browser liblzo2-2 libudev1 snapd squashfs-tools udev\n",
            "Suggested packages:\n",
            "  apparmor-profiles-extra apparmor-utils zenity | kdialog\n",
            "The following NEW packages will be installed:\n",
            "  apparmor chromium-browser chromium-chromedriver liblzo2-2 snapd\n",
            "  squashfs-tools udev\n",
            "The following packages will be upgraded:\n",
            "  libudev1\n",
            "1 upgraded, 7 newly installed, 0 to remove and 28 not upgraded.\n",
            "Need to get 40.0 MB of archives.\n",
            "After this operation, 183 MB of additional disk space will be used.\n",
            "Get:1 http://archive.ubuntu.com/ubuntu focal-updates/main amd64 apparmor amd64 2.13.3-7ubuntu5.2 [502 kB]\n",
            "Get:2 http://archive.ubuntu.com/ubuntu focal/main amd64 liblzo2-2 amd64 2.10-2 [50.8 kB]\n",
            "Get:3 http://archive.ubuntu.com/ubuntu focal-updates/main amd64 squashfs-tools amd64 1:4.4-1ubuntu0.3 [117 kB]\n",
            "Get:4 http://archive.ubuntu.com/ubuntu focal-updates/main amd64 libudev1 amd64 245.4-4ubuntu3.21 [75.9 kB]\n",
            "Get:5 http://archive.ubuntu.com/ubuntu focal-updates/main amd64 udev amd64 245.4-4ubuntu3.21 [1,366 kB]\n",
            "Get:6 http://archive.ubuntu.com/ubuntu focal-updates/main amd64 snapd amd64 2.58+20.04 [37.9 MB]\n",
            "Get:7 http://archive.ubuntu.com/ubuntu focal-updates/universe amd64 chromium-browser amd64 1:85.0.4183.83-0ubuntu0.20.04.3 [48.5 kB]\n",
            "Get:8 http://archive.ubuntu.com/ubuntu focal-updates/universe amd64 chromium-chromedriver amd64 1:85.0.4183.83-0ubuntu0.20.04.3 [2,496 B]\n",
            "Fetched 40.0 MB in 1s (49.5 MB/s)\n",
            "Preconfiguring packages ...\n",
            "Selecting previously unselected package apparmor.\n",
            "(Reading database ... 122518 files and directories currently installed.)\n",
            "Preparing to unpack .../apparmor_2.13.3-7ubuntu5.2_amd64.deb ...\n",
            "Unpacking apparmor (2.13.3-7ubuntu5.2) ...\n",
            "Selecting previously unselected package liblzo2-2:amd64.\n",
            "Preparing to unpack .../liblzo2-2_2.10-2_amd64.deb ...\n",
            "Unpacking liblzo2-2:amd64 (2.10-2) ...\n",
            "Selecting previously unselected package squashfs-tools.\n",
            "Preparing to unpack .../squashfs-tools_1%3a4.4-1ubuntu0.3_amd64.deb ...\n",
            "Unpacking squashfs-tools (1:4.4-1ubuntu0.3) ...\n",
            "Preparing to unpack .../libudev1_245.4-4ubuntu3.21_amd64.deb ...\n",
            "Unpacking libudev1:amd64 (245.4-4ubuntu3.21) over (245.4-4ubuntu3.19) ...\n",
            "Setting up libudev1:amd64 (245.4-4ubuntu3.21) ...\n",
            "Selecting previously unselected package udev.\n",
            "(Reading database ... 122705 files and directories currently installed.)\n",
            "Preparing to unpack .../udev_245.4-4ubuntu3.21_amd64.deb ...\n",
            "Unpacking udev (245.4-4ubuntu3.21) ...\n",
            "Selecting previously unselected package snapd.\n",
            "Preparing to unpack .../snapd_2.58+20.04_amd64.deb ...\n",
            "Unpacking snapd (2.58+20.04) ...\n",
            "Setting up apparmor (2.13.3-7ubuntu5.2) ...\n",
            "Created symlink /etc/systemd/system/sysinit.target.wants/apparmor.service → /lib/systemd/system/apparmor.service.\n",
            "Setting up liblzo2-2:amd64 (2.10-2) ...\n",
            "Setting up squashfs-tools (1:4.4-1ubuntu0.3) ...\n",
            "Setting up udev (245.4-4ubuntu3.21) ...\n",
            "invoke-rc.d: could not determine current runlevel\n",
            "invoke-rc.d: policy-rc.d denied execution of start.\n",
            "Setting up snapd (2.58+20.04) ...\n",
            "Created symlink /etc/systemd/system/multi-user.target.wants/snapd.aa-prompt-listener.service → /lib/systemd/system/snapd.aa-prompt-listener.service.\n",
            "Created symlink /etc/systemd/system/multi-user.target.wants/snapd.apparmor.service → /lib/systemd/system/snapd.apparmor.service.\n",
            "Created symlink /etc/systemd/system/multi-user.target.wants/snapd.autoimport.service → /lib/systemd/system/snapd.autoimport.service.\n",
            "Created symlink /etc/systemd/system/multi-user.target.wants/snapd.core-fixup.service → /lib/systemd/system/snapd.core-fixup.service.\n",
            "Created symlink /etc/systemd/system/multi-user.target.wants/snapd.recovery-chooser-trigger.service → /lib/systemd/system/snapd.recovery-chooser-trigger.service.\n",
            "Created symlink /etc/systemd/system/multi-user.target.wants/snapd.seeded.service → /lib/systemd/system/snapd.seeded.service.\n",
            "Created symlink /etc/systemd/system/cloud-final.service.wants/snapd.seeded.service → /lib/systemd/system/snapd.seeded.service.\n",
            "Created symlink /etc/systemd/system/multi-user.target.wants/snapd.service → /lib/systemd/system/snapd.service.\n",
            "Created symlink /etc/systemd/system/timers.target.wants/snapd.snap-repair.timer → /lib/systemd/system/snapd.snap-repair.timer.\n",
            "Created symlink /etc/systemd/system/sockets.target.wants/snapd.socket → /lib/systemd/system/snapd.socket.\n",
            "Created symlink /etc/systemd/system/final.target.wants/snapd.system-shutdown.service → /lib/systemd/system/snapd.system-shutdown.service.\n",
            "Selecting previously unselected package chromium-browser.\n",
            "(Reading database ... 122926 files and directories currently installed.)\n",
            "Preparing to unpack .../chromium-browser_1%3a85.0.4183.83-0ubuntu0.20.04.3_amd64.deb ...\n",
            "=> Installing the chromium snap\n",
            "==> Checking connectivity with the snap store\n",
            "===> System doesn't have a working snapd, skipping\n",
            "Unpacking chromium-browser (1:85.0.4183.83-0ubuntu0.20.04.3) ...\n",
            "Selecting previously unselected package chromium-chromedriver.\n",
            "Preparing to unpack .../chromium-chromedriver_1%3a85.0.4183.83-0ubuntu0.20.04.3_amd64.deb ...\n",
            "Unpacking chromium-chromedriver (1:85.0.4183.83-0ubuntu0.20.04.3) ...\n",
            "Setting up chromium-browser (1:85.0.4183.83-0ubuntu0.20.04.3) ...\n",
            "update-alternatives: using /usr/bin/chromium-browser to provide /usr/bin/x-www-browser (x-www-browser) in auto mode\n",
            "update-alternatives: using /usr/bin/chromium-browser to provide /usr/bin/gnome-www-browser (gnome-www-browser) in auto mode\n",
            "Setting up chromium-chromedriver (1:85.0.4183.83-0ubuntu0.20.04.3) ...\n",
            "Processing triggers for mime-support (3.64ubuntu1) ...\n",
            "Processing triggers for hicolor-icon-theme (0.17-2) ...\n",
            "Processing triggers for libc-bin (2.31-0ubuntu9.9) ...\n",
            "Processing triggers for systemd (245.4-4ubuntu3.21) ...\n",
            "Processing triggers for man-db (2.9.1-1) ...\n",
            "Processing triggers for dbus (1.12.16-2ubuntu2.3) ...\n",
            "cp: '/usr/lib/chromium-browser/chromedriver' and '/usr/bin/chromedriver' are the same file\n"
          ]
        }
      ],
      "source": [
        "!pip install selenium\n",
        "!apt-get update\n",
        "!apt install chromium-chromedriver\n",
        "!cp /usr/lib/chromium-browser/chromedriver /usr/bin"
      ]
    },
    {
      "cell_type": "code",
      "execution_count": 2,
      "metadata": {
        "id": "NC-Ae7cjkX8l"
      },
      "outputs": [],
      "source": [
        "#크롤링시 필요한 라이브러리 불러오기\n",
        "from selenium import webdriver\n",
        "from urllib.request import urlopen\n",
        "from bs4 import BeautifulSoup\n",
        "from urllib.parse import quote_plus\n",
        "from selenium.webdriver.common.keys import Keys\n",
        "import time\n",
        "from selenium.webdriver.common.by import By\n",
        "import requests\n",
        "import re"
      ]
    },
    {
      "cell_type": "code",
      "execution_count": 5,
      "metadata": {
        "colab": {
          "base_uri": "https://localhost:8080/",
          "height": 341
        },
        "id": "Q7cNGwzykbMs",
        "outputId": "03066205-7786-48a5-e13e-e007db630ca1"
      },
      "outputs": [
        {
          "ename": "WebDriverException",
          "evalue": "ignored",
          "output_type": "error",
          "traceback": [
            "\u001b[0;31m---------------------------------------------------------------------------\u001b[0m",
            "\u001b[0;31mWebDriverException\u001b[0m                        Traceback (most recent call last)",
            "\u001b[0;32m<ipython-input-5-39bba16bf958>\u001b[0m in \u001b[0;36m<cell line: 8>\u001b[0;34m()\u001b[0m\n\u001b[1;32m      6\u001b[0m \u001b[0moptions\u001b[0m\u001b[0;34m.\u001b[0m\u001b[0madd_argument\u001b[0m\u001b[0;34m(\u001b[0m\u001b[0;34m'--disable-dev-shm-usage'\u001b[0m\u001b[0;34m)\u001b[0m\u001b[0;34m\u001b[0m\u001b[0;34m\u001b[0m\u001b[0m\n\u001b[1;32m      7\u001b[0m \u001b[0;34m\u001b[0m\u001b[0m\n\u001b[0;32m----> 8\u001b[0;31m \u001b[0mdriver\u001b[0m \u001b[0;34m=\u001b[0m \u001b[0mwebdriver\u001b[0m\u001b[0;34m.\u001b[0m\u001b[0mChrome\u001b[0m\u001b[0;34m(\u001b[0m\u001b[0;34m'chromedriver'\u001b[0m\u001b[0;34m,\u001b[0m \u001b[0moptions\u001b[0m\u001b[0;34m=\u001b[0m\u001b[0moptions\u001b[0m\u001b[0;34m)\u001b[0m\u001b[0;34m\u001b[0m\u001b[0;34m\u001b[0m\u001b[0m\n\u001b[0m",
            "\u001b[0;32m/usr/local/lib/python3.10/dist-packages/selenium/webdriver/chrome/webdriver.py\u001b[0m in \u001b[0;36m__init__\u001b[0;34m(self, executable_path, port, options, service_args, desired_capabilities, service_log_path, chrome_options, service, keep_alive)\u001b[0m\n\u001b[1;32m     82\u001b[0m         \u001b[0mservice\u001b[0m\u001b[0;34m.\u001b[0m\u001b[0mpath\u001b[0m \u001b[0;34m=\u001b[0m \u001b[0mDriverFinder\u001b[0m\u001b[0;34m.\u001b[0m\u001b[0mget_path\u001b[0m\u001b[0;34m(\u001b[0m\u001b[0mservice\u001b[0m\u001b[0;34m,\u001b[0m \u001b[0moptions\u001b[0m\u001b[0;34m)\u001b[0m\u001b[0;34m\u001b[0m\u001b[0;34m\u001b[0m\u001b[0m\n\u001b[1;32m     83\u001b[0m \u001b[0;34m\u001b[0m\u001b[0m\n\u001b[0;32m---> 84\u001b[0;31m         super().__init__(\n\u001b[0m\u001b[1;32m     85\u001b[0m             \u001b[0mDesiredCapabilities\u001b[0m\u001b[0;34m.\u001b[0m\u001b[0mCHROME\u001b[0m\u001b[0;34m[\u001b[0m\u001b[0;34m\"browserName\"\u001b[0m\u001b[0;34m]\u001b[0m\u001b[0;34m,\u001b[0m\u001b[0;34m\u001b[0m\u001b[0;34m\u001b[0m\u001b[0m\n\u001b[1;32m     86\u001b[0m             \u001b[0;34m\"goog\"\u001b[0m\u001b[0;34m,\u001b[0m\u001b[0;34m\u001b[0m\u001b[0;34m\u001b[0m\u001b[0m\n",
            "\u001b[0;32m/usr/local/lib/python3.10/dist-packages/selenium/webdriver/chromium/webdriver.py\u001b[0m in \u001b[0;36m__init__\u001b[0;34m(self, browser_name, vendor_prefix, port, options, service_args, desired_capabilities, service_log_path, service, keep_alive)\u001b[0m\n\u001b[1;32m     99\u001b[0m \u001b[0;34m\u001b[0m\u001b[0m\n\u001b[1;32m    100\u001b[0m         \u001b[0mself\u001b[0m\u001b[0;34m.\u001b[0m\u001b[0mservice\u001b[0m \u001b[0;34m=\u001b[0m \u001b[0mservice\u001b[0m\u001b[0;34m\u001b[0m\u001b[0;34m\u001b[0m\u001b[0m\n\u001b[0;32m--> 101\u001b[0;31m         \u001b[0mself\u001b[0m\u001b[0;34m.\u001b[0m\u001b[0mservice\u001b[0m\u001b[0;34m.\u001b[0m\u001b[0mstart\u001b[0m\u001b[0;34m(\u001b[0m\u001b[0;34m)\u001b[0m\u001b[0;34m\u001b[0m\u001b[0;34m\u001b[0m\u001b[0m\n\u001b[0m\u001b[1;32m    102\u001b[0m \u001b[0;34m\u001b[0m\u001b[0m\n\u001b[1;32m    103\u001b[0m         \u001b[0;32mtry\u001b[0m\u001b[0;34m:\u001b[0m\u001b[0;34m\u001b[0m\u001b[0;34m\u001b[0m\u001b[0m\n",
            "\u001b[0;32m/usr/local/lib/python3.10/dist-packages/selenium/webdriver/common/service.py\u001b[0m in \u001b[0;36mstart\u001b[0;34m(self)\u001b[0m\n\u001b[1;32m     98\u001b[0m         \u001b[0mcount\u001b[0m \u001b[0;34m=\u001b[0m \u001b[0;36m0\u001b[0m\u001b[0;34m\u001b[0m\u001b[0;34m\u001b[0m\u001b[0m\n\u001b[1;32m     99\u001b[0m         \u001b[0;32mwhile\u001b[0m \u001b[0;32mTrue\u001b[0m\u001b[0;34m:\u001b[0m\u001b[0;34m\u001b[0m\u001b[0;34m\u001b[0m\u001b[0m\n\u001b[0;32m--> 100\u001b[0;31m             \u001b[0mself\u001b[0m\u001b[0;34m.\u001b[0m\u001b[0massert_process_still_running\u001b[0m\u001b[0;34m(\u001b[0m\u001b[0;34m)\u001b[0m\u001b[0;34m\u001b[0m\u001b[0;34m\u001b[0m\u001b[0m\n\u001b[0m\u001b[1;32m    101\u001b[0m             \u001b[0;32mif\u001b[0m \u001b[0mself\u001b[0m\u001b[0;34m.\u001b[0m\u001b[0mis_connectable\u001b[0m\u001b[0;34m(\u001b[0m\u001b[0;34m)\u001b[0m\u001b[0;34m:\u001b[0m\u001b[0;34m\u001b[0m\u001b[0;34m\u001b[0m\u001b[0m\n\u001b[1;32m    102\u001b[0m                 \u001b[0;32mbreak\u001b[0m\u001b[0;34m\u001b[0m\u001b[0;34m\u001b[0m\u001b[0m\n",
            "\u001b[0;32m/usr/local/lib/python3.10/dist-packages/selenium/webdriver/common/service.py\u001b[0m in \u001b[0;36massert_process_still_running\u001b[0;34m(self)\u001b[0m\n\u001b[1;32m    111\u001b[0m         \u001b[0mreturn_code\u001b[0m \u001b[0;34m=\u001b[0m \u001b[0mself\u001b[0m\u001b[0;34m.\u001b[0m\u001b[0mprocess\u001b[0m\u001b[0;34m.\u001b[0m\u001b[0mpoll\u001b[0m\u001b[0;34m(\u001b[0m\u001b[0;34m)\u001b[0m\u001b[0;34m\u001b[0m\u001b[0;34m\u001b[0m\u001b[0m\n\u001b[1;32m    112\u001b[0m         \u001b[0;32mif\u001b[0m \u001b[0mreturn_code\u001b[0m\u001b[0;34m:\u001b[0m\u001b[0;34m\u001b[0m\u001b[0;34m\u001b[0m\u001b[0m\n\u001b[0;32m--> 113\u001b[0;31m             \u001b[0;32mraise\u001b[0m \u001b[0mWebDriverException\u001b[0m\u001b[0;34m(\u001b[0m\u001b[0;34mf\"Service {self._path} unexpectedly exited. Status code was: {return_code}\"\u001b[0m\u001b[0;34m)\u001b[0m\u001b[0;34m\u001b[0m\u001b[0;34m\u001b[0m\u001b[0m\n\u001b[0m\u001b[1;32m    114\u001b[0m \u001b[0;34m\u001b[0m\u001b[0m\n\u001b[1;32m    115\u001b[0m     \u001b[0;32mdef\u001b[0m \u001b[0mis_connectable\u001b[0m\u001b[0;34m(\u001b[0m\u001b[0mself\u001b[0m\u001b[0;34m)\u001b[0m \u001b[0;34m->\u001b[0m \u001b[0mbool\u001b[0m\u001b[0;34m:\u001b[0m\u001b[0;34m\u001b[0m\u001b[0;34m\u001b[0m\u001b[0m\n",
            "\u001b[0;31mWebDriverException\u001b[0m: Message: Service /usr/bin/chromedriver unexpectedly exited. Status code was: 1\n"
          ]
        }
      ],
      "source": [
        "#Colab에선 웹브라우저 창이 뜨지 않으므로 별도 설정한다.\n",
        " \n",
        "options = webdriver.ChromeOptions()\n",
        "options.add_argument('--headless')        # Head-less 설정\n",
        "options.add_argument('--no-sandbox')\n",
        "options.add_argument('--disable-dev-shm-usage')\n",
        "\n",
        "driver = webdriver.Chrome('chromedriver', options=options)"
      ]
    },
    {
      "cell_type": "code",
      "execution_count": null,
      "metadata": {
        "id": "PS1Nkxqukdrs"
      },
      "outputs": [],
      "source": [
        "# 페이지 url 형식에 맞게 바꾸어 주는 함수 만들기\n",
        "  #입력된 수를 1, 11, 21, 31 ...만들어 주는 함수\n",
        "def makePgNum(num):  \n",
        "    if num == 1:\n",
        "        return num\n",
        "    elif num == 0:\n",
        "        return num+1\n",
        "    else:\n",
        "        return num\n",
        "        \n",
        "\n",
        "\n",
        "# 크롤링할 url 생성하는 함수 만들기(검색어, 크롤링 시작 페이지, 크롤링 종료 페이지)\n",
        "def makeUrl(search,start_pg,end_pg):\n",
        "    if start_pg == end_pg:\n",
        "        start_page = makePgNum(start_pg)\n",
        "        url = \"https://search.daum.net/search?nil_suggest=btn&w=news&DA=PGD&cluster=y&q=\" + search + \"&p=\" + str(start_page)\n",
        "        print(\"생성url: \",url)\n",
        "        return url\n",
        "    else:\n",
        "        urls= []\n",
        "        for i in range(start_pg,end_pg+1):\n",
        "            page = makePgNum(i)\n",
        "            url = \"https://search.daum.net/search?nil_suggest=btn&w=news&DA=PGD&cluster=y&q=\" + search + \"&p=\" + str(page)\n",
        "\n",
        "            urls.append(url)\n",
        "        print(\"생성url: \",urls)\n",
        "        return urls"
      ]
    },
    {
      "cell_type": "code",
      "execution_count": null,
      "metadata": {
        "colab": {
          "base_uri": "https://localhost:8080/"
        },
        "id": "-SWNLlUQk5Ol",
        "outputId": "332fd26a-b1e2-4ae3-da66-9cd17331399a"
      },
      "outputs": [
        {
          "name": "stdout",
          "output_type": "stream",
          "text": [
            "검색할 키워드를 입력해주세요:협력\n",
            "\n",
            "크롤링할 시작 페이지를 입력해주세요. ex)1(숫자만입력):1\n",
            "\n",
            "크롤링할 시작 페이지:  1 페이지\n",
            "\n",
            "크롤링할 종료 페이지를 입력해주세요. ex)1(숫자만입력):5\n",
            "\n",
            "크롤링할 종료 페이지:  5 페이지\n",
            "생성url:  ['https://search.daum.net/search?nil_suggest=btn&w=news&DA=PGD&cluster=y&q=협력&p=1', 'https://search.daum.net/search?nil_suggest=btn&w=news&DA=PGD&cluster=y&q=협력&p=2', 'https://search.daum.net/search?nil_suggest=btn&w=news&DA=PGD&cluster=y&q=협력&p=3', 'https://search.daum.net/search?nil_suggest=btn&w=news&DA=PGD&cluster=y&q=협력&p=4', 'https://search.daum.net/search?nil_suggest=btn&w=news&DA=PGD&cluster=y&q=협력&p=5']\n"
          ]
        }
      ],
      "source": [
        "##########뉴스크롤링 시작###################\n",
        "\n",
        "#검색어 입력\n",
        "search = input(\"검색할 키워드를 입력해주세요:\")\n",
        "\n",
        "#검색 시작할 페이지 입력\n",
        "page = int(input(\"\\n크롤링할 시작 페이지를 입력해주세요. ex)1(숫자만입력):\")) # ex)1 =1페이지,2=2페이지...\n",
        "print(\"\\n크롤링할 시작 페이지: \",page,\"페이지\")   \n",
        "#검색 종료할 페이지 입력\n",
        "page2 = int(input(\"\\n크롤링할 종료 페이지를 입력해주세요. ex)1(숫자만입력):\")) # ex)1 =1페이지,2=2페이지...\n",
        "print(\"\\n크롤링할 종료 페이지: \",page2,\"페이지\")   \n",
        "\n",
        "# naver url 생성\n",
        "search_urls = makeUrl(search,page,page2)"
      ]
    },
    {
      "cell_type": "code",
      "execution_count": null,
      "metadata": {
        "colab": {
          "base_uri": "https://localhost:8080/"
        },
        "id": "hlqDy_Fd3j2L",
        "outputId": "859f5fb9-75a5-4e17-9872-d99de0a3c426"
      },
      "outputs": [
        {
          "name": "stdout",
          "output_type": "stream",
          "text": [
            "[<selenium.webdriver.remote.webelement.WebElement (session=\"c464c7a8676a4e2632794de23d78d3df\", element=\"fb219804-c2f7-4309-8d09-383a36f7a199\")>, <selenium.webdriver.remote.webelement.WebElement (session=\"c464c7a8676a4e2632794de23d78d3df\", element=\"31deb275-6221-4727-8c11-909aafef9d41\")>, <selenium.webdriver.remote.webelement.WebElement (session=\"c464c7a8676a4e2632794de23d78d3df\", element=\"55067d97-9e70-477f-a164-e0971d075c9d\")>, <selenium.webdriver.remote.webelement.WebElement (session=\"c464c7a8676a4e2632794de23d78d3df\", element=\"b7cf5ec5-294d-42ea-91b6-54fd489d873d\")>, <selenium.webdriver.remote.webelement.WebElement (session=\"c464c7a8676a4e2632794de23d78d3df\", element=\"ac80beca-9589-4629-8522-ed661be0e033\")>, <selenium.webdriver.remote.webelement.WebElement (session=\"c464c7a8676a4e2632794de23d78d3df\", element=\"8fb762c8-558a-47b4-a700-f40c5790c10f\")>, <selenium.webdriver.remote.webelement.WebElement (session=\"c464c7a8676a4e2632794de23d78d3df\", element=\"0d28d988-4fc8-4a76-9d91-24037466b4c4\")>, <selenium.webdriver.remote.webelement.WebElement (session=\"c464c7a8676a4e2632794de23d78d3df\", element=\"24e7d6bc-7f1a-4a8d-9c6d-050eabd63349\")>, <selenium.webdriver.remote.webelement.WebElement (session=\"c464c7a8676a4e2632794de23d78d3df\", element=\"ef92f9b8-3f49-4ffb-bb75-f51050e9b505\")>, <selenium.webdriver.remote.webelement.WebElement (session=\"c464c7a8676a4e2632794de23d78d3df\", element=\"c335acbb-3d80-440b-90fc-7e3a91682e5a\")>, <selenium.webdriver.remote.webelement.WebElement (session=\"c464c7a8676a4e2632794de23d78d3df\", element=\"85e12b2a-8b8f-4a79-956f-1d9c9927081b\")>, <selenium.webdriver.remote.webelement.WebElement (session=\"c464c7a8676a4e2632794de23d78d3df\", element=\"9ecd7c1c-5d75-48d5-a375-860077249d67\")>, <selenium.webdriver.remote.webelement.WebElement (session=\"c464c7a8676a4e2632794de23d78d3df\", element=\"5074efd5-5f9d-4380-91bb-82c6a5033b23\")>, <selenium.webdriver.remote.webelement.WebElement (session=\"c464c7a8676a4e2632794de23d78d3df\", element=\"086a33ba-fbf8-411e-b312-227079f6716c\")>, <selenium.webdriver.remote.webelement.WebElement (session=\"c464c7a8676a4e2632794de23d78d3df\", element=\"9c3247ab-82df-457f-b10c-510dcca7cb83\")>]\n"
          ]
        }
      ],
      "source": [
        "driver.get(search_urls[0])\n",
        "a = driver.find_elements(By.CSS_SELECTOR,'a.f_nb')\n",
        "print(a)"
      ]
    },
    {
      "cell_type": "code",
      "execution_count": null,
      "metadata": {
        "colab": {
          "base_uri": "https://localhost:8080/"
        },
        "id": "BFrx6Dol4e5b",
        "outputId": "6c0271d7-78cc-4acb-8663-0c78f5bc9af9"
      },
      "outputs": [
        {
          "data": {
            "text/plain": [
              "[<selenium.webdriver.remote.webelement.WebElement (session=\"c464c7a8676a4e2632794de23d78d3df\", element=\"fb219804-c2f7-4309-8d09-383a36f7a199\")>,\n",
              " <selenium.webdriver.remote.webelement.WebElement (session=\"c464c7a8676a4e2632794de23d78d3df\", element=\"31deb275-6221-4727-8c11-909aafef9d41\")>,\n",
              " <selenium.webdriver.remote.webelement.WebElement (session=\"c464c7a8676a4e2632794de23d78d3df\", element=\"55067d97-9e70-477f-a164-e0971d075c9d\")>,\n",
              " <selenium.webdriver.remote.webelement.WebElement (session=\"c464c7a8676a4e2632794de23d78d3df\", element=\"b7cf5ec5-294d-42ea-91b6-54fd489d873d\")>,\n",
              " <selenium.webdriver.remote.webelement.WebElement (session=\"c464c7a8676a4e2632794de23d78d3df\", element=\"ac80beca-9589-4629-8522-ed661be0e033\")>,\n",
              " <selenium.webdriver.remote.webelement.WebElement (session=\"c464c7a8676a4e2632794de23d78d3df\", element=\"8fb762c8-558a-47b4-a700-f40c5790c10f\")>,\n",
              " <selenium.webdriver.remote.webelement.WebElement (session=\"c464c7a8676a4e2632794de23d78d3df\", element=\"0d28d988-4fc8-4a76-9d91-24037466b4c4\")>,\n",
              " <selenium.webdriver.remote.webelement.WebElement (session=\"c464c7a8676a4e2632794de23d78d3df\", element=\"24e7d6bc-7f1a-4a8d-9c6d-050eabd63349\")>,\n",
              " <selenium.webdriver.remote.webelement.WebElement (session=\"c464c7a8676a4e2632794de23d78d3df\", element=\"ef92f9b8-3f49-4ffb-bb75-f51050e9b505\")>,\n",
              " <selenium.webdriver.remote.webelement.WebElement (session=\"c464c7a8676a4e2632794de23d78d3df\", element=\"c335acbb-3d80-440b-90fc-7e3a91682e5a\")>,\n",
              " <selenium.webdriver.remote.webelement.WebElement (session=\"c464c7a8676a4e2632794de23d78d3df\", element=\"85e12b2a-8b8f-4a79-956f-1d9c9927081b\")>,\n",
              " <selenium.webdriver.remote.webelement.WebElement (session=\"c464c7a8676a4e2632794de23d78d3df\", element=\"9ecd7c1c-5d75-48d5-a375-860077249d67\")>,\n",
              " <selenium.webdriver.remote.webelement.WebElement (session=\"c464c7a8676a4e2632794de23d78d3df\", element=\"5074efd5-5f9d-4380-91bb-82c6a5033b23\")>,\n",
              " <selenium.webdriver.remote.webelement.WebElement (session=\"c464c7a8676a4e2632794de23d78d3df\", element=\"086a33ba-fbf8-411e-b312-227079f6716c\")>,\n",
              " <selenium.webdriver.remote.webelement.WebElement (session=\"c464c7a8676a4e2632794de23d78d3df\", element=\"9c3247ab-82df-457f-b10c-510dcca7cb83\")>]"
            ]
          },
          "execution_count": 49,
          "metadata": {},
          "output_type": "execute_result"
        }
      ],
      "source": [
        "a"
      ]
    },
    {
      "cell_type": "code",
      "execution_count": null,
      "metadata": {
        "id": "Xznl9Zkv4pdd"
      },
      "outputs": [],
      "source": [
        "a[0].click()"
      ]
    },
    {
      "cell_type": "code",
      "execution_count": null,
      "metadata": {
        "id": "lEaH7iIA4vWF"
      },
      "outputs": [],
      "source": [
        "driver.switch_to.window(driver.window_handles[0])"
      ]
    },
    {
      "cell_type": "code",
      "execution_count": null,
      "metadata": {
        "colab": {
          "base_uri": "https://localhost:8080/"
        },
        "id": "tQ4epet340B8",
        "outputId": "7e759612-6654-4998-ba10-fe3516e2cbd8"
      },
      "outputs": [
        {
          "name": "stdout",
          "output_type": "stream",
          "text": [
            "https://search.daum.net/search?nil_suggest=btn&w=news&DA=PGD&cluster=y&q=%ED%98%91%EB%A0%A5&p=1\n"
          ]
        }
      ],
      "source": [
        "url = driver.current_url\n",
        "print(url)"
      ]
    },
    {
      "cell_type": "code",
      "execution_count": null,
      "metadata": {
        "id": "EesOdbVL48nc"
      },
      "outputs": [],
      "source": [
        "driver.close()"
      ]
    },
    {
      "cell_type": "code",
      "execution_count": null,
      "metadata": {
        "id": "EKL7Q0RJ496o"
      },
      "outputs": [],
      "source": [
        "driver.switch_to.window(driver.window_handles[0])"
      ]
    },
    {
      "cell_type": "code",
      "execution_count": null,
      "metadata": {
        "id": "Mgdf3zYZBqFf"
      },
      "outputs": [],
      "source": [
        "//*[@id=\"newsColl\"]/div[1]/ul/li[1]/div/a\n",
        "//*[@id=\"newsColl\"]/div[1]/ul/li[2]/div[2]/a\n",
        "//*[@id=\"newsColl\"]/div[1]/ul/li[10]/div/a\n",
        "\n",
        "#newsColl > div.cont_divider > ul > li:nth-child(10) > div > a"
      ]
    },
    {
      "cell_type": "code",
      "execution_count": null,
      "metadata": {
        "colab": {
          "background_save": true,
          "base_uri": "https://localhost:8080/"
        },
        "id": "2p_w06iKlqGK",
        "outputId": "7cc19767-335e-4adc-9b35-290bcea8ced1"
      },
      "outputs": [
        {
          "name": "stdout",
          "output_type": "stream",
          "text": [
            "https://www.yna.co.kr/view/AKR20220812131400504?input=1179m\n",
            "https://www.news1.kr/articles/4771811\n",
            "https://news.mt.co.kr/mtview.php?no=2022081214097457149&outlink=1&ref=https%3A%2F%2Fsearch.daum.net\n",
            "https://www.yna.co.kr/view/AKR20220812124600061?input=1179m\n",
            "https://www.yna.co.kr/view/AKR20220812050300504?input=1179m\n",
            "https://moneys.mt.co.kr/news/mwView.php?no=2022081005064984497&outlink=1\n",
            "https://newsis.com/view/?id=NISX20220812_0001976476&cID=13001&pID=13000\n",
            "http://news.tf.co.kr/read/national/1958183.htm\n",
            "http://www.hyundaenews.com/sub_read.html?uid=99174\n",
            "https://www.ccdailynews.com/news/articleView.html?idxno=2148069\n",
            "https://newsis.com/view/?id=NISX20220811_0001976071&cID=10813&pID=10800\n",
            "https://www.news1.kr/articles/4770936\n",
            "https://newsis.com/view/?id=NISX20220811_0001976103&cID=13001&pID=13000\n",
            "http://news.heraldcorp.com/view.php?ud=20220811000596\n",
            "https://www.khan.co.kr/world/china/article/202208121423011\n",
            "https://zdnet.co.kr/view/?no=20220812090651\n",
            "https://www.yna.co.kr/view/AKR20220812130800504?input=1179m\n",
            "https://newsis.com/view/?id=NISX20220812_0001977114&cID=10810&pID=10800\n",
            "https://www.news1.kr/articles/4771464\n",
            "https://www.news1.kr/articles/4771707\n",
            "https://www.fnnews.com/news/202208121535392803\n",
            "http://www.ccnnews.co.kr/news/articleView.html?idxno=265860\n",
            "http://www.ezyeconomy.com/news/articleView.html?idxno=119762\n",
            "https://www.yna.co.kr/view/AKR20220808011500001?input=1179m\n",
            "http://www.saegeoje.com/news/articleView.html?idxno=219303\n",
            "https://www.fnnews.com/news/202208120741342433\n",
            "https://www.segye.com/newsView/20220811514409?OutUrl=daum\n",
            "https://news.mt.co.kr/mtview.php?no=2022081110047447074&outlink=1&ref=https%3A%2F%2Fsearch.daum.net\n",
            "http://www.kookje.co.kr/news2011/asp/newsbody.asp?code=0200&key=20220812.22010003385\n",
            "https://www.kukinews.com/newsView/kuk202208110135\n",
            "https://www.hankyung.com/society/article/202208117948h\n",
            "https://www.news1.kr/articles/4770671\n",
            "http://www.ccnnews.co.kr/news/articleView.html?idxno=265826\n",
            "https://newsis.com/view/?id=NISX20220812_0001977128&cID=10812&pID=10800\n",
            "https://www.donga.com/news/article/all/20220811/114922721/2\n",
            "https://www.fnnews.com/news/202208111809166939\n",
            "https://newsis.com/view/?id=NISX20220810_0001973592&cID=10701&pID=10700\n",
            "http://www.ibsnews.kr/news/73126\n",
            "http://www.yjinews.com/news/articleView.html?idxno=68928\n",
            "https://www.donga.com/news/article/all/20220810/114898093/1\n",
            "http://amenews.kr/news/view.php?idx=49844\n",
            "https://view.asiae.co.kr/article/2022080912293958262\n",
            "https://newsis.com/view/?id=NISX20220811_0001975267&cID=13001&pID=13000\n",
            "https://www.electimes.com/news/articleView.html?idxno=307672\n",
            "https://newsis.com/view/?id=NISX20220810_0001974540&cID=10301&pID=10300\n",
            "https://zdnet.co.kr/view/?no=20220811090910\n",
            "https://www.news1.kr/articles/4768291\n",
            "https://www.edaily.co.kr/news/read?newsId=04024566632425680&mediaCodeNo=257&OutLnkChk=Y\n",
            "http://www.busan.com/view/busan/view.php?code=2022081122420515813\n",
            "https://news.v.daum.net/v/20220809220927714?f=o\n",
            "['https://news.mt.co.kr/mtview.php?no=2022081214097457149&outlink=1&ref=https%3A%2F%2Fsearch.daum.net', 'https://news.mt.co.kr/mtview.php?no=2022081110047447074&outlink=1&ref=https%3A%2F%2Fsearch.daum.net', 'https://news.v.daum.net/v/20220809220927714?f=o']\n"
          ]
        }
      ],
      "source": [
        "## selenium으로 navernews만 뽑아오기##\n",
        "# 버전에 상관 없이 os에 설치된 크롬 브라우저 사용\n",
        "driver = webdriver.Chrome('chromedriver', options=options)\n",
        "driver.implicitly_wait(3)\n",
        "\n",
        "# 사람처럼 보이게 하는 옵션들\n",
        "options.add_argument(\"disable-gpu\")   # 가속 사용 x\n",
        "options.add_argument(\"lang=ko_KR\")    # 가짜 플러그인 탑재\n",
        "options.add_argument('user-agent=Mozilla/5.0 (Macintosh; Intel Mac OS X 10_12_6) AppleWebKit/537.36 (KHTML, like Gecko) Chrome/61.0.3163.100 Safari/537.36')  # user-agent 이름 설정\n",
        "\n",
        "\n",
        "from selenium.common.exceptions import StaleElementReferenceException\n",
        "\n",
        "# selenium으로 검색 페이지 불러오기 #\n",
        "\n",
        "daum_urls=[]\n",
        "\n",
        "for i in search_urls:\n",
        "    driver.get(i)\n",
        "    time.sleep(1) #대기시간 변경 가능\n",
        "\n",
        "    # 네이버 기사 눌러서 제목 및 본문 가져오기#\n",
        "    # 네이버 기사가 있는 기사 css selector 모아오기\n",
        "    a = driver.find_elements(By.CSS_SELECTOR,'a.tit_main.fn_tit_u')\n",
        "\n",
        "    # 위에서 생성한 css selector list 하나씩 클릭하여 본문 url얻기\n",
        "    for i in a:\n",
        "        i.click()\n",
        "\n",
        "        # 현재탭에 접근\n",
        "        driver.switch_to.window(driver.window_handles[1])\n",
        "        time.sleep(3) #대기시간 변경 가능\n",
        "\n",
        "        # 네이버 뉴스 url만 가져오기\n",
        "\n",
        "        url = driver.current_url\n",
        "        print(url)\n",
        "\n",
        "        if \"daum.net\" in url:\n",
        "            daum_urls.append(url)\n",
        "  \n",
        "        else:\n",
        "            pass\n",
        "        \n",
        "        # 현재 탭 닫기\n",
        "        driver.close()\n",
        "\n",
        "        # 다시처음 탭으로 돌아가기(매우 중요!!!)\n",
        "        driver.switch_to.window(driver.window_handles[0])\n",
        "\n",
        "print(daum_urls)"
      ]
    },
    {
      "cell_type": "code",
      "execution_count": null,
      "metadata": {
        "id": "8xxtx2HlwFJV"
      },
      "outputs": [],
      "source": []
    },
    {
      "cell_type": "code",
      "execution_count": null,
      "metadata": {
        "colab": {
          "base_uri": "https://localhost:8080/",
          "height": 164
        },
        "id": "umSEBQtaGlCa",
        "outputId": "1bec839d-0dc9-42f5-d61f-e23109ea7ed7"
      },
      "outputs": [
        {
          "ename": "NameError",
          "evalue": "ignored",
          "output_type": "error",
          "traceback": [
            "\u001b[0;31m---------------------------------------------------------------------------\u001b[0m",
            "\u001b[0;31mNameError\u001b[0m                                 Traceback (most recent call last)",
            "\u001b[0;32m<ipython-input-1-498b5bebfbe4>\u001b[0m in \u001b[0;36m<module>\u001b[0;34m()\u001b[0m\n\u001b[0;32m----> 1\u001b[0;31m \u001b[0mlen\u001b[0m\u001b[0;34m(\u001b[0m\u001b[0mdaum_urls\u001b[0m\u001b[0;34m)\u001b[0m\u001b[0;34m\u001b[0m\u001b[0;34m\u001b[0m\u001b[0m\n\u001b[0m",
            "\u001b[0;31mNameError\u001b[0m: name 'daum_urls' is not defined"
          ]
        }
      ],
      "source": [
        "len(daum_urls)"
      ]
    },
    {
      "cell_type": "code",
      "execution_count": null,
      "metadata": {
        "colab": {
          "base_uri": "https://localhost:8080/"
        },
        "id": "Hf7pn1HVqEqx",
        "outputId": "596de4d8-8887-4de9-8273-2f02f1a2ac0d"
      },
      "outputs": [
        {
          "name": "stdout",
          "output_type": "stream",
          "text": [
            "[\"[박순애, 논문서 대학 전인교육 강조..교육부는 '반도체 삼매경']\", '[[오늘의 운세] 7월 8일]', '[[오늘의 운세] 띠와 생년으로 확인하세요(2022년 7월 9일)]', '[대전일보 오늘의 운세 양력:07월08일 음력:06월10일]', '[2022년 7월 7일[오늘의 운세 나침반]]', '[[오늘의 운세] 2022년 07월 08일 별자리 운세]', '[[김진국의 심심(心心)파적 &lt;25&gt;] \"이제는 \\'내 안의 전쟁\\'을 끝내고 싶다!\" 베테랑 트라우마]', '[[창+] 삼풍 붕괴 생존자 \"무작위한 죽음..덤으로 사는 것\"]', \"[선교지별로 구역 나눠 기도·후원.. 섬마을 목회 어려움 '선교'로 돌파]\", '[번아웃에도 유형이 있다고? [1분 심리학]]', '[의사가 환자 말 경청해야 하는 까닭은?]', '[\"전세금 빼 \\'루나\\' 몰빵했다\"..한강 상담전화 늘었다]', '[[오늘의 운세] 7월 4일(음력 6월 6일, 일진은 무오 戊午) 12지지 띠별 운세 &amp; 궁합]', '[[목멱칼럼]일터혁신이 지향해야 할 기업문화]', '[2022년 7월 8일[오늘의 운세 나침반]]', '[\"엄마 손 먹겠다\"는 금쪽이.. 오은영 \"큰 문제\" 영상 중단]', '[호원대, 대인관계 소통 강화 프로그램 실시]', \"[[건강] 2030세대가 걸린 '마음의 감기']\", '[[의학칼럼] 부부관계 중 소변 실수 걱정, 여성성형 치료받는 것이 좋아]', '[\"코로나 안 걸린 사람 대인관계 문제\" 외국까지 번진 마상혁 발언]']\n",
            "['박후보자기업이원하는인재윤리성·협업능력갖춰야서울연합뉴스고유선기자박순애부총리겸교육부장관후보자가논문을통해우리나라대졸신입직원들의대인관계역량이미흡하다고분석하며대학에서의전인교육의필요성을강조했던것으로나타났다윤석열대통령이교육부의존재이유를과학기술인재공급이라고강조하고교육부가이에맞춰반도체학과증원등산업인력늘리기에몰두하는것과반대되는주장이어서주목된다대학강의실연합뉴스자료사진30일교육계에따르면박후보자는2010년학술지현대사회와행정에동료교수2명과함께인재수요에부응하는역량중심의대학교육에관한연구를게재했다이에따르면2008년8∼9월한국갤럽에의뢰해매출액기준상위100개국내기업과공공기관100곳인사담당자총208명을인터뷰한결과기업이기대하는역량과대졸인력의역량사이에는큰차이가있었다14개주요역량을5점척도로분석했더니전문적지식의경우기업이요구하는수준337과대졸인력의수준316차이가021로가장적었다이에비해고객지향성은기업이요구하는수준389과대졸인력의수준316차이가073으로가장컸다특히팀워크와협력069조직몰입068글로벌역량065대인이해064등주로타인과의관계를전제로하는인성적역량이격차가컸다하지만정작인사담당자들은윤리성460팀워크와협력454고객지향성444등을제일중요한덕목으로꼽았다전문적지식438은그다음이었다박후보자는이런미스매칭의원인을입시중심의중·고교교육과취업중심의대학생활에서찾았다중·고교교육이입시중심적이어서성숙한사회인으로서자라나는데필요한인성교육의책무가대학으로전가됐는데대학도그역할을제대로수행하지못했다는것이다그는우리나라학생들은입시중심으로전개되는교육과정속에서인성적인역량을충분히교육받지못한다며입학후에도대학생활을취업준비로보내는현실은충분한인성적역량을갖추지못하게했다고적었다이어인성적역량은단기적으로획득할수있는게아니므로장기적관점에서개인의가치관과인격이완성될수있도록대학에서도전인적교육과정이마련돼야한다고지적했다긴장한듯한표정으로첫출근서울연합뉴스신준희기자사회부총리겸교육부장관으로지명된박순애서울대행정대학원교수가27일여의도에마련된인사청문회준비사무실로출근하고있다2022527박후보자의이런견해가정책으로발현될지는미지수다윤석열대통령이과학기술인재공급의필요성을거듭강조하면서교육부가반도체관련업무에과도하게매진하는등반도체부가됐다는비판까지나오는상황이기때문이다지식전달과취업중심의실용적교육을강조하다보면정서적·사회적능력을길러주는전인교육에는소홀해질수밖에없다는게교육계의우려다이달초교육부를직접찾은한덕수국무총리는인성은초·중등에서키우고대학에서는산업과기술과관련된인재를키우는데중점을둘수있다고말하기도했다정의당정책위원회관계자는학자의양심을유보하면모를까전인교육까지고려한다면인력공급에치우친대통령과후보자의시각이부딪힐수도있다고지적했다▶제보는카톡저작권자연합뉴스무단전재재배포금지', '2022년7월8일금요일음력6월10일쥐재물좋음건강튼튼사랑한마음길방北36년생하늘의뜻도알수있는나이48년생사방의운이열릴듯60년생단결과화합의자리만들기72년생하나보다둘둘보다셋84년생뭉쳐야뜨고산다96년생머리부터발끝까지마음에들다소재물무난건강양호사랑길방南37년생주는정받는정49년생사람이나물건이마음에들수도61년생사람은정으로살아간다73년생배우자말을들으면가정이평온85년생이심전심마음이통함97년생이성과교감통할듯호랑이재물무난건강양호사랑기쁨길방東38년생먹을복이생길수도50년생오후보다오전62년생시간활용을잘할것74년생물들어올때노를저어야한다86년생멀리서찾지말고가까운곳에서구하라98년생대인관계가좋아질듯토끼재물지출건강주의사랑갈등길방東39년생섭섭함이생길수도51년생몸에서보내는신호를잘감지63년생할일은미루지말것75년생때로는느림의미학이필요하다87년생정면승부말고우회할것99년생튀는말과행동자제용재물무난건강양호사랑행복길방西40년생몸과마음이기쁨으로충만해질듯52년생행복은마음속에서시작되는것64년생노력한일에서목적달성할듯76년생삶이행복의향기로가득차게될듯88년생꿈은이루어지는것이다뱀재물지출건강주의사랑흐림길방西41년생돈써야할일이생길수도53년생기대가크면실망도생기는법65년생무리하지말고억지로하지도말것77년생건강에적신호과로와과음자제할것89년생회식자리에오래있지말라말재물지출건강주의사랑만남길방北42년생나이들면여기저기쑤시고아픈법54년생예상보다시간이오래걸릴수있다66년생집안일로생각많아질듯78년생계획에차질이생길수도90년생회식자리가있으면2차는가지말것양재물무난건강양호사랑기쁨길방南43년생웃을일이나유익한일이생길수도55년생칭송을받거나반가운소식접할듯67년생괜찮은제안이나정보가생김79년생대화통하고분위기가좋아질듯91년생아름다운순간은인증샷원숭이재물보통건강보통사랑베풂길방南44년생한두사람건너면모두아는것이사람관계56년생작은이익에집착말라68년생주었기때문에돌아오는것임을생각하라80년생사람은혼자살수없다92년생함께식사하면비용은1닭재물보통건강보통사랑베풂길방東南33년생사람사는건비슷하다45년생일은전문가에게맡겨라57년생품으로들어온새는내치는게아니다69년생포용심가지기81년생상대방에게맞장구를쳐줄것93년생꼰대라는생각말라개재물무난건강양호사랑기쁨길방北34년생부드럽고순탄한하루46년생평온하고한가로운날58년생재물과인연이괜찮겠다70년생즐거운지출을할수도82년생노력한일에서보람을맛볼듯94년생골든타임을잘맞춰야한다돼지재물보통건강보통사랑질투길방東35년생자녀일에무관심할것47년생간섭하지말것59년생중립을지킬것71년생일에는우선순위가있는법이다83년생사공이많으면배가산으로감95년생좋은일이생겨도자랑하지말것조규문사주작명풍수전문가중앙일보', '쥐96년생금전적으로난관이발생하나해결된다84년생하는일이순조로우나심적으로약간불안하다72년생서류상판단착오로손해볼수있으니신중한검토를요한다60년생남이볼때는부러울만큼좋으나부부불화가예상된다48년생성품이강직해원망을살수있으니언행에조심하라소97년생기획한일로상사의신임을받을수있다85년생지혜가있고총명하나직장에서과욕을부리면해가돌아온다73년생재물이들어오고준비한일이순조롭게진행된다61년생친구나동료와구설수가예상되니말과행동에주의하라49년생동분서주노력에도결실이적지만점점좋아진다호랑이98년생업무를유연하게처리하면좋은결과가돌아온다86년생가정에금전적인고통이있으나해결된다74년생금전적여유가있으며계획한일이원활하게이루어진다62년생직업변화는아직시기적으로빠르니시간을가지고검토하라50년생자녀사업문제로갈등하나좋은계기가마련된다토끼99년생침착한성품으로양보하는마음을가지면재물이는다87년생바쁜노력에도불구하고결실은적게나타난다75년생재물에여유가있어움직이고싶으나좀더기다려라63년생금전적인문제로부부불화가예상되니신중히검토하라51년생가정이화목하고계획에없든돈이들어온다용88년생동료와기획한일로상사의신임을받겠다76년생직장이나가정에서일처리를원활하게하니존경을받는다64년생직업변화를원하면배우자와충분한대화와검토후결정하라52년생대인관계가원만하고가정적으로도화목하다40년생가정이화목하고자녀에게기쁜일이있겠다뱀89년생계획에없던지출이발생하니다음을위해서절약하라77년생현실은불안하지만조금만더노력하면좋은성과가있겠다65년생업무상다툼이예상되니동료에게조언을구하라53년생금전적인지출이있겠으니신중히검토하라41년생노력하고고생한보람이현실로이루어지는날이다말90년생직장인이라면노력한일이성과가보이기시작한다78년생기쁜일이생겨친구와대화를나누며즐겁다66년생지출이있으나마음이상쾌하고하는일이원활하다54년생현재하는일에걸림돌이생길수있으니신중하게검토하라42년생계획하고있는일이원활하게돌아갈수있겠다양91년생걱정하던문제가해결되니걱정하지않아도된다79년생아직재물을많이모으지못했으나점차좋아진다67년생부부와금전적인일로불화가생기나원활이해결되겠다55년생변화는시기적으로맞지않으니신중하게생각하라43년생주위사람에게원망을살수있으니조심하라원숭이92년생조금만노력하면재물을얻을수있다80년생몸은바쁘지만마음이밝고생각지도않은돈이들어온다68년생사소한일로부부불화가예상되니서로양보하라56년생자녀의일로고민하나해결될것이니걱정하지마라44년생금전적여유가있어가정이화목하고건강또한양호하다닭93년생노력에비해결실이적어실망하나오후부터점차적으로좋아진다81년생겸손한자세로직장에서올바르게처신하면행운이오겠다69년생부부불화가생기므로서로말을줄여야한다57년생큰문제없이짜증이나지만좋아진다45년생필요없는근심을하고있으니마음을비워야한다개94년생직장에서좋고나쁜일이교차하니마음을편안히가져라82년생업무상일에동료와더불어모든일이원활하게이루어진다70년생변화를원한다면한번더가족과의논함이좋겠다58년생이사를원한다면여유를두고신중히검토하라46년생몸은바쁘지만마음이밝으니가정이화목하다돼지95년생모든일에자신감을가지고임하면좋은결실을본다83년생친구로부터오해를받으나시간이지나야해결된다71년생새로운사업의구상은좀더미루는것이좋다59년생작은소망은이뤄지지만지나친욕심은버려야한다47년생자녀의일로걱정하지만시간이지나면원만하게해결된다제공무단전재재배포금지오늘의운세내일의운세출생연도운세생년월일운세무료운세띠별운세7월운세', '쥐띠36년생가급적외출은삼가라48년생최종결정은뒤로미루는것이좋다60년생현상유지에힘쓸것72년생마음에안정이필요하다84년생휴식을가지고미래를설계하라소띠37년생활동을통해건강을관리하라49년생일을할수있으니너무즐겁다61년생금전적인어려움이있다73년생끝까지노력하는사람이성공한다85년생명예를높일수있는기회가온다호랑이띠38년생가정에안정이최우선이다50년생마음의고통은잊어버리는것이좋다62년생말로인한구설수를조심하라74년생금전운이좋다86년생이성으로인한시비를주의하라토끼띠39년생생각처럼쉽지않다51년생서두르지말고천천히움직일것63년생예상외의금전지출이많아진다75년생일처리는신속하게하라87년생자신을되돌아보는시간이필요하다용띠40년생건강에신경써라52년생아직은기다리던때가아니다64년생부질없는생각을하지말것64년생떠돌지말고뿌리를내려야한다88년생일이잘풀린다뱀띠41년생마음이즐거우면몸도즐겁다53년생예정에없던여행을떠나게된다65년생새로운것이좋다77년생떠나간사람은잊어버릴것89년생새로좋은사람을소개받는다말띠42년생분수를지켜라54년생오랜친구와만나서회포를푼다66년생필요없는지출이많은날78년생어려움에서벗어나는날이다90년생미래를향해날개를펼칠것양띠43년생집안단속에신경써라55년생주변말에속지마라67년생좋은기회가생긴다79년생일이지연되도느긋하게기다려라91년생실업자는취직을하게된다원숭이띠44년생남에게큰충격을주지말라56년생남에일에간섭마라68년생눈앞의어려움부터해결해야한다80년생휴식이필요한때다92년생때만기다리면된다닭띠33년생구설수를조심하라45년생결정할일이있으면뒤로미뤄라57년생소망하던바가이루어진다69년생베푼만큼돌아온다81년생인생의목표를분명히정하라개띠34년생일마다순조롭다46년생좋은일하고도싫은소리듣는다58년생대인관계에신경써라70년생먼저양보하면그이상보답받는다82년생너무서두르지마라돼지띠35년생마음이평안해진다47년생주위사람을돕는데힘쓸것59년생반가운소식이멀리서전해진다71년생성공의비결은인내심이다83년생언행을조심하라', '쥐84년생겉모습에빠지면쉽게헤어지는사랑한다마음속보고판단72년생효자끝에효자나고불효끝에불효난다가족신경쓸때60년생많이듣고많이읽으며많이생각하니신경예민해지는날48년생소금장수보다더짜다금전관리잘해야가사넉넉하다행운의숫자41229소85년생등잔밑이어둡다주변친구에게시선두면좋은결실맺는다73년생새도가지를가려서앉는다새로운계획택할때이다61년생모든일에신경예민해지니피로가쉽게겹치는시기49년생아랫사람의문제함께의논하여해결책모색하는날행운의숫자61021호랑이86년생눈앞에보이는차이만알고결과가같은것을모르는날74년생성급히판단하면실패하기쉬우니침착하게행동할때62년생믿는사이일수록실언하지않도록조심쉽게피로해진다50년생좋은때가있으면나쁜때도있다즐거움과슬픔이교차행운의숫자21727토끼87년생이성간에불꽃튀는애정이시작장래책임질일만행하자75년생아침거미는돈저녁거미는근심저녁거미모였으니불쾌63년생계획은멀찌감치미뤄놓고자녀의생각과호흡맞추자51년생가뭄끝에단비가내리니기다리고기다리던황금비맞는다행운의숫자71322용88년생시기질투따르는하루이니자만하지말고행동할때다76년생새로운아이디어창출하여직업적으로활용하니수확풍성64년생마음과뜻맞는인연과손에손잡으니막힌일도열린운된다52년생큰목표를이루기위해서는작은손실은감수하고지날때행운의숫자31927뱀89년생감사한마음전하는하루지나친상상력은결론없는사랑77년생약한마음먹지말고강한의지로다시일어날때이다65년생자신의자존심만내세우다보면주위가고독해진다53년생눈앞의이익보다긴안목을가지고추진해야성공가능행운의숫자71028말90년생나는새도생각이있어난다목적있게행동할때78년생미혼자는혼담진행하고기혼자는부모님께효도하는날66년생마음이즐거우면걸음걸이도가볍다일에서능력발휘54년생지나치게옛일에얽매이지마라섭섭함들어온다행운의숫자31520양79년생망설이다가시간가는날되니적극성띠어야사랑에성공67년생주머니와상의해봐야한다예산초과지출된다55년생나무껍질씹는맛이다자존심손상당하니불쾌한기분43년생자신이저지른일의과보를자신이받는다성급한결정주의행운의숫자81128원숭이80년생장대로별따기헛수고만하는날이니만남은다음기회에68년생집중적이고지속적으로노력하면대가반드시온다56년생뜻밖에기쁜소식과재물이들어오니일거양득이다44년생하늘이끝없고바다가넓다기상웅대하니만인우러러본다행운의숫자11423닭81년생한순간잘못된판단은낭패를초래하니신중히생각할때69년생손발이척척맞는사이부부금실좋고가정에웃음꽃핀다57년생독방갇힌격일찌감치고독을즐겨소외감받지말자45년생발에맞지도않은신을신고뛰니넘어지기십상이다행운의숫자51020개82년생임시방편으로하면다시해야하니처음부터잘해야하는날70년생후한끝은있어도박한끝은없다의리적해결은결과좋다58년생내실을알뜰하게가꾸면재운이따르고주위에인정받는다46년생바늘로몽둥이막는격이다감당못하는행동후회한다행운의숫자91827돼지83년생자신감갖고활기찬생활의도전장제시할때강인해지는날71년생사랑이없다면발전없다감정의기복크니충돌우려있다59년생구슬은꿰어야보배능력맘껏발휘하니알찬하루보내자47년생대인관계원만하여상부상조하니되로주고말로받는다행운의숫자11626저작권자스포츠경향무단전재재배포금지', '물병자리120218돈과관련된일들은크건작건손해볼수있는날이다내기당구사다리하물며가위바위보도안먹힌다지갑을잃어버릴수도있으니조심하자합리적인사고능력이떨어지는날이다중요한결정을해야한다면다음으로미루거나주위사람들에게도움을요청하자해결책을얻을수있다컨디션은안따라주는데자기통제가잘안되는날이니과로과식하지않도록신경쓰자특히소화기관이탈이나서고생할수있겠다행운의아이템공중전화기물고기자리219320잔머리가팽팽두뇌회전이빠르게돌아가니주의력이좋아지는날이다평소에막혔던과목의틀렸던문제들은이해하고넘어가자머리에쏙쏙들어옴은물론오래남을것이다남친여친과의관계도좋다난데없는애정표현에상대방이당황해하면서도즐거워하니슬쩍스킨십을유도해도좋겠다조금어색해도커플티를맞춰입으면분위기가더욱더화기애애행운의아이템영화관양자리321419당신의생각에따라오늘의운세가달라진다오늘은좀상상력을발휘해보자평소고지식했던당신생각을조금만바꾸면어려웠던부분도오늘대부분해결을볼수있다적극적으로들이대면뭐든할수있다과거의경험으로위기를모면할수있는일이생긴다순간의판단보다는지난기억에비추어일을결정하는것이실수가없고새로운것보다는익숙한것들을선택하도록하자행운의아이템알람시계황소자리420520외롭다느껴지는날이다작은스트레스들이많은날일수있으니너무작은것들에는차라리신경을끄자대신평소에신경을못썼던부모님가까운친구들에게모처럼관심표현을해보자약간간지러운문자한통에도대우가달라진다마무리를해야할일들이많을하루다오늘같은날에는단맛이나는과일과자같은군것질거리로기분전환해보는것도좋겠다마음맞는친구와함께라면더욱행복하겠지행운의아이템농구공쌍둥이자리521621당신의유익한생활을위해컴퓨터는잠시꺼두셔도좋습니다컴퓨터게임에빠져있는당신한시간만한시간만하다가오늘하루다간다해야할일도하지못하고그후유증이내일까지갈테니오늘은공원농구장에가서땀흘리게뛰어보자색다른재미에폭빠질지도걸어가다가한눈팔지말자지나가는사람과부딪쳐한껏뽐낸당신옷에커피를잔뜩쏟고싶지않다면행운의아이템3게자리622722오늘은좀상상력을발휘해보자평소고지식했던당신이라면이제그만조선시대에서벗어나시죠당신이융통성을발휘하는만큼주변에사람들이늘어날것이다당신에게다가오지못했던사람들모두선비같은당신의성격때문그렇다고엄마아빠못알아보는건말이안되고적당한선에서의예의는지키는것이좋다구설수에오를수도있으니오늘은먼저나서지말고조용히기다리자행운의아이템개량한복사자자리723822이해하고이해하고일곱번을이해하는것도모자라다하는일마다암초에걸리지않는것이없으니이해하는수밖에그러나오늘포기하면후회한다오늘좀힘들어도이해하고넘어가자혼자서힘들다면주변에도움을청해라최대한예의를갖춰서이야기할것그렇지않으면더포기하고싶어질것이다또한예의를갖추고듣자그래야이상황을이겨낼수있는힘이당신에게생긴다당신을믿는것이중요한하루다행운의아이템만화책처녀자리823922눈치코치재치3치모두필요한날이다뭉근하고신중한생각보다는순간적인판단이중요한날이다목표달성의여부는순간의기회를얼마나빨리정확하게포착하느냐하는것대인관계가별로좋지않을수있을것같으니아무리스스로가떳떳하다하더라도내목소리만높이지말고주변의이야기를귀담아듣는것이필요하겠다오늘데이트가있다면푸른색의상을좋겠다행운의아이템연속극천칭자리9231023오늘은워크데이그야말로일만하는날이다아침부터오후까지하루종일해야할일들이산더미같이쌓여있지만일처리능력도좋고나름보람도느끼겠다저녁시간당신의애정운은급상승데이트하기딱좋은날이다비가와도주머니사정이별로좋지못해도만사오케이연인과좀더가까워질수있는기회가생긴다이왕이면아직가보지못한낯선곳에함께가는게좋을듯행운의아이템얼그레이전갈자리10241122당신의오늘전체적인총운은특별히좋지도나쁠것도없다다만구설수를조심하라별생각없는한마디적나라한표정때문에상대방의가슴에비수를꽂을지도모르는날이다생각지도않았던곳에서잘알지도못하는사람들이당신의험담을늘어놓는경우를당할수도있겠다황당하기그지없겠지만발끈하기보다여유있는모습을보여주는것이좋겠다애정운도웬만하니저녁데이트약속잡아도좋다행운의아이템돈까스사수자리11231221평범하게사는것을거부하던당신그동안의삶이평탄하지않았던것은모두그때문이라평범하게사는것도힘든데튀게살려니오죽피곤할까하지만남보다빠르게가기위해지름길로향했던당신은장애물에오히려더뒤쳐진상태이제라도남들과비슷하게걸어가는평범함을택하는건어떨지지금은비록힘들더라도장기적으로는당신이게이롭다하지만결정은신중하게당신의몫이다행운의아이템주사위염소자리1222119당신의의욕이충만하고결과도그에받쳐주니하루가모자르다책을열면집중력200암기도이해도잘되는날이다그러나중요한약속이나지켜야할일들을까먹지않도록체크할것이것저것너무욕심부리지말고적당히여유를두고오늘하루를보내야실수가없다이성과의사이에의심의싹이자란다면놔두면잡초처럼무성하게자랄조짐이보이므로애초에뽑아버리자행운의아이템단어장제공드림웍저작권자무단전재및재배포금지', '윤석열대통령이한국전쟁72주년을하루앞둔6월24일서울중구서울신라호텔에서열린국군및유엔군참전유공자초청오찬에서참전용사들에게평화의사도메달을수여한뒤고개숙여인사하고있다사진연합뉴스정치학자인연세대국제대학원의박명림교수내가그를처음만난것은1987년여름이었다당시모대학신문의학생기자였던나는‘제주4·3사건’을취재하기위한특별취재팀의팀장을맡았다그때박교수는석사학위논문주제를4·3사건으로잡고준비하고있었다그는우리의제주도현지취재전일정을함께하며큰도움을줬다취재후집필한‘잠들지않는남도은폐된진실의복원을위하여’라는특집기사전반부의이론적배경은박교수가후반부현지르포는내가썼다\\xa0이글은군사정권시절음지에서쉬쉬하며지라시수준에만머물던4·3사건이비로소제도권으로진입한단초였다그렇게시작된인연이내가군대를가고유학을떠나면서잠시끊어졌다가2000년대초그가고려대아세아문제연구소교수로재직할때다시이어졌다그는‘한국전쟁의발발과기원’이라는박사학위논문을확장해집필한방대한책을내면서정치학자로서이미‘젊은대가’의반열에올라있었다장준하노능서등과함께마지막광복군이었던김준엽19202011년전고려대총장이서거했을때장문의추모사를그에게부탁한적도있었다어쨌든나는논문과저서등을통해서그의학문적방향사상적탐험의도정道程을어느정도는알고있다고생각했었다그런데이게웬걸어느해겨울내가다니는교회에서주일예배를드리고예배당을나서려는데바로옆옆자리에서박교수가일어나는게아닌가“형교회엔어쩐일이세요”“어진짜오랜만이네차한잔하고갈까”나는농담을섞어물었다“아니천하가다아는빨갱이박명림교수가크리스천이라니이게무슨일입니까”물론그는‘시장경제와법의지배는민주주의핵심지탱요소’라고단언하는자유민주주의옹호론자다하지만그의이야기를듣고난더이상농담을할수없었다당시박교수는한국전쟁에참전한미군의유해발굴현장을따라다니며연구자료를모으고있었다그런데어느날부터답사를다녀오면이상한일이벌어지기시작했다“시체가나뒹구는죽음의현장을갔다오면밤에잠을잘수가없는거야며칠동안신열에시달리기도하고헛소리를지르다가땀범벅이되어깬적도한두번이아니었어고쳐보려고여기저기안다닌곳이없었지만아무소용없었어그러다가신실한크리스천인아내의권유로교회를다니면서이런증상이거짓말처럼사라졌어아내의인도가내영혼의알수없는고갈핍진逼眞을채워준거지”\\xa0박교수의신앙간증을하는자리가아니므로그의이야기는여기서그친다다만그날이후내머리를계속맴도는생각이있었다‘아미국정부는한국전쟁에파견돼싸우다가전사한자국군인의유해를찾기위해이렇게최선을다하는구나’반세기가훨씬지났는데도참전용사의유해를찾아헤매는미국정부의모습은감동을넘어숭고하게느껴졌다그럼우리나라사정은어떨까10여년전모방송에서한국전쟁특집방송을본기억이난다이미7080대노인이된참전용사들의평균적인삶은비참했다당시일반참전용사는매달9만원무공훈장을받은이는15만원의지원금을받는다고했다5·18민주화운동등여타국가유공자에대한예우와도차이가현격하다미국정부가상이군인에게2017년기준으로연평균1만5000달러약1970만원캐나다정부가2014년기준으로저소득층참전군인에게월2100달러약270만원를지원하는것과는비교조차불가능한수준이다“지금도밤에악몽을꾼다포연이자욱하고총탄이비오듯쏟아지는전쟁터에서내가총에맞아죽는꿈을매일밤꿔가위에눌렸다가일어나면온몸이땀에흠뻑젖어있는날도많아”인터뷰에응한80대의한참전용사는이렇게회고한다지금은의족으로바뀐전쟁때잃어버린그의한쪽발을만지면서눈물을훔쳤다참전용사들이군복무중에전쟁터에서겪은여러가지경험과공포또는그와중에입은부상등으로인해가지게되는심리적인문제를참전용사트라우마또는베테랑트라우마라고부른다여기에는크게세가지가있다첫째외상후스트레스증후군둘째우울증그리고셋째외상성뇌손상이다\\xa0는전투와재난폭행등에서기인하는참전용사들에게가장흔한심리적문제다를경험한이들은상상속에서혹은꿈에서예전의충격적인사건을다시경험한다이런회상의단서는특정한소리나냄새일수도있고이미지일수도있다그러나어떤원인에서든그날의악몽이현재일처럼생생하게재현된다는점에서당사자에게는한없이괴로운일이다\\xa0상황이이러하니자연히예전의기억을유발하는장소나사람을피하려하고심지어옛사건을상기시키게하는상담치료를회피하기도한다는사랑하는사람이나일반적인대인관계에부정적인영향을끼친다베트남전참전용사를대상으로한미국의한연구에따르면참전용사들은주변사람과갈등이잦고직장생활에도적응을잘하지못한다가족과의관계도원만하지못한편이었다결혼하는비율이낮았으며결혼후이혼하는비율은높았다\\xa0우울증도참전용사들이흔히겪는심리적문제중하나다대개는를겪고난뒤에우울증이발생한다고한다여러날지속하는우울한기분수면과식습관변화한때즐겼던일에대한관심부족등이타인과교류문제는물론일상적인삶자체를방해한다를겪은이들은그러지않은사람보다우울증을앓게될확률이세배이상높다고한다\\xa0외상성뇌손상은폭발이나폭행등뇌가외부의힘에부딪힐때받은충격에의해생긴다뇌기능이일시적으로손상되거나뇌기능의일부가변경되는등심각한부상에속한다겉으로드러난뚜렷한물리적인징후가없어‘보이지않는상처’라고불린다그렇다고증상이없는것은아니다기억이나집중력저하계획이나판단의어려움등인지적인증상이나짜증이나분노불안등정서적인증상그리고두통과구토조정과균형감저하등의신체적인증상을동반한다\\xa0다산정약용은이런말을한적이있다“무기는설사백년동안쓸일이없다해도단하루도갖추지않을수없다兵可百年不用不可一日無備”아무도원하지않을지라도언제든전쟁은일어날수있으니늘전쟁에대비하라다산의뜻이이러할것이다당연하게도전쟁을찬양하는나라가좋은나라는아니다그렇다고우리대신나라를지킨참전용사를홀대하는나라가정상국가일까\\xa0한국전쟁참전용사국가처우개선해야한국전쟁발발72주년을보내면서우리는많은변화를맞이하고있다대통령은한국전쟁참전용사를초청한자리에서그들에게허리를90도로꺾어인사했다연평대전유족천안함장병도초청했다또한미국에서전쟁영웅을어떻게대우하는지를벤치마킹하라고지시했다참전용사를위한새로운제복도마련했고전사자유해발굴도끝까지진행하겠다고약속했다잘하는일이다대통령의이러한약속이구두선口頭禪에그쳐선안될것이다참전용사처우에대한법률그들을지원할복지제도심리치료및재활치료체계를포함해시스템전체를바꾸는획기적인정책전환의신기원이됐으면한다이미전쟁은끝났는데아직도참전용사중에는‘내면內面의전쟁’으로고통받고있는이가많다그들이자신들‘마음속의전쟁’을온전히끝낼수있도록국가차원에서도와야하지않겠는가▒김진국문화평론가고려대인문예술과정주임교수조선비즈무단전재및재배포금지', '대한뉴스1979년10월16일서울성수동뚝섬유원지에서강남구압구정동을잇는성수대교가개통됐습니다박대통령은준공식에참석해1160의성수대교를건너면서한강주변개발계획등을관계관에게물었습니다한강에서11번째로놓인성수대교는4차선규모로한강다리가운데가장긴다리인데양쪽에인터체인지가설치돼논스톱으로달릴수있습니다“네방금들어온소식전해드리겠습니다서울성수대교일부구간이무너져서…무슨사고입니까”“네오늘오전7시반쯤성수대교가무너졌습니다”개통후15년뒤이다리는한순간에무너졌습니다상판50미터가내려앉으면서32명이숨지고17명이다쳤습니다사상자대부분출근길직장인과등교하던여고생이었습니다당시의경으로경찰의날표창을받으러가다사고를당한이경재씨는이때의상황을어제일처럼생생히기억합니다인터뷰이경재성수대교붕괴사고생존자기절했다눈을뜨니까앞에버스버스가뒤집어져있는거그다음에하여튼버스뒤쪽에이런말해도되는지모르겠지만머리가이렇게나와있었죠뒤집어서떨어졌으니까차가충격에의해서납작해졌겠죠그리고내려서보니까처음에는좀무서웠는데비명소리막들리기시작했고강쪽보니까벌써사람이떠내려가고있고그래서그쪽사람구조를하고버스쪽으로이제갔죠갔더니막진짜처참했어요사람이…아침출근시간이고또다서서가잖아요만석으로그러다보니까사람위에사람이막이렇게겹쳐있었죠기억은고통이됐습니다다친몸으로동료들과구조작업을했던이경재씨는한남자의눈빛을잊지못합니다인터뷰이경재성수대교붕괴사고생존자그분이살려달라막그랬어요애원했어요나한테그래가지고어떻게뭐방법이없는데그냥조금만기다리시라고이제구조대들이올거라고설득을하고춥다해가지고덮어주고하는데보트가오더라고요보트온다고얘기를딱하려고했는데돌아가셨어요그게하나의머리에또꽂혀있죠다리가무너지고바로1년뒤이번에는서울강남의한복판에서백화점이무너졌습니다저녁6시를3분앞둔5시57분백화점건물두동가운데한동이붕괴되는데걸린시간은단20초였습니다평범한일상이악몽이되던순간입니다인터뷰이선민삼풍백화점붕괴사고생존자그날백화점에저같은경우는아르바이트하러갔지만제가아는사람은유학가야되는데뭐필요한거사러갔대요다들쇼핑하러가면서그날거기서비명에갈거라고생각이나했겠어요천5백여명이숨지거나다쳤는데30명은끝내시신도찾지못했습니다그참혹한현장에서이선민씨는간발의차로살아남았습니다인터뷰이선민삼풍백화점붕괴사고생존자원래있던데에서식품쪽의사람들이불러가지고‘예’하고대답을하고이렇게가는데뒤쪽으로이제건물이무너진거예요그상판이차례차례이렇게떨어져서시루떡처럼됐단말이죠뼈도추스를수가없는상황이었어요거기를아주절묘하게저는이제23초사이에지나왔고…무너진건물에서겨우빠져나왔지만온몸은파편에맞아피투성이가됐습니다인터뷰이선민삼풍백화점붕괴사고생존자무너진동앞쪽에걸어가고있었기때문에뒤에서이제바람이불었고날아갈것같아서이렇게엎드렸는데이미뭐여기는다이제머리끝부터발끝까지다상처가난거죠그때이렇게돌멩이가이렇게스쳐지나갔는데살이이렇게벌어졌어요참사이후보상금을받았지만그액수와는비교도안될만큼의커다란고통이찾아왔습니다인터뷰이선민삼풍백화점붕괴사고생존자이마음의고통이찢어진그영혼그러니까그이후로사고이후로기뻤던적이없어요그러니까기쁨의역치가굉장히낮아졌어요생에대한그런이런기쁨들을빼앗길그돈받고빼앗길바에는내가진짜그돈돌려주고싶다니까요벌어서재난이후의삶은감사하기만한시간이아니었습니다인터뷰이선민삼풍백화점붕괴사고생존자‘얼마나감사할까’라고생각할텐데그냥나머지는덤으로사는것같았어요그러니까이게스무살의제가너무무작위한죽음을너무많은사람들이한번에한순간에기준도없이맥락도없이나이가많고적음종교가있음없음뭐가난하고부자성공하고아니고가없이서있던자리에의해서그냥죽는다는게너무너무큰충격이었어요그러니까어차피죽을건데공부를왜하고결혼을왜하고사랑을왜하고왜이런거에되게어렸을때부터이제그런생각을하게됐죠허무주의를넘어서이제그다음부터이제무기력해져버렸죠완전히트라우마라는개념조차없던시절치료받아야한다는생각도하지못했습니다인터뷰이선민삼풍백화점붕괴사고생존자저같은경우는이제나중에‘롱텀’라는진단을받아요그게그러니까사고이후에트라우마가찾아온게아니라10년이라는세월이지난후에찾아왔다고해서이제롱텀외상후스트레스장애라는학명이붙었는데당시사고이후에도계속이상했죠대인관계도안좋았고주변사람들이‘너변했어’라고했을때도그런데눈치채지못했어요그러니까우울했고집에들어가서항상그생각을했어요언제든지어디든지무너질수있다는생각을했기때문에어둠속에서눈이익숙해졌으면좋겠어서불도다끄고낮에혼자있어도커튼을다쳤어요항상어둡게살았어요성수대교생존자이경재씨의트라우마도30년가까이그를괴롭히고있습니다인터뷰이경재성수대교붕괴사고생존자다리에이렇게우리가차를갖고서게되면완충작용때문에흔들려요이게기분되게나빠요약간그기분하고비슷해요떨어지기직전의…무서움공포같은건가요네흔들려요차가그래서저같은경우는영동대교라든가차가밀리는데를잘안가요만약에그런상황이됐다그러면다리한가운데멈춰섰다면그느낌이굉장히싫어서움직이는느낌이싫어서진짜차를막돌려서오고싶은충동도생겨요사고이후트라우마치료를받은적도없습니다인터뷰이경재쉽게이야기해서옛날에그런이야기있잖아요군인들은요군에서죽으면뭐다안죽은것만해도다행이라는거죠시사기획창홈페이지39유튜브3158페이스북시사기획창검색■제보하기▷카카오톡제보검색▷전화027811234▷이메일1234▷뉴스홈페이지4김진희기자저작권자무단복제재배포금지', '이성수부산가덕교회목사이성수가덕교회목사가교회카페안에설치된선교지국기전시공간앞에서그동안선교관을찾은선교사들의사역지를소개하고있다부산도심을뒤로하고바다위에세워진남항대교을숙도대교신호대교가덕대교를차례로지나50여분을달리면도달하는곳부산광역시에서가장큰섬가덕도다최근방문한이곳에서117년전호주선교사가뿌리내린복음의숨결을만날수있었다가덕교회이성수목사는이섬의터줏대감이자주민들의사랑방이다고령화된주민들섬을떠나육지로향하는젊은세대후임청빙이어려워흔들리는강단대부분의섬마을목회현장이당면하는어려움을가덕교회도피할순없었다하지만가덕교회는이어려움을‘선교’라는키워드로거뜬히해결해내고있었다출발점은14년전이성수54목사가20년동안의부목사생활을마치고가덕교회로부임하면서부터였다“2008년11월에가덕교회로올때만해도가덕대교가없었지요호주선교사님때처럼저도나루터에서배타고들어왔습니다하하”섬교회를담임하게된이목사에게형편상많은것을해줄수없었던성도들은목회를위해가장원하는것한가지를물었고그는‘선교관’을떠올렸다이목사는“부목사시절해외선교사님들을만날때마다열악한환경가운데사역하시다가고국을찾았는데도정작갈데가없어막막해하던모습이생각났던것”이라고회상했다교회옆에있던낡은집하나를정돈해선교사한가정이생활할수있는공간을만들고성도들이십시일반손을보태살림살이를장만하자아담한선교관이세워졌다그렇게만들어진선교관하나는가덕교회와가덕도를변화시키는하나의밀알이됐다이목사는“선교사가정이선교관에들어와가족처럼생활하면서가덕교회성도들에겐해외에서온아들딸손주삼촌이모친구가생긴셈”이라고설명했다무엇이그들을진짜가족처럼대하게했을까이목사는그핵심을‘쉼’이라고했다선교관을무료로이용한다고해서대가를받듯교회사역의일부를맡기거나은연중에고정된모임과집회에참석하길강권하지않았다그저안식을위해고국을찾은이들을오랜만에고향에쉬러온가족을대하듯맞이했을뿐이었다2010년을시작으로네번째가덕교회선교관을찾은박미정72선교사는“세아이와함께가덕도에올때마다아이들끼리는국경을넘어친구가되고우리부부에겐친정엄마아빠가생긴다”고전했다그는“어부집사님은문고리에생선을걸어두시고어느날엔현관앞에수박이놓여있기도한다”며“온맘으로가족이라여겨주지않으면일어날수없는일”이라고말했다1채로시작된선교관은이제교회주변8채로확대됐다지금까지38개국에서88명의선교사가정이이곳에머물다선교지로돌아갔다교단나이가족구성선교지역머무는기간은모두제각각이지만서로를가족의울타리로생각하는사람들이다‘가덕교회사람들’이란제목이새겨진주보엔매주선교사들소식이첫페이지를장식한다교회마당카페에서성도들과교제나누는모습1년동안머물다선교지로돌아간선교사가정의가족사진등이채워진다주보안쪽안내면의가장큰공간을차지하는것도선교지소식이다운동회날하늘을수놓는만국기처럼38개국국기와각국의선교사들이름각선교관에머물고있는선교사와앞으로선교관을찾을선교사가정의정보가면을가득채운다가덕교회성도들이지난4월봄맞이교회대청소를한뒤선교관앞에서식사교제를나누는모습교회앞마당선교관‘이야기창고’란이름의교회카페등에선밤낮을가리지않고선교사들과일상적교제가이뤄진다전세계의문화권이야기인생관학업과취업인간관계연애와결혼등대화주제에한계가없다가덕도에서나고자란홍보람31씨는“초임간호사시절일도대인관계도모두힘들어서울면서무작정선교사님찾아갔을때위로와도전을받았던기억이생생하다”고말했다그는“가덕도청년들이삶전체를보고우선순위가무엇인지고민하며넓은시야로살아가게해주는원동력이선교사님들”이라면서“가덕도에서만난선교사님들의선교지로만세계일주를할수있을것”이라며웃었다홍씨와같이유년시절부터선교사들을이모삼촌선배삼아지냈던청년들중엔수도권에서의취업대신가덕도에남아인근지역으로출퇴근하며생활하는이들이수두룩하다일반적으로농어촌도서지역교회의세대분포는역피라미드형이지만가덕교회는원통형인이유다이목사는“부임당시엔6080대성도40여명이었던교회가지금은유초등부중고등부청년부장년부노년부가각각40여명인200명규모의공동체로변모했다”고전했다2년전부산에서가덕도로생활터전을옮긴서미영·유재홍43집사부부도‘선교사마을’같은가덕교회의매력에푹빠졌다서집사는“팔순을넘긴권사님집사님들이페루모잠비크라오스등내게도생소한해외선교지와선교사님들얘기를스스럼없이하는모습을보면서가덕교회성도들이선교사역자체를가슴깊이품고있다는걸느꼈다”고말했다가덕교회는구역모임구분도선교지역으로나뉘어져있다한구역성도들이정해진선교지의선교사들과지속적으로소통하며해당지역을위해기도하고후원도한다이목사는“가덕교회는개교회로만보면작은섬마을공동체일뿐이지만선교사님들과의네트워크로보면전세계가연결된거대한공동체인셈”이라고소개했다그는“가덕교회가추구하는영적네트워크가지구촌을섬기며더많은공동체를연결할수있도록끊임없이기도하고노력하는게선교적교회로서의지향점”이라고덧붙였다부산글·사진최기영기자710국민일보무단전재및재배포금지', '13번아웃증후군편집자주복잡하고어려운심리학을쉽게풀어드립니다알고나면더잘보이는나의마음딱1분만투자해서내마음더잘알아가볼까요연재구독혹은기자구독을누르시면유용한용어안내를빠짐없이보실수있습니다번아웃증후군은의욕적으로일에몰두하던사람이극도의신체·정신적피로감을호소하며무기력해지는현상을말한다게티이미지뱅크요즘번아웃이란말자주들리죠번아웃증후군은의욕적으로일에몰두하던사람이극도의신체·정신적피로감을호소하며무기력해지는현상을말합니다번아웃증후군은1974년미국심리학자허버트프로이덴버거가처음만든개념입니다2019년5월세계보건기구는국제질병분류11차개정안에서번아웃증후군을‘제대로관리되지않은만성직장스트레스’로규정했습니다의학적질병은아니지만제대로알고관리해야하는직업관련증상의하나로인정한것이죠첫째는열광형입니다이유형은일을통해성공하기를바라는야심가형에게많이나타납니다이들은일을과도하게하고어려움을극복하기위해모든노력을다하며성취에대한열망이가득합니다업무스트레스에대처하기위해이들은회사조직이나서열을자신의성공과목표를방해하는걸림돌로생각하기쉽죠둘째는도전부족형입니다이들은점차일에대한관심을잃어일상업무가단조롭고자극이없다고느끼는경우가많습니다또한일이나대인관계를피함으로써스트레스에대처하려는경향이있습니다이유형은권태개인적발전의부족등에영향을받은것으로분석됩니다셋째는탈진형입니다이들은어렵거나곤란한일을피하는경향이강하죠이런유형이자주품는감정은체념으로달성하고자하는목표가있음에도불구하고추동력을잃는다는특징이있습니다이유형은경직된조직구조에의해일에대한조절을잃었을때많이나타납니다번아웃증후군체크리스트아침에일어나출근할생각을하면피곤해진다일하는것에심적부담과긴장을느낀다업무를하는데무기력하고싫증을느낀다업무를하는데소극적이고방어적이다현재업무에관심이크게줄고성취감을느끼지못한다이전에즐거웠던일이요즘무미건조하고행복하지않다전보다많은시간을혼자지낸다어디론가먼곳으로훌쩍떠나고싶다스트레스를풀기위해폭식·음주·흡연등을즐긴다평소보다짜증·불안이늘고여유가없다3가지이상이면증상의심손성원기자한국일보무단복제및전재재배포를금지합니다', '박문일의생명여행㉕의사의소통기술5가지의사가환자의얘기를잘들어야제대로치료할수있다사진의사와환자간의정보교류나의사소통이제대로안되면의외의낭패를보곤한다예를들어어떤약을복용하고있는환자가그약에대한정확한정보를의사에게말하지않으면추가투여하는약물때문에엉뚱한진료결과가빚어질수있다따라서의사는환자가단순히말해주는정보보다는환자가가지고있는처방전을확인해야한다물론환자도병원을방문할때다른의사로부터받은처방전을보유하고있어야가능한일이다환자들은일반적으로의사가묻지않는사항에대하여말을아끼는편이다그러므로의사는환자의병에대한가능한많은정보를정확히전달받을수있도록질문을상세히해야하며환자들은이에적극적으로협조해야한다뉴욕타임스의2015년기사에선미국의료기관의서비스품질을인증하는비영리단체인합동위원회의보고서를검토한결과병원에서심각한건강악화결과의70이상의원인이의사소통실패인것으로나타났다환자3명중2명은정확한진단도모른채퇴원한다고하며또다른연구에따르면환자의60이상이진료실에서의지시사항을잘못이해했다고한다또한의사는증상에대한환자의설명을평균18초간듣는다고한다미국의통계이지만우리에게도시사하는바가크다병원에서는당연히우선적으로해당질환에대한의사소통이중요하다그러나간혹질환과관련없는환자의정서적환경이나주변상황에대한이야기를듣는것도중요하다실질적으로병원에서는환자가의사에게질문할기회는제한적이다따라서의사가환자에게감정이입하는경우는극히드물게된다예를들면눈물을흘리는환자가사랑하는사람의최근죽음에관해이야기했는데의사의다음질문은어느쪽배가아프지요인격이다힘든약물투여를포기하는환자에게자기가포기하는데할수없지라고생각하기전에그약물의필요성을성의있게설명하고환자의어려움을들어주고공감을하면서계속설득하여다시약물을투여하기까지는많은의사소통이있어야가능하다의학계에서대인관계및의사소통기술에서의사를훈련하고테스트해야할필요성이공식화한것은1999년미국내과전문가그룹이라는단체에서시작됐다그들은의사의핵심역량중하나로의사소통기술을꼽았다미국의각의과대학과레지던트프로그램에서이러한기술에대해학생들을교육하고테스트하기시작했지만아쉬운것은의사가교육을마친뒤이에대해거의평가되지않았다고한다설명하고경청하고공감하는의사의능력은환자의치료에지대한영향을미친다필자가대학병원재직시의대생들에게가르친몇가지팁을소개해본다첫째환자와눈을마주친다환자가진료실에들어서면환자의이름을부르고눈을마주치며인사한다환자가편안함을느끼도록해야한다요즘진료는모두전자의무기록이라는챠트시스템을사용한다따라서컴퓨터화면만들여다보면서진료실에들어선환자쪽으로얼굴도안돌리는의사들이많다환자보다컴퓨터화면을보는데에더많은시간을할애한다면환자만족도가어찌될지는자명한일이다필자가존경하는어느내과선배는진료실에들어서는환자마다일어서서맞으면서환자의손을직접잡고진료의자에앉힌다음자신이앉는다실력도으뜸이지만소통기술도일등인의사였다진료전에대화가없어도이러한행동만으로도환자스스로의사로부터관심을받고있고또한돌봄을받는다고느끼게만드는데큰도움이된다둘째환자에게우선말할기회를준다환자에게최소1분동안먼저이야기할수있는시간을주고진료를시작하는것이좋다의사의말은그다음이다환자에게공감을나타내는말과제스처도중요하다많은환자들이공감을훌륭한의사의가장중요한자질로생각한다는증거들이있다공감하지않으면환자도술술자신의이야기를풀어내지않는다환자가직접말하기꺼린다면동행한보호자를동원하는것도좋다질환을극복하기위해서는가능한많은사람들이관련정보를공유해야한다그래야치료기간이단축된다셋째환자가알아들을수있는단어를선택하라의사들은가급적전문용어를사용하지않는것이좋다전문용어를사용한다고해서자신이더욱전문적으로보이는것이아니다어려운의학용어를환자의눈높이에서쉽게풀어설명하는것이실력있는의사의능력이다진료후환자교육에도신경을써야한다집에서어떻게활동해야하는지또는어떤음식을먹어야하는지에대한자세한내용을알려주어야한다어떻게보면이런병원외관리가질병극복에더욱중요하다제한된진료시간에미쳐알려주지못한내용들을상세하게설명해주는글이나그림자료또는영상으로진료내용을공유하는것도중요한소통방법이다넷째환자의우려를무시하지말라막연히환자나보호자들에게걱정하지마세요를남발하는의사들이많다그런다고환자가걱정을하지않는다면다행한일이겠지만중요한것은환자가왜걱정을하느냐이다그이유가확실히없어질때까지는같이걱정해주는것이좋다이것도공감인것이다환자의걱정을막연히최소화하는것은위험할수도있다환자에게는오히려무시하거나무례한것으로해석될수도있으며환자를걱정거리가아닌것처럼대하면앞으로중요한정보를공유하지않을수도있다다섯째진료후에는환자에게진료내용을이해했는지확인하라그날의진료내용을간단하고도명확하게정리하여알려주고다음계획을알려준다그리고잘이해하셨는지요또는다른질문이있는지요라는질문으로진료를마치는것이좋다그리고미소와함께환자를배웅한다건강유지와질환극복에관한한환자는의사와의정보공유만큼중요한것이없다알고보면태어난뒤사람의일생은평생정보공유의연속선상에있다사람을왜사회적동물이라고하는가삶의거의모든것이다른사람과의관계에서결정되기때문일것이다살아가는데중요한각종교육은선생님과의정보공유이며직장에서는모든동료와정보를나누고있다사람의몸과마음은정보공유를하고있으며동물과식물도정보공유를하고있다더나아가생물과무생물도정보공유를하고있다는양자물리학이론을들추지않더라도사람과사람간의정보공유에서가장중요한것은소통임을잊어서는안되겠다박문일동탄제일병원원장에디터코메디닷컴저작권건강을위한정직한지식코메디닷컴무단전재재배포금지', '주식·코인투자실패에우울증호소크게늘어자산가치버블에투자붐코인투자자60가올들어폭락장에큰손실한강다리위생명의전화상담건수1년새8늘고2030상담자가절반달해◆베어마켓블루◆사진출처연합뉴스직장인김모씨32는지난해2월가상화폐가격이크게오르고있다는소식에큰결심을하고코인투자에뛰어들었다연일상승장이계속되자김씨는급한마음에은행에서5000만원을대출받아주식과가상화폐에1000만원4000만원씩나눠투자했다그러나김씨가투자를시작한이후하락장이이어졌고그는가상화폐자산을시작으로종목일부를소량씩되팔다가결국보유하고있던가상화폐를전부정리했다1억원이넘는자산이들어있던김씨의주식계좌는현재3000만원이넘는마이너스수익률을기록하고있다김씨는어차피평생월급을모아봐야집도못사는세상이라기회라고생각해시도해본투자라며이런방식의영끌투자는위험하다는것을뒤늦게깨달았다고크게좌절했다공기업에서근무중인이모씨45는전세자금대출로5000만원을마련해가상화폐루나에투자했다가이혼위기에처했다이씨는약1년전가치가급상승중이었던코인시장을믿고대출사실을아내에게알리지않았다최근폭락사태로루나를구매했던투자금전액을잃고아내에게사실을털어놓은뒤가정불화가시작됐다초등학생자녀를둔이씨부부는이혼절차를논의중이다지난해투자열풍을불러일으킨주식과가상화폐시장의열기가차갑게식으면서공격적인투자에뛰어들었던세대19802000년대생의고통이커지고있다실제로가상화폐투자자중세대가가장많고최근까지도꾸준히늘고있다가상화폐거래소빗썸이지난5월발표한바에따르면올해1분기투자자중20·30대비중은624를차지했다전체투자자10명중6명이세대였던셈이다이는지난해조사된49대비134포인트나늘어난수치다연령별로가장많았던투자자는30대447로조사됐으며20대도176를기록했다젊은세대투자자들이가장많이사들인가상자산은비트코인리플이더리움순이었다이들이거래한해당3개종목비중은지난해19에불과했지만올해는1분기에만329로뛰었다이렇게가상화폐와주식투자로큰손실을본2030세대를중심으로우울증을호소하는사례가늘고있다자신의처지를비관해극단적선택을하는경우도증가한것으로나타났다4일생명보험사회공헌재단과한국생명의전화에따르면생명의전화를통해올해16월한강교량에서상담전화를건세대는전년대비8포인트이상급증했다지난해에는위기상담건수총466건중20·30대상담은각각146건31451건11이었는데올해상반기걸려온20·30대의상담건수는79건36과32건146으로비중이높아졌다1년이채지나지않아극단적선택을고려하고있는젊은층비율이424에서506로급증한것이다올해상반기위기상담건수는220건으로이중119가현장에직접출동한건수는71건으로나타났다스스로목숨을끊으려한강교량을찾는상담자들의문제원인에서도주식·코인투자가직결된경제분야비율이높아졌다생명의전화에걸려오는상담문제유형으로는가족대인관계진로건강문제등이있다이중에서경제적어려움을겪고있는상담자비율은지난해88에서105로늘어났다최근주식과코인시장에서폭락장이이어지면서이같은추세는올해하반기에더뚜렷해질것이라는전문가들의진단이나온다투자손실규모가돌이킬수없을정도로커졌지만아직도미련을버리지못하는이들도부지기수다지난해비트코인에2000만원을투자한직장인강모씨25는1년가까이버티기를고수하고있다강씨는비트코인가격이폭락하자물타기투자주가가떨어질때주식을더사서평균매입단가를낮추는것에나섰지만결국1500만원이상손실을봤다강씨는17만원이었던코인가격이4만원대까지떨어졌다면서도이마저도잃을수는없어존버버티기하고있다고전했다또다른30대직장인정모씨는너도나도코인으로돈을벌었다고하니작년9월비트코인에투자했다며코인이라면이제꼴도보기싫지만언젠가다시오를것이라믿을수밖에없다고한탄했다■용어설명▷베어마켓블루주식시장에서약세장을말하는베어마켓과우울감을합친말최근주식과가상화폐시장에서가격이급락하면서투자자사이에퍼진우울감이나불안감을뜻한다고보현기자한상헌기자매일경제무단전재및재배포금지', '\\xa0오늘의운세는매일전날저녁9시에게재됩니다9002022년단기4355년7월4일월요일음력6월6일\\xa0더사주띠별운세제공오늘은임인壬寅년정미丁未월이고일진日辰은무오戊午입니다\\xa0오늘나의운은좋을까아니면나쁠까누구나한번쯤은가져보는의문이다더사주의도움으로이러한궁금증을풀어본다사주운세궁합등은단순히호기심이나재미가아니라모르는것보다는알고조심하고현명하게행동하기위해참고해야할식견으로인식되고있는만큼하루가시작될때미리체크해두면하루24시간시간의주인이될수도있지않을까▷구글번역기\\xa0\\xa0\\xa0\\xa0쥐띠자子운세삼재들삼재자시2301시오행수水계절겨울절기대설동지방위정북0도36年生\\xa0건강관리필요하고뭔가문제는생길수있지만점차해결될수있는운세에요48年生\\xa0혼자고민하기보다는누군가에도움이필요해요유연한처세술이필요합니다60年生\\xa0뜨거운열정으로노력하면보답은있지만오늘은생각못한사고수조심하세요72年生\\xa0많은사람들한테주목받게됩니다하지만언행이경솔하면구설에시달립니다84年生\\xa0정신없이할일도많고신경써야될곳도많으니차분하게하나씩해결해보세요96年生\\xa0연애운은좋은인연이생길수있지만너무급진적이면장애가발생하게됩니다소띠축丑운세축시0103시오행토土계절겨울절기소한대한방위북동북30도37年生\\xa0생각지못한일때문에스트레스많으니한발뒤로물러서서관망하는게좋아요49年生\\xa0부부간에갈등과대립이있습니다잠시고민은되지만먼저아량을베푸세요61年生\\xa0사람들일에잘못휘말리면시비다툼대립때문에큰곤란을겪을수있답니다73年生\\xa0계획을다시한번점검해보세요오늘은말썽이많을수있으니방심은안돼요85年生\\xa0마음이갈팡질팡합니다그만큼갈등이많이생기니까처음의초심기억하세요97年生\\xa0사소한이유때문에오해가생기고신뢰가무너질수있으니배려심이필요해요호랑이띠인寅운세인시0305시오행목木계절봄절기입춘우수방위동북동60도38年生\\xa0자존심과권위는잠시내려놓고진실하게소통하면막혔던관계도회복됩니다50年生\\xa0사면초가처럼곤란한상황이라면과정자체에집중하다보면장애가풀려요62年生\\xa0오늘의운기는상승하는기운입니다그럴수록침착하게마무리잘해야돼요74年生\\xa0방심하면안됩니다다소힘들어도최선을다한다면반전을가져올수있습니다86年生\\xa0안정적이고고요하게흘러가세요그러면함께협력해서좋은결과를얻게돼요98年生\\xa0상쾌한하루가될수있습니다외부활동도좋고사람관계도원만한날입니다토끼띠묘卯운세묘시0507시오행목木계절봄절기경칩춘분방위정동90도39年生\\xa0무모하게일을추진하면안됩니다잘진행되다가도한순간어긋남이생깁니다51年生\\xa0지루하고답답해도조금더인내하고적당한때를기다리는게현명한선택입니다63年生\\xa0편안하고원만하게진행되다가깜짝방해나함정이생기니잘살펴봐야돼요\\xa075年生\\xa0날카롭게대하는사람이라도먼저베풀고감싸주면더좋은보답을받는답니다87年生\\xa0내주장과고집은잠시접어두고주변사람들말을잘듣고순응하는게좋아요99年生\\xa0미래를위한준비가필요합니다불안한마음은긍정의마음으로전환해보세요용띠진辰운세삼재들삼재진시0709시오행토土계절봄절기청명곡우방위동남동120도40年生\\xa0여유로운몸과마음을유지하고무리한계획이나욕망보다는재정비하세요52年生\\xa0마음이흔들리면안됩니다중심을잘잡으면하는일에성과도상승하게돼요64年生\\xa0지나간일에집착하고미련을갖지마세요버려야새로운기회가생겨난답니다76年生\\xa0겸손함과아량을베풀수록좋은일이생기고금전적인성과도괜찮은날이에요88年生\\xa0정신을가다듬고앞으로전진하세요생각보다좋은성과를얻고보람도생겨요00年生\\xa0망설이고고민만하면안되고일단뛰어들어서익히고배우는자세가필요해요뱀띠사巳운세사시0911시오행화火계절여름절기입하소만방위남남동150도41年生\\xa0좋은마음이라도지나친지적과간섭은피하세요되도록평온함을유지하세요53年生\\xa0충동적인행동보다는신중하게행동하세요오히려실속있는날이될겁니다65年生\\xa0지혜로운사람과함께하여자기자신을돌아보고부족한부분을점검하세요\\xa077年生\\xa0화합도잘되고명예를얻을수있으니언행을신중하고침착하게유지해보세요89年生\\xa0많은사람들의호응을얻을수있고기대이상의성과도올리니행복한날입니다01年生\\xa0진실된사람을만날수있는연애운입니다주변사람들의조언을잘들으세요말띠오午운세오시1113시오행화火계절여름절기망종하지방위정남180도42年生\\xa0능력은출중하지만오늘은소중하게대인관계를해야해요겸손함이필요해요54年生\\xa0기세등등하고에너지가넘쳐요당당한자신감도좋지만적당하게조절하세요66年生\\xa0과도한욕심으로무리하게진행하면오히려낭패를볼수있으니차분하세요78年生\\xa0과유불급입니다마음에모든짐을내려놓고평온함을유지하면서진행하세요90年生\\xa0문제가있다면단호하게정리하세요미루면작은일도큰문제가될수있어요02年生\\xa0미래를위해서열심히노력하고실력을쌓으세요생각만으로는이룰수없어요양띠미未운세미시1315시오행토土계절여름절기소서대서방위남남서210도43年生\\xa0어려움이예상되지만피할수없으니차분하게과정자체에집중해야된답니다55年生\\xa0어두운터널에끝이보입니다밝은빛이보이고희망이생기니좌절하지마세요67年生\\xa0주변사람들과함께하는일들이이롭습니다화합을위해서유연해야된답니다79年生\\xa0문제가있다면기적처럼해결될수있답니다지혜로운사람의조언을구하세요91年生\\xa0몸과마음이풍족해지고여유로워지는날입니다조급하지말고차분해야돼요03年生\\xa0생각지못한친구의도움이있어요편애심갖지말고원만한관계를유지하세요원숭이띠신申운세\\xa0삼재들삼재신시1517시오행금金계절가을절기입추처서방위서남서240도44年生\\xa0어려운상황이길게가지않습니다견고한마음으로흔들림없이기다려보세요56年生\\xa0모든상황이점진적으로좋아지지만성급하게판단하고결정하면불리해집니다68年生\\xa0순간적으로울컥하는마음으로날카롭고직설적인표현은최대한조절하세요80年生\\xa0한번엎질러진물은다시담을수없으니불필요한모험심을발휘하면안됩니다92年生\\xa0지금의상황을냉정하고차분하게되돌아보세요허황된욕심은내려놔야돼요04年生\\xa0다소힘들고지치더라도행복한미래를위해서현재하는일에최선을다하세요닭띠유酉운세유시1719시오행금金계절가을절기백로추분방위정서270도45年生\\xa0주변사람들말에휘말리면안됩니다특히투기투자하고관련해서조심하세요57年生\\xa0그동안사람들속에서분주했다면오늘은잠시혼자만의힐링시간이필요해요69年生\\xa0조급한마음에편법을사용하면오히려꼬이게되니순리에맞게진행하세요81年生\\xa0이상과현실에괴리감이있어요좋아보이더라도잘살펴보고확인해야됩니다93年生\\xa0곤란하다고뒤로미루거나무조건받아주면안돼요단호하게정리정돈하세요개띠술戌운세술시1921시오행토土계절가을절기한로상강방위서북서300도46年生\\xa0스스로해결못하는문제라면도와줄수있는귀인이있으니도움을청해보세요58年生\\xa0지나친욕심은내려놓고묵묵히노력하세요오히려더빠르게성과를올립니다70年生\\xa0노력한만큼성과를올립니다발전하고상승할수있으니희망을가져도좋아요82年生\\xa0곤란했던상황이해결되고좋은기운이열리니반전의기회가생길수있답니다94年生\\xa0노력의결실이눈앞에와있습니다마지막까지조심하는마음으로진행하세요돼지띠해亥운세해시2123시오행수水계절겨울절기입동소설방위북북서330도47年生\\xa0혼자감당하기벅찬문제가생길수있으니가족과지인들에게도움을청하세요59年生\\xa0과도한욕심과자만으로신뢰를잃을수있으니신중에신중을기해야됩니다71年生\\xa0관계가복잡하다면다른사람단점만보지말고스스로내자신을점검하세요83年生\\xa0가능성은충분하지만아직결론을단정지을수없으니인내심을가져야됩니다95年生\\xa0주위시선에너무집착하지마세요자연스럽고당당하게내일에집중해보세요▶재미로보는12지지띠별궁합\\xa0간지干支는하늘을뜻하는10천간갑을병정무기경신임계의간干과땅을뜻하는12지지자축인묘진사오미신유술해의지支를뜻한다1쥐띠잘맞는띠소띠용띠\\xa0원숭이띠원진살앙숙양띠충살부딪힘말띠상극개띠2소띠\\xa0잘맞는띠\\xa0쥐띠뱀띠닭띠원진살앙숙말띠충살부딪힘양띠\\xa0상극돼지띠호랑이띠3호랑이띠\\xa0잘맞는띠말띠개띠돼지띠\\xa0원진살앙숙닭띠충살부딪힘원숭이띠\\xa0상극소띠용띠원숭이띠닭띠4토끼띠\\xa0잘맞는띠양띠개띠돼지띠\\xa0원진살앙숙원숭이띠충살부딪힘닭띠\\xa0상극소띠용띠5용띠\\xa0잘맞는띠쥐띠원숭이띠닭띠\\xa0원진살앙숙돼지띠충살부딪힘개띠상극호랑이띠토끼띠6뱀띠\\xa0잘맞는띠소띠용띠닭띠\\xa0원진살앙숙개띠충살부딪힘돼지띠상극쥐띠7말띠\\xa0잘맞는띠범띠개띠양띠원진살앙숙소띠충살부딪힘쥐띠상극원숭이띠닭띠8양띠\\xa0잘맞는띠돼지띠토끼띠말띠\\xa0원진살앙숙\\xa0쥐띠충살부딪힘소띠상극호랑이띠9원숭이띠\\xa0잘맞는띠쥐띠용띠\\xa0원진살앙숙토끼띠충살부딪힘범띠\\xa0상극말띠10닭띠\\xa0잘맞는띠뱀띠소띠용띠원진살앙숙호랑이띠충살부딪힘토끼띠상극말띠11개띠\\xa0잘맞는띠말띠범띠토끼띠원진살앙숙뱀띠충살부딪힘용띠상극쥐띠12돼지띠\\xa0잘맞는띠토끼띠양띠범띠원진살앙숙용띠충살부딪힘뱀띠상극소띠▶\\xa0손없는날\\xa0결혼개업이사등의날짜를정할때전통적으로손없는날중에서택일하는경우가많다손없는날의손은날일日로\\xa0사방4방위로돌아다니면서인간에게해로움을끼치는귀신을뜻한다즉손없는날의의미는사람에게해코지한다는악귀또는악신이돌아다니지않으므로\\xa0사람에게해를끼치지않는길吉한날을말한다\\xa0음력중끝자리가9와0인날이손없는날에해당한다90그런까닭에손없는날에택일하는경우가많은결혼식\\xa0개업일이사일등의경우에는다른날보다비용이프리미없이붙는경우가많으므로미리알아두면유용하다▶\\xa0손있는날결혼개업이사등의날짜를정하다보면부득이손없는날이아닌손있는날로택일할수밖에없는경우가있다택일은손없는날의방위를기준으로한다\\xa0현재자신의위치에서움직이고자하는곳의방향을본다그런이유로통상\\xa0이사갈때현재집을기준으로\\xa0어느\\xa0방향으로이사\\xa0가는지를부모님이물어보는경우가있다그럴땐아래를참고하면도움이된다1손없는날손없는날인\\xa091019202930일은어느\\xa0방향이든무난하다2손있는날손있는날은현재자신이위치한곳을기준으로이사가는방향이어느방향인지에따라날짜가달리정해진다동쪽이면1211122122일서쪽이면5615162526일남쪽이면3413142324일북쪽이면7817182728일이사가는방향을미리체크한후위의각방위별해당날짜중\\xa0하나를택일하면된다▶\\xa0상식으로알아두면유용한\\xa012지시十二支時각시간대오야五夜오경五更신체기능인체경맥오야五夜오경五更은한자시간표기법입니다사주四柱즉네개의기둥은\\xa0연월일시年月日時이며\\xa0여기에서시時에해당하는시주時柱의12지시시간대는알아두면유용하다현재한국의표준시는\\xa0동경135도\\xa0자오선을기준으로하기에한국의국토중심부를세로로잇는동경1275도\\xa0자오선과비교해\\xa030분차이가나며\\xa012지시의각시간대는아래와같다자시子時\\xa023300130병야丙夜야반夜半삼경三更저녁의가장중앙\\xa0담膽족소양담경足少陽膽經의기운이가장왕성한시간잠들어있어야할시간1야반도주夜半逃走라고할때야반夜半夜밤야半반반즉밤의한가운데라는뜻으로자시子時를말합니다자시에도망을가는것을일컫음2\\xa0\\xa0야반삼경夜半三更이란말은\\xa0야반夜半은위설명참조\\xa0삼경三更이란밤시간을오경五更으로나눴을\\xa0때삼경은그중앙이므로가장깊은밤시간때를말한다축시丑時\\xa001300330정야丁夜계명鷄鳴사경四更새벽에닭이우는시간\\u200b\\u200b\\u200b간肝족궐음간경足厥陰肝經의기운이가장왕성한시간깊은숙면상태인시寅時03300530무야戊夜평단오경五更하루가시작되는시간\\xa0폐敗수태음폐경手太陰肺經의기운이가장왕성한시간일어나야할시간묘시卯時05300730일출日出해가뜨는시간대장大腸수양명대장경手陽明大腸經의기운이가장왕성한시간화장실가야할\\xa0시간진시辰時07\\xa03009\\xa030식시食時아침식사시간위장胃腸족양명위경足陽明胃經의기운이가장왕성한시간아침밥먹을시간\\xa0식시오계食時五戒규합총서閨閤叢書에나옴음식을대하는다섯가지마음가짐사시巳時09301130우중禺中오전의중간시간\\xa0비장脾臟족태음비경足太陰脾經의기운이가장왕성한시간하루일\\xa0시작할시간오시午時11301330일중日中낮시간의가장중앙\\xa0심장心臟수소음심경手少陰心經의기운이가장왕성한시간휴식\\xa0취해야할시간미시未時13301530일영日影해가기울기시작하는시간\\xa0소장小腸수태양소장경手太陽小腸經의기운이가장왕성한시간일\\xa0할시간신시申時15301730일포日晡저녁식사시간방광膀胱족태양방광경足太陽膀胱經의기운이가장왕성한시간몸\\xa0편안히유시酉時17301930일입日入해가지는시간신장腎臟족소음신경足少陰腎經의기운이가장왕성한시간가벼운음식술시戌時19302130초야初夜초경初更일경一更해가져서어두운시간\\xa0심포心包수궐음심포경手厥陰心包經의기능이가장왕성한시간음식물절대금지해시亥時\\xa021302330을야乙夜인정이경二更잠자리에들시간\\xa0삼초三焦수소양삼초경手少陽三焦經의기능이가장왕성한시간몸이쉴시간취침사람의몸은물과\\xa0공기혈액세포근세포\\xa0뼈그리고\\xa0이들이어우러져빗어낸위대한결정체인\\xa0정신과마음이자연의정해진시간표12지시十二支時에따라움직이게되어있다이는곧\\xa0사람수명의길고짧음과질병의있고없음의근원이다12지시十二支時에따른\\xa0각신체기능을아는것만으로도사람을이루는\\xa028개의치아78개의장기\\xa0206개의뼈140여개의관절650개가넘는골격근\\xa0120000에이르는혈관그리고이들이어우러져만들어내는무한대의에너지원천인정신과마음을가진\\xa0사람이라는이\\xa0거대한오케스트라를지휘할수있는지휘봉을손에쥐는것이다이사람을어떻게어느쪽으로무엇을위해움직이게할것인가는온전히지휘자의몫이다우리의민족성은한恨을기반으로그위에형성된은근과끈기의를갖고있다끈기는끊임없이노력하면서도밖으로표현하지않고자랑도하지않는알맹이며은근은그외피다\\xa0사명감을기반으로한은근과끈기는자신의목표를향한끊임없는도전결코포기하지않는도전들이모여서우리의역사를만들어나간다한恨\\xa0한恨은근끈기은근끈기▶\\xa0사주팔자四柱八字사주四柱\\xa0팔자八字\\xa0\\xa0\\xa0\\xa0최해영기자21웨딩21뉴스본기사의저작권은케이웨딩컴퍼니에있으며무단전재복사배포로인해발생되는불이익에대하여책임지지않습니다', '이우영한국기술교육대교수대학에있다보면많은중소기업인들로부터늘변함없이듣게되는요청사항이있다“학점이나자격증보다인성이좋은학생을추천해주세요”사용자측이말하는인성이란무엇일까아마도조직내에서형식비형식으로지켜야할매너소통의기술즉언어태도등과함께조직에대한무한충성과인내심을의미할것이다수년전부터모든공공부문의입사시험에국가직무능력표준기반‘직업기초능력’시험이도입되어시행되고있다‘직업기초능력’에는의사소통수리문제해결자기계발자원관리대인관계정보기술조직이해및직업윤리등10개의영역으로구성되어있다해마다공공부문입사시험시즌이되면전국의학원에서는직업기초능력특강이붐을이루고있다사용자측이생각하는인성이직업기초능력이라면아니러니하게도‘인성도시험대비특강’으로일정수준높일수있다는착각에이르게된다그러나필자의관점에서는인성이란‘한사람이지금까지살아오며축적된그의스토리가담겨있는내재된정체성’이란생각이다옳던그르던어려서부터형성되어온자기정체성인것이다그러므로이제는채용에있어서기존의관점을바꾸어야할시기가되었다여전히많은중소기업의현실은이미형성된산업화시대의가치들이작용하면서그기준의틀안에서근로자를소유하려는습성이자리잡고있다이러한습성은주로중소제조업이나서비스업에서볼수있다기업이진정으로훌륭한인재를원한다면인재채용에대한인식을사용자중심에서구직수요자중심으로바꿔야한다는점이다이는구직청년층의내재된다양한스토리를융화하고발전시키며기업의생산성에자연스럽게기여할수있도록‘기업문화의혁신’이우선되어야한다는의미이다이러한기업문화의혁신은궁극적으로작업장혹은사무실내에서이루어지는‘일터혁신’으로이어질것이다전통적으로일터혁신은작업장수준에서발생하는새로운기술및사회시스템의변화를의미하기도하고작업관행의체계적이고지속적인도입으로정의하기도한다그동안일터혁신이기업의경쟁력을확보하고근로자들의삶의질을개선하는중요한정책수단이라는점은다양한연구들에서확인되고있다또한일자리의유지와창출뿐만아니라각종고용노동정책의미시적실천토대라는점에서정책적함의가높은분야이기도하다일터혁신은노사관계와고용을매개하는핵심변수로서유럽의주요국가들은일터혁신이국가혁신시스템의중심적역할을할것으로예상하며이에주목하고있다특히최근의노동시간단축과유연성이라는사회적변화에부응하기위해서도더욱중요하다그간고용노동부와노사발전재단은일하는‘방식의변화’를위해장시간근로개선고용문화개선임금체계개선평생학습노사파트너십체계구축등9개영역에서광범위한일터혁신컨설팅을지원해오고있다오랜노력으로생산성혁신과품질향상그리고근로생활의질을개선시키는데많은기여를했다이들영역중고용문화개선은기업의비전철학을바탕으로하는이며회사의존재가치를공유하는것이라볼수있다이는기업의고유정체성을확립해나가는과정으로회사의성장단계에따라지속적으로업그레이드해야함을의미한다‘우주는원자들로조합된것이아니라스토리로만들어진것’이란경구가있다기업문화역시기업의성장스토리로형성된다고할수있다좋은기업은최고경영자부터평사원에이르기까지모든구성원들이신뢰를바탕으로자랑할만한스토리를함께만들어가는기업이다서로가서로와함께나누는이야기가있는기업문화는일터혁신이최우선으로지향해야할방향이다송길호종합경제정보미디어이데일리무단전재재배포금지', '쥐84년생열번찍어안넘어가는나무없다기회놓치지말고사랑고백72년생상사의도움으로구상좋으니계획세우기적당한날60년생문서작성에실수있으니꼼꼼하게살필때계획서다음으로48년생금전관리철저해야가정경제안정온다쉽게피로느끼는날행운의숫자31723소85년생표면적으로는행복해보이나내면적으로애간장타는날73년생오전에피곤해도오후에는왕성한기세희희낙락한하루61년생신경예민하니피로겹쳐원기부족한날영양제복용할때49년생신용보다이득생각하면명예손상넉넉한마음갖는하루행운의숫자91126호랑이86년생임시변통하지말고마음깊이새겨몸소실천해야전망밝다74년생일심동체하는의리와이치에맞는귀인들어온다동업대길62년생의욕이떨어지고피곤함을느끼니에너지충전하는날50년생적은수입은들어오나큰지출예상되니힘겨운날이다행운의숫자51029토끼87년생오랜가뭄끝에단비내리니이성간불꽃튀는애정시작된다75년생기둥보다서까래가굵으니반대로되어일이뒤바뀌는날63년생서로깊이알지못하는사이해결사하지마라관재수염려51년생일제대로알아보지않고서둘러일을하니결과없는날행운의숫자11621용88년생자기위주행동은홀로되기쉬우니주변사람과화합힘쓰자76년생좋은아이디어떠오르니직업적으로활용하여수확많은날64년생형제간조화이뤄어깨동무하면막힌운도열린운된다52년생아랫사람과화합하여존경받고자녀에게효도받는즐거운날행운의숫자61320뱀89년생사랑을하는것도자신의기본위치지켜가며만난다77년생약한마음먹지말고강한의지로다시일어날때과음주의65년생마음바쁘고몸바빠지치기쉬운하루되니활력소찾자53년생어떤것이옳고그른지분명치못하고판단이흐리다행운의숫자41924말90년생분수밖큰것욕심내면작은것마저놓치니침착하게처신78년생변동수는장래불투명하니현직에열의다하여노력할때66년생있는것같으면서도없는것이돈금전문제로신경예민54년생고정관념버리고자유로운창의성으로전진하는시기행운의숫자21025양79년생죽마고우같은친구간에서운함오니마음넓게가질때67년생앞으로갔다뒤로물러가니급히행하지말고차분히진행55년생고래싸움에새우등터진다해결사하지말자원망듣는다43년생고양이에반찬단지맡긴격믿지말아야할사람믿으니손해행운의숫자81222원숭이80년생나보다못한사람많다욕심부질없으니만족하는마음갖자68년생이것저것손대지말고목표하나로모으는노력필요하다56년생풀끝에앉은새처럼불안하고시끄러운하루관재수주의44년생다정다감하게가족을보살필때형제에게도움주자행운의숫자51820닭81년생귀는크게열고입은작게열랬다연인말들어정확한판단69년생사랑을한몸에받는다소식은기대이상즐겁고성과좋은날57년생무미건조하게보내지말자등록수설계의날개펼치는날45년생베풀줄아는따뜻한마음의소유자되자계획은내일로행운의숫자41428개82년생마음과생각이다른인연이라면빠른절교가상책이다70년생이리저리생각해본다상상력만발동말고실천이중요58년생부부서로의논해가계계획세우자절약하는습관익힐때46년생명예는헛되이퍼지지않는다공로있으니존경받는날행운의숫자71323돼지83년생자신감갖고활기찬생활도전장제시하는날상상력주의71년생구슬은꿰어야보배능력마음껏발휘하여알찬하루보내자59년생대인관계원만하여상부상조하니되로주고말로받는날47년생목표향해전심전력으로나가는날내일위하여건강다질때행운의숫자31527저작권자스포츠경향무단전재재배포금지', '서울뉴시스요즘육아금쪽같은내새끼영상캡처20220708사진채널제공재판매및금지재판매및금지서울뉴시스황지향인턴기자정신건강의학과오은영박사가금쪽이솔루션에큰문제라며장기전을예고한다8일오후8시방송되는채널요즘육아금쪽같은내새끼에서는입학3개월만에전학위기에놓인초등학교1학년금쪽이가등장한다이날스튜디오에등장한금쪽이엄마·아빠는등교3개월째인데첫째아들이적응하지못하고폭력적인모습도보인다라며걱정스러운모습을보인다이어공개된화면에서금쪽이는담임선생님에게야라는반말을사용하는가하면점심시간에는먹기싫은음식을거부하며조리사에게욕설을내뱉는등의모습을보인다이에아빠는최근학교폭력으로까지신고가돼처분을기다리는상황이라고전한다서울뉴시스요즘육아금쪽같은내새끼영상캡처20220708사진채널제공재판매및금지재판매및금지또금쪽이는이날교장선생님과의대화에서태어날때부터즐겁지않았다고말한다그럼언제가장좋았냐는교장선생님의말에금쪽이는엄마를경찰서에보낼때라고답한다금쪽이엄마는금쪽이가4살때언어지연이있었다말이안되니친구를꼬집고밀기도했다라며과거발달검사를했던사연을밝힌다지켜보던오은영박사는조심스럽게아스퍼거증후군이라는결론을내린다책을통해금쪽이가아스퍼거증후군과비슷하다고짐작했던엄마는눈물을흘린다아스퍼거증후군은주로소아에서나타나는장애로대인관계등사회적인적응능력이나행동발달이타인에비해다소지연되는특징을보인다언어나인지능력은비교적정상적으로보이지만행동이나관심분야활동분야가타인에비해상대적으로한정되어있는것이특징이다금쪽이는글씨연습을하는일상생활에서도엄마는사망이다엄마손을하나먹어버릴생각이다라는말과함께폭력성을보인다이를본오은영은다급하게영상을중단시키며큰문제다라고운을뗸다이어금쪽이는한번입력이되면행동수정이어려운아이라고설명한다오은영박사는금쪽이를완전히치료할수있는방법은현재의학으로는없다라며변화를위한처방을내릴예정이다☞공감언론뉴시스7289공감언론뉴시스통신사무단전재재배포금지', '호원대학교진로심리상담센터는최근코로나19로인한의욕저하와우울감극복을위한나너소통백신소통프로그램을진행했다고18일밝혔다나너소통백신은사진을활용해소통을경험하는체험프로그램이다사진을매개로서로간소통의새로운관점을경험할수있다다양한관계증진을통한대학생활적응과성장발달을돕는호원대만의특색프로그램이다참가학생들은집단으로이뤄진이번프로그램을통해서로를이해할수있었다며사진을통해사람과소통하는것자체가새로웠다스스로생각이나감정을사진으로표현할수있어즐거웠다고입을모았다김은정진로심리상담센터장유아교육과교수은이번프로그램에참여한학생들이대면수업전환과관련해대인관계에서겪는어려움을해소하고자신과타인의대인관계방식을이해할수있을것이라며의사소통기술을익혀행복한대학생활을보내길바란다고말했다송하늘기자저작권자돈이보이는리얼타임뉴스머니투데이', '우울증20·30대환자3분의1이상증가취업·인간관계문제로절망감느껴약물·심리치료필요자기관리중요사진게티이미지뱅크정성훈대전을지대병원정신건강의학과교수최근20·30세대의우울증이사회적문제로대두되고있다건강보험심사평가원국민관심질병통계에따르면우울증으로치료받은20대환자수는2016년6만4497명에서2020년14만6977명으로절반이상늘었다30대환자또한2016년7만5949명에서2020년11만7186명으로3분의1가량증가했다성별로는여성이남성보다많았다젊은층의우울증은사회적단절과정서적고립을부른다그로인해가족과친구주변사람등에게자신의마음상태에대해적극적으로도움을요청하지못한다최악의경우극단적인선택을부를수있어근본적인안전망이필요하다는목소리가높다정성훈대전을지대병원정신건강의학과교수의도움말로2030세대의우울증증상과치료법등에대해자세히알아본다◇2030세대둘러싼우울증우울증의정확한원인은현재까지알려진바가없다하지만여러가지원인이제시되고있으며생물학·심리·환경적인요인들이다양하게영향을미치는것으로짐작하고있다대표적으로언급되는것은△신체호르몬균형의변화△가족력△어린시절의외상트라우마△낮은자존감또는자기비판적인태도△정신질환의과거력△경제적인문제△스트레스가많은사건등이다정교수는2030세대의경우취업또는직장스트레스인간관계가정환경이성문제미래에대한불안같은것들을다른연령층에서보다심각한문제로받아들인다며그로인해인지적으로자신이부족하다고느끼거나문제가발생했을때그걸해결할능력이없다는생각을하게되고이것이절망감과무기력감으로이어질수있다고말했다일부우울증환자는자신이우울증인것을모르고지내기도한다또일상생활에서상당히위축돼기능이떨어질때까지도자신의기분문제에대해호소하지않는다때때로신체증상을겪기도하는데내과적검사를반복적으로시행하지만명확한원인은나오지않는경우가많고이로인해우울증진단과치료가늦어지기도한다따라서불안한감정이지속되거나무슨일을해도의욕이생기지않고전과달리많이또는적게먹는다든지계속잠만잔다거나아예안자는등변화가생긴다면마음의문제가아닌지의심해볼필요가있다◇치료결심주저하지말것우울증은나이가들어감에따라발생하는노화의정상적인부분이아니며결코가볍게여겨서도안된다우울증의정확한진단을위해서는정신건강의학과전문의의종합적인판단이가장중요하며환자본인의치료의지또한뒷받침돼야한다우울증은마음의감기라불린다그만큼누구에게나생길수있고또치료할수있다특히약물치료와심리치료는우울증을앓고있는사람대부분에효과적이다가벼운우울증의경우인지행동치료나대인관계치료와같은심리치료만진행하기도한다또흔히정신과약을먹기시작하면의존성과내성이생긴다고생각해꺼리는사람이많다하지만다른약물에비해의존성이높지않고일부약물에서의존성을보이더라도전문의의처방에따라복용하고중단하면큰문제가되지않는다적극적인우울증치료는증상개선과삶의질향상에도움이되므로꾸준히잘받는것이매우중요하며증상이많이호전됐을경우라도재발을막기위해치료후69개월간은유지요법을시행한다우울증치료에가장중요한것은자기관리다대표적인자기관리는자신의건강상태에관심을두고경고신호를알아차리는것이다또자신을스스로돌보는노력이필요하고매일최소30분이상의야외활동혹은적당한운동을하는것이좋다사람과의교류는끊임없이이어가도록한다단가족과친구주변사람등과만난후다시혼자가됐을때의공허함을이겨낼수있도록집에서집중할수있는취미나습관을만드는것도하나의방법이다정교수는안타깝게도우울증으로스스로병원을찾는환자비율은매우낮고지금도전문의의도움없이고통을오롯이혼자감내하려는젊은이들이많을것이라며마음이섰을때늦지않게정신건강의학과를찾는다면본인에게가장알맞은방법으로도움을주고싶어하는전문의들이기다리고있을것이라고조언했다도움말정성훈대전을지대병원정신건강의학과교수', '여러모로삶을불편케하는요실금부부관계에도악영향노원에비뉴여성의원조병구원장\\u200b노화는받아들일수밖에없는자연현상이지만반갑지는않다신체기능이전반적으로조금씩떨어지는것에점차익숙해지더라도치료가능한부분은적극적인치료로건강을관리하는것이더현명하게나이드는방법일것이다누구나겪게되는퇴행성질환도관리에따라삶의질이달라지는데대표적인질환중하나가여성요실금이다여성은임신과출산과정에서골반근육이나질근육손상등의후유증을입는경우가빈번하다출산시손상및후유증정도에따라요실금이일반적노화현상보다더빨리시작되는경우도종종있다골반저근육과인대가점차처지면서생기는질이완및요실금을제때치료하지않고방치하면심하게는골반속에서안전하게보호돼야할자궁과방광같은장기들이골반밑으로쏟아지는장기탈출증등도발생하게된다요실금은외출여행냄새에대한불안과대인관계등많은부분에악영향을끼치는데특히부부관계중소변실수에대한두려움을유발할수있다이는성생활만족도에도적지않은영향을준다문제는소변을자주보는빈뇨나의지와관계없이소변이새는요실금이40대이상여성에서30이상증상을보일만큼흔한질환이라는점이다여성의요도가남성보다짧은데다출산후골반근육손상이나질근육이완으로인한요실금빈도가높기때문이다이로인해자궁하수방광류직장류증상이생기고질근육이완까지더해지면세균역류로인한질염도자주재발하게된다따라서요실금이시작된후부터부부관계가소원해졌다고생각된다면여성성형등의선제적시술을고려해볼수있다일명이쁜이수술이라불리던질축소성형은여성의생식기건강은물론중년이후삶의질향상차원에서시행하는시술이다따라서비용보다는후기등을고려해직접집도할의사로부터꼼꼼하게상담받을수있는지부터확인해보아야한다근육의이완정도와질점막상태등여러가지를고려해종합적인진단을내릴수있다또한검증된방법으로시술이가능한산부인과전문의와상담해야수술방법도제대로결정할수있고수술후만족도도좋은편이다출산등으로인해질근육에손상을입은여성이라면근육복원술을출산후여성호르몬감소로인해질점막이약해지면서건강한점막돌기가소실된경우는점막돌기복원술을시행할때더만족스러운결과를얻을수있다대부분의질환이그렇듯이요실금도질환초기에발견해치료할때치료기간도짧아지고치료효과도좋다부부사이도마찬가지다100세시대에후반기삶의질에가장큰영향을미치는것이사이좋은부부의상호지지라고한다서로아무문제가없다고생각할때부터시간과정성을들여부부의사랑을꾸준히가꾸는노력이필요한이유다이칼럼은노원에비뉴여성의원조병구원장의기고입니다\\u200b헬스조선무단전재및재배포금지', '서울신문나우뉴스미국인사이더에이어인디펜던트와메트로등영국매체가잇따라마위원장발언을보도하면서다양한반응이쏟아졌다특히스카이뉴스보도이후영국에서는조롱에가까운이야기도나왔다영국인디펜던트해당보도캡쳐“현재대한민국에서성인중코로나에걸리지않은사람은대인관계에문제가있는사람이라고생각합니다”마상혁경상남도의사회감염대책위원장전대한백신학회부회장발언이외국으로까지번졌다미국인사이더에이어인디펜던트와메트로등영국매체가잇따라마위원장발언을보도하면서다양한반응이쏟아졌다특히스카이뉴스보도이후영국에서는조롱에가까운이야기도나왔다마위원장은16일개인페이스북에“현재대한민국에서성인중코로나에걸리지않은사람은대인관계에문제가있는사람이라고생각합니다”라는글을울린바있다이후비난이쇄도하자마위원장은한언론과의인터뷰에서“비유적표현이었다”고밝혔다미국인사이더해당보도캡쳐영국메트로해당보도캡쳐27일스카이뉴스는코로나와대인관계에대한마위원장발언과그파장을그대로전달했다‘주변에서확진되는비율이많은상황속에서누구도피해가기어려운상황임을강조한것이다’라는마위원장해명도실었다스카이뉴스해당보도27일스카이뉴스는코로나와대인관계에대한마위원장발언과그파장을그대로전달했다‘주변에서확진되는비율이많은상황속에서누구도피해가기어려운상황임을강조한것이다’라는마위원장해명도실었다해당소식을접한영국인들은코로나와대인관계가무슨상관이냐는반응을쏟아냈다피오나오리어리라는이름의영국여성은“정말터무니없다우리는친구가있다안에서는환기를통해환경을통제하며밖에서도안전한만남을추구한다우리가환경을통제할수없는상황에서는품질좋은마스크를쓴다”고비판했다폴스탠튼이라는이름의영국남성은“매주30명이상의사람을만난다백신을맞았고누군가를만나기전에사전코로나검사도한다한번도문제가없었다”고강조했다마위원장은16일개인페이스북에“현재대한민국에서성인중코로나에걸리지않은사람은대인관계에문제가있는사람이라고생각합니다”라는글을울린바있다이후비난이쇄도하자마위원장은한언론과의인터뷰에서“비유적표현이었다”고밝혔다물론“내향적인사람이오래사는게사실이다”라는옹호의목소리도있었다하지만다른영국인은“가족5명이모두코로나에걸렸는데82세노모만멀쩡하다우리어머니는친구도많다”며반박했다“코로나에걸리지않도록방역수칙을지킨사람들을모욕했다”는의견도나왔다16일기준60만명을돌파한한국코로나19신규확진자집계가잘못된것아니냐는목소리도나왔다그간‘방역’이라는신조어까지나올정도로확실한방역성과를거두던한국에서이렇게많은확진자가나온게사실이냐는지적이었다16일62만1328명으로사상최대를기록한우리나라일일신규확진자수는27일18만명대로줄었다1월한때27만명에달했던영국의일일신규확진자는2월부터급감27일7만명대를기록했다최근7일평균확진자수는우리나라34만5842명영국9만1772명으로나타났다권윤희기자서울신문사무단전재및재배포금지']\n"
          ]
        }
      ],
      "source": [
        "###다음 기사 본문 및 제목 가져오기###\n",
        "\n",
        "# ConnectionError방지\n",
        "headers = { \"User-Agent\": \"Mozilla/5.0 (Windows NT 10.0; Win64; x64) Chrome/98.0.4758.102\" }\n",
        "\n",
        "#titles = []\n",
        "contents=[]\n",
        "\n",
        "for i in daum_urls:\n",
        "    original_html = requests.get(i,headers=headers)\n",
        "    html = BeautifulSoup(original_html.text, \"html.parser\")\n",
        "    # 검색결과확인시\n",
        "    #print(html)\n",
        "    \n",
        "    #뉴스 제목 가져오기\n",
        "    #title = html.select(\"div.head_view > h3.tit_view\")\n",
        "    # list합치기\n",
        "    #title = ''.join(str(title))\n",
        "    # html태그제거\n",
        "    #pattern1 = '<[^>]*>'\n",
        "    #title = re.sub(pattern=pattern1,repl='', string=title)\n",
        "    #titles.append(title)\n",
        "\n",
        "    #뉴스 본문 가져오기\n",
        "\n",
        "    content = html.select(\"div.news_view\")\n",
        "\n",
        "    # 기사 텍스트만 가져오기\n",
        "    # list합치기\n",
        "    content = ''.join(str(content))\n",
        "    \n",
        "    #html태그제거 및 텍스트 다듬기\n",
        "    content = re.sub(pattern='<[^>]*>',repl='', string=content)\n",
        "\n",
        "    content = content.replace('/(<([^>]+)>)', \"\")\n",
        "    content = re.sub('[a-zA-z]','',content)\n",
        "    content = re.sub('[\\{\\}\\[\\]\\/?.,;:|\\)*~`!^\\-_+<>@\\#$%&\\\\\\=\\(\\'\\\"\\♥\\♡\\ㅋ\\ㅠ\\ㅜ\\ㄱ\\ㅎ\\ㄲ\\ㅡⓒ]','',content)\n",
        "    content = content.replace('\\n', '')\n",
        "    content = content.replace(' ', '')\n",
        "\n",
        "    contents.append(content)\n",
        "\n",
        "#print(titles)\n",
        "print(contents)"
      ]
    },
    {
      "cell_type": "code",
      "execution_count": null,
      "metadata": {
        "id": "m2_k_vjRGztp"
      },
      "outputs": [],
      "source": [
        "#데이터프레임으로 정리(titles,url,contents)\n",
        "import pandas as pd\n",
        "\n",
        "news_df = pd.DataFrame({'title':titles,'link':daum_urls,'content':contents})\n",
        "\n",
        "news_df.to_csv('DaumNews_%s3.csv'%search,index=False,encoding='utf-8-sig')"
      ]
    },
    {
      "cell_type": "markdown",
      "metadata": {
        "id": "eCaZcfl6YfKJ"
      },
      "source": [
        "판다스 라이브러리 사용\n",
        "import pandas as pd\n",
        "\n",
        "실습1.csv 파일을 불러와서 file1로 저장\n",
        "실습2.csv 파일을 불러와서 file2로 저장\n",
        "file1 = pd.read_csv('실습1.csv')\n",
        "file2 = pd.read_csv('실습2.csv')\n",
        "\n",
        "실습1.csv 파일과 실습2.csv 파일을 합쳐서 result로 저장\n",
        "result = pd.concat([file1,file2])"
      ]
    },
    {
      "cell_type": "code",
      "execution_count": null,
      "metadata": {
        "id": "FjIfEV7IYaaV"
      },
      "outputs": [],
      "source": [
        "file1 = pd.read_csv('DaumNews_대인관계1.csv')\n",
        "file2 = pd.read_csv('DaumNews_대인관계2.csv')\n",
        "file3 = pd.read_csv('DaumNews_대인관계3.csv')\n",
        "\n",
        "result = pd.concat([file1, file2, file3])"
      ]
    },
    {
      "cell_type": "code",
      "execution_count": null,
      "metadata": {
        "id": "p3R2P16XZArd"
      },
      "outputs": [],
      "source": [
        "result.to_csv('DaumNews_%s.csv'%search,index=False,encoding='utf-8-sig')"
      ]
    }
  ],
  "metadata": {
    "colab": {
      "provenance": []
    },
    "kernelspec": {
      "display_name": "base",
      "language": "python",
      "name": "python3"
    },
    "language_info": {
      "name": "python",
      "version": "3.9.13"
    },
    "vscode": {
      "interpreter": {
        "hash": "e35aa464e4f518e3bd80b827b0a7a82608bf016d4c837622545242b48b9bfee6"
      }
    }
  },
  "nbformat": 4,
  "nbformat_minor": 0
}
