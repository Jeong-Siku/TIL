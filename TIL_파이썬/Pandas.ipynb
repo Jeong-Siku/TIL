{
 "cells": [
  {
   "attachments": {},
   "cell_type": "markdown",
   "metadata": {},
   "source": [
    "# DataFrame\n",
    "- 기본적으로 특정 컬럼을 부를 시 시리즈 형태.\n",
    "- `Numpy` 기반으로 개발\n",
    "- 판다스의 자료구조는 시리즈 (Series), 데이터 프레임 (DataFrame), 패널 (Panel) 세 가지가 있다.\n",
    "- 시리즈는 1차원 리스트와 유사하지만, `인덱스` 이름을 부여할 수 있다는 점이 차이점"
   ]
  },
  {
   "attachments": {},
   "cell_type": "markdown",
   "metadata": {},
   "source": [
    "#### 넘파이와 리스트의 차이\n",
    "1. 자료형\n",
    "- list는 숫자형이나 문자형 여러 가지 자료형을 한번에 다룰 수 있다.\n",
    "- numpy는 한 가지 동일한 자료형만 다룰 수 있다.(숫자형 + 문자형 = 문자형으로 변환) \n",
    "\n",
    "2. 2차원 이상 배열 구조일 시\n",
    "- list는 배열의 원 구조가 달라도 괜찮다.\n",
    "- numpy는 배열의 원소 구조가 모두 동일해야 한다.\n",
    "\n",
    "3. 연산 차이\n",
    "\n",
    "4. 메소드 차이\n",
    "\n",
    "★ list는 append()와 pop()를 통해서 자유롭게 원소 변경 및 크기 변경이 가능하지만\n",
    "numpy array는 만들어 지고 나면 메서드를 통해 update는 가능하지만 크기를 변경할 수는 없다."
   ]
  },
  {
   "attachments": {},
   "cell_type": "markdown",
   "metadata": {},
   "source": [
    "### DataFrame을 리스트로 변환\n",
    "- values.tolist()\n",
    "- column.values.tolist()"
   ]
  },
  {
   "cell_type": "code",
   "execution_count": 4,
   "metadata": {},
   "outputs": [
    {
     "data": {
      "text/plain": [
       "array([['디아블로', 4],\n",
       "       ['서프', 5],\n",
       "       ['롤', 4]], dtype=object)"
      ]
     },
     "execution_count": 4,
     "metadata": {},
     "output_type": "execute_result"
    }
   ],
   "source": [
    "import pandas as pd\n",
    "\n",
    "game = {\"title\" : ['디아블로',\"서프\",\"롤\",],\n",
    "        \"review\" : [4, 5, 4]}\n",
    "\n",
    "df = pd.DataFrame(game, columns = [\"title\",\"review\"])\n",
    "\n",
    "val_array = df.values\n",
    "val_array"
   ]
  },
  {
   "cell_type": "code",
   "execution_count": 6,
   "metadata": {},
   "outputs": [
    {
     "data": {
      "text/plain": [
       "[['디아블로', 4], ['서프', 5], ['롤', 4]]"
      ]
     },
     "execution_count": 6,
     "metadata": {},
     "output_type": "execute_result"
    }
   ],
   "source": [
    "val_list = df.values.tolist()\n",
    "val_list"
   ]
  },
  {
   "cell_type": "code",
   "execution_count": 10,
   "metadata": {},
   "outputs": [
    {
     "name": "stdout",
     "output_type": "stream",
     "text": [
      "<class 'pandas.core.indexes.base.Index'>\n",
      "<class 'numpy.ndarray'>\n"
     ]
    }
   ],
   "source": [
    "print(type(df.columns))\n",
    "print(type(df.columns.values))"
   ]
  },
  {
   "cell_type": "code",
   "execution_count": null,
   "metadata": {},
   "outputs": [],
   "source": []
  }
 ],
 "metadata": {
  "kernelspec": {
   "display_name": "base",
   "language": "python",
   "name": "python3"
  },
  "language_info": {
   "codemirror_mode": {
    "name": "ipython",
    "version": 3
   },
   "file_extension": ".py",
   "mimetype": "text/x-python",
   "name": "python",
   "nbconvert_exporter": "python",
   "pygments_lexer": "ipython3",
   "version": "3.9.13"
  },
  "orig_nbformat": 4,
  "vscode": {
   "interpreter": {
    "hash": "e35aa464e4f518e3bd80b827b0a7a82608bf016d4c837622545242b48b9bfee6"
   }
  }
 },
 "nbformat": 4,
 "nbformat_minor": 2
}
