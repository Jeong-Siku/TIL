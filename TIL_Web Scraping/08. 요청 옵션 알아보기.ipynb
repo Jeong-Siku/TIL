{
 "cells": [
  {
   "cell_type": "markdown",
   "id": "e0923549",
   "metadata": {},
   "source": [
    "# User-Agent 부여하기\n",
    "- User-Agent란? 클라이언트가 서버에 접속하는 플랫폼\n",
    "    - 현재 우리가 사용하고 있는 User-Agent는? 브라우저(크롬, 사파리, ...)\n",
    "- 만약 서버에서 크롤링 봇으로 접근하는 것을 차단한다면?\n",
    "    - 브라우저가 아니면 접근 금지!"
   ]
  },
  {
   "cell_type": "code",
   "execution_count": 3,
   "id": "5e88f718",
   "metadata": {},
   "outputs": [
    {
     "data": {
      "text/plain": [
       "<Response [200]>"
      ]
     },
     "execution_count": 3,
     "metadata": {},
     "output_type": "execute_result"
    }
   ],
   "source": [
    "import requests\n",
    "\n",
    "# 무신사 접속해보기\n",
    "MUSINSA_COAT_LIST_URL = \"https://www.musinsa.com/categories/item/002008\"\n",
    "response = requests.get(MUSINSA_COAT_LIST_URL)\n",
    "response"
   ]
  },
  {
   "cell_type": "code",
   "execution_count": 4,
   "id": "2d5d23db",
   "metadata": {},
   "outputs": [
    {
     "data": {
      "text/plain": [
       "<Response [403]>"
      ]
     },
     "execution_count": 4,
     "metadata": {},
     "output_type": "execute_result"
    }
   ],
   "source": [
    "MUSINSA_COAT_DETAIL_URL = \"https://www.musinsa.com/app/goods/709188\"\n",
    "response = requests.get(MUSINSA_COAT_DETAIL_URL)\n",
    "response"
   ]
  },
  {
   "cell_type": "markdown",
   "id": "07f9e1d8",
   "metadata": {},
   "source": [
    "fake_useragent : User Agent를 랜덤으로 만들어 준다."
   ]
  },
  {
   "cell_type": "code",
   "execution_count": 42,
   "id": "93404c0e",
   "metadata": {},
   "outputs": [
    {
     "data": {
      "text/plain": [
       "{'User-agent': 'Mozilla/5.0 (Windows NT 6.1; WOW64) AppleWebKit/535.7 (KHTML, like Gecko) Chrome/16.0.912.36 Safari/535.7'}"
      ]
     },
     "execution_count": 42,
     "metadata": {},
     "output_type": "execute_result"
    }
   ],
   "source": [
    "from fake_useragent import UserAgent\n",
    "\n",
    "headers = {'User-agent': UserAgent().chrome}\n",
    "headers"
   ]
  },
  {
   "cell_type": "code",
   "execution_count": 43,
   "id": "08d4f789",
   "metadata": {},
   "outputs": [
    {
     "data": {
      "text/plain": [
       "<Response [200]>"
      ]
     },
     "execution_count": 43,
     "metadata": {},
     "output_type": "execute_result"
    }
   ],
   "source": [
    "response = requests.get(MUSINSA_COAT_DETAIL_URL, headers=headers)\n",
    "response"
   ]
  },
  {
   "cell_type": "markdown",
   "id": "546482f6",
   "metadata": {},
   "source": [
    "# Selenium 옵션"
   ]
  },
  {
   "cell_type": "code",
   "execution_count": 46,
   "id": "fbdb67cb",
   "metadata": {},
   "outputs": [],
   "source": [
    "from selenium import webdriver\n",
    "from selenium.webdriver.chrome.service import Service\n",
    "from webdriver_manager.chrome import ChromeDriverManager\n",
    "\n",
    "# usergent를 임의로 설정할 수 있는 driver 생성 함수\n",
    "def get_chrome_driver_useragent():\n",
    "    chrome_options = webdriver.ChromeOptions()\n",
    "    \n",
    "    chrome_options.add_argument(\"user-agent={}\".format(UserAgent().chrome))\n",
    "    \n",
    "    driver = webdriver.Chrome(\n",
    "        service=Service(ChromeDriverManager().install()),\n",
    "        options=chrome_options\n",
    "    )\n",
    "    \n",
    "    return driver"
   ]
  },
  {
   "cell_type": "code",
   "execution_count": 47,
   "id": "a5e9a3e5",
   "metadata": {},
   "outputs": [],
   "source": [
    "driver = get_chrome_driver_useragent()"
   ]
  },
  {
   "cell_type": "code",
   "execution_count": 48,
   "id": "9e7cea7f",
   "metadata": {},
   "outputs": [
    {
     "data": {
      "text/plain": [
       "'Mozilla/5.0 (Macintosh; U; Intel Mac OS X 10_5_7; en-US) AppleWebKit/532.1 (KHTML, like Gecko) Chrome/4.0.212.1 Safari/532.1'"
      ]
     },
     "execution_count": 48,
     "metadata": {},
     "output_type": "execute_result"
    }
   ],
   "source": [
    "driver.execute_script(\"return navigator.userAgent;\")"
   ]
  },
  {
   "cell_type": "code",
   "execution_count": 50,
   "id": "b08e8e71",
   "metadata": {},
   "outputs": [],
   "source": [
    "driver.quit()"
   ]
  },
  {
   "cell_type": "markdown",
   "id": "678a6dc9",
   "metadata": {},
   "source": [
    "Selenium으로 크롤링을 할 때 중요한 옵션\n",
    "- Headless : 브라우저를 화면에 띄우지 않고 컴퓨터 내부에서만 돌아가도록\n",
    "- Windows, Mac 같은 GUI(Graphic User Interface) 환경 OS 에서는 화면이 뜬다. \n",
    "- Linux는 CLI(Command User Interface) 환경 OS 에서는 명령창만 뜬다.\n",
    "- 크롬 같은 경우는 메모리를 굉장히 많이 잡아먹는 브라우저라서, 메모리를 아끼기 위해 headless 옵션을 쓰기도 한다."
   ]
  },
  {
   "cell_type": "code",
   "execution_count": 49,
   "id": "bdac8f90",
   "metadata": {},
   "outputs": [],
   "source": [
    "def get_chrome_driver_headless():\n",
    "    chrome_options = webdriver.ChromeOptions()\n",
    "    \n",
    "    chrome_options.add_argument(\"headless\")\n",
    "    \n",
    "    driver = webdriver.Chrome(\n",
    "        service=Service(ChromeDriverManager().install()),\n",
    "        options=chrome_options\n",
    "    )\n",
    "    \n",
    "    return driver"
   ]
  },
  {
   "cell_type": "code",
   "execution_count": 51,
   "id": "90a10241",
   "metadata": {},
   "outputs": [],
   "source": [
    "driver = get_chrome_driver_headless()"
   ]
  },
  {
   "cell_type": "code",
   "execution_count": 52,
   "id": "6ce1cb4a",
   "metadata": {},
   "outputs": [],
   "source": [
    "driver.get(\"https://www.naver.com\")"
   ]
  },
  {
   "cell_type": "code",
   "execution_count": 53,
   "id": "51a8aa36",
   "metadata": {},
   "outputs": [
    {
     "data": {
      "text/plain": [
       "'NAVER'"
      ]
     },
     "execution_count": 53,
     "metadata": {},
     "output_type": "execute_result"
    }
   ],
   "source": [
    "driver.title"
   ]
  },
  {
   "cell_type": "code",
   "execution_count": 54,
   "id": "eeba165d",
   "metadata": {},
   "outputs": [],
   "source": [
    "driver.quit()"
   ]
  },
  {
   "cell_type": "markdown",
   "id": "6eff52d7",
   "metadata": {},
   "source": [
    "셀레니움을 이용한 크롤링은 GUI 환경에서 모든 테스트를 마치고 headless 설정을 하여 CLI 환경으로 돌린다."
   ]
  },
  {
   "cell_type": "code",
   "execution_count": null,
   "id": "77388321",
   "metadata": {},
   "outputs": [],
   "source": []
  }
 ],
 "metadata": {
  "kernelspec": {
   "display_name": "Python 3 (ipykernel)",
   "language": "python",
   "name": "python3"
  },
  "language_info": {
   "codemirror_mode": {
    "name": "ipython",
    "version": 3
   },
   "file_extension": ".py",
   "mimetype": "text/x-python",
   "name": "python",
   "nbconvert_exporter": "python",
   "pygments_lexer": "ipython3",
   "version": "3.9.13"
  }
 },
 "nbformat": 4,
 "nbformat_minor": 5
}
