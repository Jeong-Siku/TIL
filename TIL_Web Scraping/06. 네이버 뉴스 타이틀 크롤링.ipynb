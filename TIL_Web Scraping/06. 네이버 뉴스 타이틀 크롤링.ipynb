{
 "cells": [
  {
   "cell_type": "code",
   "execution_count": 1,
   "id": "8c0d24a3",
   "metadata": {},
   "outputs": [
    {
     "name": "stdout",
     "output_type": "stream",
     "text": [
      "Collecting webdriver_manager\n",
      "  Downloading webdriver_manager-3.8.5-py2.py3-none-any.whl (27 kB)\n",
      "Requirement already satisfied: requests in c:\\programdata\\anaconda3\\lib\\site-packages (from webdriver_manager) (2.28.1)\n",
      "Collecting python-dotenv\n",
      "  Downloading python_dotenv-1.0.0-py3-none-any.whl (19 kB)\n",
      "Requirement already satisfied: tqdm in c:\\programdata\\anaconda3\\lib\\site-packages (from webdriver_manager) (4.64.1)\n",
      "Requirement already satisfied: packaging in c:\\programdata\\anaconda3\\lib\\site-packages (from webdriver_manager) (21.3)\n",
      "Requirement already satisfied: pyparsing!=3.0.5,>=2.0.2 in c:\\programdata\\anaconda3\\lib\\site-packages (from packaging->webdriver_manager) (3.0.9)\n",
      "Requirement already satisfied: charset-normalizer<3,>=2 in c:\\programdata\\anaconda3\\lib\\site-packages (from requests->webdriver_manager) (2.0.4)\n",
      "Requirement already satisfied: urllib3<1.27,>=1.21.1 in c:\\programdata\\anaconda3\\lib\\site-packages (from requests->webdriver_manager) (1.26.11)\n",
      "Requirement already satisfied: certifi>=2017.4.17 in c:\\programdata\\anaconda3\\lib\\site-packages (from requests->webdriver_manager) (2022.9.14)\n",
      "Requirement already satisfied: idna<4,>=2.5 in c:\\programdata\\anaconda3\\lib\\site-packages (from requests->webdriver_manager) (3.3)\n",
      "Requirement already satisfied: colorama in c:\\programdata\\anaconda3\\lib\\site-packages (from tqdm->webdriver_manager) (0.4.5)\n",
      "Installing collected packages: python-dotenv, webdriver_manager\n",
      "Successfully installed python-dotenv-1.0.0 webdriver_manager-3.8.5\n"
     ]
    }
   ],
   "source": [
    "!pip install webdriver_manager"
   ]
  },
  {
   "cell_type": "code",
   "execution_count": 2,
   "id": "76f582ee",
   "metadata": {},
   "outputs": [],
   "source": [
    "from selenium import webdriver\n",
    "from selenium.webdriver.chrome.service import Service\n",
    "from webdriver_manager.chrome import ChromeDriverManager"
   ]
  },
  {
   "cell_type": "code",
   "execution_count": 3,
   "id": "5ffdfc96",
   "metadata": {},
   "outputs": [],
   "source": [
    "def get_chrome_driver():\n",
    "    # 1. 브라우저 옵션 세팅\n",
    "    chrome_options = webdriver.ChromeOptions()\n",
    "    \n",
    "    # 2. driver 생성\n",
    "    driver = webdriver.Chrome(\n",
    "        service= Service(ChromeDriverManager().install()),\n",
    "        options=chrome_options\n",
    "    )\n",
    "    \n",
    "    return driver"
   ]
  },
  {
   "cell_type": "code",
   "execution_count": 4,
   "id": "4c9ab8ec",
   "metadata": {},
   "outputs": [
    {
     "name": "stderr",
     "output_type": "stream",
     "text": [
      "[WDM] - Downloading: 100%|████████████████████████████████████████████████████████| 6.79M/6.79M [00:00<00:00, 33.2MB/s]\n"
     ]
    }
   ],
   "source": [
    "driver = get_chrome_driver()"
   ]
  },
  {
   "cell_type": "code",
   "execution_count": 5,
   "id": "be06ea48",
   "metadata": {},
   "outputs": [],
   "source": [
    "NAVER_NEWS_URL = \"https://news.naver.com/main/main.naver?mode=LSD&mid=shm&sid1=105#&date=%2000:00:00&page=1\""
   ]
  },
  {
   "cell_type": "markdown",
   "id": "b7a1f62f",
   "metadata": {},
   "source": [
    "셀레니움을 사용해 html 크롤링 하는 방법\n",
    "- find_element(s)를 통해 가져오기\n",
    "- page_source를 활용하여 BeautifulSoup과 연동해서 사용하기"
   ]
  },
  {
   "cell_type": "code",
   "execution_count": 34,
   "id": "8299e759",
   "metadata": {},
   "outputs": [],
   "source": [
    "driver.get(NAVER_NEWS_URL)"
   ]
  },
  {
   "cell_type": "markdown",
   "id": "0499e129",
   "metadata": {},
   "source": [
    "`page_source` + `BeautifulSoup` 활용하기"
   ]
  },
  {
   "cell_type": "code",
   "execution_count": 35,
   "id": "4eeb1c1c",
   "metadata": {},
   "outputs": [],
   "source": [
    "page = driver.page_source"
   ]
  },
  {
   "cell_type": "code",
   "execution_count": 36,
   "id": "98841c50",
   "metadata": {},
   "outputs": [],
   "source": [
    "from bs4 import BeautifulSoup\n",
    "\n",
    "soup = BeautifulSoup(page, 'html.parser')"
   ]
  },
  {
   "cell_type": "code",
   "execution_count": 37,
   "id": "5b495943",
   "metadata": {},
   "outputs": [
    {
     "data": {
      "text/plain": [
       "20"
      ]
     },
     "execution_count": 37,
     "metadata": {},
     "output_type": "execute_result"
    }
   ],
   "source": [
    "articles = soup.select(\"#section_body li\")\n",
    "len(articles)"
   ]
  },
  {
   "cell_type": "markdown",
   "id": "72c7c099",
   "metadata": {},
   "source": [
    "`find_element(s)` 사용하기"
   ]
  },
  {
   "cell_type": "code",
   "execution_count": 38,
   "id": "7f9ce3c4",
   "metadata": {},
   "outputs": [],
   "source": [
    "from selenium.webdriver.common.by import By"
   ]
  },
  {
   "cell_type": "code",
   "execution_count": 39,
   "id": "a070cda8",
   "metadata": {},
   "outputs": [
    {
     "data": {
      "text/plain": [
       "20"
      ]
     },
     "execution_count": 39,
     "metadata": {},
     "output_type": "execute_result"
    }
   ],
   "source": [
    "articles = driver.find_elements(\n",
    "    By.CSS_SELECTOR,\n",
    "    \"#section_body li\"\n",
    ")\n",
    "\n",
    "len(articles)"
   ]
  },
  {
   "cell_type": "code",
   "execution_count": 40,
   "id": "408b7a17",
   "metadata": {},
   "outputs": [
    {
     "data": {
      "text/plain": [
       "'[NES2023] 챗GPT로 촉발된 AI, 보안업계도 AI 삼매경\\n기업의 새로운 보안 위협이자 대응 수단으로 인공지능(AI)이 대두되고 있다. A) …\\n디지털데일리35분전'"
      ]
     },
     "execution_count": 40,
     "metadata": {},
     "output_type": "execute_result"
    }
   ],
   "source": [
    "# 첫 번째 기사만 확인\n",
    "articles[0].text"
   ]
  },
  {
   "cell_type": "code",
   "execution_count": 41,
   "id": "8013e825",
   "metadata": {},
   "outputs": [
    {
     "data": {
      "text/plain": [
       "'[NES2023] 챗GPT로 촉발된 AI, 보안업계도 AI 삼매경'"
      ]
     },
     "execution_count": 41,
     "metadata": {},
     "output_type": "execute_result"
    }
   ],
   "source": [
    "# 제목만 가져오기\n",
    "articles[0].find_element(\n",
    "    By.CSS_SELECTOR,\n",
    "    \"dt:not(.photo) > a\"\n",
    ").text"
   ]
  },
  {
   "cell_type": "code",
   "execution_count": 43,
   "id": "8bfb65ef",
   "metadata": {},
   "outputs": [
    {
     "name": "stdout",
     "output_type": "stream",
     "text": [
      "[NES2023] 챗GPT로 촉발된 AI, 보안업계도 AI 삼매경\n",
      "한상혁 방통위원장 구속영장 기각…\"혐의에 대해 다툼 여지有\"\n",
      "소액생계비대출에 '구름떼'…저소득자 DSR 큰 폭 상승 탓\n",
      "인텔 \"5세대 제온 스케일러블 CPU 올 4분기 출시\"\n",
      "\"메일로 해고 통보한 메타 '끔찍'…저커버그 지도력 형편없어\"\n",
      "챗GPT 시대의 노동은 수행이라기보다 지시다\n",
      "\"아이폰15 프로, 배터리 방전되도 버튼 작동\"\n",
      "[CEO맞수]토종 OTT 1위 싸움…티빙 양지을 VS 웨이브 이태현\n",
      "'디지털 화폐' 효용 모색 한창…미국은 미온적, 왜?\n",
      "[출근길 인터뷰] 자소서도 쓴다는 인공지능 '챗봇' 열풍…인간의 설 자리는?\n",
      "별이 블랙홀로…우주에서 가장 눈부신 마지막 순간 [우주다방]\n",
      "우버가 오히려 더 싸다고? 리프트의 사생결단 [정혜진의 Whynot 실리콘밸리]\n",
      "로봇, 네 다리로 눈 감고도 계단 오르내린다\n",
      "“반도체 경기 바닥쳤다”… 마이크론·인텔, 이유있는 급등 [美 증시 & IT]\n",
      "애플 증강 현실 헤드셋 신제품 공개할까...주목받는 애플 WWDC23\n",
      "'韓 애플페이 수수료, 中 5배'… 소비자 전가 우려\n",
      "카카오판 챗GPT '다다음' 4월 재출격, 완성도 높인다\n",
      "무인도에 표류하면 미키 마우스를 그려라...돌아온 밥의 결정은? [류현정의 아하! 스토리]\n",
      "또 총알 막은 갤럭시폰…\"우크라이나 병사 목숨 구했다\"\n",
      "“AI 위험, 6개월 개발 멈추자”... 머스크·워즈니악 포함 IT거물 1000명 서명\n"
     ]
    }
   ],
   "source": [
    "# 다 가져오기\n",
    "for article in articles:\n",
    "    title = article.find_element(By.CSS_SELECTOR, \"dt:not(.photo) > a\").text\n",
    "    print(title)"
   ]
  },
  {
   "cell_type": "code",
   "execution_count": 44,
   "id": "42369d27",
   "metadata": {},
   "outputs": [],
   "source": [
    "driver.quit()"
   ]
  },
  {
   "cell_type": "code",
   "execution_count": 46,
   "id": "1dc00bd2",
   "metadata": {},
   "outputs": [],
   "source": [
    "article_list = []\n",
    "\n",
    "def get_article(page):\n",
    "    driver = get_chrome_driver()\n",
    "    \n",
    "    url = \"https://news.naver.com/main/main.naver?mode=LSD&mid=shm&sid1=105#&date=%2000:00:00&page={}\".format(page)\n",
    "    driver.get(url)\n",
    "    articles = driver.find_elements( By.CSS_SELECTOR, \"#section_body li\")\n",
    "\n",
    "    for article in articles:\n",
    "        title = article.find_element( By.CSS_SELECTOR, \"dt:not(.photo) > a\").text\n",
    "        article_list.append(title)\n",
    "    \n",
    "    print(\"Crawling : {}\".format(page))\n",
    "    \n",
    "    driver.quit()"
   ]
  },
  {
   "cell_type": "code",
   "execution_count": 54,
   "id": "0fca1b1c",
   "metadata": {},
   "outputs": [
    {
     "name": "stdout",
     "output_type": "stream",
     "text": [
      "Crawling : 1\n",
      "Crawling : 2\n",
      "Crawling : 3\n",
      "Crawling : 4\n",
      "Crawling : 5\n",
      "['갤럭시Z폴드5·플립5 성능 실험 유출.. \"S23보다 좋네\" [1일IT템]', '바이낸스, 캐나다 철수 가능성…비트코인은 상승세[코인 브리핑]', '[디아블로4] 흥행 간절한 블리자드…“모회사 부진, 중국 판로 말썽”', '[NES2023] 챗GPT로 촉발된 AI, 보안업계도 AI 삼매경', '한상혁 방통위원장 구속영장 기각…\"혐의에 대해 다툼 여지有\"', \"소액생계비대출에 '구름떼'…저소득자 DSR 큰 폭 상승 탓\", '인텔 \"5세대 제온 스케일러블 CPU 올 4분기 출시\"', '[4세대 인텔 제온] ③ 나승주 총괄 “기술진화와 고객수요 간극…답 찾았다” [소부장반차장]', '\"메일로 해고 통보한 메타 \\'끔찍\\'…저커버그 지도력 형편없어\"', '챗GPT 시대의 노동은 수행이라기보다 지시다', '\"아이폰15 프로, 배터리 방전되도 버튼 작동\"', '[CEO맞수]토종 OTT 1위 싸움…티빙 양지을 VS 웨이브 이태현', \"'디지털 화폐' 효용 모색 한창…미국은 미온적, 왜?\", \"[출근길 인터뷰] 자소서도 쓴다는 인공지능 '챗봇' 열풍…인간의 설 자리는?\", '별이 블랙홀로…우주에서 가장 눈부신 마지막 순간 [우주다방]', '우버가 오히려 더 싸다고? 리프트의 사생결단 [정혜진의 Whynot 실리콘밸리]', '로봇, 네 다리로 눈 감고도 계단 오르내린다', '“반도체 경기 바닥쳤다”… 마이크론·인텔, 이유있는 급등 [美 증시 & IT]', '애플 증강 현실 헤드셋 신제품 공개할까...주목받는 애플 WWDC23', \"'韓 애플페이 수수료, 中 5배'… 소비자 전가 우려\", \"카카오판 챗GPT '다다음' 4월 재출격, 완성도 높인다\", '무인도에 표류하면 미키 마우스를 그려라...돌아온 밥의 결정은? [류현정의 아하! 스토리]', '또 총알 막은 갤럭시폰…\"우크라이나 병사 목숨 구했다\"', '“AI 위험, 6개월 개발 멈추자”... 머스크·워즈니악 포함 IT거물 1000명 서명', '[사이언스샷] 박테리아 모방한 분자 주사기, 암세포에만 독소 전달', '\"고장 났다간 큰일\"…아이폰 수리비 확 뛰었다', \"KT 2대 주주, 사외이사 재선임 반대… 대행 체제 시작부터 '당혹'\", \"'2.5조' 김범수 회사 케이큐브홀딩스 청산설 왜?\", '\"게임하지 마\" 고모 살해한 중학생... 또 \\'게임 책임론\\' 불거지나', 'OTT에 빨대 꽂는 ‘기생충’… “확산하면 더글로리·오겜 없다”', '간판 바꾸고 체험형 매장으로 변신하는 ‘삼성스토어’... 불황에도 가전 양판 선두 올라', '“챗GPT의 환각에서 벗어나라” AI 최고 석학 얀 르쿤 교수 ‘38쪽 PPT’로 비판', '\"\\'에타\\'는 남녀 반반, \\'블라\\'는 남초…여성이 더 오래 접속\"', '고용 한파 속 세자릿 수 신입 채용 나선 IT기업 어디', '달·화성에서 자원 채취…우주경제가 우주시대 연다[미래on]', '인지능력 키워주는 운동, 건강한 사람에겐 예외? [유용하 기자의 사이언스 톡]', '일상용도는 ‘오버 스펙’ 전문용도는 ‘가성비 갑’', '난파 직전 KT, 주가 3만 원 무너지고 관치 논란까지…\"정권 낙하산 금지 조항 만들자\"', '틱톡 퇴출 위협 비웃듯... 美 앱마켓 또 뚫어버린 중국산 앱', '틱톡 막으려는 美…젊은층 취향은 못 바꾼다', '수초 만에 스마트폰과 연결… 노트북으로 통화·답장까지 ‘편리’', '“1초면 결제 끝” 감탄, “애플페이 되나요” 매번 묻는 건 불편', '머스크 유발 하라리 등 \"GPT4 능가 AI개발 멈춰달라\" 촉구', '한상혁 방통위원장 구속영장 기각…법원 \"다툼 여지 있어\"', '한상혁 위원장 구속 면했지만…방통위 정상운영 차질 우려', '[재산공개] 조규홍 복지장관 재산 27억…오유경 식약처장 예금 1년새 1억 늘어', '[재산공개] 이종호 과기장관 148억7천만원…중앙부처 공개대상중 9위', '[재산공개]한상혁 방통위원장 15억원 신고…1위는 김효재 위원', '[9층시사국] 두렵지만 피할 수 없는 GPT할 결심', 'S23 출시하며 스마트싱스 스테이션 뿌린 삼성, ‘매터’가 뭐길래?', '“1억→0원, 결국 터질게 터졌다” 믿었던 유망 바이오의 배신', '“저도 좋아합니다” 연봉 124억원 택진형도 반한 중국산 게임', '“아이폰은 아직 한번도 못접었는데” 2번 접는 삼성폰, 연내 출시 임박?', '망 무상이용 “합의했다” vs “안 했다”…SKB-넷플릭스 소송전 팽팽', '넷플릭스-SKB 망사용료 공방…“피어링은 무상” vs. “우리법엔 유상”', \"현대차그룹, KT주총서 사외이사 선임안 반대…개인주주들 '부글'\", '‘아침의나라’로 돌아온 검은사막, 전성기 시절 되찾을까[서대문 오락실]', '“자막이 하나도 안 보여, 글씨 못 키워?” 60대 우리엄마 ‘넷플릭스’만 보는 이유 있네', \"쿠팡-CJ제일제당, '치킨게임' 지속...누가 더 손해일까\", '‘데이터 거지’ 그만할래...3만원대 5G 요금제 나온다는데', 'KT 식물 이사회 전락...비상경영위 TF가 새판 짠다', 'SKB-넷플 새해 첫 법정戰…\"망값 감정해보자\" vs \"무정산인데 왜?\"', \"유전자가위로 일냈다…질병 DNA '싹둑', 최대 4500억 기술 수출\", '\"딱 20초에 승부\"…5000만 팔로어 \\'글로벌 스타\\' 된 96년생', \"SK브로드밴드vs 넷플릭스, 법정에서 치열한 공방...피어링 유상성 두고 '설전'\", '\"신입 구직자 희망 초봉은 4천만원\"', '‘네이버 지식인 할아버지’ 조광현 별세…네이버도 추모 동참', \"앞다퉈 '챗GPT 쓰자'…한국 IT, 이대로 가도 괜찮나\", \"자고 나면 진화하는 AI…막 걸음마 뗀 韓 'OMG 플랫폼'에 종속되나\", 'KT 지배구조 개편, 첫 관문은 이사회 재구성', \"'카카오T 대항마'라더니…우티, 450억 손실에 대표 교체설도\", 'KT 2대 주주 현대차그룹, KT 사외이사 3인 재선임 반대할 듯', \"갤S23 첫달 판매량, 전작의 2배…10명 중 6명 '울트라' 샀다\", '위원장 공백 위기…政爭 휘말린 방통위', '메모리 바닥쳤나?…마이크론, 3조원 사상 최대 분기 적자', '“피 10방울만 뽑으면 돼” 암 찾아내는 무서운 신기술 나왔다', \"한미반도체, 소송까지 벌인 관계사 '한빛레이저' 결국 청산\", '3~4만원대 5G 알뜰폰 중간요금제 나온다', 'KT 2대주주 현대차 “사외이사 재선임 반대”', '격리의무 해제하고 ‘노마스크’ 확대...해외 각국 일상회복 속도 낸다', '베트남 메탄올 사고에 애꿎은 삼성전자 ‘불똥’…“직접 관련 없는 업체”', '삼성디스플레이, 중소형 OLED 시장 선두 수성… 中 BOE 2위', '美규제 맞서 中 반도체업계 인력확보 총력…\"신입 임금 2배로\"', '[팩플] 게임 만들며 포스텍 학점 딴다…IPO 노리는 시프트업의 승부', '\"2030년 신약비중 40%…원격진료 리더될 것\"', '[DD 퇴근길] 택진이형도 인공지능에 꽂혔다', '무더위 절정 7월엔 병원도 마스크 해제', '[엔씨 주총] 원신 같은 게임 만들어달라?…김택진 \"새로운 시도 지속\"', 'SK온, 1조원대 실탄 확보했지만…차입금 고민은 여전', \"배달시장 성장 둔화에 투자 '뚝'…대행 플랫폼 생존 전략은\", '전문가들 “코로나19 위기단계 조정 전 고위험군 대비책 마련해야”', \"서울 얼룩말 '세로'와 극명하게 엇갈린 대만 개코원숭이의 죽음\", '\\'글로벌 게임사\\' 선언한 택진이형 \"수익모델 변신…AI 준비만 10년\"(종합)', '“80살 넘으면 죽음이 반가워요” 세상 떠난 ‘지식인 큰어른’ 감동 답변', '상장폐지냐 유의종목해지냐…운명의 31일 마주한 페이코인', \"무디스, SK하이닉스 등급전망 '부정적'으로 하향 조정\", '인터넷 접속한 챗GPT 플러그인 \"보안 강화 시급\"', \"'리플 vs SEC' 세기의 소송 결과 임박…닥사, 시세 변동성 대응 '촉각'\", '내 개인 정보 유출한 기업, 과징금은 왜 정부에?[궁즉답]', '\"황영웅 의도적 밀어주기?\" 방심위 \\'불타는 트롯맨\\' 의견진술 요구']\n",
      "Wall time: 44.8 s\n"
     ]
    }
   ],
   "source": [
    "%%time\n",
    "article_list = []\n",
    "\n",
    "for page in range(1, 6):\n",
    "    get_article(page)\n",
    "\n",
    "print(article_list)"
   ]
  },
  {
   "cell_type": "markdown",
   "id": "4ce8b169",
   "metadata": {},
   "source": [
    "Thread를 이용해서 크롤링 하기\n",
    "- 작업 대기 시간(idle)을 최대한 줄이기 위해 사용\n",
    "- 하나의 작업을 순서대로 하는 것이 아닌, 동시에 여러 작업을 하기 위함"
   ]
  },
  {
   "cell_type": "code",
   "execution_count": 56,
   "id": "e05ee93f",
   "metadata": {},
   "outputs": [],
   "source": [
    "import threading"
   ]
  },
  {
   "cell_type": "code",
   "execution_count": 60,
   "id": "2f4c9849",
   "metadata": {},
   "outputs": [
    {
     "name": "stdout",
     "output_type": "stream",
     "text": [
      "[]\n"
     ]
    }
   ],
   "source": [
    "article_list = []\n",
    "\n",
    "for page in range(1, 6):\n",
    "    th = threading.Thread(target=get_article, args=(page,))\n",
    "    th.start()\n",
    "\n",
    "print(article_list)"
   ]
  },
  {
   "cell_type": "code",
   "execution_count": 61,
   "id": "d020b45f",
   "metadata": {},
   "outputs": [
    {
     "data": {
      "text/plain": [
       "[]"
      ]
     },
     "execution_count": 61,
     "metadata": {},
     "output_type": "execute_result"
    },
    {
     "name": "stdout",
     "output_type": "stream",
     "text": [
      "Crawling : 1\n",
      "Crawling : 3\n",
      "Crawling : 2\n",
      "Crawling : 5\n",
      "Crawling : 4\n"
     ]
    }
   ],
   "source": [
    "article_list"
   ]
  }
 ],
 "metadata": {
  "kernelspec": {
   "display_name": "Python 3 (ipykernel)",
   "language": "python",
   "name": "python3"
  },
  "language_info": {
   "codemirror_mode": {
    "name": "ipython",
    "version": 3
   },
   "file_extension": ".py",
   "mimetype": "text/x-python",
   "name": "python",
   "nbconvert_exporter": "python",
   "pygments_lexer": "ipython3",
   "version": "3.9.13"
  }
 },
 "nbformat": 4,
 "nbformat_minor": 5
}
