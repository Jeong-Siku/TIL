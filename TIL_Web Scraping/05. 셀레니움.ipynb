{
 "cells": [
  {
   "cell_type": "markdown",
   "id": "70efe4a4",
   "metadata": {},
   "source": [
    "```!pip install selenium```"
   ]
  },
  {
   "cell_type": "code",
   "execution_count": 3,
   "id": "dd685ce2",
   "metadata": {},
   "outputs": [],
   "source": [
    "from selenium import webdriver"
   ]
  },
  {
   "cell_type": "code",
   "execution_count": 4,
   "id": "4d2d038b",
   "metadata": {},
   "outputs": [
    {
     "name": "stderr",
     "output_type": "stream",
     "text": [
      "C:\\Users\\student\\AppData\\Local\\Temp\\ipykernel_7936\\2299280398.py:1: DeprecationWarning: executable_path has been deprecated, please pass in a Service object\n",
      "  driver = webdriver.Chrome('./chromedriver')\n"
     ]
    }
   ],
   "source": [
    "driver = webdriver.Chrome('./chromedriver')"
   ]
  },
  {
   "cell_type": "markdown",
   "id": "182d3568",
   "metadata": {},
   "source": [
    "driver 객체를 통해 테스트 브라우저를 컨트롤 할 수 있다."
   ]
  },
  {
   "cell_type": "code",
   "execution_count": 6,
   "id": "4cf0a5d4",
   "metadata": {},
   "outputs": [],
   "source": [
    "driver.get(\"https://www.naver.com\")"
   ]
  },
  {
   "cell_type": "markdown",
   "id": "065dd704",
   "metadata": {},
   "source": [
    "driver를 통해 Element 제어"
   ]
  },
  {
   "cell_type": "code",
   "execution_count": 7,
   "id": "e315df53",
   "metadata": {},
   "outputs": [],
   "source": [
    "# 엘리먼트를 제어하려면 엘리먼트의 정보가 필요\n",
    "#  - 엘리먼트의 정보 : 태그명, 선택자, 속성 등등...\n",
    "from selenium.webdriver.common.by import By"
   ]
  },
  {
   "cell_type": "code",
   "execution_count": 10,
   "id": "ca4351ff",
   "metadata": {},
   "outputs": [
    {
     "data": {
      "text/plain": [
       "<selenium.webdriver.remote.webelement.WebElement (session=\"00f22fdba1a41ac1b4a9aaea7f4be081\", element=\"a4ab1b57-654d-4666-9059-23b42d4f7cb0\")>"
      ]
     },
     "execution_count": 10,
     "metadata": {},
     "output_type": "execute_result"
    }
   ],
   "source": [
    "query_elem = driver.find_element(\n",
    "    By.CSS_SELECTOR,\n",
    "    \"#query\"\n",
    ")\n",
    "\n",
    "query_elem"
   ]
  },
  {
   "cell_type": "code",
   "execution_count": 11,
   "id": "7529adf0",
   "metadata": {},
   "outputs": [],
   "source": [
    "# 파이썬 코드를 통해 element에 어떤 값을 입력 - send_keys\n",
    "query_elem.send_keys(\"집에 가고 싶다\")"
   ]
  },
  {
   "cell_type": "code",
   "execution_count": 12,
   "id": "ed6c3172",
   "metadata": {},
   "outputs": [],
   "source": [
    "query_elem.send_keys(\"비트코인\")"
   ]
  },
  {
   "cell_type": "code",
   "execution_count": 13,
   "id": "11e08e13",
   "metadata": {},
   "outputs": [],
   "source": [
    "# 원래 있던 값 삭제 - clear\n",
    "query_elem.clear()"
   ]
  },
  {
   "cell_type": "code",
   "execution_count": 14,
   "id": "8fb33202",
   "metadata": {},
   "outputs": [],
   "source": [
    "query_elem.send_keys(\"뉴진스\")"
   ]
  },
  {
   "cell_type": "code",
   "execution_count": 15,
   "id": "e40fa3f0",
   "metadata": {},
   "outputs": [
    {
     "data": {
      "text/plain": [
       "<selenium.webdriver.remote.webelement.WebElement (session=\"00f22fdba1a41ac1b4a9aaea7f4be081\", element=\"b0f6ddb0-7664-42e3-92a8-2767150ec367\")>"
      ]
     },
     "execution_count": 15,
     "metadata": {},
     "output_type": "execute_result"
    }
   ],
   "source": [
    "# 검색 버튼 누르기\n",
    "search_btn_elem = driver.find_element(\n",
    "    By.CSS_SELECTOR,\n",
    "    \"#search_btn\"\n",
    ")\n",
    "search_btn_elem"
   ]
  },
  {
   "cell_type": "code",
   "execution_count": 16,
   "id": "5177a60f",
   "metadata": {},
   "outputs": [],
   "source": [
    "search_btn_elem.click()"
   ]
  },
  {
   "cell_type": "code",
   "execution_count": 17,
   "id": "093d5c95",
   "metadata": {},
   "outputs": [],
   "source": [
    "# 브라우저 창(window) 크기 조절\n",
    "driver.set_window_size(300, 800)"
   ]
  },
  {
   "cell_type": "code",
   "execution_count": 22,
   "id": "ceb15ce9",
   "metadata": {},
   "outputs": [],
   "source": [
    "# 스크롤 위치 조절 - javascript 활용\n",
    "#  자바스크립트를 문자열로 작성해서 실행\n",
    "driver.execute_script(\"window.scrollTo(50, 600)\")"
   ]
  },
  {
   "cell_type": "code",
   "execution_count": 23,
   "id": "4612b31f",
   "metadata": {},
   "outputs": [],
   "source": [
    "# 사용이 끝났으면 quit\n",
    "driver.quit()"
   ]
  },
  {
   "cell_type": "markdown",
   "id": "020e0cf6",
   "metadata": {},
   "source": [
    "driver.quit()으로 종료하지 않으면 테스트 브라우저가 메모리에 상주하는 경우가 종종 있음 . 컴퓨터 느려짐"
   ]
  },
  {
   "cell_type": "code",
   "execution_count": null,
   "id": "8ea860f9",
   "metadata": {},
   "outputs": [],
   "source": []
  },
  {
   "cell_type": "code",
   "execution_count": null,
   "id": "c39d2ed8",
   "metadata": {},
   "outputs": [],
   "source": []
  },
  {
   "cell_type": "code",
   "execution_count": null,
   "id": "b7bfa6d3",
   "metadata": {},
   "outputs": [],
   "source": []
  },
  {
   "cell_type": "code",
   "execution_count": null,
   "id": "c254d16f",
   "metadata": {},
   "outputs": [],
   "source": []
  },
  {
   "cell_type": "code",
   "execution_count": null,
   "id": "93492520",
   "metadata": {},
   "outputs": [],
   "source": []
  },
  {
   "cell_type": "code",
   "execution_count": null,
   "id": "b8e37d43",
   "metadata": {},
   "outputs": [],
   "source": []
  }
 ],
 "metadata": {
  "kernelspec": {
   "display_name": "Python 3 (ipykernel)",
   "language": "python",
   "name": "python3"
  },
  "language_info": {
   "codemirror_mode": {
    "name": "ipython",
    "version": 3
   },
   "file_extension": ".py",
   "mimetype": "text/x-python",
   "name": "python",
   "nbconvert_exporter": "python",
   "pygments_lexer": "ipython3",
   "version": "3.9.13"
  }
 },
 "nbformat": 4,
 "nbformat_minor": 5
}
