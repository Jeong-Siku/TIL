{
  "nbformat": 4,
  "nbformat_minor": 0,
  "metadata": {
    "colab": {
      "provenance": []
    },
    "kernelspec": {
      "name": "python3",
      "display_name": "Python 3"
    },
    "language_info": {
      "name": "python"
    }
  },
  "cells": [
    {
      "cell_type": "markdown",
      "source": [
        "# GIGO (Garbage In Garbage Out)\n",
        "- 머신러닝에서 제일 중요한 요소 중 하나는 깨끗한 데이터를 사용하는 것\n",
        "- 똑같은 데이터세트를 사용하더라도, 데이터의 전처리나, 분석 방법 등에 따라서 성능이 굉장히 많이 차이가 난다."
      ],
      "metadata": {
        "id": "bMFT2WovqP62"
      }
    },
    {
      "cell_type": "markdown",
      "source": [
        "캘리포니아 데이터셋 다운받기"
      ],
      "metadata": {
        "id": "Odc8DdSkXSWb"
      }
    },
    {
      "cell_type": "code",
      "source": [
        "# 사용할 데이터셋 다운로드 하기\n",
        "import os\n",
        "import tarfile\n",
        "import urllib.request\n",
        "\n",
        "DOWNLOAD_ROOT = \"https://raw.githubusercontent.com/ageron/handson-ml2/master/\"\n",
        "HOUSING_PATH = os.path.join(\"datasets\", \"housing\") # 디렉토리 설정하기 - /기본 경로/datasets/housing\n",
        "HOUSING_URL  = DOWNLOAD_ROOT + \"datasets/housing/housing.tgz\" # 다운로드 할 파일의 URL\n",
        "\n",
        "def fetch_housing_data(housing_url= HOUSING_URL, housing_path= HOUSING_PATH):\n",
        "  os.makedirs(housing_path, exist_ok= True) # 디렉토리 만들기\n",
        "  tgz_path = os.path.join(housing_path, \"housing.tgz\") # 파일의 경로\n",
        "  urllib.request.urlretrieve(housing_url, tgz_path) # URL로 지정한 파일을 다운로드\n",
        "  housing_tgz = tarfile.open(tgz_path) # 다운 받은 파일 열기\n",
        "  housing_tgz.extractall(path= housing_path) # 압축 파일(housing.tgz) 압축 풀기\n",
        "  housing_tgz.close() # 파일 닫기\n",
        "\n",
        "fetch_housing_data()"
      ],
      "metadata": {
        "id": "rLme2jINXZF0"
      },
      "execution_count": null,
      "outputs": []
    },
    {
      "cell_type": "code",
      "source": [
        "# 다운 받은 데이터셋(csv) 파일을 pandas 데이터 프레임으로 만들기\n",
        "import pandas as pd\n",
        "\n",
        "def load_housing_data(housing_path=HOUSING_PATH, filename=\"housing.csv\"):\n",
        "  csv_path = os.path.join(housing_path, filename) # os.path.join(\"/datasets/housing\", \"housing.csv\") -> /datasets/housing/housing.csv\n",
        "  return pd.read_csv(csv_path) # 데이터 프레임 리턴"
      ],
      "metadata": {
        "id": "ElkllDdWYJub"
      },
      "execution_count": null,
      "outputs": []
    },
    {
      "cell_type": "markdown",
      "source": [
        "# 데이터 세트를 확인"
      ],
      "metadata": {
        "id": "jidsCkZsY8yc"
      }
    },
    {
      "cell_type": "code",
      "source": [
        "housing = load_housing_data()\n",
        "housing.head()"
      ],
      "metadata": {
        "colab": {
          "base_uri": "https://localhost:8080/",
          "height": 270
        },
        "id": "cOBweJKQZN3v",
        "outputId": "1b4f6ed2-4639-4b5c-a610-2504c18d0dc4"
      },
      "execution_count": null,
      "outputs": [
        {
          "output_type": "execute_result",
          "data": {
            "text/plain": [
              "   longitude  latitude  housing_median_age  total_rooms  total_bedrooms  \\\n",
              "0    -122.23     37.88                41.0        880.0           129.0   \n",
              "1    -122.22     37.86                21.0       7099.0          1106.0   \n",
              "2    -122.24     37.85                52.0       1467.0           190.0   \n",
              "3    -122.25     37.85                52.0       1274.0           235.0   \n",
              "4    -122.25     37.85                52.0       1627.0           280.0   \n",
              "\n",
              "   population  households  median_income  median_house_value ocean_proximity  \n",
              "0       322.0       126.0         8.3252            452600.0        NEAR BAY  \n",
              "1      2401.0      1138.0         8.3014            358500.0        NEAR BAY  \n",
              "2       496.0       177.0         7.2574            352100.0        NEAR BAY  \n",
              "3       558.0       219.0         5.6431            341300.0        NEAR BAY  \n",
              "4       565.0       259.0         3.8462            342200.0        NEAR BAY  "
            ],
            "text/html": [
              "\n",
              "  <div id=\"df-814b89f4-bc4c-4243-8970-336841fe2de4\">\n",
              "    <div class=\"colab-df-container\">\n",
              "      <div>\n",
              "<style scoped>\n",
              "    .dataframe tbody tr th:only-of-type {\n",
              "        vertical-align: middle;\n",
              "    }\n",
              "\n",
              "    .dataframe tbody tr th {\n",
              "        vertical-align: top;\n",
              "    }\n",
              "\n",
              "    .dataframe thead th {\n",
              "        text-align: right;\n",
              "    }\n",
              "</style>\n",
              "<table border=\"1\" class=\"dataframe\">\n",
              "  <thead>\n",
              "    <tr style=\"text-align: right;\">\n",
              "      <th></th>\n",
              "      <th>longitude</th>\n",
              "      <th>latitude</th>\n",
              "      <th>housing_median_age</th>\n",
              "      <th>total_rooms</th>\n",
              "      <th>total_bedrooms</th>\n",
              "      <th>population</th>\n",
              "      <th>households</th>\n",
              "      <th>median_income</th>\n",
              "      <th>median_house_value</th>\n",
              "      <th>ocean_proximity</th>\n",
              "    </tr>\n",
              "  </thead>\n",
              "  <tbody>\n",
              "    <tr>\n",
              "      <th>0</th>\n",
              "      <td>-122.23</td>\n",
              "      <td>37.88</td>\n",
              "      <td>41.0</td>\n",
              "      <td>880.0</td>\n",
              "      <td>129.0</td>\n",
              "      <td>322.0</td>\n",
              "      <td>126.0</td>\n",
              "      <td>8.3252</td>\n",
              "      <td>452600.0</td>\n",
              "      <td>NEAR BAY</td>\n",
              "    </tr>\n",
              "    <tr>\n",
              "      <th>1</th>\n",
              "      <td>-122.22</td>\n",
              "      <td>37.86</td>\n",
              "      <td>21.0</td>\n",
              "      <td>7099.0</td>\n",
              "      <td>1106.0</td>\n",
              "      <td>2401.0</td>\n",
              "      <td>1138.0</td>\n",
              "      <td>8.3014</td>\n",
              "      <td>358500.0</td>\n",
              "      <td>NEAR BAY</td>\n",
              "    </tr>\n",
              "    <tr>\n",
              "      <th>2</th>\n",
              "      <td>-122.24</td>\n",
              "      <td>37.85</td>\n",
              "      <td>52.0</td>\n",
              "      <td>1467.0</td>\n",
              "      <td>190.0</td>\n",
              "      <td>496.0</td>\n",
              "      <td>177.0</td>\n",
              "      <td>7.2574</td>\n",
              "      <td>352100.0</td>\n",
              "      <td>NEAR BAY</td>\n",
              "    </tr>\n",
              "    <tr>\n",
              "      <th>3</th>\n",
              "      <td>-122.25</td>\n",
              "      <td>37.85</td>\n",
              "      <td>52.0</td>\n",
              "      <td>1274.0</td>\n",
              "      <td>235.0</td>\n",
              "      <td>558.0</td>\n",
              "      <td>219.0</td>\n",
              "      <td>5.6431</td>\n",
              "      <td>341300.0</td>\n",
              "      <td>NEAR BAY</td>\n",
              "    </tr>\n",
              "    <tr>\n",
              "      <th>4</th>\n",
              "      <td>-122.25</td>\n",
              "      <td>37.85</td>\n",
              "      <td>52.0</td>\n",
              "      <td>1627.0</td>\n",
              "      <td>280.0</td>\n",
              "      <td>565.0</td>\n",
              "      <td>259.0</td>\n",
              "      <td>3.8462</td>\n",
              "      <td>342200.0</td>\n",
              "      <td>NEAR BAY</td>\n",
              "    </tr>\n",
              "  </tbody>\n",
              "</table>\n",
              "</div>\n",
              "      <button class=\"colab-df-convert\" onclick=\"convertToInteractive('df-814b89f4-bc4c-4243-8970-336841fe2de4')\"\n",
              "              title=\"Convert this dataframe to an interactive table.\"\n",
              "              style=\"display:none;\">\n",
              "        \n",
              "  <svg xmlns=\"http://www.w3.org/2000/svg\" height=\"24px\"viewBox=\"0 0 24 24\"\n",
              "       width=\"24px\">\n",
              "    <path d=\"M0 0h24v24H0V0z\" fill=\"none\"/>\n",
              "    <path d=\"M18.56 5.44l.94 2.06.94-2.06 2.06-.94-2.06-.94-.94-2.06-.94 2.06-2.06.94zm-11 1L8.5 8.5l.94-2.06 2.06-.94-2.06-.94L8.5 2.5l-.94 2.06-2.06.94zm10 10l.94 2.06.94-2.06 2.06-.94-2.06-.94-.94-2.06-.94 2.06-2.06.94z\"/><path d=\"M17.41 7.96l-1.37-1.37c-.4-.4-.92-.59-1.43-.59-.52 0-1.04.2-1.43.59L10.3 9.45l-7.72 7.72c-.78.78-.78 2.05 0 2.83L4 21.41c.39.39.9.59 1.41.59.51 0 1.02-.2 1.41-.59l7.78-7.78 2.81-2.81c.8-.78.8-2.07 0-2.86zM5.41 20L4 18.59l7.72-7.72 1.47 1.35L5.41 20z\"/>\n",
              "  </svg>\n",
              "      </button>\n",
              "      \n",
              "  <style>\n",
              "    .colab-df-container {\n",
              "      display:flex;\n",
              "      flex-wrap:wrap;\n",
              "      gap: 12px;\n",
              "    }\n",
              "\n",
              "    .colab-df-convert {\n",
              "      background-color: #E8F0FE;\n",
              "      border: none;\n",
              "      border-radius: 50%;\n",
              "      cursor: pointer;\n",
              "      display: none;\n",
              "      fill: #1967D2;\n",
              "      height: 32px;\n",
              "      padding: 0 0 0 0;\n",
              "      width: 32px;\n",
              "    }\n",
              "\n",
              "    .colab-df-convert:hover {\n",
              "      background-color: #E2EBFA;\n",
              "      box-shadow: 0px 1px 2px rgba(60, 64, 67, 0.3), 0px 1px 3px 1px rgba(60, 64, 67, 0.15);\n",
              "      fill: #174EA6;\n",
              "    }\n",
              "\n",
              "    [theme=dark] .colab-df-convert {\n",
              "      background-color: #3B4455;\n",
              "      fill: #D2E3FC;\n",
              "    }\n",
              "\n",
              "    [theme=dark] .colab-df-convert:hover {\n",
              "      background-color: #434B5C;\n",
              "      box-shadow: 0px 1px 3px 1px rgba(0, 0, 0, 0.15);\n",
              "      filter: drop-shadow(0px 1px 2px rgba(0, 0, 0, 0.3));\n",
              "      fill: #FFFFFF;\n",
              "    }\n",
              "  </style>\n",
              "\n",
              "      <script>\n",
              "        const buttonEl =\n",
              "          document.querySelector('#df-814b89f4-bc4c-4243-8970-336841fe2de4 button.colab-df-convert');\n",
              "        buttonEl.style.display =\n",
              "          google.colab.kernel.accessAllowed ? 'block' : 'none';\n",
              "\n",
              "        async function convertToInteractive(key) {\n",
              "          const element = document.querySelector('#df-814b89f4-bc4c-4243-8970-336841fe2de4');\n",
              "          const dataTable =\n",
              "            await google.colab.kernel.invokeFunction('convertToInteractive',\n",
              "                                                     [key], {});\n",
              "          if (!dataTable) return;\n",
              "\n",
              "          const docLinkHtml = 'Like what you see? Visit the ' +\n",
              "            '<a target=\"_blank\" href=https://colab.research.google.com/notebooks/data_table.ipynb>data table notebook</a>'\n",
              "            + ' to learn more about interactive tables.';\n",
              "          element.innerHTML = '';\n",
              "          dataTable['output_type'] = 'display_data';\n",
              "          await google.colab.output.renderOutput(dataTable, element);\n",
              "          const docLink = document.createElement('div');\n",
              "          docLink.innerHTML = docLinkHtml;\n",
              "          element.appendChild(docLink);\n",
              "        }\n",
              "      </script>\n",
              "    </div>\n",
              "  </div>\n",
              "  "
            ]
          },
          "metadata": {},
          "execution_count": 3
        }
      ]
    },
    {
      "cell_type": "markdown",
      "source": [
        "# housing 데이터 알아보기\n",
        "각 컬럼의 의미를 살펴보기\n",
        "\n",
        "* longitude : 경도\n",
        "* latitude : 위도\n",
        "* housing_median_age : 중간 주택 연도\n",
        "* total_rooms : 방의 총 개수\n",
        "* total_bedrooms : 침실의 총 개수\n",
        "* population : 인구\n",
        "* households : 가구\n",
        "* median_income : 중간 소득\n",
        "* median_house_value : 중간 주택 가격\n",
        "* ocean_proximity : 바다와의 거리\n"
      ],
      "metadata": {
        "id": "kV1-nucfZV9H"
      }
    },
    {
      "cell_type": "markdown",
      "source": [
        "# 데이터 프레임의 기본 정보 확인"
      ],
      "metadata": {
        "id": "wE_0v6vlaStS"
      }
    },
    {
      "cell_type": "code",
      "source": [
        "housing.info()"
      ],
      "metadata": {
        "colab": {
          "base_uri": "https://localhost:8080/"
        },
        "id": "QgBAXxB4d4s6",
        "outputId": "01d009ad-44d8-4bd9-cea8-e54ea2a07b7c"
      },
      "execution_count": null,
      "outputs": [
        {
          "output_type": "stream",
          "name": "stdout",
          "text": [
            "<class 'pandas.core.frame.DataFrame'>\n",
            "RangeIndex: 20640 entries, 0 to 20639\n",
            "Data columns (total 10 columns):\n",
            " #   Column              Non-Null Count  Dtype  \n",
            "---  ------              --------------  -----  \n",
            " 0   longitude           20640 non-null  float64\n",
            " 1   latitude            20640 non-null  float64\n",
            " 2   housing_median_age  20640 non-null  float64\n",
            " 3   total_rooms         20640 non-null  float64\n",
            " 4   total_bedrooms      20433 non-null  float64\n",
            " 5   population          20640 non-null  float64\n",
            " 6   households          20640 non-null  float64\n",
            " 7   median_income       20640 non-null  float64\n",
            " 8   median_house_value  20640 non-null  float64\n",
            " 9   ocean_proximity     20640 non-null  object \n",
            "dtypes: float64(9), object(1)\n",
            "memory usage: 1.6+ MB\n"
          ]
        }
      ]
    },
    {
      "cell_type": "markdown",
      "source": [
        "# 데이터 프레임의 통계적 특성 확인"
      ],
      "metadata": {
        "id": "OmPvQV6Sd6wM"
      }
    },
    {
      "cell_type": "code",
      "source": [
        "housing.describe()"
      ],
      "metadata": {
        "colab": {
          "base_uri": "https://localhost:8080/",
          "height": 364
        },
        "id": "CaxAx6sSeKTX",
        "outputId": "13938fb1-c586-4913-b5d6-55bf1d4076c3"
      },
      "execution_count": null,
      "outputs": [
        {
          "output_type": "execute_result",
          "data": {
            "text/plain": [
              "          longitude      latitude  housing_median_age   total_rooms  \\\n",
              "count  20640.000000  20640.000000        20640.000000  20640.000000   \n",
              "mean    -119.569704     35.631861           28.639486   2635.763081   \n",
              "std        2.003532      2.135952           12.585558   2181.615252   \n",
              "min     -124.350000     32.540000            1.000000      2.000000   \n",
              "25%     -121.800000     33.930000           18.000000   1447.750000   \n",
              "50%     -118.490000     34.260000           29.000000   2127.000000   \n",
              "75%     -118.010000     37.710000           37.000000   3148.000000   \n",
              "max     -114.310000     41.950000           52.000000  39320.000000   \n",
              "\n",
              "       total_bedrooms    population    households  median_income  \\\n",
              "count    20433.000000  20640.000000  20640.000000   20640.000000   \n",
              "mean       537.870553   1425.476744    499.539680       3.870671   \n",
              "std        421.385070   1132.462122    382.329753       1.899822   \n",
              "min          1.000000      3.000000      1.000000       0.499900   \n",
              "25%        296.000000    787.000000    280.000000       2.563400   \n",
              "50%        435.000000   1166.000000    409.000000       3.534800   \n",
              "75%        647.000000   1725.000000    605.000000       4.743250   \n",
              "max       6445.000000  35682.000000   6082.000000      15.000100   \n",
              "\n",
              "       median_house_value  \n",
              "count        20640.000000  \n",
              "mean        206855.816909  \n",
              "std         115395.615874  \n",
              "min          14999.000000  \n",
              "25%         119600.000000  \n",
              "50%         179700.000000  \n",
              "75%         264725.000000  \n",
              "max         500001.000000  "
            ],
            "text/html": [
              "\n",
              "  <div id=\"df-90140fb5-0941-4303-8db4-f0503381cd66\">\n",
              "    <div class=\"colab-df-container\">\n",
              "      <div>\n",
              "<style scoped>\n",
              "    .dataframe tbody tr th:only-of-type {\n",
              "        vertical-align: middle;\n",
              "    }\n",
              "\n",
              "    .dataframe tbody tr th {\n",
              "        vertical-align: top;\n",
              "    }\n",
              "\n",
              "    .dataframe thead th {\n",
              "        text-align: right;\n",
              "    }\n",
              "</style>\n",
              "<table border=\"1\" class=\"dataframe\">\n",
              "  <thead>\n",
              "    <tr style=\"text-align: right;\">\n",
              "      <th></th>\n",
              "      <th>longitude</th>\n",
              "      <th>latitude</th>\n",
              "      <th>housing_median_age</th>\n",
              "      <th>total_rooms</th>\n",
              "      <th>total_bedrooms</th>\n",
              "      <th>population</th>\n",
              "      <th>households</th>\n",
              "      <th>median_income</th>\n",
              "      <th>median_house_value</th>\n",
              "    </tr>\n",
              "  </thead>\n",
              "  <tbody>\n",
              "    <tr>\n",
              "      <th>count</th>\n",
              "      <td>20640.000000</td>\n",
              "      <td>20640.000000</td>\n",
              "      <td>20640.000000</td>\n",
              "      <td>20640.000000</td>\n",
              "      <td>20433.000000</td>\n",
              "      <td>20640.000000</td>\n",
              "      <td>20640.000000</td>\n",
              "      <td>20640.000000</td>\n",
              "      <td>20640.000000</td>\n",
              "    </tr>\n",
              "    <tr>\n",
              "      <th>mean</th>\n",
              "      <td>-119.569704</td>\n",
              "      <td>35.631861</td>\n",
              "      <td>28.639486</td>\n",
              "      <td>2635.763081</td>\n",
              "      <td>537.870553</td>\n",
              "      <td>1425.476744</td>\n",
              "      <td>499.539680</td>\n",
              "      <td>3.870671</td>\n",
              "      <td>206855.816909</td>\n",
              "    </tr>\n",
              "    <tr>\n",
              "      <th>std</th>\n",
              "      <td>2.003532</td>\n",
              "      <td>2.135952</td>\n",
              "      <td>12.585558</td>\n",
              "      <td>2181.615252</td>\n",
              "      <td>421.385070</td>\n",
              "      <td>1132.462122</td>\n",
              "      <td>382.329753</td>\n",
              "      <td>1.899822</td>\n",
              "      <td>115395.615874</td>\n",
              "    </tr>\n",
              "    <tr>\n",
              "      <th>min</th>\n",
              "      <td>-124.350000</td>\n",
              "      <td>32.540000</td>\n",
              "      <td>1.000000</td>\n",
              "      <td>2.000000</td>\n",
              "      <td>1.000000</td>\n",
              "      <td>3.000000</td>\n",
              "      <td>1.000000</td>\n",
              "      <td>0.499900</td>\n",
              "      <td>14999.000000</td>\n",
              "    </tr>\n",
              "    <tr>\n",
              "      <th>25%</th>\n",
              "      <td>-121.800000</td>\n",
              "      <td>33.930000</td>\n",
              "      <td>18.000000</td>\n",
              "      <td>1447.750000</td>\n",
              "      <td>296.000000</td>\n",
              "      <td>787.000000</td>\n",
              "      <td>280.000000</td>\n",
              "      <td>2.563400</td>\n",
              "      <td>119600.000000</td>\n",
              "    </tr>\n",
              "    <tr>\n",
              "      <th>50%</th>\n",
              "      <td>-118.490000</td>\n",
              "      <td>34.260000</td>\n",
              "      <td>29.000000</td>\n",
              "      <td>2127.000000</td>\n",
              "      <td>435.000000</td>\n",
              "      <td>1166.000000</td>\n",
              "      <td>409.000000</td>\n",
              "      <td>3.534800</td>\n",
              "      <td>179700.000000</td>\n",
              "    </tr>\n",
              "    <tr>\n",
              "      <th>75%</th>\n",
              "      <td>-118.010000</td>\n",
              "      <td>37.710000</td>\n",
              "      <td>37.000000</td>\n",
              "      <td>3148.000000</td>\n",
              "      <td>647.000000</td>\n",
              "      <td>1725.000000</td>\n",
              "      <td>605.000000</td>\n",
              "      <td>4.743250</td>\n",
              "      <td>264725.000000</td>\n",
              "    </tr>\n",
              "    <tr>\n",
              "      <th>max</th>\n",
              "      <td>-114.310000</td>\n",
              "      <td>41.950000</td>\n",
              "      <td>52.000000</td>\n",
              "      <td>39320.000000</td>\n",
              "      <td>6445.000000</td>\n",
              "      <td>35682.000000</td>\n",
              "      <td>6082.000000</td>\n",
              "      <td>15.000100</td>\n",
              "      <td>500001.000000</td>\n",
              "    </tr>\n",
              "  </tbody>\n",
              "</table>\n",
              "</div>\n",
              "      <button class=\"colab-df-convert\" onclick=\"convertToInteractive('df-90140fb5-0941-4303-8db4-f0503381cd66')\"\n",
              "              title=\"Convert this dataframe to an interactive table.\"\n",
              "              style=\"display:none;\">\n",
              "        \n",
              "  <svg xmlns=\"http://www.w3.org/2000/svg\" height=\"24px\"viewBox=\"0 0 24 24\"\n",
              "       width=\"24px\">\n",
              "    <path d=\"M0 0h24v24H0V0z\" fill=\"none\"/>\n",
              "    <path d=\"M18.56 5.44l.94 2.06.94-2.06 2.06-.94-2.06-.94-.94-2.06-.94 2.06-2.06.94zm-11 1L8.5 8.5l.94-2.06 2.06-.94-2.06-.94L8.5 2.5l-.94 2.06-2.06.94zm10 10l.94 2.06.94-2.06 2.06-.94-2.06-.94-.94-2.06-.94 2.06-2.06.94z\"/><path d=\"M17.41 7.96l-1.37-1.37c-.4-.4-.92-.59-1.43-.59-.52 0-1.04.2-1.43.59L10.3 9.45l-7.72 7.72c-.78.78-.78 2.05 0 2.83L4 21.41c.39.39.9.59 1.41.59.51 0 1.02-.2 1.41-.59l7.78-7.78 2.81-2.81c.8-.78.8-2.07 0-2.86zM5.41 20L4 18.59l7.72-7.72 1.47 1.35L5.41 20z\"/>\n",
              "  </svg>\n",
              "      </button>\n",
              "      \n",
              "  <style>\n",
              "    .colab-df-container {\n",
              "      display:flex;\n",
              "      flex-wrap:wrap;\n",
              "      gap: 12px;\n",
              "    }\n",
              "\n",
              "    .colab-df-convert {\n",
              "      background-color: #E8F0FE;\n",
              "      border: none;\n",
              "      border-radius: 50%;\n",
              "      cursor: pointer;\n",
              "      display: none;\n",
              "      fill: #1967D2;\n",
              "      height: 32px;\n",
              "      padding: 0 0 0 0;\n",
              "      width: 32px;\n",
              "    }\n",
              "\n",
              "    .colab-df-convert:hover {\n",
              "      background-color: #E2EBFA;\n",
              "      box-shadow: 0px 1px 2px rgba(60, 64, 67, 0.3), 0px 1px 3px 1px rgba(60, 64, 67, 0.15);\n",
              "      fill: #174EA6;\n",
              "    }\n",
              "\n",
              "    [theme=dark] .colab-df-convert {\n",
              "      background-color: #3B4455;\n",
              "      fill: #D2E3FC;\n",
              "    }\n",
              "\n",
              "    [theme=dark] .colab-df-convert:hover {\n",
              "      background-color: #434B5C;\n",
              "      box-shadow: 0px 1px 3px 1px rgba(0, 0, 0, 0.15);\n",
              "      filter: drop-shadow(0px 1px 2px rgba(0, 0, 0, 0.3));\n",
              "      fill: #FFFFFF;\n",
              "    }\n",
              "  </style>\n",
              "\n",
              "      <script>\n",
              "        const buttonEl =\n",
              "          document.querySelector('#df-90140fb5-0941-4303-8db4-f0503381cd66 button.colab-df-convert');\n",
              "        buttonEl.style.display =\n",
              "          google.colab.kernel.accessAllowed ? 'block' : 'none';\n",
              "\n",
              "        async function convertToInteractive(key) {\n",
              "          const element = document.querySelector('#df-90140fb5-0941-4303-8db4-f0503381cd66');\n",
              "          const dataTable =\n",
              "            await google.colab.kernel.invokeFunction('convertToInteractive',\n",
              "                                                     [key], {});\n",
              "          if (!dataTable) return;\n",
              "\n",
              "          const docLinkHtml = 'Like what you see? Visit the ' +\n",
              "            '<a target=\"_blank\" href=https://colab.research.google.com/notebooks/data_table.ipynb>data table notebook</a>'\n",
              "            + ' to learn more about interactive tables.';\n",
              "          element.innerHTML = '';\n",
              "          dataTable['output_type'] = 'display_data';\n",
              "          await google.colab.output.renderOutput(dataTable, element);\n",
              "          const docLink = document.createElement('div');\n",
              "          docLink.innerHTML = docLinkHtml;\n",
              "          element.appendChild(docLink);\n",
              "        }\n",
              "      </script>\n",
              "    </div>\n",
              "  </div>\n",
              "  "
            ]
          },
          "metadata": {},
          "execution_count": 5
        }
      ]
    },
    {
      "cell_type": "markdown",
      "source": [
        "# 데이터의 형태를 빠르게 검토 - 시각화"
      ],
      "metadata": {
        "id": "mIehpEhjeK6x"
      }
    },
    {
      "cell_type": "code",
      "source": [
        "import matplotlib.pyplot as plt\n",
        "\n",
        "housing.hist(bins=50, figsize=(20, 15) )\n",
        "plt.show()"
      ],
      "metadata": {
        "colab": {
          "base_uri": "https://localhost:8080/",
          "height": 737
        },
        "id": "bgoCdllueK-e",
        "outputId": "baa5d92d-7e6f-47ee-8937-8bfbf184093d"
      },
      "execution_count": null,
      "outputs": [
        {
          "output_type": "display_data",
          "data": {
            "text/plain": [
              "<Figure size 1440x1080 with 9 Axes>"
            ],
            "image/png": "[encoded data removed]"
          },
          "metadata": {
            "needs_background": "light"
          }
        }
      ]
    },
    {
      "cell_type": "markdown",
      "source": [
        "# 테스트 데이터 세트 만들기\n",
        "- 전체 데이터세트를 활용해서 훈련하는 바람에 사용자의 새로운 데이터에 대한 예측이 잘 안되는 현상을 **데이터 스누핑 편향**\n",
        "- 테스트 세트를 따로 만들어서 훈련 세트로 알고리즘을 훈련 후에 테스트 세트의 오차를 **일반화 오차**"
      ],
      "metadata": {
        "id": "6i4R2DnUeLA_"
      }
    },
    {
      "cell_type": "markdown",
      "source": [
        "## 데이터 쪼개기(split)\n",
        "* 훈련 세트와 테스트 세트의 비율은 8:2 또는 7:3 정도로 설정. 7.5 : 2.5로 설정\n",
        "\n",
        "테스트 세트를 생성할 때는 **전체 데이터를 한번 섞고(Shuffle) 잘라야(Split)**한다.\n",
        "\n",
        "\n",
        "<table>\n",
        "  <tr>\n",
        "    <th>index</th>\n",
        "    <th>feature 1</th>\n",
        "    <th>feature 2</th>\n",
        "    <th>feature 3</th>\n",
        "    <th>label</th>\n",
        "  </tr>\n",
        "  <tr>\n",
        "    <td>0</td>\n",
        "    <td>8.96</td>\n",
        "    <td>11.91</td>\n",
        "    <td>3.78</td>\n",
        "    <td>0</td>\n",
        "  </tr>\n",
        "  <tr>\n",
        "    <td>1</td>\n",
        "    <td>4.12</td>\n",
        "    <td>3.11</td>\n",
        "    <td>7.90</td>\n",
        "    <td>0</td>\n",
        "  </tr>\n",
        "  <tr>\n",
        "    <td>...</td>\n",
        "    <td>5.15</td>\n",
        "    <td>9.12</td>\n",
        "    <td>10.56</td>\n",
        "    <td>0</td>\n",
        "  </tr>\n",
        "  <tr>\n",
        "    <td>99</td>\n",
        "    <td>6.86</td>\n",
        "    <td>10.12</td>\n",
        "    <td>27.81</td>\n",
        "    <td>0</td>\n",
        "  </tr>\n",
        "  <tr>\n",
        "    <td>100</td>\n",
        "    <td>3.74</td>\n",
        "    <td>1.12</td>\n",
        "    <td>2.81</td>\n",
        "    <td>1</td>\n",
        "  </tr>\n",
        "  <tr>\n",
        "    <td>101</td>\n",
        "    <td>5.12</td>\n",
        "    <td>7.85</td>\n",
        "    <td>10.1</td>\n",
        "    <td>1</td>\n",
        "  </tr>\n",
        "  <tr>\n",
        "    <td>...</td>\n",
        "    <td>12.11</td>\n",
        "    <td>8.98</td>\n",
        "    <td>10.75</td>\n",
        "    <td>1</td>\n",
        "  </tr>\n",
        "  <tr>\n",
        "    <td>199</td>\n",
        "    <td>1.31</td>\n",
        "    <td>10.04</td>\n",
        "    <td>7.22</td>\n",
        "    <td>1</td>\n",
        "  </tr>\n",
        "</table>"
      ],
      "metadata": {
        "id": "fOYGQ96jeLDm"
      }
    },
    {
      "cell_type": "code",
      "source": [
        "# 무작위로 데이터를 선택\n",
        "import numpy as np\n",
        "\n",
        "np.random.permutation(100) # 0 ~ 99 까지의 정수 100개를 랜덤하게 생성"
      ],
      "metadata": {
        "colab": {
          "base_uri": "https://localhost:8080/"
        },
        "id": "l2FsKMT7eLGY",
        "outputId": "122b22e1-c9c0-4937-8dce-07ac24e3c8a5"
      },
      "execution_count": null,
      "outputs": [
        {
          "output_type": "execute_result",
          "data": {
            "text/plain": [
              "array([84, 81, 82, 11, 37, 23, 12, 50, 16, 61, 71, 62, 39, 42, 18, 26, 77,\n",
              "        6, 45, 76, 38, 97,  2, 66, 88, 10, 29, 75, 73, 93, 78, 74, 79, 65,\n",
              "       58, 68, 21, 98,  0, 40, 72, 20, 86, 27, 60,  9, 63, 96, 31, 91, 13,\n",
              "        8, 69, 94, 83, 22, 54, 70, 19, 52, 55, 48, 15, 32, 67, 36, 49, 53,\n",
              "       44, 28, 17, 57, 35,  7, 47,  1, 14, 80, 64, 46, 25, 30, 85, 99, 87,\n",
              "       34, 24,  4,  3, 89, 43, 92, 33,  5, 51, 59, 90, 41, 56, 95])"
            ]
          },
          "metadata": {},
          "execution_count": 7
        }
      ]
    },
    {
      "cell_type": "code",
      "source": [
        "def my_split_train_test(data, test_ratio=0.2):\n",
        "  # 데이터 개수 만큼 무작위 인덱스를 가진 리스트 생성\n",
        "  shuffled_indices = np.random.permutation(len(data))\n",
        "\n",
        "  # 테스트 세트의 크기\n",
        "  test_set_size = int(len(data) * test_ratio)\n",
        "\n",
        "  # 테스트 세트의 인덱스 구하기\n",
        "  test_indices = shuffled_indices[ : test_set_size]\n",
        "\n",
        "  # 훈련 세트의 인덱스 구하기\n",
        "  train_indices = shuffled_indices[test_set_size : ]\n",
        "\n",
        "  return data.iloc[train_indices], data.iloc[test_indices]"
      ],
      "metadata": {
        "id": "5lrrEeumeLJH"
      },
      "execution_count": null,
      "outputs": []
    },
    {
      "cell_type": "code",
      "source": [
        "df_train, df_test = my_split_train_test(housing)\n",
        "print(f\"훈련 세트의 길이 : {len(df_train)} / 테스트 세트의 길이 : {len(df_test)}\")"
      ],
      "metadata": {
        "colab": {
          "base_uri": "https://localhost:8080/"
        },
        "id": "deMe-Ge1eLLu",
        "outputId": "c346f0ab-255f-4f5e-8a64-daec60c02c0f"
      },
      "execution_count": null,
      "outputs": [
        {
          "output_type": "stream",
          "name": "stdout",
          "text": [
            "훈련 세트의 길이 : 16512 / 테스트 세트의 길이 : 4128\n"
          ]
        }
      ]
    },
    {
      "cell_type": "markdown",
      "source": [
        "#### 단순 랜덤으로 잘랐을 때의 단점\n",
        "같은 데이터 세트를 이용해서 훈련을 할 때, 무한히 훈련을 한다면 모든 데이터가 훈련 세트 또는 테스트 세트가 된다.\n",
        "\n",
        "해결 방안\n",
        "1. `random seed`를 활용해서 항상 똑같은 랜덤을 가질 수 있게\n",
        "  - 데이터의 크기가 변화가 없는 경우\n",
        "2. 각 행마다 `hash`값을 구하여 잘라내는 방법\n",
        "  - 데이터의 크기가 자주 변경되는 경우"
      ],
      "metadata": {
        "id": "8U_zFAY4lvr0"
      }
    },
    {
      "cell_type": "code",
      "source": [
        "# 1. 랜덤 고정(random seed)\n",
        "np.random.seed(42)\n",
        "np.random.permutation(10)"
      ],
      "metadata": {
        "colab": {
          "base_uri": "https://localhost:8080/"
        },
        "id": "TnTBUqNSYZuo",
        "outputId": "a7f7e4d0-9e55-4610-9691-aaf618699a3f"
      },
      "execution_count": null,
      "outputs": [
        {
          "output_type": "execute_result",
          "data": {
            "text/plain": [
              "array([8, 1, 5, 0, 7, 2, 9, 4, 3, 6])"
            ]
          },
          "metadata": {},
          "execution_count": 10
        }
      ]
    },
    {
      "cell_type": "code",
      "source": [
        "# 2. hash value ( 고윳값 )\n",
        "# hello -> f12ab20df1\n",
        "# hella -> d391abdf9b\n",
        "# 랜덤이 아니고 해시값을 활용해서 자르는 방법\n",
        "from zlib import crc32\n",
        "\n",
        "# True : 테스트 세트로 들어갈 identifier\n",
        "# False : 훈련 세트로 들어갈 identifier\n",
        "def test_set_check(identifer, test_ratio):\n",
        "  return crc32(np.int64(identifer)) & 0xffffffff < test_ratio * 2**32\n",
        "\n",
        "def split_train_test_by_id(data, test_ratio, id_column):\n",
        "  ids = data[id_column] # 고유한 데이터로 사용할 시리즈를 선택\n",
        "  in_test_set = ids.apply(lambda id_ : test_set_check(id_, test_ratio)) # 고윳값인 해시값을 토대로 데이터가 테스트 세트가 될지(True),\n",
        "                                                                        # 훈련 세트가 될지(False)\n",
        "  # in_test_set의 모양 : [ True, False True, True, False ... ]\n",
        "  return data.loc[~in_test_set], data.loc[in_test_set]"
      ],
      "metadata": {
        "id": "PmtP7I2Rao7c"
      },
      "execution_count": null,
      "outputs": []
    },
    {
      "cell_type": "markdown",
      "source": [
        "#### 미리 만들어진 함수 활용하기\n",
        "대표적인 머신러닝 라이브러리인 사이킷 런(scikit-learn)에 각종 머신러닝을 위한 도구들이 준비되어 있다.\n",
        "\n",
        "```\n",
        "pip install scikit-learn\n",
        "```"
      ],
      "metadata": {
        "id": "ETk44D1hdnzm"
      }
    },
    {
      "cell_type": "code",
      "source": [
        "from sklearn.model_selection import train_test_split\n",
        "\n",
        "train_set, test_set = train_test_split(\n",
        "    housing,       # split할 데이터 세트\n",
        "    test_size=0.2,  # 테스트 세트의 크기\n",
        "    random_state=42 # 랜덤 시드 지정\n",
        ")"
      ],
      "metadata": {
        "id": "T5oqlLUyeXeP"
      },
      "execution_count": null,
      "outputs": []
    },
    {
      "cell_type": "markdown",
      "source": [
        "# 샘플링 편향과 계층적 샘플링\n",
        "1. `median_income`은 `label`인 `median_house_value`를 예측하는데 있어서 매우 중요한 데이터다\n",
        "2. 그런데, `median_income`은 저소득 구간에 편중되어 있는 데이터\n",
        "3. 단순하게 랜덤이나 해쉬로만 나누게 되면 데이터의 비중이 적은 고소득 구간은 훈련 데이터 세트에 포함이 안될 가능성이 커진다.\n",
        "  - 저소득 구간 데이터만 훈련 세트에 들어갈 가능성이 커진다. - **샘플링 편향**"
      ],
      "metadata": {
        "id": "9Qw4_w_Dfnv2"
      }
    },
    {
      "cell_type": "code",
      "source": [
        "# 구간 만들기\n",
        "housing[\"income_cat\"] = pd.cut(\n",
        "    housing[\"median_income\"], # 구간을 나눌 대상이 되는 시리즈\n",
        "    bins=[0.0, 1.5, 3.0, 4.5, 6.0, np.inf], # 구간 나누기\n",
        "    labels=[1, 2, 3, 4, 5]\n",
        ")\n",
        "\n",
        "housing[[\"median_income\", \"income_cat\"]].head(10)"
      ],
      "metadata": {
        "colab": {
          "base_uri": "https://localhost:8080/",
          "height": 363
        },
        "id": "4UhR-eVYia8S",
        "outputId": "c5647ec5-6299-4261-d9a8-6dcb54f7fd4a"
      },
      "execution_count": null,
      "outputs": [
        {
          "output_type": "execute_result",
          "data": {
            "text/plain": [
              "   median_income income_cat\n",
              "0         8.3252          5\n",
              "1         8.3014          5\n",
              "2         7.2574          5\n",
              "3         5.6431          4\n",
              "4         3.8462          3\n",
              "5         4.0368          3\n",
              "6         3.6591          3\n",
              "7         3.1200          3\n",
              "8         2.0804          2\n",
              "9         3.6912          3"
            ],
            "text/html": [
              "\n",
              "  <div id=\"df-cf73754d-a6d8-4cd3-81b7-b897ef4ec0d6\">\n",
              "    <div class=\"colab-df-container\">\n",
              "      <div>\n",
              "<style scoped>\n",
              "    .dataframe tbody tr th:only-of-type {\n",
              "        vertical-align: middle;\n",
              "    }\n",
              "\n",
              "    .dataframe tbody tr th {\n",
              "        vertical-align: top;\n",
              "    }\n",
              "\n",
              "    .dataframe thead th {\n",
              "        text-align: right;\n",
              "    }\n",
              "</style>\n",
              "<table border=\"1\" class=\"dataframe\">\n",
              "  <thead>\n",
              "    <tr style=\"text-align: right;\">\n",
              "      <th></th>\n",
              "      <th>median_income</th>\n",
              "      <th>income_cat</th>\n",
              "    </tr>\n",
              "  </thead>\n",
              "  <tbody>\n",
              "    <tr>\n",
              "      <th>0</th>\n",
              "      <td>8.3252</td>\n",
              "      <td>5</td>\n",
              "    </tr>\n",
              "    <tr>\n",
              "      <th>1</th>\n",
              "      <td>8.3014</td>\n",
              "      <td>5</td>\n",
              "    </tr>\n",
              "    <tr>\n",
              "      <th>2</th>\n",
              "      <td>7.2574</td>\n",
              "      <td>5</td>\n",
              "    </tr>\n",
              "    <tr>\n",
              "      <th>3</th>\n",
              "      <td>5.6431</td>\n",
              "      <td>4</td>\n",
              "    </tr>\n",
              "    <tr>\n",
              "      <th>4</th>\n",
              "      <td>3.8462</td>\n",
              "      <td>3</td>\n",
              "    </tr>\n",
              "    <tr>\n",
              "      <th>5</th>\n",
              "      <td>4.0368</td>\n",
              "      <td>3</td>\n",
              "    </tr>\n",
              "    <tr>\n",
              "      <th>6</th>\n",
              "      <td>3.6591</td>\n",
              "      <td>3</td>\n",
              "    </tr>\n",
              "    <tr>\n",
              "      <th>7</th>\n",
              "      <td>3.1200</td>\n",
              "      <td>3</td>\n",
              "    </tr>\n",
              "    <tr>\n",
              "      <th>8</th>\n",
              "      <td>2.0804</td>\n",
              "      <td>2</td>\n",
              "    </tr>\n",
              "    <tr>\n",
              "      <th>9</th>\n",
              "      <td>3.6912</td>\n",
              "      <td>3</td>\n",
              "    </tr>\n",
              "  </tbody>\n",
              "</table>\n",
              "</div>\n",
              "      <button class=\"colab-df-convert\" onclick=\"convertToInteractive('df-cf73754d-a6d8-4cd3-81b7-b897ef4ec0d6')\"\n",
              "              title=\"Convert this dataframe to an interactive table.\"\n",
              "              style=\"display:none;\">\n",
              "        \n",
              "  <svg xmlns=\"http://www.w3.org/2000/svg\" height=\"24px\"viewBox=\"0 0 24 24\"\n",
              "       width=\"24px\">\n",
              "    <path d=\"M0 0h24v24H0V0z\" fill=\"none\"/>\n",
              "    <path d=\"M18.56 5.44l.94 2.06.94-2.06 2.06-.94-2.06-.94-.94-2.06-.94 2.06-2.06.94zm-11 1L8.5 8.5l.94-2.06 2.06-.94-2.06-.94L8.5 2.5l-.94 2.06-2.06.94zm10 10l.94 2.06.94-2.06 2.06-.94-2.06-.94-.94-2.06-.94 2.06-2.06.94z\"/><path d=\"M17.41 7.96l-1.37-1.37c-.4-.4-.92-.59-1.43-.59-.52 0-1.04.2-1.43.59L10.3 9.45l-7.72 7.72c-.78.78-.78 2.05 0 2.83L4 21.41c.39.39.9.59 1.41.59.51 0 1.02-.2 1.41-.59l7.78-7.78 2.81-2.81c.8-.78.8-2.07 0-2.86zM5.41 20L4 18.59l7.72-7.72 1.47 1.35L5.41 20z\"/>\n",
              "  </svg>\n",
              "      </button>\n",
              "      \n",
              "  <style>\n",
              "    .colab-df-container {\n",
              "      display:flex;\n",
              "      flex-wrap:wrap;\n",
              "      gap: 12px;\n",
              "    }\n",
              "\n",
              "    .colab-df-convert {\n",
              "      background-color: #E8F0FE;\n",
              "      border: none;\n",
              "      border-radius: 50%;\n",
              "      cursor: pointer;\n",
              "      display: none;\n",
              "      fill: #1967D2;\n",
              "      height: 32px;\n",
              "      padding: 0 0 0 0;\n",
              "      width: 32px;\n",
              "    }\n",
              "\n",
              "    .colab-df-convert:hover {\n",
              "      background-color: #E2EBFA;\n",
              "      box-shadow: 0px 1px 2px rgba(60, 64, 67, 0.3), 0px 1px 3px 1px rgba(60, 64, 67, 0.15);\n",
              "      fill: #174EA6;\n",
              "    }\n",
              "\n",
              "    [theme=dark] .colab-df-convert {\n",
              "      background-color: #3B4455;\n",
              "      fill: #D2E3FC;\n",
              "    }\n",
              "\n",
              "    [theme=dark] .colab-df-convert:hover {\n",
              "      background-color: #434B5C;\n",
              "      box-shadow: 0px 1px 3px 1px rgba(0, 0, 0, 0.15);\n",
              "      filter: drop-shadow(0px 1px 2px rgba(0, 0, 0, 0.3));\n",
              "      fill: #FFFFFF;\n",
              "    }\n",
              "  </style>\n",
              "\n",
              "      <script>\n",
              "        const buttonEl =\n",
              "          document.querySelector('#df-cf73754d-a6d8-4cd3-81b7-b897ef4ec0d6 button.colab-df-convert');\n",
              "        buttonEl.style.display =\n",
              "          google.colab.kernel.accessAllowed ? 'block' : 'none';\n",
              "\n",
              "        async function convertToInteractive(key) {\n",
              "          const element = document.querySelector('#df-cf73754d-a6d8-4cd3-81b7-b897ef4ec0d6');\n",
              "          const dataTable =\n",
              "            await google.colab.kernel.invokeFunction('convertToInteractive',\n",
              "                                                     [key], {});\n",
              "          if (!dataTable) return;\n",
              "\n",
              "          const docLinkHtml = 'Like what you see? Visit the ' +\n",
              "            '<a target=\"_blank\" href=https://colab.research.google.com/notebooks/data_table.ipynb>data table notebook</a>'\n",
              "            + ' to learn more about interactive tables.';\n",
              "          element.innerHTML = '';\n",
              "          dataTable['output_type'] = 'display_data';\n",
              "          await google.colab.output.renderOutput(dataTable, element);\n",
              "          const docLink = document.createElement('div');\n",
              "          docLink.innerHTML = docLinkHtml;\n",
              "          element.appendChild(docLink);\n",
              "        }\n",
              "      </script>\n",
              "    </div>\n",
              "  </div>\n",
              "  "
            ]
          },
          "metadata": {},
          "execution_count": 13
        }
      ]
    },
    {
      "cell_type": "code",
      "source": [
        "housing[\"income_cat\"].hist()"
      ],
      "metadata": {
        "colab": {
          "base_uri": "https://localhost:8080/",
          "height": 283
        },
        "id": "Fg7JD3g4mh3N",
        "outputId": "675ce4d4-c313-4dd7-c984-115f258595a1"
      },
      "execution_count": null,
      "outputs": [
        {
          "output_type": "execute_result",
          "data": {
            "text/plain": [
              "<matplotlib.axes._subplots.AxesSubplot at 0x7f5db8e8a490>"
            ]
          },
          "metadata": {},
          "execution_count": 14
        },
        {
          "output_type": "display_data",
          "data": {
            "text/plain": [
              "<Figure size 432x288 with 1 Axes>"
            ],
            "image/png": "[encoded data removed]"
          },
          "metadata": {
            "needs_background": "light"
          }
        }
      ]
    },
    {
      "cell_type": "code",
      "source": [
        "# 계층적 샘플링 하기\n",
        "from sklearn.model_selection import StratifiedShuffleSplit\n",
        "\n",
        "spliter = StratifiedShuffleSplit(n_splits=1, test_size=0.2, random_state=42)\n",
        "\n",
        "result = spliter.split(\n",
        "    housing, # 자를 대상 데이터\n",
        "    housing['income_cat']) # 잘라질 계층 데이터\n",
        "\n",
        "for train_idx, test_idx in result:\n",
        "  strat_train_set = housing.loc[train_idx]\n",
        "  strat_test_set  = housing.loc[test_idx]"
      ],
      "metadata": {
        "id": "v1ZhRCLQm6B3"
      },
      "execution_count": null,
      "outputs": []
    },
    {
      "cell_type": "code",
      "source": [
        "# train_test_split 에 계층적 분할을 위한 옵션 stratify 옵션\n",
        "train_set, test_set = train_test_split(housing,\n",
        "                                       test_size=0.2,\n",
        "                                       stratify=housing[\"income_cat\"])"
      ],
      "metadata": {
        "id": "mLNvEJqzoZmw"
      },
      "execution_count": null,
      "outputs": []
    },
    {
      "cell_type": "code",
      "source": [
        "from sklearn.model_selection import train_test_split\n",
        "\n",
        "def income_cat_proportions(data):\n",
        "    print(data.columns)\n",
        "    return data[\"income_cat\"].value_counts() / len(data)\n",
        "\n",
        "train_set, test_set = train_test_split(housing, test_size=0.2, random_state=42)\n",
        "\n",
        "compare_props = pd.DataFrame({\n",
        "    \"전체\": income_cat_proportions(housing),\n",
        "    \"계층 샘플링\": income_cat_proportions(strat_train_set),\n",
        "    \"무작위 샘플링\": income_cat_proportions(test_set),\n",
        "}).sort_index()\n",
        "\n",
        "compare_props[\"무작위 샘플링 오류율\"] = 100 * compare_props[\"무작위 샘플링\"] / compare_props[\"전체\"] - 100\n",
        "compare_props[\"계층 샘플링 오류율\"] = 100 * compare_props[\"계층 샘플링\"] / compare_props[\"전체\"] - 100\n",
        "compare_props"
      ],
      "metadata": {
        "colab": {
          "base_uri": "https://localhost:8080/",
          "height": 421
        },
        "id": "yROOvX02pK12",
        "outputId": "1deb3e34-7ce1-4d08-a350-89a35594caeb"
      },
      "execution_count": null,
      "outputs": [
        {
          "output_type": "stream",
          "name": "stdout",
          "text": [
            "Index(['longitude', 'latitude', 'housing_median_age', 'total_rooms',\n",
            "       'total_bedrooms', 'population', 'households', 'median_income',\n",
            "       'median_house_value', 'ocean_proximity', 'income_cat'],\n",
            "      dtype='object')\n",
            "Index(['longitude', 'latitude', 'housing_median_age', 'total_rooms',\n",
            "       'total_bedrooms', 'population', 'households', 'median_income',\n",
            "       'median_house_value', 'ocean_proximity', 'income_cat'],\n",
            "      dtype='object')\n",
            "Index(['longitude', 'latitude', 'housing_median_age', 'total_rooms',\n",
            "       'total_bedrooms', 'population', 'households', 'median_income',\n",
            "       'median_house_value', 'ocean_proximity', 'income_cat'],\n",
            "      dtype='object')\n"
          ]
        },
        {
          "output_type": "execute_result",
          "data": {
            "text/plain": [
              "         전체    계층 샘플링   무작위 샘플링  무작위 샘플링 오류율  계층 샘플링 오류율\n",
              "1  0.039826  0.039789  0.040213     0.973236   -0.091241\n",
              "2  0.318847  0.318859  0.324370     1.732260    0.003799\n",
              "3  0.350581  0.350594  0.358527     2.266446    0.003455\n",
              "4  0.176308  0.176296  0.167393    -5.056334   -0.006870\n",
              "5  0.114438  0.114462  0.109496    -4.318374    0.021169"
            ],
            "text/html": [
              "\n",
              "  <div id=\"df-ef7809f6-9f0b-4d7f-a861-c12258ae72cd\">\n",
              "    <div class=\"colab-df-container\">\n",
              "      <div>\n",
              "<style scoped>\n",
              "    .dataframe tbody tr th:only-of-type {\n",
              "        vertical-align: middle;\n",
              "    }\n",
              "\n",
              "    .dataframe tbody tr th {\n",
              "        vertical-align: top;\n",
              "    }\n",
              "\n",
              "    .dataframe thead th {\n",
              "        text-align: right;\n",
              "    }\n",
              "</style>\n",
              "<table border=\"1\" class=\"dataframe\">\n",
              "  <thead>\n",
              "    <tr style=\"text-align: right;\">\n",
              "      <th></th>\n",
              "      <th>전체</th>\n",
              "      <th>계층 샘플링</th>\n",
              "      <th>무작위 샘플링</th>\n",
              "      <th>무작위 샘플링 오류율</th>\n",
              "      <th>계층 샘플링 오류율</th>\n",
              "    </tr>\n",
              "  </thead>\n",
              "  <tbody>\n",
              "    <tr>\n",
              "      <th>1</th>\n",
              "      <td>0.039826</td>\n",
              "      <td>0.039789</td>\n",
              "      <td>0.040213</td>\n",
              "      <td>0.973236</td>\n",
              "      <td>-0.091241</td>\n",
              "    </tr>\n",
              "    <tr>\n",
              "      <th>2</th>\n",
              "      <td>0.318847</td>\n",
              "      <td>0.318859</td>\n",
              "      <td>0.324370</td>\n",
              "      <td>1.732260</td>\n",
              "      <td>0.003799</td>\n",
              "    </tr>\n",
              "    <tr>\n",
              "      <th>3</th>\n",
              "      <td>0.350581</td>\n",
              "      <td>0.350594</td>\n",
              "      <td>0.358527</td>\n",
              "      <td>2.266446</td>\n",
              "      <td>0.003455</td>\n",
              "    </tr>\n",
              "    <tr>\n",
              "      <th>4</th>\n",
              "      <td>0.176308</td>\n",
              "      <td>0.176296</td>\n",
              "      <td>0.167393</td>\n",
              "      <td>-5.056334</td>\n",
              "      <td>-0.006870</td>\n",
              "    </tr>\n",
              "    <tr>\n",
              "      <th>5</th>\n",
              "      <td>0.114438</td>\n",
              "      <td>0.114462</td>\n",
              "      <td>0.109496</td>\n",
              "      <td>-4.318374</td>\n",
              "      <td>0.021169</td>\n",
              "    </tr>\n",
              "  </tbody>\n",
              "</table>\n",
              "</div>\n",
              "      <button class=\"colab-df-convert\" onclick=\"convertToInteractive('df-ef7809f6-9f0b-4d7f-a861-c12258ae72cd')\"\n",
              "              title=\"Convert this dataframe to an interactive table.\"\n",
              "              style=\"display:none;\">\n",
              "        \n",
              "  <svg xmlns=\"http://www.w3.org/2000/svg\" height=\"24px\"viewBox=\"0 0 24 24\"\n",
              "       width=\"24px\">\n",
              "    <path d=\"M0 0h24v24H0V0z\" fill=\"none\"/>\n",
              "    <path d=\"M18.56 5.44l.94 2.06.94-2.06 2.06-.94-2.06-.94-.94-2.06-.94 2.06-2.06.94zm-11 1L8.5 8.5l.94-2.06 2.06-.94-2.06-.94L8.5 2.5l-.94 2.06-2.06.94zm10 10l.94 2.06.94-2.06 2.06-.94-2.06-.94-.94-2.06-.94 2.06-2.06.94z\"/><path d=\"M17.41 7.96l-1.37-1.37c-.4-.4-.92-.59-1.43-.59-.52 0-1.04.2-1.43.59L10.3 9.45l-7.72 7.72c-.78.78-.78 2.05 0 2.83L4 21.41c.39.39.9.59 1.41.59.51 0 1.02-.2 1.41-.59l7.78-7.78 2.81-2.81c.8-.78.8-2.07 0-2.86zM5.41 20L4 18.59l7.72-7.72 1.47 1.35L5.41 20z\"/>\n",
              "  </svg>\n",
              "      </button>\n",
              "      \n",
              "  <style>\n",
              "    .colab-df-container {\n",
              "      display:flex;\n",
              "      flex-wrap:wrap;\n",
              "      gap: 12px;\n",
              "    }\n",
              "\n",
              "    .colab-df-convert {\n",
              "      background-color: #E8F0FE;\n",
              "      border: none;\n",
              "      border-radius: 50%;\n",
              "      cursor: pointer;\n",
              "      display: none;\n",
              "      fill: #1967D2;\n",
              "      height: 32px;\n",
              "      padding: 0 0 0 0;\n",
              "      width: 32px;\n",
              "    }\n",
              "\n",
              "    .colab-df-convert:hover {\n",
              "      background-color: #E2EBFA;\n",
              "      box-shadow: 0px 1px 2px rgba(60, 64, 67, 0.3), 0px 1px 3px 1px rgba(60, 64, 67, 0.15);\n",
              "      fill: #174EA6;\n",
              "    }\n",
              "\n",
              "    [theme=dark] .colab-df-convert {\n",
              "      background-color: #3B4455;\n",
              "      fill: #D2E3FC;\n",
              "    }\n",
              "\n",
              "    [theme=dark] .colab-df-convert:hover {\n",
              "      background-color: #434B5C;\n",
              "      box-shadow: 0px 1px 3px 1px rgba(0, 0, 0, 0.15);\n",
              "      filter: drop-shadow(0px 1px 2px rgba(0, 0, 0, 0.3));\n",
              "      fill: #FFFFFF;\n",
              "    }\n",
              "  </style>\n",
              "\n",
              "      <script>\n",
              "        const buttonEl =\n",
              "          document.querySelector('#df-ef7809f6-9f0b-4d7f-a861-c12258ae72cd button.colab-df-convert');\n",
              "        buttonEl.style.display =\n",
              "          google.colab.kernel.accessAllowed ? 'block' : 'none';\n",
              "\n",
              "        async function convertToInteractive(key) {\n",
              "          const element = document.querySelector('#df-ef7809f6-9f0b-4d7f-a861-c12258ae72cd');\n",
              "          const dataTable =\n",
              "            await google.colab.kernel.invokeFunction('convertToInteractive',\n",
              "                                                     [key], {});\n",
              "          if (!dataTable) return;\n",
              "\n",
              "          const docLinkHtml = 'Like what you see? Visit the ' +\n",
              "            '<a target=\"_blank\" href=https://colab.research.google.com/notebooks/data_table.ipynb>data table notebook</a>'\n",
              "            + ' to learn more about interactive tables.';\n",
              "          element.innerHTML = '';\n",
              "          dataTable['output_type'] = 'display_data';\n",
              "          await google.colab.output.renderOutput(dataTable, element);\n",
              "          const docLink = document.createElement('div');\n",
              "          docLink.innerHTML = docLinkHtml;\n",
              "          element.appendChild(docLink);\n",
              "        }\n",
              "      </script>\n",
              "    </div>\n",
              "  </div>\n",
              "  "
            ]
          },
          "metadata": {},
          "execution_count": 17
        }
      ]
    },
    {
      "cell_type": "markdown",
      "source": [
        "# 데이터 세트 EDA(Exploratory Data Analysis)"
      ],
      "metadata": {
        "id": "efa38LdapwFT"
      }
    },
    {
      "cell_type": "code",
      "source": [
        "housing = strat_train_set.copy()\n",
        "housing.head()"
      ],
      "metadata": {
        "colab": {
          "base_uri": "https://localhost:8080/",
          "height": 270
        },
        "id": "1YrzSsF6qx6P",
        "outputId": "d56e86b4-ee21-4962-8616-289be6be9faa"
      },
      "execution_count": null,
      "outputs": [
        {
          "output_type": "execute_result",
          "data": {
            "text/plain": [
              "       longitude  latitude  housing_median_age  total_rooms  total_bedrooms  \\\n",
              "12655    -121.46     38.52                29.0       3873.0           797.0   \n",
              "15502    -117.23     33.09                 7.0       5320.0           855.0   \n",
              "2908     -119.04     35.37                44.0       1618.0           310.0   \n",
              "14053    -117.13     32.75                24.0       1877.0           519.0   \n",
              "20496    -118.70     34.28                27.0       3536.0           646.0   \n",
              "\n",
              "       population  households  median_income  median_house_value  \\\n",
              "12655      2237.0       706.0         2.1736             72100.0   \n",
              "15502      2015.0       768.0         6.3373            279600.0   \n",
              "2908        667.0       300.0         2.8750             82700.0   \n",
              "14053       898.0       483.0         2.2264            112500.0   \n",
              "20496      1837.0       580.0         4.4964            238300.0   \n",
              "\n",
              "      ocean_proximity income_cat  \n",
              "12655          INLAND          2  \n",
              "15502      NEAR OCEAN          5  \n",
              "2908           INLAND          2  \n",
              "14053      NEAR OCEAN          2  \n",
              "20496       <1H OCEAN          3  "
            ],
            "text/html": [
              "\n",
              "  <div id=\"df-d49590c2-3037-4ba3-8f91-3dbd6c1dfb38\">\n",
              "    <div class=\"colab-df-container\">\n",
              "      <div>\n",
              "<style scoped>\n",
              "    .dataframe tbody tr th:only-of-type {\n",
              "        vertical-align: middle;\n",
              "    }\n",
              "\n",
              "    .dataframe tbody tr th {\n",
              "        vertical-align: top;\n",
              "    }\n",
              "\n",
              "    .dataframe thead th {\n",
              "        text-align: right;\n",
              "    }\n",
              "</style>\n",
              "<table border=\"1\" class=\"dataframe\">\n",
              "  <thead>\n",
              "    <tr style=\"text-align: right;\">\n",
              "      <th></th>\n",
              "      <th>longitude</th>\n",
              "      <th>latitude</th>\n",
              "      <th>housing_median_age</th>\n",
              "      <th>total_rooms</th>\n",
              "      <th>total_bedrooms</th>\n",
              "      <th>population</th>\n",
              "      <th>households</th>\n",
              "      <th>median_income</th>\n",
              "      <th>median_house_value</th>\n",
              "      <th>ocean_proximity</th>\n",
              "      <th>income_cat</th>\n",
              "    </tr>\n",
              "  </thead>\n",
              "  <tbody>\n",
              "    <tr>\n",
              "      <th>12655</th>\n",
              "      <td>-121.46</td>\n",
              "      <td>38.52</td>\n",
              "      <td>29.0</td>\n",
              "      <td>3873.0</td>\n",
              "      <td>797.0</td>\n",
              "      <td>2237.0</td>\n",
              "      <td>706.0</td>\n",
              "      <td>2.1736</td>\n",
              "      <td>72100.0</td>\n",
              "      <td>INLAND</td>\n",
              "      <td>2</td>\n",
              "    </tr>\n",
              "    <tr>\n",
              "      <th>15502</th>\n",
              "      <td>-117.23</td>\n",
              "      <td>33.09</td>\n",
              "      <td>7.0</td>\n",
              "      <td>5320.0</td>\n",
              "      <td>855.0</td>\n",
              "      <td>2015.0</td>\n",
              "      <td>768.0</td>\n",
              "      <td>6.3373</td>\n",
              "      <td>279600.0</td>\n",
              "      <td>NEAR OCEAN</td>\n",
              "      <td>5</td>\n",
              "    </tr>\n",
              "    <tr>\n",
              "      <th>2908</th>\n",
              "      <td>-119.04</td>\n",
              "      <td>35.37</td>\n",
              "      <td>44.0</td>\n",
              "      <td>1618.0</td>\n",
              "      <td>310.0</td>\n",
              "      <td>667.0</td>\n",
              "      <td>300.0</td>\n",
              "      <td>2.8750</td>\n",
              "      <td>82700.0</td>\n",
              "      <td>INLAND</td>\n",
              "      <td>2</td>\n",
              "    </tr>\n",
              "    <tr>\n",
              "      <th>14053</th>\n",
              "      <td>-117.13</td>\n",
              "      <td>32.75</td>\n",
              "      <td>24.0</td>\n",
              "      <td>1877.0</td>\n",
              "      <td>519.0</td>\n",
              "      <td>898.0</td>\n",
              "      <td>483.0</td>\n",
              "      <td>2.2264</td>\n",
              "      <td>112500.0</td>\n",
              "      <td>NEAR OCEAN</td>\n",
              "      <td>2</td>\n",
              "    </tr>\n",
              "    <tr>\n",
              "      <th>20496</th>\n",
              "      <td>-118.70</td>\n",
              "      <td>34.28</td>\n",
              "      <td>27.0</td>\n",
              "      <td>3536.0</td>\n",
              "      <td>646.0</td>\n",
              "      <td>1837.0</td>\n",
              "      <td>580.0</td>\n",
              "      <td>4.4964</td>\n",
              "      <td>238300.0</td>\n",
              "      <td>&lt;1H OCEAN</td>\n",
              "      <td>3</td>\n",
              "    </tr>\n",
              "  </tbody>\n",
              "</table>\n",
              "</div>\n",
              "      <button class=\"colab-df-convert\" onclick=\"convertToInteractive('df-d49590c2-3037-4ba3-8f91-3dbd6c1dfb38')\"\n",
              "              title=\"Convert this dataframe to an interactive table.\"\n",
              "              style=\"display:none;\">\n",
              "        \n",
              "  <svg xmlns=\"http://www.w3.org/2000/svg\" height=\"24px\"viewBox=\"0 0 24 24\"\n",
              "       width=\"24px\">\n",
              "    <path d=\"M0 0h24v24H0V0z\" fill=\"none\"/>\n",
              "    <path d=\"M18.56 5.44l.94 2.06.94-2.06 2.06-.94-2.06-.94-.94-2.06-.94 2.06-2.06.94zm-11 1L8.5 8.5l.94-2.06 2.06-.94-2.06-.94L8.5 2.5l-.94 2.06-2.06.94zm10 10l.94 2.06.94-2.06 2.06-.94-2.06-.94-.94-2.06-.94 2.06-2.06.94z\"/><path d=\"M17.41 7.96l-1.37-1.37c-.4-.4-.92-.59-1.43-.59-.52 0-1.04.2-1.43.59L10.3 9.45l-7.72 7.72c-.78.78-.78 2.05 0 2.83L4 21.41c.39.39.9.59 1.41.59.51 0 1.02-.2 1.41-.59l7.78-7.78 2.81-2.81c.8-.78.8-2.07 0-2.86zM5.41 20L4 18.59l7.72-7.72 1.47 1.35L5.41 20z\"/>\n",
              "  </svg>\n",
              "      </button>\n",
              "      \n",
              "  <style>\n",
              "    .colab-df-container {\n",
              "      display:flex;\n",
              "      flex-wrap:wrap;\n",
              "      gap: 12px;\n",
              "    }\n",
              "\n",
              "    .colab-df-convert {\n",
              "      background-color: #E8F0FE;\n",
              "      border: none;\n",
              "      border-radius: 50%;\n",
              "      cursor: pointer;\n",
              "      display: none;\n",
              "      fill: #1967D2;\n",
              "      height: 32px;\n",
              "      padding: 0 0 0 0;\n",
              "      width: 32px;\n",
              "    }\n",
              "\n",
              "    .colab-df-convert:hover {\n",
              "      background-color: #E2EBFA;\n",
              "      box-shadow: 0px 1px 2px rgba(60, 64, 67, 0.3), 0px 1px 3px 1px rgba(60, 64, 67, 0.15);\n",
              "      fill: #174EA6;\n",
              "    }\n",
              "\n",
              "    [theme=dark] .colab-df-convert {\n",
              "      background-color: #3B4455;\n",
              "      fill: #D2E3FC;\n",
              "    }\n",
              "\n",
              "    [theme=dark] .colab-df-convert:hover {\n",
              "      background-color: #434B5C;\n",
              "      box-shadow: 0px 1px 3px 1px rgba(0, 0, 0, 0.15);\n",
              "      filter: drop-shadow(0px 1px 2px rgba(0, 0, 0, 0.3));\n",
              "      fill: #FFFFFF;\n",
              "    }\n",
              "  </style>\n",
              "\n",
              "      <script>\n",
              "        const buttonEl =\n",
              "          document.querySelector('#df-d49590c2-3037-4ba3-8f91-3dbd6c1dfb38 button.colab-df-convert');\n",
              "        buttonEl.style.display =\n",
              "          google.colab.kernel.accessAllowed ? 'block' : 'none';\n",
              "\n",
              "        async function convertToInteractive(key) {\n",
              "          const element = document.querySelector('#df-d49590c2-3037-4ba3-8f91-3dbd6c1dfb38');\n",
              "          const dataTable =\n",
              "            await google.colab.kernel.invokeFunction('convertToInteractive',\n",
              "                                                     [key], {});\n",
              "          if (!dataTable) return;\n",
              "\n",
              "          const docLinkHtml = 'Like what you see? Visit the ' +\n",
              "            '<a target=\"_blank\" href=https://colab.research.google.com/notebooks/data_table.ipynb>data table notebook</a>'\n",
              "            + ' to learn more about interactive tables.';\n",
              "          element.innerHTML = '';\n",
              "          dataTable['output_type'] = 'display_data';\n",
              "          await google.colab.output.renderOutput(dataTable, element);\n",
              "          const docLink = document.createElement('div');\n",
              "          docLink.innerHTML = docLinkHtml;\n",
              "          element.appendChild(docLink);\n",
              "        }\n",
              "      </script>\n",
              "    </div>\n",
              "  </div>\n",
              "  "
            ]
          },
          "metadata": {},
          "execution_count": 18
        }
      ]
    },
    {
      "cell_type": "markdown",
      "source": [
        "### 시각화"
      ],
      "metadata": {
        "id": "z_SNWMHrzJ5a"
      }
    },
    {
      "cell_type": "code",
      "source": [
        "housing.plot(\n",
        "    kind='scatter',\n",
        "    x='longitude', # 경도\n",
        "    y=\"latitude\",   # 위도\n",
        "    alpha=0.1\n",
        ")\n",
        "plt.show()"
      ],
      "metadata": {
        "colab": {
          "base_uri": "https://localhost:8080/",
          "height": 279
        },
        "id": "Uhb9Ao9tsBOy",
        "outputId": "09bd6d33-e46b-4a6a-aa95-0e64a91f9f1e"
      },
      "execution_count": null,
      "outputs": [
        {
          "output_type": "display_data",
          "data": {
            "text/plain": [
              "<Figure size 432x288 with 1 Axes>"
            ],
            "image/png": "[encoded data removed]"
          },
          "metadata": {
            "needs_background": "light"
          }
        }
      ]
    },
    {
      "cell_type": "code",
      "source": [
        "# 비즈니스적으로 봤을 때, 사람이 많이 밀집해서 사는 지역의 집값이 비싸다는 것을 시각적으로 표현\n",
        "housing.plot(\n",
        "    kind='scatter',\n",
        "    x='longitude',\n",
        "    y='latitude',\n",
        "    alpha=.4,\n",
        "    figsize=(10, 7),\n",
        "    s = housing['population'] / 100,\n",
        "    label='population',\n",
        "    c='median_house_value', # color를 표현할 컬럼의 이름\n",
        "    cmap=plt.get_cmap('jet'), # 무지개색으로 표현\n",
        "    colorbar=True\n",
        ")\n",
        "\n",
        "plt.legend()\n",
        "plt.show()"
      ],
      "metadata": {
        "colab": {
          "base_uri": "https://localhost:8080/",
          "height": 419
        },
        "id": "gAxz_C2us7Mb",
        "outputId": "cedd196e-511e-4f4e-9490-0e48d145d06e"
      },
      "execution_count": null,
      "outputs": [
        {
          "output_type": "display_data",
          "data": {
            "text/plain": [
              "<Figure size 720x504 with 2 Axes>"
            ],
            "image/png": "[encoded data removed]"
          },
          "metadata": {
            "needs_background": "light"
          }
        }
      ]
    },
    {
      "cell_type": "code",
      "source": [
        "import matplotlib.image as mpimg\n",
        "\n",
        "images_path = os.path.join(\".\", \"images\", \"end_to_end_project\")\n",
        "os.makedirs(images_path, exist_ok=True)\n",
        "DOWNLOAD_ROOT = \"https://raw.githubusercontent.com/ageron/handson-ml2/master/\"\n",
        "filename = \"california.png\"\n",
        "print(\"Downloading\", filename)\n",
        "url = DOWNLOAD_ROOT + \"images/end_to_end_project/\" + filename\n",
        "urllib.request.urlretrieve(url, os.path.join(images_path, filename))\n",
        "california_img=mpimg.imread(os.path.join(images_path, filename))\n",
        "\n",
        "ax = housing.plot(kind=\"scatter\", x=\"longitude\", y=\"latitude\", figsize=(10,7),\n",
        "                       s=housing['population']/100, label=\"Population\",\n",
        "                       c=\"median_house_value\", cmap=plt.get_cmap(\"jet\"),\n",
        "                       colorbar=True, alpha=0.4)\n",
        "\n",
        "plt.imshow(california_img, extent=[-124.55, -113.80, 32.45, 42.05], alpha=0.5, cmap=plt.get_cmap(\"jet\"))\n",
        "plt.ylabel(\"Latitude\", fontsize=14)\n",
        "plt.xlabel(\"Longitude\", fontsize=14)\n",
        "\n",
        "plt.legend(fontsize=16)\n",
        "plt.show()"
      ],
      "metadata": {
        "colab": {
          "base_uri": "https://localhost:8080/",
          "height": 437
        },
        "id": "AL39BzCwxaye",
        "outputId": "8f1bf57d-8487-4c3d-d67d-9217b70dd98c"
      },
      "execution_count": null,
      "outputs": [
        {
          "output_type": "stream",
          "name": "stdout",
          "text": [
            "Downloading california.png\n"
          ]
        },
        {
          "output_type": "display_data",
          "data": {
            "text/plain": [
              "<Figure size 720x504 with 2 Axes>"
            ],
            "image/png": "[encoded data removed]"
          },
          "metadata": {
            "needs_background": "light"
          }
        }
      ]
    },
    {
      "cell_type": "markdown",
      "source": [
        "### 상관관계 조사하기"
      ],
      "metadata": {
        "id": "M4fXoqovxvvj"
      }
    },
    {
      "cell_type": "code",
      "source": [
        "corr_matrix = housing.corr()\n",
        "corr_matrix[\"median_house_value\"].sort_values(ascending=False) # 집 값에 대한 상관관계를 파악"
      ],
      "metadata": {
        "colab": {
          "base_uri": "https://localhost:8080/"
        },
        "id": "UPsfkCz6zNA7",
        "outputId": "736b4297-244e-44d6-8816-24a269823dbd"
      },
      "execution_count": null,
      "outputs": [
        {
          "output_type": "execute_result",
          "data": {
            "text/plain": [
              "median_house_value    1.000000\n",
              "median_income         0.687151\n",
              "total_rooms           0.135140\n",
              "housing_median_age    0.114146\n",
              "households            0.064590\n",
              "total_bedrooms        0.047781\n",
              "population           -0.026882\n",
              "longitude            -0.047466\n",
              "latitude             -0.142673\n",
              "Name: median_house_value, dtype: float64"
            ]
          },
          "metadata": {},
          "execution_count": 22
        }
      ]
    },
    {
      "cell_type": "markdown",
      "source": [
        "### 머신러닝을 위한 데이터 분석의 꽃 특성 조합"
      ],
      "metadata": {
        "id": "6OwVSXCrztpt"
      }
    },
    {
      "cell_type": "code",
      "source": [
        "# 가구 당 방이 몇개인가 - 비율\n",
        "# 전체 방 중에서 침실이 차지하는 비율\n",
        "# 가구당 인구수\n",
        "\n",
        "housing[\"rooms_per_household\"] = housing[\"total_rooms\"] / housing[\"households\"]\n",
        "housing[\"bedrooms_per_room\"] = housing[\"total_bedrooms\"] / housing['total_rooms']\n",
        "housing[\"population_per_household\"] = housing[\"population\"] / housing[\"households\"]"
      ],
      "metadata": {
        "id": "W40afj0i0vL3"
      },
      "execution_count": null,
      "outputs": []
    },
    {
      "cell_type": "code",
      "source": [
        "# 특성 추가 후 상관관계 파악\n",
        "corr_matrix = housing.corr()\n",
        "corr_matrix[\"median_house_value\"].sort_values(ascending=False)"
      ],
      "metadata": {
        "colab": {
          "base_uri": "https://localhost:8080/"
        },
        "id": "FFZTcqaY2DQo",
        "outputId": "7f195223-1ae1-44fa-bf94-b21cc7234a4f"
      },
      "execution_count": null,
      "outputs": [
        {
          "output_type": "execute_result",
          "data": {
            "text/plain": [
              "median_house_value          1.000000\n",
              "median_income               0.687151\n",
              "rooms_per_household         0.146255\n",
              "total_rooms                 0.135140\n",
              "housing_median_age          0.114146\n",
              "households                  0.064590\n",
              "total_bedrooms              0.047781\n",
              "population_per_household   -0.021991\n",
              "population                 -0.026882\n",
              "longitude                  -0.047466\n",
              "latitude                   -0.142673\n",
              "bedrooms_per_room          -0.259952\n",
              "Name: median_house_value, dtype: float64"
            ]
          },
          "metadata": {},
          "execution_count": 24
        }
      ]
    },
    {
      "cell_type": "markdown",
      "source": [
        "# 파이프라인\n",
        "- 일련의 작업들을 하나의 프로세스로 묶는 것\n",
        "- 수동으로 일일이 작업을 실행하도록 하는게 아닌, 함수를 만들어서 자동화 시키는 것이 목적"
      ],
      "metadata": {
        "id": "eAkgR_BC2T9D"
      }
    },
    {
      "cell_type": "code",
      "source": [
        "# feature, label 분리\n",
        "\n",
        "# 머신러닝 y = f(X)\n",
        "\n",
        "# feature : X ( 예측을 하기 위한 데이터 )\n",
        "# label : y ( 예측의 결과물  - 정답 또는 target)\n",
        "\n",
        "housing = strat_train_set.drop(\"median_house_value\", axis=1)\n",
        "housing_labels = strat_train_set[\"median_house_value\"].copy()"
      ],
      "metadata": {
        "id": "KqZxCtEJ5AHO"
      },
      "execution_count": null,
      "outputs": []
    },
    {
      "cell_type": "markdown",
      "source": [
        "머신러닝을 위한 데이터 파이프라인은 대부분 데이터 변환 작업이 우선"
      ],
      "metadata": {
        "id": "jDQeHA8Q65aU"
      }
    },
    {
      "cell_type": "code",
      "source": [
        "housing.info()"
      ],
      "metadata": {
        "colab": {
          "base_uri": "https://localhost:8080/"
        },
        "id": "Ue3TZqZaMRvG",
        "outputId": "16da3702-f251-4f0d-b85a-babef80ecf05"
      },
      "execution_count": null,
      "outputs": [
        {
          "output_type": "stream",
          "name": "stdout",
          "text": [
            "<class 'pandas.core.frame.DataFrame'>\n",
            "Int64Index: 16512 entries, 12655 to 19773\n",
            "Data columns (total 10 columns):\n",
            " #   Column              Non-Null Count  Dtype   \n",
            "---  ------              --------------  -----   \n",
            " 0   longitude           16512 non-null  float64 \n",
            " 1   latitude            16512 non-null  float64 \n",
            " 2   housing_median_age  16512 non-null  float64 \n",
            " 3   total_rooms         16512 non-null  float64 \n",
            " 4   total_bedrooms      16354 non-null  float64 \n",
            " 5   population          16512 non-null  float64 \n",
            " 6   households          16512 non-null  float64 \n",
            " 7   median_income       16512 non-null  float64 \n",
            " 8   ocean_proximity     16512 non-null  object  \n",
            " 9   income_cat          16512 non-null  category\n",
            "dtypes: category(1), float64(8), object(1)\n",
            "memory usage: 1.3+ MB\n"
          ]
        }
      ]
    },
    {
      "cell_type": "markdown",
      "source": [
        "`nan`값에 대한 처리를 어떻게 할 것인가?\n",
        "- 해당 샘플을 삭제(행 삭제)\n",
        "- 해당 특성을 삭제(열 삭제)\n",
        "- 특정 값으로 채우는 방법\n",
        "  - 0 또는 평균, 중간값 등으로 채운다.\n",
        "  - `NaN`값이 들어있는 특성(`feautre`)을 `label`로 놓는 새로운 머신러닝 모델을 생성해서 예측 후 채우는 방식"
      ],
      "metadata": {
        "id": "PnhLvSzzMXB1"
      }
    },
    {
      "cell_type": "code",
      "source": [
        "# housing.dropna(subset=['total_bedrooms']) # NaN값이 들어있는 샘플을 삭제\n",
        "# housing.drop(\"total_bedrooms\", axis=1) # total_bedrooms 특성 삭제\n",
        "\n",
        "# 중간값 구하기\n",
        "# median_value = housing[\"total_bedrooms\"].median() # total_bedrooms의 중간값 구하기\n",
        "# housing[\"total_bedrooms\"].fillna(median_value, inplace=True) # fillna : nan값을 설정한 값으로 채우는 함수."
      ],
      "metadata": {
        "id": "v_XoYy6oMy_T"
      },
      "execution_count": null,
      "outputs": []
    },
    {
      "cell_type": "markdown",
      "source": [
        "누락값을 다룰 수 있는 사이킷 런 클래스 - `SimpleImputer`\n",
        "- 누락값을 채울 수 있는 정책(전략)을 선정해서 누락값을 채운다."
      ],
      "metadata": {
        "id": "VbUWYYtuNMEx"
      }
    },
    {
      "cell_type": "code",
      "source": [
        "from sklearn.impute import SimpleImputer\n",
        "\n",
        "imputer = SimpleImputer(strategy=\"median\") # 데이터의 누락값을 채울 전략으로 중간값(median) 선정"
      ],
      "metadata": {
        "id": "onmXzw8sNzRj"
      },
      "execution_count": null,
      "outputs": []
    },
    {
      "cell_type": "markdown",
      "source": [
        "중간값이 수치형 특성(숫자 특성)에만 적용되기 때문에 `ocean_proximity`는 따로 빼 놓고, `income_cat`는 삭제"
      ],
      "metadata": {
        "id": "3ZJYUW_BOZ15"
      }
    },
    {
      "cell_type": "code",
      "source": [
        "# income_cat 삭제\n",
        "del housing[\"income_cat\"]\n",
        "del strat_test_set[\"income_cat\"]\n",
        "del strat_train_set[\"income_cat\"]"
      ],
      "metadata": {
        "id": "a0Rt1XulO8_w"
      },
      "execution_count": null,
      "outputs": []
    },
    {
      "cell_type": "code",
      "source": [
        "# 문자열 카테고리 데이터인 ocean_proximity는 사용을 안할 거에요\n",
        "# 숫자 데이터만 남아있는 housing_num 생성\n",
        "housing_num = housing.drop(\"ocean_proximity\", axis=1)\n",
        "housing_num.head()"
      ],
      "metadata": {
        "colab": {
          "base_uri": "https://localhost:8080/",
          "height": 206
        },
        "id": "MlwkvbclPQtq",
        "outputId": "f35e6dfe-a872-4408-a835-95c999fa25e2"
      },
      "execution_count": null,
      "outputs": [
        {
          "output_type": "execute_result",
          "data": {
            "text/plain": [
              "       longitude  latitude  housing_median_age  total_rooms  total_bedrooms  \\\n",
              "12655    -121.46     38.52                29.0       3873.0           797.0   \n",
              "15502    -117.23     33.09                 7.0       5320.0           855.0   \n",
              "2908     -119.04     35.37                44.0       1618.0           310.0   \n",
              "14053    -117.13     32.75                24.0       1877.0           519.0   \n",
              "20496    -118.70     34.28                27.0       3536.0           646.0   \n",
              "\n",
              "       population  households  median_income  \n",
              "12655      2237.0       706.0         2.1736  \n",
              "15502      2015.0       768.0         6.3373  \n",
              "2908        667.0       300.0         2.8750  \n",
              "14053       898.0       483.0         2.2264  \n",
              "20496      1837.0       580.0         4.4964  "
            ],
            "text/html": [
              "\n",
              "  <div id=\"df-53c54e97-3b3c-4c5f-80b3-135ae261ec29\">\n",
              "    <div class=\"colab-df-container\">\n",
              "      <div>\n",
              "<style scoped>\n",
              "    .dataframe tbody tr th:only-of-type {\n",
              "        vertical-align: middle;\n",
              "    }\n",
              "\n",
              "    .dataframe tbody tr th {\n",
              "        vertical-align: top;\n",
              "    }\n",
              "\n",
              "    .dataframe thead th {\n",
              "        text-align: right;\n",
              "    }\n",
              "</style>\n",
              "<table border=\"1\" class=\"dataframe\">\n",
              "  <thead>\n",
              "    <tr style=\"text-align: right;\">\n",
              "      <th></th>\n",
              "      <th>longitude</th>\n",
              "      <th>latitude</th>\n",
              "      <th>housing_median_age</th>\n",
              "      <th>total_rooms</th>\n",
              "      <th>total_bedrooms</th>\n",
              "      <th>population</th>\n",
              "      <th>households</th>\n",
              "      <th>median_income</th>\n",
              "    </tr>\n",
              "  </thead>\n",
              "  <tbody>\n",
              "    <tr>\n",
              "      <th>12655</th>\n",
              "      <td>-121.46</td>\n",
              "      <td>38.52</td>\n",
              "      <td>29.0</td>\n",
              "      <td>3873.0</td>\n",
              "      <td>797.0</td>\n",
              "      <td>2237.0</td>\n",
              "      <td>706.0</td>\n",
              "      <td>2.1736</td>\n",
              "    </tr>\n",
              "    <tr>\n",
              "      <th>15502</th>\n",
              "      <td>-117.23</td>\n",
              "      <td>33.09</td>\n",
              "      <td>7.0</td>\n",
              "      <td>5320.0</td>\n",
              "      <td>855.0</td>\n",
              "      <td>2015.0</td>\n",
              "      <td>768.0</td>\n",
              "      <td>6.3373</td>\n",
              "    </tr>\n",
              "    <tr>\n",
              "      <th>2908</th>\n",
              "      <td>-119.04</td>\n",
              "      <td>35.37</td>\n",
              "      <td>44.0</td>\n",
              "      <td>1618.0</td>\n",
              "      <td>310.0</td>\n",
              "      <td>667.0</td>\n",
              "      <td>300.0</td>\n",
              "      <td>2.8750</td>\n",
              "    </tr>\n",
              "    <tr>\n",
              "      <th>14053</th>\n",
              "      <td>-117.13</td>\n",
              "      <td>32.75</td>\n",
              "      <td>24.0</td>\n",
              "      <td>1877.0</td>\n",
              "      <td>519.0</td>\n",
              "      <td>898.0</td>\n",
              "      <td>483.0</td>\n",
              "      <td>2.2264</td>\n",
              "    </tr>\n",
              "    <tr>\n",
              "      <th>20496</th>\n",
              "      <td>-118.70</td>\n",
              "      <td>34.28</td>\n",
              "      <td>27.0</td>\n",
              "      <td>3536.0</td>\n",
              "      <td>646.0</td>\n",
              "      <td>1837.0</td>\n",
              "      <td>580.0</td>\n",
              "      <td>4.4964</td>\n",
              "    </tr>\n",
              "  </tbody>\n",
              "</table>\n",
              "</div>\n",
              "      <button class=\"colab-df-convert\" onclick=\"convertToInteractive('df-53c54e97-3b3c-4c5f-80b3-135ae261ec29')\"\n",
              "              title=\"Convert this dataframe to an interactive table.\"\n",
              "              style=\"display:none;\">\n",
              "        \n",
              "  <svg xmlns=\"http://www.w3.org/2000/svg\" height=\"24px\"viewBox=\"0 0 24 24\"\n",
              "       width=\"24px\">\n",
              "    <path d=\"M0 0h24v24H0V0z\" fill=\"none\"/>\n",
              "    <path d=\"M18.56 5.44l.94 2.06.94-2.06 2.06-.94-2.06-.94-.94-2.06-.94 2.06-2.06.94zm-11 1L8.5 8.5l.94-2.06 2.06-.94-2.06-.94L8.5 2.5l-.94 2.06-2.06.94zm10 10l.94 2.06.94-2.06 2.06-.94-2.06-.94-.94-2.06-.94 2.06-2.06.94z\"/><path d=\"M17.41 7.96l-1.37-1.37c-.4-.4-.92-.59-1.43-.59-.52 0-1.04.2-1.43.59L10.3 9.45l-7.72 7.72c-.78.78-.78 2.05 0 2.83L4 21.41c.39.39.9.59 1.41.59.51 0 1.02-.2 1.41-.59l7.78-7.78 2.81-2.81c.8-.78.8-2.07 0-2.86zM5.41 20L4 18.59l7.72-7.72 1.47 1.35L5.41 20z\"/>\n",
              "  </svg>\n",
              "      </button>\n",
              "      \n",
              "  <style>\n",
              "    .colab-df-container {\n",
              "      display:flex;\n",
              "      flex-wrap:wrap;\n",
              "      gap: 12px;\n",
              "    }\n",
              "\n",
              "    .colab-df-convert {\n",
              "      background-color: #E8F0FE;\n",
              "      border: none;\n",
              "      border-radius: 50%;\n",
              "      cursor: pointer;\n",
              "      display: none;\n",
              "      fill: #1967D2;\n",
              "      height: 32px;\n",
              "      padding: 0 0 0 0;\n",
              "      width: 32px;\n",
              "    }\n",
              "\n",
              "    .colab-df-convert:hover {\n",
              "      background-color: #E2EBFA;\n",
              "      box-shadow: 0px 1px 2px rgba(60, 64, 67, 0.3), 0px 1px 3px 1px rgba(60, 64, 67, 0.15);\n",
              "      fill: #174EA6;\n",
              "    }\n",
              "\n",
              "    [theme=dark] .colab-df-convert {\n",
              "      background-color: #3B4455;\n",
              "      fill: #D2E3FC;\n",
              "    }\n",
              "\n",
              "    [theme=dark] .colab-df-convert:hover {\n",
              "      background-color: #434B5C;\n",
              "      box-shadow: 0px 1px 3px 1px rgba(0, 0, 0, 0.15);\n",
              "      filter: drop-shadow(0px 1px 2px rgba(0, 0, 0, 0.3));\n",
              "      fill: #FFFFFF;\n",
              "    }\n",
              "  </style>\n",
              "\n",
              "      <script>\n",
              "        const buttonEl =\n",
              "          document.querySelector('#df-53c54e97-3b3c-4c5f-80b3-135ae261ec29 button.colab-df-convert');\n",
              "        buttonEl.style.display =\n",
              "          google.colab.kernel.accessAllowed ? 'block' : 'none';\n",
              "\n",
              "        async function convertToInteractive(key) {\n",
              "          const element = document.querySelector('#df-53c54e97-3b3c-4c5f-80b3-135ae261ec29');\n",
              "          const dataTable =\n",
              "            await google.colab.kernel.invokeFunction('convertToInteractive',\n",
              "                                                     [key], {});\n",
              "          if (!dataTable) return;\n",
              "\n",
              "          const docLinkHtml = 'Like what you see? Visit the ' +\n",
              "            '<a target=\"_blank\" href=https://colab.research.google.com/notebooks/data_table.ipynb>data table notebook</a>'\n",
              "            + ' to learn more about interactive tables.';\n",
              "          element.innerHTML = '';\n",
              "          dataTable['output_type'] = 'display_data';\n",
              "          await google.colab.output.renderOutput(dataTable, element);\n",
              "          const docLink = document.createElement('div');\n",
              "          docLink.innerHTML = docLinkHtml;\n",
              "          element.appendChild(docLink);\n",
              "        }\n",
              "      </script>\n",
              "    </div>\n",
              "  </div>\n",
              "  "
            ]
          },
          "metadata": {},
          "execution_count": 30
        }
      ]
    },
    {
      "cell_type": "code",
      "source": [
        "imputer.fit(housing_num)"
      ],
      "metadata": {
        "colab": {
          "base_uri": "https://localhost:8080/"
        },
        "id": "8ldO2VIUPmha",
        "outputId": "2c24a299-67de-4ca3-f25f-651419c1cc37"
      },
      "execution_count": null,
      "outputs": [
        {
          "output_type": "execute_result",
          "data": {
            "text/plain": [
              "SimpleImputer(strategy='median')"
            ]
          },
          "metadata": {},
          "execution_count": 31
        }
      ]
    },
    {
      "cell_type": "code",
      "source": [
        "# 변환된 데이터 보기(아직 데이터에 대한 변환은 일어나지 않은거.... 계산만 된 것!!!)\n",
        "imputer.statistics_"
      ],
      "metadata": {
        "colab": {
          "base_uri": "https://localhost:8080/"
        },
        "id": "1vS1wQdsPwwK",
        "outputId": "22986b5f-ef86-4fb0-adc2-0b253b460c3c"
      },
      "execution_count": null,
      "outputs": [
        {
          "output_type": "execute_result",
          "data": {
            "text/plain": [
              "array([-118.51   ,   34.26   ,   29.     , 2119.     ,  433.     ,\n",
              "       1164.     ,  408.     ,    3.54155])"
            ]
          },
          "metadata": {},
          "execution_count": 32
        }
      ]
    },
    {
      "cell_type": "code",
      "source": [
        "housing_num.median().values"
      ],
      "metadata": {
        "colab": {
          "base_uri": "https://localhost:8080/"
        },
        "id": "rs8ADnLWTqFd",
        "outputId": "248ad2fe-80b3-439b-fda6-7226c8df6fc1"
      },
      "execution_count": null,
      "outputs": [
        {
          "output_type": "execute_result",
          "data": {
            "text/plain": [
              "array([-118.51   ,   34.26   ,   29.     , 2119.     ,  433.     ,\n",
              "       1164.     ,  408.     ,    3.54155])"
            ]
          },
          "metadata": {},
          "execution_count": 33
        }
      ]
    },
    {
      "cell_type": "code",
      "source": [
        "# 변환 수행 - transform\n",
        "X = imputer.transform(housing_num) # housing_num의 중간값을 계산해서 적용된(채워 놓고) 형태로 변환\n",
        "X"
      ],
      "metadata": {
        "colab": {
          "base_uri": "https://localhost:8080/"
        },
        "id": "Uj3sVg1zT3NW",
        "outputId": "aaab02bf-0c0c-45ec-b918-958e7c457910"
      },
      "execution_count": null,
      "outputs": [
        {
          "output_type": "execute_result",
          "data": {
            "text/plain": [
              "array([[-1.2146e+02,  3.8520e+01,  2.9000e+01, ...,  2.2370e+03,\n",
              "         7.0600e+02,  2.1736e+00],\n",
              "       [-1.1723e+02,  3.3090e+01,  7.0000e+00, ...,  2.0150e+03,\n",
              "         7.6800e+02,  6.3373e+00],\n",
              "       [-1.1904e+02,  3.5370e+01,  4.4000e+01, ...,  6.6700e+02,\n",
              "         3.0000e+02,  2.8750e+00],\n",
              "       ...,\n",
              "       [-1.2272e+02,  3.8440e+01,  4.8000e+01, ...,  4.5800e+02,\n",
              "         1.7200e+02,  3.1797e+00],\n",
              "       [-1.2270e+02,  3.8310e+01,  1.4000e+01, ...,  1.2080e+03,\n",
              "         5.0100e+02,  4.1964e+00],\n",
              "       [-1.2214e+02,  3.9970e+01,  2.7000e+01, ...,  6.2500e+02,\n",
              "         1.9700e+02,  3.1319e+00]])"
            ]
          },
          "metadata": {},
          "execution_count": 34
        }
      ]
    },
    {
      "cell_type": "code",
      "source": [
        "housing_tr = pd.DataFrame(\n",
        "    X,\n",
        "    columns=housing_num.columns,\n",
        "    index=housing_num.index # 인덱스가 바뀌면 안되니까 기존의 인덱스를 그대로 가져옴\n",
        ")\n",
        "\n",
        "housing_tr.head()"
      ],
      "metadata": {
        "colab": {
          "base_uri": "https://localhost:8080/",
          "height": 206
        },
        "id": "pW_M7NPgUWLh",
        "outputId": "f082e803-3459-4fd8-b9d5-f3d94178c8d0"
      },
      "execution_count": null,
      "outputs": [
        {
          "output_type": "execute_result",
          "data": {
            "text/plain": [
              "       longitude  latitude  housing_median_age  total_rooms  total_bedrooms  \\\n",
              "12655    -121.46     38.52                29.0       3873.0           797.0   \n",
              "15502    -117.23     33.09                 7.0       5320.0           855.0   \n",
              "2908     -119.04     35.37                44.0       1618.0           310.0   \n",
              "14053    -117.13     32.75                24.0       1877.0           519.0   \n",
              "20496    -118.70     34.28                27.0       3536.0           646.0   \n",
              "\n",
              "       population  households  median_income  \n",
              "12655      2237.0       706.0         2.1736  \n",
              "15502      2015.0       768.0         6.3373  \n",
              "2908        667.0       300.0         2.8750  \n",
              "14053       898.0       483.0         2.2264  \n",
              "20496      1837.0       580.0         4.4964  "
            ],
            "text/html": [
              "\n",
              "  <div id=\"df-29d9bfa0-0fea-4918-bb8f-c564f891da71\">\n",
              "    <div class=\"colab-df-container\">\n",
              "      <div>\n",
              "<style scoped>\n",
              "    .dataframe tbody tr th:only-of-type {\n",
              "        vertical-align: middle;\n",
              "    }\n",
              "\n",
              "    .dataframe tbody tr th {\n",
              "        vertical-align: top;\n",
              "    }\n",
              "\n",
              "    .dataframe thead th {\n",
              "        text-align: right;\n",
              "    }\n",
              "</style>\n",
              "<table border=\"1\" class=\"dataframe\">\n",
              "  <thead>\n",
              "    <tr style=\"text-align: right;\">\n",
              "      <th></th>\n",
              "      <th>longitude</th>\n",
              "      <th>latitude</th>\n",
              "      <th>housing_median_age</th>\n",
              "      <th>total_rooms</th>\n",
              "      <th>total_bedrooms</th>\n",
              "      <th>population</th>\n",
              "      <th>households</th>\n",
              "      <th>median_income</th>\n",
              "    </tr>\n",
              "  </thead>\n",
              "  <tbody>\n",
              "    <tr>\n",
              "      <th>12655</th>\n",
              "      <td>-121.46</td>\n",
              "      <td>38.52</td>\n",
              "      <td>29.0</td>\n",
              "      <td>3873.0</td>\n",
              "      <td>797.0</td>\n",
              "      <td>2237.0</td>\n",
              "      <td>706.0</td>\n",
              "      <td>2.1736</td>\n",
              "    </tr>\n",
              "    <tr>\n",
              "      <th>15502</th>\n",
              "      <td>-117.23</td>\n",
              "      <td>33.09</td>\n",
              "      <td>7.0</td>\n",
              "      <td>5320.0</td>\n",
              "      <td>855.0</td>\n",
              "      <td>2015.0</td>\n",
              "      <td>768.0</td>\n",
              "      <td>6.3373</td>\n",
              "    </tr>\n",
              "    <tr>\n",
              "      <th>2908</th>\n",
              "      <td>-119.04</td>\n",
              "      <td>35.37</td>\n",
              "      <td>44.0</td>\n",
              "      <td>1618.0</td>\n",
              "      <td>310.0</td>\n",
              "      <td>667.0</td>\n",
              "      <td>300.0</td>\n",
              "      <td>2.8750</td>\n",
              "    </tr>\n",
              "    <tr>\n",
              "      <th>14053</th>\n",
              "      <td>-117.13</td>\n",
              "      <td>32.75</td>\n",
              "      <td>24.0</td>\n",
              "      <td>1877.0</td>\n",
              "      <td>519.0</td>\n",
              "      <td>898.0</td>\n",
              "      <td>483.0</td>\n",
              "      <td>2.2264</td>\n",
              "    </tr>\n",
              "    <tr>\n",
              "      <th>20496</th>\n",
              "      <td>-118.70</td>\n",
              "      <td>34.28</td>\n",
              "      <td>27.0</td>\n",
              "      <td>3536.0</td>\n",
              "      <td>646.0</td>\n",
              "      <td>1837.0</td>\n",
              "      <td>580.0</td>\n",
              "      <td>4.4964</td>\n",
              "    </tr>\n",
              "  </tbody>\n",
              "</table>\n",
              "</div>\n",
              "      <button class=\"colab-df-convert\" onclick=\"convertToInteractive('df-29d9bfa0-0fea-4918-bb8f-c564f891da71')\"\n",
              "              title=\"Convert this dataframe to an interactive table.\"\n",
              "              style=\"display:none;\">\n",
              "        \n",
              "  <svg xmlns=\"http://www.w3.org/2000/svg\" height=\"24px\"viewBox=\"0 0 24 24\"\n",
              "       width=\"24px\">\n",
              "    <path d=\"M0 0h24v24H0V0z\" fill=\"none\"/>\n",
              "    <path d=\"M18.56 5.44l.94 2.06.94-2.06 2.06-.94-2.06-.94-.94-2.06-.94 2.06-2.06.94zm-11 1L8.5 8.5l.94-2.06 2.06-.94-2.06-.94L8.5 2.5l-.94 2.06-2.06.94zm10 10l.94 2.06.94-2.06 2.06-.94-2.06-.94-.94-2.06-.94 2.06-2.06.94z\"/><path d=\"M17.41 7.96l-1.37-1.37c-.4-.4-.92-.59-1.43-.59-.52 0-1.04.2-1.43.59L10.3 9.45l-7.72 7.72c-.78.78-.78 2.05 0 2.83L4 21.41c.39.39.9.59 1.41.59.51 0 1.02-.2 1.41-.59l7.78-7.78 2.81-2.81c.8-.78.8-2.07 0-2.86zM5.41 20L4 18.59l7.72-7.72 1.47 1.35L5.41 20z\"/>\n",
              "  </svg>\n",
              "      </button>\n",
              "      \n",
              "  <style>\n",
              "    .colab-df-container {\n",
              "      display:flex;\n",
              "      flex-wrap:wrap;\n",
              "      gap: 12px;\n",
              "    }\n",
              "\n",
              "    .colab-df-convert {\n",
              "      background-color: #E8F0FE;\n",
              "      border: none;\n",
              "      border-radius: 50%;\n",
              "      cursor: pointer;\n",
              "      display: none;\n",
              "      fill: #1967D2;\n",
              "      height: 32px;\n",
              "      padding: 0 0 0 0;\n",
              "      width: 32px;\n",
              "    }\n",
              "\n",
              "    .colab-df-convert:hover {\n",
              "      background-color: #E2EBFA;\n",
              "      box-shadow: 0px 1px 2px rgba(60, 64, 67, 0.3), 0px 1px 3px 1px rgba(60, 64, 67, 0.15);\n",
              "      fill: #174EA6;\n",
              "    }\n",
              "\n",
              "    [theme=dark] .colab-df-convert {\n",
              "      background-color: #3B4455;\n",
              "      fill: #D2E3FC;\n",
              "    }\n",
              "\n",
              "    [theme=dark] .colab-df-convert:hover {\n",
              "      background-color: #434B5C;\n",
              "      box-shadow: 0px 1px 3px 1px rgba(0, 0, 0, 0.15);\n",
              "      filter: drop-shadow(0px 1px 2px rgba(0, 0, 0, 0.3));\n",
              "      fill: #FFFFFF;\n",
              "    }\n",
              "  </style>\n",
              "\n",
              "      <script>\n",
              "        const buttonEl =\n",
              "          document.querySelector('#df-29d9bfa0-0fea-4918-bb8f-c564f891da71 button.colab-df-convert');\n",
              "        buttonEl.style.display =\n",
              "          google.colab.kernel.accessAllowed ? 'block' : 'none';\n",
              "\n",
              "        async function convertToInteractive(key) {\n",
              "          const element = document.querySelector('#df-29d9bfa0-0fea-4918-bb8f-c564f891da71');\n",
              "          const dataTable =\n",
              "            await google.colab.kernel.invokeFunction('convertToInteractive',\n",
              "                                                     [key], {});\n",
              "          if (!dataTable) return;\n",
              "\n",
              "          const docLinkHtml = 'Like what you see? Visit the ' +\n",
              "            '<a target=\"_blank\" href=https://colab.research.google.com/notebooks/data_table.ipynb>data table notebook</a>'\n",
              "            + ' to learn more about interactive tables.';\n",
              "          element.innerHTML = '';\n",
              "          dataTable['output_type'] = 'display_data';\n",
              "          await google.colab.output.renderOutput(dataTable, element);\n",
              "          const docLink = document.createElement('div');\n",
              "          docLink.innerHTML = docLinkHtml;\n",
              "          element.appendChild(docLink);\n",
              "        }\n",
              "      </script>\n",
              "    </div>\n",
              "  </div>\n",
              "  "
            ]
          },
          "metadata": {},
          "execution_count": 35
        }
      ]
    },
    {
      "cell_type": "code",
      "source": [
        "housing_tr.info()"
      ],
      "metadata": {
        "colab": {
          "base_uri": "https://localhost:8080/"
        },
        "id": "zALnv4vaUxFt",
        "outputId": "b112c35e-200e-4e78-d7a7-c20db6a7f6d5"
      },
      "execution_count": null,
      "outputs": [
        {
          "output_type": "stream",
          "name": "stdout",
          "text": [
            "<class 'pandas.core.frame.DataFrame'>\n",
            "Int64Index: 16512 entries, 12655 to 19773\n",
            "Data columns (total 8 columns):\n",
            " #   Column              Non-Null Count  Dtype  \n",
            "---  ------              --------------  -----  \n",
            " 0   longitude           16512 non-null  float64\n",
            " 1   latitude            16512 non-null  float64\n",
            " 2   housing_median_age  16512 non-null  float64\n",
            " 3   total_rooms         16512 non-null  float64\n",
            " 4   total_bedrooms      16512 non-null  float64\n",
            " 5   population          16512 non-null  float64\n",
            " 6   households          16512 non-null  float64\n",
            " 7   median_income       16512 non-null  float64\n",
            "dtypes: float64(8)\n",
            "memory usage: 1.1 MB\n"
          ]
        }
      ]
    },
    {
      "cell_type": "code",
      "source": [
        "# housing_num의 누락값을 채우기 위해서 Imputer에 housing_num을 집어 넣고, housing_num을 변환시킴\n",
        "# fit -> housing_num, transform -> housing_num\n",
        "# imputer.fit(housing_num).transform(housing_num)\n",
        "# imputer.fit_transform(housing_num)"
      ],
      "metadata": {
        "id": "NFLJzKifU1aP"
      },
      "execution_count": null,
      "outputs": []
    },
    {
      "cell_type": "markdown",
      "source": [
        "# 텍스트와 범주형(categorical) 특성 다루기 ★★★★★★★★★★★★★★★"
      ],
      "metadata": {
        "id": "JsferXrTVfPS"
      }
    },
    {
      "cell_type": "code",
      "source": [
        "housing_cat = housing[[\"ocean_proximity\"]]\n",
        "housing_cat[\"ocean_proximity\"].unique()"
      ],
      "metadata": {
        "colab": {
          "base_uri": "https://localhost:8080/"
        },
        "id": "tJ6Y3E3SZhqk",
        "outputId": "687c85f9-3543-474c-89be-3a87ed8ff424"
      },
      "execution_count": null,
      "outputs": [
        {
          "output_type": "execute_result",
          "data": {
            "text/plain": [
              "array(['INLAND', 'NEAR OCEAN', '<1H OCEAN', 'NEAR BAY', 'ISLAND'],\n",
              "      dtype=object)"
            ]
          },
          "metadata": {},
          "execution_count": 38
        }
      ]
    },
    {
      "cell_type": "markdown",
      "source": [
        "머신러닝에 들어가는 데이터는 반드시 수치형( 정수 or 실수 ) 데이터만 들어가요\n",
        "\n",
        "* <1H OCEAN --> 0\n",
        "* INLAND --> 1\n",
        "* ISLAND --> 2\n",
        "* NEAR BAY --> 3\n",
        "* NEAR OCEAN --> 4"
      ],
      "metadata": {
        "id": "0Dyz0jpRZwMP"
      }
    },
    {
      "cell_type": "code",
      "source": [
        "from sklearn.preprocessing import OrdinalEncoder\n",
        "\n",
        "ordinal_encoder = OrdinalEncoder()\n",
        "\n",
        "housing_cat_encoded = ordinal_encoder.fit_transform(housing_cat.values)\n",
        "\n",
        "print(housing_cat.values)\n",
        "print(housing_cat_encoded)"
      ],
      "metadata": {
        "colab": {
          "base_uri": "https://localhost:8080/"
        },
        "id": "RHuzDLy8aYRc",
        "outputId": "add56662-ba43-4640-f892-d20bc768fb98"
      },
      "execution_count": null,
      "outputs": [
        {
          "output_type": "stream",
          "name": "stdout",
          "text": [
            "[['INLAND']\n",
            " ['NEAR OCEAN']\n",
            " ['INLAND']\n",
            " ...\n",
            " ['<1H OCEAN']\n",
            " ['<1H OCEAN']\n",
            " ['INLAND']]\n",
            "[[1.]\n",
            " [4.]\n",
            " [1.]\n",
            " ...\n",
            " [0.]\n",
            " [0.]\n",
            " [1.]]\n"
          ]
        }
      ]
    },
    {
      "cell_type": "code",
      "source": [
        "ordinal_encoder.categories_"
      ],
      "metadata": {
        "colab": {
          "base_uri": "https://localhost:8080/"
        },
        "id": "ml92CWoCa85g",
        "outputId": "c9653214-4866-428b-aae6-e1c3a26b4c14"
      },
      "execution_count": null,
      "outputs": [
        {
          "output_type": "execute_result",
          "data": {
            "text/plain": [
              "[array(['<1H OCEAN', 'INLAND', 'ISLAND', 'NEAR BAY', 'NEAR OCEAN'],\n",
              "       dtype=object)]"
            ]
          },
          "metadata": {},
          "execution_count": 40
        }
      ]
    },
    {
      "cell_type": "markdown",
      "source": [
        "위 처럼 인코딩을 했을 때 머신러닝 알고리즘은 이렇게 생각한다.\n",
        "- 0번과 1번은 비슷한 데이터다.\n",
        "- 0번과 4번은 매우 다른 데이터다.\n",
        "- `INLAND` + `INLAND` = `ISLAND`"
      ],
      "metadata": {
        "id": "CuKTeP2Ab7Ow"
      }
    },
    {
      "cell_type": "markdown",
      "source": [
        "축구, 야구, 농구\n",
        "- 축구를 표현 : `축구 1, 야구 0, 농구 0`\n",
        "- 농구를 표현 : `축구 0, 야구 0, 농구 1`\n",
        "\n",
        "\n",
        "\n",
        "<table>\n",
        "  <tr>\n",
        "    <th>축구</th>\n",
        "    <th>야구</th>\n",
        "    <th>농구</th>\n",
        "  </tr>\n",
        "  <tr>\n",
        "    <td>0</td>\n",
        "    <td>1</td>\n",
        "    <td>0</td>\n",
        "  </tr>\n",
        "  <tr>\n",
        "    <td>0</td>\n",
        "    <td>0</td>\n",
        "    <td>1</td>\n",
        "  </tr>\n",
        "  <tr>\n",
        "    <td>1</td>\n",
        "    <td>0</td>\n",
        "    <td>0</td>\n",
        "  </tr>\n",
        "  <tr>\n",
        "    <td>0</td>\n",
        "    <td>1</td>\n",
        "    <td>0</td>\n",
        "  </tr>\n",
        "</table>\n",
        "\n",
        "- 카테고리를 각각 표현하기 위한 특성이 추가되어야 한다. - **더미(DUMMY) 특성**\n",
        "- 위의 표와 같이 여러 범주 중 하나만 표현하고(강조) 나머지는 강조하지 않는 인코딩 방식 : **One Hot Encoding**"
      ],
      "metadata": {
        "id": "vgWepDlncv2T"
      }
    },
    {
      "cell_type": "code",
      "source": [
        "# 사이킷런의 OneHotEncoder\n",
        "from sklearn.preprocessing import OneHotEncoder\n",
        "cat_encoder = OneHotEncoder()\n",
        "\n",
        "housing_cat_one_hot = cat_encoder.fit_transform(housing_cat)\n",
        "housing_cat_one_hot"
      ],
      "metadata": {
        "colab": {
          "base_uri": "https://localhost:8080/"
        },
        "id": "RoDpVFU1d8TR",
        "outputId": "69402760-379e-4522-840a-f36b74b7c79b"
      },
      "execution_count": null,
      "outputs": [
        {
          "output_type": "execute_result",
          "data": {
            "text/plain": [
              "<16512x5 sparse matrix of type '<class 'numpy.float64'>'\n",
              "\twith 16512 stored elements in Compressed Sparse Row format>"
            ]
          },
          "metadata": {},
          "execution_count": 41
        }
      ]
    },
    {
      "cell_type": "code",
      "source": [
        "# toarray() 함수를 이용해서 2차원 매트릭스 형태로 확인 가능\n",
        "housing_cat_one_hot.toarray()"
      ],
      "metadata": {
        "colab": {
          "base_uri": "https://localhost:8080/"
        },
        "id": "hVLgz8J-e-p0",
        "outputId": "a15baf0b-050a-4876-c0e1-db87207206eb"
      },
      "execution_count": null,
      "outputs": [
        {
          "output_type": "execute_result",
          "data": {
            "text/plain": [
              "array([[0., 1., 0., 0., 0.],\n",
              "       [0., 0., 0., 0., 1.],\n",
              "       [0., 1., 0., 0., 0.],\n",
              "       ...,\n",
              "       [1., 0., 0., 0., 0.],\n",
              "       [1., 0., 0., 0., 0.],\n",
              "       [0., 1., 0., 0., 0.]])"
            ]
          },
          "metadata": {},
          "execution_count": 42
        }
      ]
    },
    {
      "cell_type": "code",
      "source": [
        "cat_encoder.categories_"
      ],
      "metadata": {
        "id": "bl5Iui9fghv-",
        "colab": {
          "base_uri": "https://localhost:8080/"
        },
        "outputId": "8e6455ee-12e2-4de4-ea39-6c0e0099e0ca"
      },
      "execution_count": null,
      "outputs": [
        {
          "output_type": "execute_result",
          "data": {
            "text/plain": [
              "[array(['<1H OCEAN', 'INLAND', 'ISLAND', 'NEAR BAY', 'NEAR OCEAN'],\n",
              "       dtype=object)]"
            ]
          },
          "metadata": {},
          "execution_count": 43
        }
      ]
    },
    {
      "cell_type": "code",
      "source": [
        "housing_cat_one_hot_df = pd.DataFrame(\n",
        "    housing_cat_one_hot.toarray(),\n",
        "    columns = cat_encoder.categories_,\n",
        "    index = housing_cat.index\n",
        ")\n",
        "\n",
        "housing_cat_one_hot_df.head()"
      ],
      "metadata": {
        "colab": {
          "base_uri": "https://localhost:8080/",
          "height": 206
        },
        "id": "rOegIJCGjgX8",
        "outputId": "e9e413be-920c-466e-e194-4217cba6a18e"
      },
      "execution_count": null,
      "outputs": [
        {
          "output_type": "execute_result",
          "data": {
            "text/plain": [
              "      <1H OCEAN INLAND ISLAND NEAR BAY NEAR OCEAN\n",
              "12655       0.0    1.0    0.0      0.0        0.0\n",
              "15502       0.0    0.0    0.0      0.0        1.0\n",
              "2908        0.0    1.0    0.0      0.0        0.0\n",
              "14053       0.0    0.0    0.0      0.0        1.0\n",
              "20496       1.0    0.0    0.0      0.0        0.0"
            ],
            "text/html": [
              "\n",
              "  <div id=\"df-796db7cc-dd5b-47d7-9d17-1b2109f33475\">\n",
              "    <div class=\"colab-df-container\">\n",
              "      <div>\n",
              "<style scoped>\n",
              "    .dataframe tbody tr th:only-of-type {\n",
              "        vertical-align: middle;\n",
              "    }\n",
              "\n",
              "    .dataframe tbody tr th {\n",
              "        vertical-align: top;\n",
              "    }\n",
              "\n",
              "    .dataframe thead tr th {\n",
              "        text-align: left;\n",
              "    }\n",
              "</style>\n",
              "<table border=\"1\" class=\"dataframe\">\n",
              "  <thead>\n",
              "    <tr>\n",
              "      <th></th>\n",
              "      <th>&lt;1H OCEAN</th>\n",
              "      <th>INLAND</th>\n",
              "      <th>ISLAND</th>\n",
              "      <th>NEAR BAY</th>\n",
              "      <th>NEAR OCEAN</th>\n",
              "    </tr>\n",
              "  </thead>\n",
              "  <tbody>\n",
              "    <tr>\n",
              "      <th>12655</th>\n",
              "      <td>0.0</td>\n",
              "      <td>1.0</td>\n",
              "      <td>0.0</td>\n",
              "      <td>0.0</td>\n",
              "      <td>0.0</td>\n",
              "    </tr>\n",
              "    <tr>\n",
              "      <th>15502</th>\n",
              "      <td>0.0</td>\n",
              "      <td>0.0</td>\n",
              "      <td>0.0</td>\n",
              "      <td>0.0</td>\n",
              "      <td>1.0</td>\n",
              "    </tr>\n",
              "    <tr>\n",
              "      <th>2908</th>\n",
              "      <td>0.0</td>\n",
              "      <td>1.0</td>\n",
              "      <td>0.0</td>\n",
              "      <td>0.0</td>\n",
              "      <td>0.0</td>\n",
              "    </tr>\n",
              "    <tr>\n",
              "      <th>14053</th>\n",
              "      <td>0.0</td>\n",
              "      <td>0.0</td>\n",
              "      <td>0.0</td>\n",
              "      <td>0.0</td>\n",
              "      <td>1.0</td>\n",
              "    </tr>\n",
              "    <tr>\n",
              "      <th>20496</th>\n",
              "      <td>1.0</td>\n",
              "      <td>0.0</td>\n",
              "      <td>0.0</td>\n",
              "      <td>0.0</td>\n",
              "      <td>0.0</td>\n",
              "    </tr>\n",
              "  </tbody>\n",
              "</table>\n",
              "</div>\n",
              "      <button class=\"colab-df-convert\" onclick=\"convertToInteractive('df-796db7cc-dd5b-47d7-9d17-1b2109f33475')\"\n",
              "              title=\"Convert this dataframe to an interactive table.\"\n",
              "              style=\"display:none;\">\n",
              "        \n",
              "  <svg xmlns=\"http://www.w3.org/2000/svg\" height=\"24px\"viewBox=\"0 0 24 24\"\n",
              "       width=\"24px\">\n",
              "    <path d=\"M0 0h24v24H0V0z\" fill=\"none\"/>\n",
              "    <path d=\"M18.56 5.44l.94 2.06.94-2.06 2.06-.94-2.06-.94-.94-2.06-.94 2.06-2.06.94zm-11 1L8.5 8.5l.94-2.06 2.06-.94-2.06-.94L8.5 2.5l-.94 2.06-2.06.94zm10 10l.94 2.06.94-2.06 2.06-.94-2.06-.94-.94-2.06-.94 2.06-2.06.94z\"/><path d=\"M17.41 7.96l-1.37-1.37c-.4-.4-.92-.59-1.43-.59-.52 0-1.04.2-1.43.59L10.3 9.45l-7.72 7.72c-.78.78-.78 2.05 0 2.83L4 21.41c.39.39.9.59 1.41.59.51 0 1.02-.2 1.41-.59l7.78-7.78 2.81-2.81c.8-.78.8-2.07 0-2.86zM5.41 20L4 18.59l7.72-7.72 1.47 1.35L5.41 20z\"/>\n",
              "  </svg>\n",
              "      </button>\n",
              "      \n",
              "  <style>\n",
              "    .colab-df-container {\n",
              "      display:flex;\n",
              "      flex-wrap:wrap;\n",
              "      gap: 12px;\n",
              "    }\n",
              "\n",
              "    .colab-df-convert {\n",
              "      background-color: #E8F0FE;\n",
              "      border: none;\n",
              "      border-radius: 50%;\n",
              "      cursor: pointer;\n",
              "      display: none;\n",
              "      fill: #1967D2;\n",
              "      height: 32px;\n",
              "      padding: 0 0 0 0;\n",
              "      width: 32px;\n",
              "    }\n",
              "\n",
              "    .colab-df-convert:hover {\n",
              "      background-color: #E2EBFA;\n",
              "      box-shadow: 0px 1px 2px rgba(60, 64, 67, 0.3), 0px 1px 3px 1px rgba(60, 64, 67, 0.15);\n",
              "      fill: #174EA6;\n",
              "    }\n",
              "\n",
              "    [theme=dark] .colab-df-convert {\n",
              "      background-color: #3B4455;\n",
              "      fill: #D2E3FC;\n",
              "    }\n",
              "\n",
              "    [theme=dark] .colab-df-convert:hover {\n",
              "      background-color: #434B5C;\n",
              "      box-shadow: 0px 1px 3px 1px rgba(0, 0, 0, 0.15);\n",
              "      filter: drop-shadow(0px 1px 2px rgba(0, 0, 0, 0.3));\n",
              "      fill: #FFFFFF;\n",
              "    }\n",
              "  </style>\n",
              "\n",
              "      <script>\n",
              "        const buttonEl =\n",
              "          document.querySelector('#df-796db7cc-dd5b-47d7-9d17-1b2109f33475 button.colab-df-convert');\n",
              "        buttonEl.style.display =\n",
              "          google.colab.kernel.accessAllowed ? 'block' : 'none';\n",
              "\n",
              "        async function convertToInteractive(key) {\n",
              "          const element = document.querySelector('#df-796db7cc-dd5b-47d7-9d17-1b2109f33475');\n",
              "          const dataTable =\n",
              "            await google.colab.kernel.invokeFunction('convertToInteractive',\n",
              "                                                     [key], {});\n",
              "          if (!dataTable) return;\n",
              "\n",
              "          const docLinkHtml = 'Like what you see? Visit the ' +\n",
              "            '<a target=\"_blank\" href=https://colab.research.google.com/notebooks/data_table.ipynb>data table notebook</a>'\n",
              "            + ' to learn more about interactive tables.';\n",
              "          element.innerHTML = '';\n",
              "          dataTable['output_type'] = 'display_data';\n",
              "          await google.colab.output.renderOutput(dataTable, element);\n",
              "          const docLink = document.createElement('div');\n",
              "          docLink.innerHTML = docLinkHtml;\n",
              "          element.appendChild(docLink);\n",
              "        }\n",
              "      </script>\n",
              "    </div>\n",
              "  </div>\n",
              "  "
            ]
          },
          "metadata": {},
          "execution_count": 44
        }
      ]
    },
    {
      "cell_type": "markdown",
      "source": [
        "# 변환기( Transformer ) 사용자 정의\n",
        "- 비즈니스를 위한 변환\n",
        "- 사이킷런과 연동되는 사용자 정의 변환기"
      ],
      "metadata": {
        "id": "exkivHJaj1N3"
      }
    },
    {
      "cell_type": "markdown",
      "source": [
        "## Scikit-Learn 등록을 위한 과정\n",
        "- `BaseEstimator` 클래스 상속\n",
        "  - 추후에 만들 파이프라인에 클래스가 등록이 가능하게 됩니다.\n",
        "- 사이킷런의 `TransformerMixin` 클래스 상속\n",
        "  - `fit_transform()` 자동으로 구현\n",
        "\n",
        "`fit()`, `transform()` 메소드 구현은????"
      ],
      "metadata": {
        "id": "seSEnPc1k3yP"
      }
    },
    {
      "cell_type": "markdown",
      "source": [
        "### Duck Typing 문법\n",
        "- 메소드 구현에 의해서 클래스의 정체성이 결정되는 것\n",
        "  - `fit()`, `transform()` 메소드를 개발자가 정의를 하면 `Transformer` 클래스로 인식하게 할 예정"
      ],
      "metadata": {
        "id": "YE2r2FjqlZvL"
      }
    },
    {
      "cell_type": "code",
      "source": [
        "class A:\n",
        "  def foo(self):\n",
        "    print(\"Here is A\")\n",
        "\n",
        "class B:\n",
        "  def foo(self):\n",
        "    print(\"Here is B\")\n",
        "\n",
        "class C:\n",
        "  def goo(self):\n",
        "    print(\"Here is C\")\n",
        "\n",
        "def who_are_you(who):\n",
        "  who.foo()"
      ],
      "metadata": {
        "id": "WGicfbItmQ47"
      },
      "execution_count": null,
      "outputs": []
    },
    {
      "cell_type": "code",
      "source": [
        "# a, b, c는 서로 다른 클래스로 만들어진 다른 객체\n",
        "# 새끼 오리\n",
        "a = A()\n",
        "b = B()\n",
        "c = C()\n",
        "\n",
        "# who_are_you : 엄마 오리\n",
        "who_are_you(a)\n",
        "who_are_you(b)\n",
        "who_are_you(c)"
      ],
      "metadata": {
        "colab": {
          "base_uri": "https://localhost:8080/",
          "height": 332
        },
        "id": "aKu1Go_HnNMO",
        "outputId": "095a1722-e1f9-467f-d7ba-70f5d7ba62b8"
      },
      "execution_count": null,
      "outputs": [
        {
          "output_type": "stream",
          "name": "stdout",
          "text": [
            "Here is A\n",
            "Here is B\n"
          ]
        },
        {
          "output_type": "error",
          "ename": "AttributeError",
          "evalue": "ignored",
          "traceback": [
            "\u001b[0;31m---------------------------------------------------------------------------\u001b[0m",
            "\u001b[0;31mAttributeError\u001b[0m                            Traceback (most recent call last)",
            "\u001b[0;32m<ipython-input-46-7ef3677ca132>\u001b[0m in \u001b[0;36m<module>\u001b[0;34m()\u001b[0m\n\u001b[1;32m      8\u001b[0m \u001b[0mwho_are_you\u001b[0m\u001b[0;34m(\u001b[0m\u001b[0ma\u001b[0m\u001b[0;34m)\u001b[0m\u001b[0;34m\u001b[0m\u001b[0;34m\u001b[0m\u001b[0m\n\u001b[1;32m      9\u001b[0m \u001b[0mwho_are_you\u001b[0m\u001b[0;34m(\u001b[0m\u001b[0mb\u001b[0m\u001b[0;34m)\u001b[0m\u001b[0;34m\u001b[0m\u001b[0;34m\u001b[0m\u001b[0m\n\u001b[0;32m---> 10\u001b[0;31m \u001b[0mwho_are_you\u001b[0m\u001b[0;34m(\u001b[0m\u001b[0mc\u001b[0m\u001b[0;34m)\u001b[0m\u001b[0;34m\u001b[0m\u001b[0;34m\u001b[0m\u001b[0m\n\u001b[0m",
            "\u001b[0;32m<ipython-input-45-408ef5173d76>\u001b[0m in \u001b[0;36mwho_are_you\u001b[0;34m(who)\u001b[0m\n\u001b[1;32m     12\u001b[0m \u001b[0;34m\u001b[0m\u001b[0m\n\u001b[1;32m     13\u001b[0m \u001b[0;32mdef\u001b[0m \u001b[0mwho_are_you\u001b[0m\u001b[0;34m(\u001b[0m\u001b[0mwho\u001b[0m\u001b[0;34m)\u001b[0m\u001b[0;34m:\u001b[0m\u001b[0;34m\u001b[0m\u001b[0;34m\u001b[0m\u001b[0m\n\u001b[0;32m---> 14\u001b[0;31m   \u001b[0mwho\u001b[0m\u001b[0;34m.\u001b[0m\u001b[0mfoo\u001b[0m\u001b[0;34m(\u001b[0m\u001b[0;34m)\u001b[0m\u001b[0;34m\u001b[0m\u001b[0;34m\u001b[0m\u001b[0m\n\u001b[0m",
            "\u001b[0;31mAttributeError\u001b[0m: 'C' object has no attribute 'foo'"
          ]
        }
      ]
    },
    {
      "cell_type": "markdown",
      "source": [
        "# 변환기(Transformer) 만들기\n"
      ],
      "metadata": {
        "id": "fwtpOGuQnrhC"
      }
    },
    {
      "cell_type": "code",
      "source": [
        "housing.columns"
      ],
      "metadata": {
        "colab": {
          "base_uri": "https://localhost:8080/"
        },
        "id": "R4kH8x3qpP2c",
        "outputId": "34b0266e-81ac-4d64-ac35-45436025a2a8"
      },
      "execution_count": null,
      "outputs": [
        {
          "output_type": "execute_result",
          "data": {
            "text/plain": [
              "Index(['longitude', 'latitude', 'housing_median_age', 'total_rooms',\n",
              "       'total_bedrooms', 'population', 'households', 'median_income',\n",
              "       'ocean_proximity'],\n",
              "      dtype='object')"
            ]
          },
          "metadata": {},
          "execution_count": 47
        }
      ]
    },
    {
      "cell_type": "code",
      "source": [
        "from sklearn.base import BaseEstimator, TransformerMixin\n",
        "\n",
        "class CombinedAttributesAdder(BaseEstimator, TransformerMixin): # 1. BaseEstimator, TransformerMixin 클래스 상속\n",
        "  rooms_ix = 3\n",
        "  bedrooms_ix = 4\n",
        "  population_ix = 5\n",
        "  households_ix = 6\n",
        "\n",
        "  # 2. population_per_households 특성 조합을 해봤는데, 딱히 효과가 없는 것 같음\n",
        "  # 선택에 따라서 (boolean) 추가 할 때 / 추가 하고 싶지 않을 때에 대한 설정을 할 것\n",
        "  def __init__(self, add_population_per_households=True):\n",
        "    self.add_population_per_households = add_population_per_households\n",
        "\n",
        "  # 3. fit 구현\n",
        "  # fit은 아무일도 하지 않아도 형식만은 지켜야 duck typing 문법이 적용된다.\n",
        "  #   - transform에서 필요한 데이터를 준비 시키는 역할\n",
        "  def fit(self, X):\n",
        "    return self # fit_transform() -> fit().transform()\n",
        "\n",
        "  # 4. transform 구현\n",
        "  # 실제 데이터 변환을 구현\n",
        "  def transform(self, X):\n",
        "    rooms_per_households = X[:, self.rooms_ix] / X[:, self.households_ix]\n",
        "    bedrooms_per_rooms   = X[:, self.bedrooms_ix] / X[:, self.rooms_ix]\n",
        "\n",
        "    if self.add_population_per_households:\n",
        "      population_per_households = X[:, self.population_ix] / X[:, self.households_ix]\n",
        "      return np.c_[X, rooms_per_households, bedrooms_per_rooms, population_per_households]\n",
        "\n",
        "    else:\n",
        "      return np.c_[X, rooms_per_households, bedrooms_per_rooms]"
      ],
      "metadata": {
        "id": "w71jZv7MoIMZ"
      },
      "execution_count": null,
      "outputs": []
    },
    {
      "cell_type": "code",
      "source": [
        "attr_adder = CombinedAttributesAdder(\n",
        "    True\n",
        ")\n",
        "\n",
        "housing_extra_attribs = attr_adder.transform(housing.values)\n",
        "housing_extra_attribs[:3]"
      ],
      "metadata": {
        "colab": {
          "base_uri": "https://localhost:8080/"
        },
        "id": "hEVNan2Byw2g",
        "outputId": "92d170c7-943c-4b81-c888-2e632cde319d"
      },
      "execution_count": null,
      "outputs": [
        {
          "output_type": "execute_result",
          "data": {
            "text/plain": [
              "array([[-121.46, 38.52, 29.0, 3873.0, 797.0, 2237.0, 706.0, 2.1736,\n",
              "        'INLAND', 5.485835694050992, 0.20578363026077975,\n",
              "        3.168555240793201],\n",
              "       [-117.23, 33.09, 7.0, 5320.0, 855.0, 2015.0, 768.0, 6.3373,\n",
              "        'NEAR OCEAN', 6.927083333333333, 0.16071428571428573,\n",
              "        2.6236979166666665],\n",
              "       [-119.04, 35.37, 44.0, 1618.0, 310.0, 667.0, 300.0, 2.875,\n",
              "        'INLAND', 5.3933333333333335, 0.1915945611866502,\n",
              "        2.223333333333333]], dtype=object)"
            ]
          },
          "metadata": {},
          "execution_count": 49
        }
      ]
    },
    {
      "cell_type": "code",
      "source": [
        "housing.values"
      ],
      "metadata": {
        "colab": {
          "base_uri": "https://localhost:8080/"
        },
        "id": "i4ixY4qkzEHT",
        "outputId": "1f6e8a79-fd9b-47a7-9ae6-207246a42d96"
      },
      "execution_count": null,
      "outputs": [
        {
          "output_type": "execute_result",
          "data": {
            "text/plain": [
              "array([[-121.46, 38.52, 29.0, ..., 706.0, 2.1736, 'INLAND'],\n",
              "       [-117.23, 33.09, 7.0, ..., 768.0, 6.3373, 'NEAR OCEAN'],\n",
              "       [-119.04, 35.37, 44.0, ..., 300.0, 2.875, 'INLAND'],\n",
              "       ...,\n",
              "       [-122.72, 38.44, 48.0, ..., 172.0, 3.1797, '<1H OCEAN'],\n",
              "       [-122.7, 38.31, 14.0, ..., 501.0, 4.1964, '<1H OCEAN'],\n",
              "       [-122.14, 39.97, 27.0, ..., 197.0, 3.1319, 'INLAND']], dtype=object)"
            ]
          },
          "metadata": {},
          "execution_count": 50
        }
      ]
    },
    {
      "cell_type": "markdown",
      "source": [
        "# 특성 스케일링\n",
        "- `Min-Max` 스케일링\n",
        "  - 데이터의 단위를 `0 ~ 1` 사이로 맞춘다.\n",
        "  - 최소값을 0, 최댓값을 1로 놓고 그 사이의 같은 비율로 맞춰준다.\n",
        "  - 정규화 ( Normalization )\n",
        "- `Standard` 스케일링\n",
        "  - 평균값을 모든 데이터에서 빼주고 표준편차로 나눠준다.\n",
        "  - 평균이 0이되고, 분산이 1로 된다.\n",
        "  - 데이터를 골고루 펼쳐주는 역할을 해준다.\n",
        "    - Outlier 처리에 강건\n",
        "  - 표준화 ( Generalization )\n"
      ],
      "metadata": {
        "id": "-vstETZ7z_AC"
      }
    },
    {
      "cell_type": "markdown",
      "source": [
        "# 파이프라인 만들기\n",
        "- 데이터를 변환하는 과정은 매우 많고, 항상 **정확한 순서**대로 수행되어야 한다.\n",
        "- 사이킷런의 Pipeline 클래스는 전처리 및 모델의 예측 순서를 항상 순차적으로 수행할 수 있도록 도와준다.\n",
        "\n",
        "-----\n",
        "\n",
        "1. 누락값 채우기(`SimpleImputer`)\n",
        "2. 추가특성 생성(`CombinedAttributesAdder`)\n",
        "3. 스케일 조정(`StandardScaler`)"
      ],
      "metadata": {
        "id": "8UqamV6q03-Y"
      }
    },
    {
      "cell_type": "code",
      "source": [
        "from sklearn.pipeline import Pipeline\n",
        "from sklearn.preprocessing import StandardScaler\n",
        "\n",
        "# 수치형(Numeric) 데이터를 처리할 파이프라인 생성\n",
        "num_pipeline = Pipeline([\n",
        "  (\"imputer\", SimpleImputer(strategy='median')),\n",
        "  (\"add_attr\", CombinedAttributesAdder()),\n",
        "  (\"std_scaler\", StandardScaler())\n",
        "])\n",
        "\n",
        "num_pipeline"
      ],
      "metadata": {
        "colab": {
          "base_uri": "https://localhost:8080/"
        },
        "id": "H8kBoTTb5w0b",
        "outputId": "3ae2e409-3216-4545-a536-a21994dcfcf5"
      },
      "execution_count": null,
      "outputs": [
        {
          "output_type": "execute_result",
          "data": {
            "text/plain": [
              "Pipeline(steps=[('imputer', SimpleImputer(strategy='median')),\n",
              "                ('add_attr', CombinedAttributesAdder()),\n",
              "                ('std_scaler', StandardScaler())])"
            ]
          },
          "metadata": {},
          "execution_count": 51
        }
      ]
    },
    {
      "cell_type": "code",
      "source": [
        "housing_num.head()"
      ],
      "metadata": {
        "colab": {
          "base_uri": "https://localhost:8080/",
          "height": 206
        },
        "id": "Z6OlzxHJ8iiw",
        "outputId": "c7d54b4a-1b3d-4bc5-b7bb-a449c397b8c0"
      },
      "execution_count": null,
      "outputs": [
        {
          "output_type": "execute_result",
          "data": {
            "text/plain": [
              "       longitude  latitude  housing_median_age  total_rooms  total_bedrooms  \\\n",
              "12655    -121.46     38.52                29.0       3873.0           797.0   \n",
              "15502    -117.23     33.09                 7.0       5320.0           855.0   \n",
              "2908     -119.04     35.37                44.0       1618.0           310.0   \n",
              "14053    -117.13     32.75                24.0       1877.0           519.0   \n",
              "20496    -118.70     34.28                27.0       3536.0           646.0   \n",
              "\n",
              "       population  households  median_income  \n",
              "12655      2237.0       706.0         2.1736  \n",
              "15502      2015.0       768.0         6.3373  \n",
              "2908        667.0       300.0         2.8750  \n",
              "14053       898.0       483.0         2.2264  \n",
              "20496      1837.0       580.0         4.4964  "
            ],
            "text/html": [
              "\n",
              "  <div id=\"df-88f18271-c8e7-499f-a71b-f4a2d649a5b9\">\n",
              "    <div class=\"colab-df-container\">\n",
              "      <div>\n",
              "<style scoped>\n",
              "    .dataframe tbody tr th:only-of-type {\n",
              "        vertical-align: middle;\n",
              "    }\n",
              "\n",
              "    .dataframe tbody tr th {\n",
              "        vertical-align: top;\n",
              "    }\n",
              "\n",
              "    .dataframe thead th {\n",
              "        text-align: right;\n",
              "    }\n",
              "</style>\n",
              "<table border=\"1\" class=\"dataframe\">\n",
              "  <thead>\n",
              "    <tr style=\"text-align: right;\">\n",
              "      <th></th>\n",
              "      <th>longitude</th>\n",
              "      <th>latitude</th>\n",
              "      <th>housing_median_age</th>\n",
              "      <th>total_rooms</th>\n",
              "      <th>total_bedrooms</th>\n",
              "      <th>population</th>\n",
              "      <th>households</th>\n",
              "      <th>median_income</th>\n",
              "    </tr>\n",
              "  </thead>\n",
              "  <tbody>\n",
              "    <tr>\n",
              "      <th>12655</th>\n",
              "      <td>-121.46</td>\n",
              "      <td>38.52</td>\n",
              "      <td>29.0</td>\n",
              "      <td>3873.0</td>\n",
              "      <td>797.0</td>\n",
              "      <td>2237.0</td>\n",
              "      <td>706.0</td>\n",
              "      <td>2.1736</td>\n",
              "    </tr>\n",
              "    <tr>\n",
              "      <th>15502</th>\n",
              "      <td>-117.23</td>\n",
              "      <td>33.09</td>\n",
              "      <td>7.0</td>\n",
              "      <td>5320.0</td>\n",
              "      <td>855.0</td>\n",
              "      <td>2015.0</td>\n",
              "      <td>768.0</td>\n",
              "      <td>6.3373</td>\n",
              "    </tr>\n",
              "    <tr>\n",
              "      <th>2908</th>\n",
              "      <td>-119.04</td>\n",
              "      <td>35.37</td>\n",
              "      <td>44.0</td>\n",
              "      <td>1618.0</td>\n",
              "      <td>310.0</td>\n",
              "      <td>667.0</td>\n",
              "      <td>300.0</td>\n",
              "      <td>2.8750</td>\n",
              "    </tr>\n",
              "    <tr>\n",
              "      <th>14053</th>\n",
              "      <td>-117.13</td>\n",
              "      <td>32.75</td>\n",
              "      <td>24.0</td>\n",
              "      <td>1877.0</td>\n",
              "      <td>519.0</td>\n",
              "      <td>898.0</td>\n",
              "      <td>483.0</td>\n",
              "      <td>2.2264</td>\n",
              "    </tr>\n",
              "    <tr>\n",
              "      <th>20496</th>\n",
              "      <td>-118.70</td>\n",
              "      <td>34.28</td>\n",
              "      <td>27.0</td>\n",
              "      <td>3536.0</td>\n",
              "      <td>646.0</td>\n",
              "      <td>1837.0</td>\n",
              "      <td>580.0</td>\n",
              "      <td>4.4964</td>\n",
              "    </tr>\n",
              "  </tbody>\n",
              "</table>\n",
              "</div>\n",
              "      <button class=\"colab-df-convert\" onclick=\"convertToInteractive('df-88f18271-c8e7-499f-a71b-f4a2d649a5b9')\"\n",
              "              title=\"Convert this dataframe to an interactive table.\"\n",
              "              style=\"display:none;\">\n",
              "        \n",
              "  <svg xmlns=\"http://www.w3.org/2000/svg\" height=\"24px\"viewBox=\"0 0 24 24\"\n",
              "       width=\"24px\">\n",
              "    <path d=\"M0 0h24v24H0V0z\" fill=\"none\"/>\n",
              "    <path d=\"M18.56 5.44l.94 2.06.94-2.06 2.06-.94-2.06-.94-.94-2.06-.94 2.06-2.06.94zm-11 1L8.5 8.5l.94-2.06 2.06-.94-2.06-.94L8.5 2.5l-.94 2.06-2.06.94zm10 10l.94 2.06.94-2.06 2.06-.94-2.06-.94-.94-2.06-.94 2.06-2.06.94z\"/><path d=\"M17.41 7.96l-1.37-1.37c-.4-.4-.92-.59-1.43-.59-.52 0-1.04.2-1.43.59L10.3 9.45l-7.72 7.72c-.78.78-.78 2.05 0 2.83L4 21.41c.39.39.9.59 1.41.59.51 0 1.02-.2 1.41-.59l7.78-7.78 2.81-2.81c.8-.78.8-2.07 0-2.86zM5.41 20L4 18.59l7.72-7.72 1.47 1.35L5.41 20z\"/>\n",
              "  </svg>\n",
              "      </button>\n",
              "      \n",
              "  <style>\n",
              "    .colab-df-container {\n",
              "      display:flex;\n",
              "      flex-wrap:wrap;\n",
              "      gap: 12px;\n",
              "    }\n",
              "\n",
              "    .colab-df-convert {\n",
              "      background-color: #E8F0FE;\n",
              "      border: none;\n",
              "      border-radius: 50%;\n",
              "      cursor: pointer;\n",
              "      display: none;\n",
              "      fill: #1967D2;\n",
              "      height: 32px;\n",
              "      padding: 0 0 0 0;\n",
              "      width: 32px;\n",
              "    }\n",
              "\n",
              "    .colab-df-convert:hover {\n",
              "      background-color: #E2EBFA;\n",
              "      box-shadow: 0px 1px 2px rgba(60, 64, 67, 0.3), 0px 1px 3px 1px rgba(60, 64, 67, 0.15);\n",
              "      fill: #174EA6;\n",
              "    }\n",
              "\n",
              "    [theme=dark] .colab-df-convert {\n",
              "      background-color: #3B4455;\n",
              "      fill: #D2E3FC;\n",
              "    }\n",
              "\n",
              "    [theme=dark] .colab-df-convert:hover {\n",
              "      background-color: #434B5C;\n",
              "      box-shadow: 0px 1px 3px 1px rgba(0, 0, 0, 0.15);\n",
              "      filter: drop-shadow(0px 1px 2px rgba(0, 0, 0, 0.3));\n",
              "      fill: #FFFFFF;\n",
              "    }\n",
              "  </style>\n",
              "\n",
              "      <script>\n",
              "        const buttonEl =\n",
              "          document.querySelector('#df-88f18271-c8e7-499f-a71b-f4a2d649a5b9 button.colab-df-convert');\n",
              "        buttonEl.style.display =\n",
              "          google.colab.kernel.accessAllowed ? 'block' : 'none';\n",
              "\n",
              "        async function convertToInteractive(key) {\n",
              "          const element = document.querySelector('#df-88f18271-c8e7-499f-a71b-f4a2d649a5b9');\n",
              "          const dataTable =\n",
              "            await google.colab.kernel.invokeFunction('convertToInteractive',\n",
              "                                                     [key], {});\n",
              "          if (!dataTable) return;\n",
              "\n",
              "          const docLinkHtml = 'Like what you see? Visit the ' +\n",
              "            '<a target=\"_blank\" href=https://colab.research.google.com/notebooks/data_table.ipynb>data table notebook</a>'\n",
              "            + ' to learn more about interactive tables.';\n",
              "          element.innerHTML = '';\n",
              "          dataTable['output_type'] = 'display_data';\n",
              "          await google.colab.output.renderOutput(dataTable, element);\n",
              "          const docLink = document.createElement('div');\n",
              "          docLink.innerHTML = docLinkHtml;\n",
              "          element.appendChild(docLink);\n",
              "        }\n",
              "      </script>\n",
              "    </div>\n",
              "  </div>\n",
              "  "
            ]
          },
          "metadata": {},
          "execution_count": 52
        }
      ]
    },
    {
      "cell_type": "code",
      "source": [
        "housing_num_tr = num_pipeline.fit_transform(housing_num)\n",
        "housing_num_tr[:5]"
      ],
      "metadata": {
        "colab": {
          "base_uri": "https://localhost:8080/"
        },
        "id": "FLrjY8Ri8rof",
        "outputId": "47e378ba-d5be-4ccb-d97e-36a9a97aaf95"
      },
      "execution_count": null,
      "outputs": [
        {
          "output_type": "execute_result",
          "data": {
            "text/plain": [
              "array([[-0.94135046,  1.34743822,  0.02756357,  0.58477745,  0.64037127,\n",
              "         0.73260236,  0.55628602, -0.8936472 ,  0.01739526, -0.12112176,\n",
              "         0.00622264],\n",
              "       [ 1.17178212, -1.19243966, -1.72201763,  1.26146668,  0.78156132,\n",
              "         0.53361152,  0.72131799,  1.292168  ,  0.56925554, -0.81086696,\n",
              "        -0.04081077],\n",
              "       [ 0.26758118, -0.1259716 ,  1.22045984, -0.46977281, -0.54513828,\n",
              "        -0.67467519, -0.52440722, -0.52543365, -0.01802432, -0.33827252,\n",
              "        -0.07537122],\n",
              "       [ 1.22173797, -1.35147437, -0.37006852, -0.34865152, -0.03636724,\n",
              "        -0.46761716, -0.03729672, -0.86592882, -0.59513997,  0.96120521,\n",
              "        -0.10680295],\n",
              "       [ 0.43743108, -0.63581817, -0.13148926,  0.42717947,  0.27279028,\n",
              "         0.37406031,  0.22089846,  0.32575178,  0.2512412 , -0.47451338,\n",
              "         0.00610923]])"
            ]
          },
          "metadata": {},
          "execution_count": 53
        }
      ]
    },
    {
      "cell_type": "markdown",
      "source": [
        "파이프라인 생성 시 주의할 점\n",
        "- 마지막 단계 이전은 반드시 모두 **Transformer**여야만 한다.\n",
        "  - `fit()`, `transform()` 또는 `fit_transform()` 메소드가 반드시 있어야 한다.\n",
        "- 마지막 단계에는 `Transformer`, `Estimator` 모두 사용 가능!"
      ],
      "metadata": {
        "id": "saLpQkbS9EaB"
      }
    },
    {
      "cell_type": "code",
      "source": [
        "from sklearn.compose import ColumnTransformer # 컬럼 별로 각각 다른 변환을 적용\n",
        "\n",
        "num_feature_name = list(housing_num.columns) # 수치형 데이터의 컬럼명 리스트\n",
        "cat_feature_name = [\"ocean_proximity\"]\n",
        "\n",
        "full_pipeline = ColumnTransformer([\n",
        "  (\"num\", num_pipeline, num_feature_name),\n",
        "  (\"cat\", OneHotEncoder(), cat_feature_name)\n",
        "])\n",
        "\n",
        "housing.head()"
      ],
      "metadata": {
        "colab": {
          "base_uri": "https://localhost:8080/",
          "height": 270
        },
        "id": "TguTTpVM9jde",
        "outputId": "4c7549da-245a-47d0-e9d5-8396d9fca0b4"
      },
      "execution_count": null,
      "outputs": [
        {
          "output_type": "execute_result",
          "data": {
            "text/plain": [
              "       longitude  latitude  housing_median_age  total_rooms  total_bedrooms  \\\n",
              "12655    -121.46     38.52                29.0       3873.0           797.0   \n",
              "15502    -117.23     33.09                 7.0       5320.0           855.0   \n",
              "2908     -119.04     35.37                44.0       1618.0           310.0   \n",
              "14053    -117.13     32.75                24.0       1877.0           519.0   \n",
              "20496    -118.70     34.28                27.0       3536.0           646.0   \n",
              "\n",
              "       population  households  median_income ocean_proximity  \n",
              "12655      2237.0       706.0         2.1736          INLAND  \n",
              "15502      2015.0       768.0         6.3373      NEAR OCEAN  \n",
              "2908        667.0       300.0         2.8750          INLAND  \n",
              "14053       898.0       483.0         2.2264      NEAR OCEAN  \n",
              "20496      1837.0       580.0         4.4964       <1H OCEAN  "
            ],
            "text/html": [
              "\n",
              "  <div id=\"df-b2fe8dc0-5520-4ac6-9286-a25d7254e1e1\">\n",
              "    <div class=\"colab-df-container\">\n",
              "      <div>\n",
              "<style scoped>\n",
              "    .dataframe tbody tr th:only-of-type {\n",
              "        vertical-align: middle;\n",
              "    }\n",
              "\n",
              "    .dataframe tbody tr th {\n",
              "        vertical-align: top;\n",
              "    }\n",
              "\n",
              "    .dataframe thead th {\n",
              "        text-align: right;\n",
              "    }\n",
              "</style>\n",
              "<table border=\"1\" class=\"dataframe\">\n",
              "  <thead>\n",
              "    <tr style=\"text-align: right;\">\n",
              "      <th></th>\n",
              "      <th>longitude</th>\n",
              "      <th>latitude</th>\n",
              "      <th>housing_median_age</th>\n",
              "      <th>total_rooms</th>\n",
              "      <th>total_bedrooms</th>\n",
              "      <th>population</th>\n",
              "      <th>households</th>\n",
              "      <th>median_income</th>\n",
              "      <th>ocean_proximity</th>\n",
              "    </tr>\n",
              "  </thead>\n",
              "  <tbody>\n",
              "    <tr>\n",
              "      <th>12655</th>\n",
              "      <td>-121.46</td>\n",
              "      <td>38.52</td>\n",
              "      <td>29.0</td>\n",
              "      <td>3873.0</td>\n",
              "      <td>797.0</td>\n",
              "      <td>2237.0</td>\n",
              "      <td>706.0</td>\n",
              "      <td>2.1736</td>\n",
              "      <td>INLAND</td>\n",
              "    </tr>\n",
              "    <tr>\n",
              "      <th>15502</th>\n",
              "      <td>-117.23</td>\n",
              "      <td>33.09</td>\n",
              "      <td>7.0</td>\n",
              "      <td>5320.0</td>\n",
              "      <td>855.0</td>\n",
              "      <td>2015.0</td>\n",
              "      <td>768.0</td>\n",
              "      <td>6.3373</td>\n",
              "      <td>NEAR OCEAN</td>\n",
              "    </tr>\n",
              "    <tr>\n",
              "      <th>2908</th>\n",
              "      <td>-119.04</td>\n",
              "      <td>35.37</td>\n",
              "      <td>44.0</td>\n",
              "      <td>1618.0</td>\n",
              "      <td>310.0</td>\n",
              "      <td>667.0</td>\n",
              "      <td>300.0</td>\n",
              "      <td>2.8750</td>\n",
              "      <td>INLAND</td>\n",
              "    </tr>\n",
              "    <tr>\n",
              "      <th>14053</th>\n",
              "      <td>-117.13</td>\n",
              "      <td>32.75</td>\n",
              "      <td>24.0</td>\n",
              "      <td>1877.0</td>\n",
              "      <td>519.0</td>\n",
              "      <td>898.0</td>\n",
              "      <td>483.0</td>\n",
              "      <td>2.2264</td>\n",
              "      <td>NEAR OCEAN</td>\n",
              "    </tr>\n",
              "    <tr>\n",
              "      <th>20496</th>\n",
              "      <td>-118.70</td>\n",
              "      <td>34.28</td>\n",
              "      <td>27.0</td>\n",
              "      <td>3536.0</td>\n",
              "      <td>646.0</td>\n",
              "      <td>1837.0</td>\n",
              "      <td>580.0</td>\n",
              "      <td>4.4964</td>\n",
              "      <td>&lt;1H OCEAN</td>\n",
              "    </tr>\n",
              "  </tbody>\n",
              "</table>\n",
              "</div>\n",
              "      <button class=\"colab-df-convert\" onclick=\"convertToInteractive('df-b2fe8dc0-5520-4ac6-9286-a25d7254e1e1')\"\n",
              "              title=\"Convert this dataframe to an interactive table.\"\n",
              "              style=\"display:none;\">\n",
              "        \n",
              "  <svg xmlns=\"http://www.w3.org/2000/svg\" height=\"24px\"viewBox=\"0 0 24 24\"\n",
              "       width=\"24px\">\n",
              "    <path d=\"M0 0h24v24H0V0z\" fill=\"none\"/>\n",
              "    <path d=\"M18.56 5.44l.94 2.06.94-2.06 2.06-.94-2.06-.94-.94-2.06-.94 2.06-2.06.94zm-11 1L8.5 8.5l.94-2.06 2.06-.94-2.06-.94L8.5 2.5l-.94 2.06-2.06.94zm10 10l.94 2.06.94-2.06 2.06-.94-2.06-.94-.94-2.06-.94 2.06-2.06.94z\"/><path d=\"M17.41 7.96l-1.37-1.37c-.4-.4-.92-.59-1.43-.59-.52 0-1.04.2-1.43.59L10.3 9.45l-7.72 7.72c-.78.78-.78 2.05 0 2.83L4 21.41c.39.39.9.59 1.41.59.51 0 1.02-.2 1.41-.59l7.78-7.78 2.81-2.81c.8-.78.8-2.07 0-2.86zM5.41 20L4 18.59l7.72-7.72 1.47 1.35L5.41 20z\"/>\n",
              "  </svg>\n",
              "      </button>\n",
              "      \n",
              "  <style>\n",
              "    .colab-df-container {\n",
              "      display:flex;\n",
              "      flex-wrap:wrap;\n",
              "      gap: 12px;\n",
              "    }\n",
              "\n",
              "    .colab-df-convert {\n",
              "      background-color: #E8F0FE;\n",
              "      border: none;\n",
              "      border-radius: 50%;\n",
              "      cursor: pointer;\n",
              "      display: none;\n",
              "      fill: #1967D2;\n",
              "      height: 32px;\n",
              "      padding: 0 0 0 0;\n",
              "      width: 32px;\n",
              "    }\n",
              "\n",
              "    .colab-df-convert:hover {\n",
              "      background-color: #E2EBFA;\n",
              "      box-shadow: 0px 1px 2px rgba(60, 64, 67, 0.3), 0px 1px 3px 1px rgba(60, 64, 67, 0.15);\n",
              "      fill: #174EA6;\n",
              "    }\n",
              "\n",
              "    [theme=dark] .colab-df-convert {\n",
              "      background-color: #3B4455;\n",
              "      fill: #D2E3FC;\n",
              "    }\n",
              "\n",
              "    [theme=dark] .colab-df-convert:hover {\n",
              "      background-color: #434B5C;\n",
              "      box-shadow: 0px 1px 3px 1px rgba(0, 0, 0, 0.15);\n",
              "      filter: drop-shadow(0px 1px 2px rgba(0, 0, 0, 0.3));\n",
              "      fill: #FFFFFF;\n",
              "    }\n",
              "  </style>\n",
              "\n",
              "      <script>\n",
              "        const buttonEl =\n",
              "          document.querySelector('#df-b2fe8dc0-5520-4ac6-9286-a25d7254e1e1 button.colab-df-convert');\n",
              "        buttonEl.style.display =\n",
              "          google.colab.kernel.accessAllowed ? 'block' : 'none';\n",
              "\n",
              "        async function convertToInteractive(key) {\n",
              "          const element = document.querySelector('#df-b2fe8dc0-5520-4ac6-9286-a25d7254e1e1');\n",
              "          const dataTable =\n",
              "            await google.colab.kernel.invokeFunction('convertToInteractive',\n",
              "                                                     [key], {});\n",
              "          if (!dataTable) return;\n",
              "\n",
              "          const docLinkHtml = 'Like what you see? Visit the ' +\n",
              "            '<a target=\"_blank\" href=https://colab.research.google.com/notebooks/data_table.ipynb>data table notebook</a>'\n",
              "            + ' to learn more about interactive tables.';\n",
              "          element.innerHTML = '';\n",
              "          dataTable['output_type'] = 'display_data';\n",
              "          await google.colab.output.renderOutput(dataTable, element);\n",
              "          const docLink = document.createElement('div');\n",
              "          docLink.innerHTML = docLinkHtml;\n",
              "          element.appendChild(docLink);\n",
              "        }\n",
              "      </script>\n",
              "    </div>\n",
              "  </div>\n",
              "  "
            ]
          },
          "metadata": {},
          "execution_count": 54
        }
      ]
    },
    {
      "cell_type": "code",
      "source": [
        "housing_final = full_pipeline.fit_transform(housing)\n",
        "housing_final[:5]"
      ],
      "metadata": {
        "colab": {
          "base_uri": "https://localhost:8080/"
        },
        "id": "Zbpneax2-5ZN",
        "outputId": "1e0baf12-d682-45d7-e3ca-8c9caf08eaa6"
      },
      "execution_count": null,
      "outputs": [
        {
          "output_type": "execute_result",
          "data": {
            "text/plain": [
              "array([[-0.94135046,  1.34743822,  0.02756357,  0.58477745,  0.64037127,\n",
              "         0.73260236,  0.55628602, -0.8936472 ,  0.01739526, -0.12112176,\n",
              "         0.00622264,  0.        ,  1.        ,  0.        ,  0.        ,\n",
              "         0.        ],\n",
              "       [ 1.17178212, -1.19243966, -1.72201763,  1.26146668,  0.78156132,\n",
              "         0.53361152,  0.72131799,  1.292168  ,  0.56925554, -0.81086696,\n",
              "        -0.04081077,  0.        ,  0.        ,  0.        ,  0.        ,\n",
              "         1.        ],\n",
              "       [ 0.26758118, -0.1259716 ,  1.22045984, -0.46977281, -0.54513828,\n",
              "        -0.67467519, -0.52440722, -0.52543365, -0.01802432, -0.33827252,\n",
              "        -0.07537122,  0.        ,  1.        ,  0.        ,  0.        ,\n",
              "         0.        ],\n",
              "       [ 1.22173797, -1.35147437, -0.37006852, -0.34865152, -0.03636724,\n",
              "        -0.46761716, -0.03729672, -0.86592882, -0.59513997,  0.96120521,\n",
              "        -0.10680295,  0.        ,  0.        ,  0.        ,  0.        ,\n",
              "         1.        ],\n",
              "       [ 0.43743108, -0.63581817, -0.13148926,  0.42717947,  0.27279028,\n",
              "         0.37406031,  0.22089846,  0.32575178,  0.2512412 , -0.47451338,\n",
              "         0.00610923,  1.        ,  0.        ,  0.        ,  0.        ,\n",
              "         0.        ]])"
            ]
          },
          "metadata": {},
          "execution_count": 55
        }
      ]
    },
    {
      "cell_type": "markdown",
      "source": [
        "# 머신러닝 알고리즘 선택\n",
        "\n",
        "선형회귀(LinearRegression) 알고리즘 사용하기"
      ],
      "metadata": {
        "id": "y-HrtrH3_HUZ"
      }
    },
    {
      "cell_type": "code",
      "source": [
        "from sklearn.linear_model import LinearRegression\n",
        "\n",
        "lin_reg = LinearRegression()\n",
        "lin_reg.fit(housing_final, housing_labels) # 훈련"
      ],
      "metadata": {
        "colab": {
          "base_uri": "https://localhost:8080/"
        },
        "id": "kJAYLO48_fQX",
        "outputId": "873a7607-f463-4186-e26a-6b8a1eea61fa"
      },
      "execution_count": null,
      "outputs": [
        {
          "output_type": "execute_result",
          "data": {
            "text/plain": [
              "LinearRegression()"
            ]
          },
          "metadata": {},
          "execution_count": 59
        }
      ]
    },
    {
      "cell_type": "code",
      "source": [
        "# 훈련된 데이터를 이용해서 예측\n",
        "example_train_data = housing.iloc[:5]\n",
        "example_labels     = housing_labels[:5]"
      ],
      "metadata": {
        "id": "_2CemOdrqGOd"
      },
      "execution_count": null,
      "outputs": []
    },
    {
      "cell_type": "code",
      "source": [
        "example_train_prepared = full_pipeline.transform(example_train_data)\n",
        "example_train_prepared"
      ],
      "metadata": {
        "colab": {
          "base_uri": "https://localhost:8080/"
        },
        "id": "OhEuUWOBqqAi",
        "outputId": "6d84c323-947e-4b2b-a51e-35c472b5c21e"
      },
      "execution_count": null,
      "outputs": [
        {
          "output_type": "execute_result",
          "data": {
            "text/plain": [
              "array([[-0.94135046,  1.34743822,  0.02756357,  0.58477745,  0.64037127,\n",
              "         0.73260236,  0.55628602, -0.8936472 ,  0.01739526, -0.12112176,\n",
              "         0.00622264,  0.        ,  1.        ,  0.        ,  0.        ,\n",
              "         0.        ],\n",
              "       [ 1.17178212, -1.19243966, -1.72201763,  1.26146668,  0.78156132,\n",
              "         0.53361152,  0.72131799,  1.292168  ,  0.56925554, -0.81086696,\n",
              "        -0.04081077,  0.        ,  0.        ,  0.        ,  0.        ,\n",
              "         1.        ],\n",
              "       [ 0.26758118, -0.1259716 ,  1.22045984, -0.46977281, -0.54513828,\n",
              "        -0.67467519, -0.52440722, -0.52543365, -0.01802432, -0.33827252,\n",
              "        -0.07537122,  0.        ,  1.        ,  0.        ,  0.        ,\n",
              "         0.        ],\n",
              "       [ 1.22173797, -1.35147437, -0.37006852, -0.34865152, -0.03636724,\n",
              "        -0.46761716, -0.03729672, -0.86592882, -0.59513997,  0.96120521,\n",
              "        -0.10680295,  0.        ,  0.        ,  0.        ,  0.        ,\n",
              "         1.        ],\n",
              "       [ 0.43743108, -0.63581817, -0.13148926,  0.42717947,  0.27279028,\n",
              "         0.37406031,  0.22089846,  0.32575178,  0.2512412 , -0.47451338,\n",
              "         0.00610923,  1.        ,  0.        ,  0.        ,  0.        ,\n",
              "         0.        ]])"
            ]
          },
          "metadata": {},
          "execution_count": 62
        }
      ]
    },
    {
      "cell_type": "code",
      "source": [
        "pred = lin_reg.predict(example_train_prepared)\n",
        "label = list(example_labels)\n",
        "\n",
        "print(\"예측 : {}\".format(pred))\n",
        "print(\"타깃 : {}\".format(label))"
      ],
      "metadata": {
        "colab": {
          "base_uri": "https://localhost:8080/"
        },
        "id": "EnL6aK6MqwNC",
        "outputId": "d7f9a646-f43f-48e7-b7d6-3291ed76347a"
      },
      "execution_count": null,
      "outputs": [
        {
          "output_type": "stream",
          "name": "stdout",
          "text": [
            "예측 : [ 85657.90192014 305492.60737488 152056.46122456 186095.70946094\n",
            " 244550.67966089]\n",
            "타깃 : [72100.0, 279600.0, 82700.0, 112500.0, 238300.0]\n"
          ]
        }
      ]
    },
    {
      "cell_type": "markdown",
      "source": [
        "# 모델의 성능 평가\n",
        "\n",
        "- 정확도(Accuracy)\n",
        "  - 10개의 데이터가 존재. 한개만 0이고 나머지가 1이에요\n",
        "    - 10개를 아무 생각하지 않고 1로만 다 예측을 해도 정확도가 90%\n",
        "  - 100개의 데이터가 존재. 10개만 0이고 나머지가 1이에요\n",
        "    - 100개를 아무 생각하지 않고 1로만 다 예측을 해도 정확도가 90%\n",
        "  - 1억개의 데이터가 존재, 천만개가 0이고 나머지가 1이에요\n",
        "    - 1억개를 아무 생각하지 않고 1로만 다 예측을 해도 정확도가 90%\n",
        "\n",
        "- 오차(Error 또는 Loss)\n",
        "  - 모델이 얼마나 잘 못맞췄는지를 평가\n",
        "\n",
        "$$\n",
        "RMSE = \\sqrt{\\frac{1}{n}\\sum_{i=1}^{n}(y_i-t_i)^{2}}\n",
        "$$\n",
        "\n",
        "$$\n",
        "MSE = \\frac{1}{n}\\sum_{i=1}^{n}(y_i-t_i)^{2}\n",
        "$$\n",
        "\n",
        "- $y$ : 모델의 예측값\n",
        "- $t$ : 타겟(정답)\n",
        "- $n$ : 데이터의 개수\n",
        "\n",
        "MSE : Mean Squared Error 평균 제곱 오차"
      ],
      "metadata": {
        "id": "ZKyCQxM-rUd8"
      }
    },
    {
      "cell_type": "code",
      "source": [
        "# 선형회귀 모델은 훈련 데이터에 대해서 얼마나 오차를 내는가? (RMSE)\n",
        "from sklearn.metrics import mean_squared_error\n",
        "\n",
        "# 훈련 시에 사용했던 데이터를 그대로 예측\n",
        "housing_pred = lin_reg.predict(housing_final) # 예측값 y\n",
        "\n",
        "# MSE\n",
        "lin_mse = mean_squared_error(housing_labels, housing_pred)\n",
        "\n",
        "# RMSE\n",
        "lin_rmse = np.sqrt(lin_mse)\n",
        "\n",
        "print(f\"MSE : {lin_mse} / RMSE : {lin_rmse}\")"
      ],
      "metadata": {
        "colab": {
          "base_uri": "https://localhost:8080/"
        },
        "id": "iUMIA0t1r_AH",
        "outputId": "452ec0f4-9f46-43d4-a30f-8df4b745d358"
      },
      "execution_count": null,
      "outputs": [
        {
          "output_type": "stream",
          "name": "stdout",
          "text": [
            "MSE : 4709785076.060029 / RMSE : 68627.87390018745\n"
          ]
        }
      ]
    },
    {
      "cell_type": "code",
      "source": [
        "# tree 모델 사용해보기\n",
        "#  선형회귀 모델에 비해서 훨씬 복잡하게 데이터를 분석\n",
        "from sklearn.tree import DecisionTreeRegressor\n",
        "\n",
        "tree_reg = DecisionTreeRegressor()\n",
        "tree_reg.fit(housing_final, housing_labels)"
      ],
      "metadata": {
        "colab": {
          "base_uri": "https://localhost:8080/"
        },
        "id": "gTQUek840XJI",
        "outputId": "435545fb-0c2e-41cb-89c5-6335f4fc1101"
      },
      "execution_count": null,
      "outputs": [
        {
          "output_type": "execute_result",
          "data": {
            "text/plain": [
              "DecisionTreeRegressor()"
            ]
          },
          "metadata": {},
          "execution_count": 66
        }
      ]
    },
    {
      "cell_type": "code",
      "source": [
        "# tree에 대한 rmse 점수\n",
        "housing_pred = tree_reg.predict(housing_final)\n",
        "\n",
        "tree_mse = mean_squared_error(housing_labels, housing_pred)\n",
        "tree_rmse = np.sqrt(tree_mse)\n",
        "\n",
        "print(f\"MSE : {tree_mse} / RMSE : {tree_rmse}\")"
      ],
      "metadata": {
        "colab": {
          "base_uri": "https://localhost:8080/"
        },
        "id": "zNtmZKgD16CQ",
        "outputId": "39a26a10-5f02-48d3-c9a9-ac4e2a898726"
      },
      "execution_count": null,
      "outputs": [
        {
          "output_type": "stream",
          "name": "stdout",
          "text": [
            "MSE : 0.0 / RMSE : 0.0\n"
          ]
        }
      ]
    },
    {
      "cell_type": "markdown",
      "source": [
        "훈련 세트에 대해서 오차가 없는 완벽한 모델을 만든 것..\n",
        "* 새로운 데이터에 대한 오차는 어떻게 될까가 불투명하다..\n",
        "* 테스트 세트를 써볼까..? `NO!`\n",
        "* 테스트 세트는 런칭 직전에 한번 돌려보기 위한 세트..."
      ],
      "metadata": {
        "id": "LW_Kdjml2Qfi"
      }
    },
    {
      "cell_type": "markdown",
      "source": [
        "# 교차 검증(Cross Validation)\n",
        "- 테스트 세트는 서비스 런칭 직전에 평가를 위해서 남겨놔야 한다.\n",
        "- 훈련 세트로만 모델을 검증(Validation)하는 단계가 필요\n",
        "- **훈련 세트를 다시 한번 훈련 / 검증**세트로 나누는 작업이 필요하다."
      ],
      "metadata": {
        "id": "Lna5mnd646jD"
      }
    },
    {
      "cell_type": "code",
      "source": [
        "from sklearn.model_selection import cross_val_score\n",
        "\n",
        "scores = cross_val_score(\n",
        "    tree_reg, # 모델\n",
        "    housing_final, # 훈련할 feature(X값)\n",
        "    housing_labels, # 훈련할 label (y값)\n",
        "    cv=10, # Cross Validation 횟수. Fold의 개수가 된다.\n",
        "    scoring='neg_mean_squared_error'\n",
        ")\n",
        "\n",
        "tree_rmse = np.sqrt(-scores)\n",
        "print(tree_rmse.mean())"
      ],
      "metadata": {
        "colab": {
          "base_uri": "https://localhost:8080/"
        },
        "id": "LRg8SIU35r6z",
        "outputId": "82c8d3c5-a9d0-4a93-fda2-30e42ca6c29e"
      },
      "execution_count": null,
      "outputs": [
        {
          "output_type": "stream",
          "name": "stdout",
          "text": [
            "71206.46969278452\n"
          ]
        }
      ]
    },
    {
      "cell_type": "markdown",
      "source": [
        "* `score` : 맞춘게 많아야 좋다. ( 높은게 좋음 )\n",
        "* `mean_squared_error` : 오차가 낮아야 좋다. ( 숫자가 작은게 좋음 )\n",
        "* `neg_mean_squared_error` : 오차가 낮은게 많을 수록 좋다. ( 숫자가 큰게 좋음 )\n"
      ],
      "metadata": {
        "id": "1p7H2JcK7jtf"
      }
    },
    {
      "cell_type": "code",
      "source": [
        "lin_scores = cross_val_score(\n",
        "    lin_reg,\n",
        "    housing_final,\n",
        "    housing_labels,\n",
        "    cv=10,\n",
        "    scoring=\"neg_mean_squared_error\"\n",
        ")\n",
        "\n",
        "lin_rmse = np.sqrt(-lin_scores)\n",
        "print(lin_rmse.mean())"
      ],
      "metadata": {
        "colab": {
          "base_uri": "https://localhost:8080/"
        },
        "id": "8pkrbuZNAgvE",
        "outputId": "55293f3b-4f37-4668-bb1f-f577f9a536f1"
      },
      "execution_count": null,
      "outputs": [
        {
          "output_type": "stream",
          "name": "stdout",
          "text": [
            "69104.07998247063\n"
          ]
        }
      ]
    },
    {
      "cell_type": "markdown",
      "source": [
        "앙상블 모델 활용해 보기\n",
        "- 랜덤 포레스트 모델"
      ],
      "metadata": {
        "id": "F26LbBDaAzOq"
      }
    },
    {
      "cell_type": "code",
      "source": [
        "from sklearn.ensemble import RandomForestRegressor\n",
        "\n",
        "forest_reg = RandomForestRegressor()\n",
        "forest_reg.fit(housing_final, housing_labels)\n",
        "\n",
        "# 교차검증 하지 않고 rmse 확인하기\n",
        "forest_pred = forest_reg.predict(housing_final)\n",
        "forest_mse  = mean_squared_error(housing_labels, forest_pred)\n",
        "forest_rmse = np.sqrt(forest_mse)\n",
        "\n",
        "print(\"교차 검증 하지 않은 RF의 점수 : {:.3f}\".format(forest_rmse))"
      ],
      "metadata": {
        "colab": {
          "base_uri": "https://localhost:8080/"
        },
        "id": "fMZ_cxEgCrTu",
        "outputId": "4f97af07-e67f-4445-e1c2-a7ad3c732d1a"
      },
      "execution_count": null,
      "outputs": [
        {
          "output_type": "stream",
          "name": "stdout",
          "text": [
            "교차 검증 하지 않은 RF의 점수 : 18706.710\n"
          ]
        }
      ]
    },
    {
      "cell_type": "code",
      "source": [
        "# 교차 검증을 한 rmse 점수 확인하기\n",
        "forest_mse_scores = cross_val_score(\n",
        "    RandomForestRegressor(),\n",
        "    housing_final,\n",
        "    housing_labels,\n",
        "    scoring=\"neg_mean_squared_error\",\n",
        "    cv=10\n",
        ")\n",
        "forest_rmse_scores = np.sqrt(-forest_mse_scores)\n",
        "print(\"교차 검증 RF의 점수 : {:.3f}\".format(forest_rmse_scores.mean()))"
      ],
      "metadata": {
        "colab": {
          "base_uri": "https://localhost:8080/"
        },
        "id": "T_Yrqp0nDxpT",
        "outputId": "daf9dece-f0fc-4821-844c-30d924bae07f"
      },
      "execution_count": null,
      "outputs": [
        {
          "output_type": "stream",
          "name": "stdout",
          "text": [
            "교차 검증 RF의 점수 : 50377.136\n"
          ]
        }
      ]
    },
    {
      "cell_type": "markdown",
      "source": [
        "모델의 복잡도를 조절해서 성능을 개선시키기\n",
        "* 하이퍼 파라미터\n",
        "  - 개발자가 모델에 넣어주는 옵션(파라미터)\n",
        "  - 모델이 학습하지 못하는 파라미터\n",
        "  - 개발자가 어떤 하이퍼 파라미터를 넣어줘야 최적의 파라미터인지 검사 -> **GridSearch**\n",
        "* 모델 파라미터\n",
        "  - 머신러닝 모델이 직접 학습하는 파라미터"
      ],
      "metadata": {
        "id": "Rq9WRNSYFP53"
      }
    },
    {
      "cell_type": "markdown",
      "source": [
        "일반적으로 GridSearch만 하는 것이 아닌, Cross Validation까지 같이 진행."
      ],
      "metadata": {
        "id": "QEGOeY7mG4EP"
      }
    },
    {
      "cell_type": "code",
      "source": [
        "from sklearn.model_selection import GridSearchCV\n",
        "\n",
        "# 하이퍼 파라미터의 목록을 준비\n",
        "# 하이퍼 파라미터를 dict로 준비하고, 리스트로 묶어준다.\n",
        "\n",
        "# key : 하이퍼 파라미터의 이름(매개변수명), value : 파라미터의 값으로 사용할 리스트\n",
        "opt1 = {\n",
        "    \"n_estimators\": [3, 10, 30],\n",
        "    \"max_features\": [2, 4, 6, 8]\n",
        "}\n",
        "\n",
        "opt2 = {\n",
        "    \"bootstrap\": [False],\n",
        "    \"n_estimators\": [3, 10],\n",
        "    \"max_features\": [2, 3, 4]\n",
        "}\n",
        "\n",
        "params = [ opt1, opt2 ]\n",
        "\n",
        "grid_search = GridSearchCV(\n",
        "    RandomForestRegressor(), # 모델 객체\n",
        "    params, # 하이퍼 파라미터의 목록\n",
        "    cv=5, # Cross Validation 횟수\n",
        "    scoring=\"neg_mean_squared_error\",\n",
        "    return_train_score=True # 점수 확인 여부\n",
        ")\n",
        "\n",
        "# 훈련은 따로\n",
        "grid_search.fit(housing_final, housing_labels)"
      ],
      "metadata": {
        "colab": {
          "base_uri": "https://localhost:8080/"
        },
        "id": "r5lrADGmIP42",
        "outputId": "2c9daef0-254a-461e-bfeb-a1def7995d83"
      },
      "execution_count": null,
      "outputs": [
        {
          "output_type": "execute_result",
          "data": {
            "text/plain": [
              "GridSearchCV(cv=5, estimator=RandomForestRegressor(),\n",
              "             param_grid=[{'max_features': [2, 4, 6, 8],\n",
              "                          'n_estimators': [3, 10, 30]},\n",
              "                         {'bootstrap': [False], 'max_features': [2, 3, 4],\n",
              "                          'n_estimators': [3, 10]}],\n",
              "             return_train_score=True, scoring='neg_mean_squared_error')"
            ]
          },
          "metadata": {},
          "execution_count": 75
        }
      ]
    },
    {
      "cell_type": "code",
      "source": [
        "# 1. 제일 점수가 좋았던 하이퍼 파라미터 확인\n",
        "grid_search.best_params_"
      ],
      "metadata": {
        "colab": {
          "base_uri": "https://localhost:8080/"
        },
        "id": "YKoOyxNtI9Zu",
        "outputId": "e336be7a-c89f-4414-9085-a1b916862b6f"
      },
      "execution_count": null,
      "outputs": [
        {
          "output_type": "execute_result",
          "data": {
            "text/plain": [
              "{'max_features': 6, 'n_estimators': 30}"
            ]
          },
          "metadata": {},
          "execution_count": 77
        }
      ]
    },
    {
      "cell_type": "code",
      "source": [
        "# 2. 제일 점수가 좋았던 모델 가져오기\n",
        "grid_search.best_estimator_"
      ],
      "metadata": {
        "colab": {
          "base_uri": "https://localhost:8080/"
        },
        "id": "cQe0ctIcJYRR",
        "outputId": "c20257e3-1ca3-4597-f4b8-54c34eeac32c"
      },
      "execution_count": null,
      "outputs": [
        {
          "output_type": "execute_result",
          "data": {
            "text/plain": [
              "RandomForestRegressor(max_features=6, n_estimators=30)"
            ]
          },
          "metadata": {},
          "execution_count": 78
        }
      ]
    },
    {
      "cell_type": "code",
      "source": [
        "# 각 하이퍼 파라미터에 대한 결과 확인( Cross Validation 결과 )\n",
        "res = grid_search.cv_results_\n",
        "\n",
        "for mean_score, params in zip(res[\"mean_test_score\"], res[\"params\"]):\n",
        "  print(np.sqrt(-mean_score), params)"
      ],
      "metadata": {
        "colab": {
          "base_uri": "https://localhost:8080/"
        },
        "id": "wDXgJSpeJg5W",
        "outputId": "50422b8b-fcd8-46f9-a14c-d82ff94069b3"
      },
      "execution_count": null,
      "outputs": [
        {
          "output_type": "stream",
          "name": "stdout",
          "text": [
            "64166.51109834315 {'max_features': 2, 'n_estimators': 3}\n",
            "55625.83075139373 {'max_features': 2, 'n_estimators': 10}\n",
            "52623.792196029994 {'max_features': 2, 'n_estimators': 30}\n",
            "60977.21925822071 {'max_features': 4, 'n_estimators': 3}\n",
            "52595.17647067697 {'max_features': 4, 'n_estimators': 10}\n",
            "50716.32605537627 {'max_features': 4, 'n_estimators': 30}\n",
            "58333.61860607988 {'max_features': 6, 'n_estimators': 3}\n",
            "52234.435287315 {'max_features': 6, 'n_estimators': 10}\n",
            "49864.04680930741 {'max_features': 6, 'n_estimators': 30}\n",
            "58915.35744503176 {'max_features': 8, 'n_estimators': 3}\n",
            "52347.87530521831 {'max_features': 8, 'n_estimators': 10}\n",
            "50077.922073884925 {'max_features': 8, 'n_estimators': 30}\n",
            "62178.06628838347 {'bootstrap': False, 'max_features': 2, 'n_estimators': 3}\n",
            "54128.56664180367 {'bootstrap': False, 'max_features': 2, 'n_estimators': 10}\n",
            "60555.223828826805 {'bootstrap': False, 'max_features': 3, 'n_estimators': 3}\n",
            "52706.3496359516 {'bootstrap': False, 'max_features': 3, 'n_estimators': 10}\n",
            "59800.54520852092 {'bootstrap': False, 'max_features': 4, 'n_estimators': 3}\n",
            "51644.4081331533 {'bootstrap': False, 'max_features': 4, 'n_estimators': 10}\n"
          ]
        }
      ]
    },
    {
      "cell_type": "code",
      "source": [
        "final_model = grid_search.best_estimator_"
      ],
      "metadata": {
        "id": "2oTdbaQvJno_"
      },
      "execution_count": null,
      "outputs": []
    },
    {
      "cell_type": "code",
      "source": [
        "# 테스트 세트 가져오기\n",
        "strat_test_set.head()"
      ],
      "metadata": {
        "colab": {
          "base_uri": "https://localhost:8080/",
          "height": 270
        },
        "id": "sgORvw7fJttD",
        "outputId": "ef444df4-24b4-4824-ea59-119bcf58500f"
      },
      "execution_count": null,
      "outputs": [
        {
          "output_type": "execute_result",
          "data": {
            "text/plain": [
              "       longitude  latitude  housing_median_age  total_rooms  total_bedrooms  \\\n",
              "5241     -118.39     34.12                29.0       6447.0          1012.0   \n",
              "17352    -120.42     34.89                24.0       2020.0           307.0   \n",
              "3505     -118.45     34.25                36.0       1453.0           270.0   \n",
              "7777     -118.10     33.91                35.0       1653.0           325.0   \n",
              "14155    -117.07     32.77                38.0       3779.0           614.0   \n",
              "\n",
              "       population  households  median_income  median_house_value  \\\n",
              "5241       2184.0       960.0         8.2816            500001.0   \n",
              "17352       855.0       283.0         5.0099            162500.0   \n",
              "3505        808.0       275.0         4.3839            204600.0   \n",
              "7777       1072.0       301.0         3.2708            159700.0   \n",
              "14155      1495.0       614.0         4.3529            184000.0   \n",
              "\n",
              "      ocean_proximity  \n",
              "5241        <1H OCEAN  \n",
              "17352       <1H OCEAN  \n",
              "3505        <1H OCEAN  \n",
              "7777        <1H OCEAN  \n",
              "14155      NEAR OCEAN  "
            ],
            "text/html": [
              "\n",
              "  <div id=\"df-d96003bd-53eb-44a5-a974-ad92c3c855ee\">\n",
              "    <div class=\"colab-df-container\">\n",
              "      <div>\n",
              "<style scoped>\n",
              "    .dataframe tbody tr th:only-of-type {\n",
              "        vertical-align: middle;\n",
              "    }\n",
              "\n",
              "    .dataframe tbody tr th {\n",
              "        vertical-align: top;\n",
              "    }\n",
              "\n",
              "    .dataframe thead th {\n",
              "        text-align: right;\n",
              "    }\n",
              "</style>\n",
              "<table border=\"1\" class=\"dataframe\">\n",
              "  <thead>\n",
              "    <tr style=\"text-align: right;\">\n",
              "      <th></th>\n",
              "      <th>longitude</th>\n",
              "      <th>latitude</th>\n",
              "      <th>housing_median_age</th>\n",
              "      <th>total_rooms</th>\n",
              "      <th>total_bedrooms</th>\n",
              "      <th>population</th>\n",
              "      <th>households</th>\n",
              "      <th>median_income</th>\n",
              "      <th>median_house_value</th>\n",
              "      <th>ocean_proximity</th>\n",
              "    </tr>\n",
              "  </thead>\n",
              "  <tbody>\n",
              "    <tr>\n",
              "      <th>5241</th>\n",
              "      <td>-118.39</td>\n",
              "      <td>34.12</td>\n",
              "      <td>29.0</td>\n",
              "      <td>6447.0</td>\n",
              "      <td>1012.0</td>\n",
              "      <td>2184.0</td>\n",
              "      <td>960.0</td>\n",
              "      <td>8.2816</td>\n",
              "      <td>500001.0</td>\n",
              "      <td>&lt;1H OCEAN</td>\n",
              "    </tr>\n",
              "    <tr>\n",
              "      <th>17352</th>\n",
              "      <td>-120.42</td>\n",
              "      <td>34.89</td>\n",
              "      <td>24.0</td>\n",
              "      <td>2020.0</td>\n",
              "      <td>307.0</td>\n",
              "      <td>855.0</td>\n",
              "      <td>283.0</td>\n",
              "      <td>5.0099</td>\n",
              "      <td>162500.0</td>\n",
              "      <td>&lt;1H OCEAN</td>\n",
              "    </tr>\n",
              "    <tr>\n",
              "      <th>3505</th>\n",
              "      <td>-118.45</td>\n",
              "      <td>34.25</td>\n",
              "      <td>36.0</td>\n",
              "      <td>1453.0</td>\n",
              "      <td>270.0</td>\n",
              "      <td>808.0</td>\n",
              "      <td>275.0</td>\n",
              "      <td>4.3839</td>\n",
              "      <td>204600.0</td>\n",
              "      <td>&lt;1H OCEAN</td>\n",
              "    </tr>\n",
              "    <tr>\n",
              "      <th>7777</th>\n",
              "      <td>-118.10</td>\n",
              "      <td>33.91</td>\n",
              "      <td>35.0</td>\n",
              "      <td>1653.0</td>\n",
              "      <td>325.0</td>\n",
              "      <td>1072.0</td>\n",
              "      <td>301.0</td>\n",
              "      <td>3.2708</td>\n",
              "      <td>159700.0</td>\n",
              "      <td>&lt;1H OCEAN</td>\n",
              "    </tr>\n",
              "    <tr>\n",
              "      <th>14155</th>\n",
              "      <td>-117.07</td>\n",
              "      <td>32.77</td>\n",
              "      <td>38.0</td>\n",
              "      <td>3779.0</td>\n",
              "      <td>614.0</td>\n",
              "      <td>1495.0</td>\n",
              "      <td>614.0</td>\n",
              "      <td>4.3529</td>\n",
              "      <td>184000.0</td>\n",
              "      <td>NEAR OCEAN</td>\n",
              "    </tr>\n",
              "  </tbody>\n",
              "</table>\n",
              "</div>\n",
              "      <button class=\"colab-df-convert\" onclick=\"convertToInteractive('df-d96003bd-53eb-44a5-a974-ad92c3c855ee')\"\n",
              "              title=\"Convert this dataframe to an interactive table.\"\n",
              "              style=\"display:none;\">\n",
              "        \n",
              "  <svg xmlns=\"http://www.w3.org/2000/svg\" height=\"24px\"viewBox=\"0 0 24 24\"\n",
              "       width=\"24px\">\n",
              "    <path d=\"M0 0h24v24H0V0z\" fill=\"none\"/>\n",
              "    <path d=\"M18.56 5.44l.94 2.06.94-2.06 2.06-.94-2.06-.94-.94-2.06-.94 2.06-2.06.94zm-11 1L8.5 8.5l.94-2.06 2.06-.94-2.06-.94L8.5 2.5l-.94 2.06-2.06.94zm10 10l.94 2.06.94-2.06 2.06-.94-2.06-.94-.94-2.06-.94 2.06-2.06.94z\"/><path d=\"M17.41 7.96l-1.37-1.37c-.4-.4-.92-.59-1.43-.59-.52 0-1.04.2-1.43.59L10.3 9.45l-7.72 7.72c-.78.78-.78 2.05 0 2.83L4 21.41c.39.39.9.59 1.41.59.51 0 1.02-.2 1.41-.59l7.78-7.78 2.81-2.81c.8-.78.8-2.07 0-2.86zM5.41 20L4 18.59l7.72-7.72 1.47 1.35L5.41 20z\"/>\n",
              "  </svg>\n",
              "      </button>\n",
              "      \n",
              "  <style>\n",
              "    .colab-df-container {\n",
              "      display:flex;\n",
              "      flex-wrap:wrap;\n",
              "      gap: 12px;\n",
              "    }\n",
              "\n",
              "    .colab-df-convert {\n",
              "      background-color: #E8F0FE;\n",
              "      border: none;\n",
              "      border-radius: 50%;\n",
              "      cursor: pointer;\n",
              "      display: none;\n",
              "      fill: #1967D2;\n",
              "      height: 32px;\n",
              "      padding: 0 0 0 0;\n",
              "      width: 32px;\n",
              "    }\n",
              "\n",
              "    .colab-df-convert:hover {\n",
              "      background-color: #E2EBFA;\n",
              "      box-shadow: 0px 1px 2px rgba(60, 64, 67, 0.3), 0px 1px 3px 1px rgba(60, 64, 67, 0.15);\n",
              "      fill: #174EA6;\n",
              "    }\n",
              "\n",
              "    [theme=dark] .colab-df-convert {\n",
              "      background-color: #3B4455;\n",
              "      fill: #D2E3FC;\n",
              "    }\n",
              "\n",
              "    [theme=dark] .colab-df-convert:hover {\n",
              "      background-color: #434B5C;\n",
              "      box-shadow: 0px 1px 3px 1px rgba(0, 0, 0, 0.15);\n",
              "      filter: drop-shadow(0px 1px 2px rgba(0, 0, 0, 0.3));\n",
              "      fill: #FFFFFF;\n",
              "    }\n",
              "  </style>\n",
              "\n",
              "      <script>\n",
              "        const buttonEl =\n",
              "          document.querySelector('#df-d96003bd-53eb-44a5-a974-ad92c3c855ee button.colab-df-convert');\n",
              "        buttonEl.style.display =\n",
              "          google.colab.kernel.accessAllowed ? 'block' : 'none';\n",
              "\n",
              "        async function convertToInteractive(key) {\n",
              "          const element = document.querySelector('#df-d96003bd-53eb-44a5-a974-ad92c3c855ee');\n",
              "          const dataTable =\n",
              "            await google.colab.kernel.invokeFunction('convertToInteractive',\n",
              "                                                     [key], {});\n",
              "          if (!dataTable) return;\n",
              "\n",
              "          const docLinkHtml = 'Like what you see? Visit the ' +\n",
              "            '<a target=\"_blank\" href=https://colab.research.google.com/notebooks/data_table.ipynb>data table notebook</a>'\n",
              "            + ' to learn more about interactive tables.';\n",
              "          element.innerHTML = '';\n",
              "          dataTable['output_type'] = 'display_data';\n",
              "          await google.colab.output.renderOutput(dataTable, element);\n",
              "          const docLink = document.createElement('div');\n",
              "          docLink.innerHTML = docLinkHtml;\n",
              "          element.appendChild(docLink);\n",
              "        }\n",
              "      </script>\n",
              "    </div>\n",
              "  </div>\n",
              "  "
            ]
          },
          "metadata": {},
          "execution_count": 81
        }
      ]
    },
    {
      "cell_type": "code",
      "source": [
        "# feature 마련하기\n",
        "X_test = strat_test_set.drop(\"median_house_value\", axis=1)\n",
        "\n",
        "# label 마련하기\n",
        "y_test = strat_test_set[\"median_house_value\"].copy()\n",
        "\n",
        "# ⭐️⭐️⭐️⭐️⭐️절대 테스트 세트를 위한 Transformer를 따로 만들면 안된다!!!!!!!⭐️⭐️⭐️⭐️⭐️\n",
        "X_test_final = full_pipeline.transform(X_test)\n",
        "\n",
        "final_pred = final_model.predict(X_test_final)\n",
        "\n",
        "final_mse = mean_squared_error(y_test, final_pred)\n",
        "final_rmse = np.sqrt(final_mse)\n",
        "\n",
        "print(final_rmse)"
      ],
      "metadata": {
        "colab": {
          "base_uri": "https://localhost:8080/"
        },
        "id": "SuMXL77-JyLt",
        "outputId": "1c807bdd-6d7a-47d4-8485-13a57e72c02a"
      },
      "execution_count": null,
      "outputs": [
        {
          "output_type": "stream",
          "name": "stdout",
          "text": [
            "47905.19892604984\n"
          ]
        }
      ]
    },
    {
      "cell_type": "code",
      "source": [
        "X_test_predictions = final_model.predict(X_test_final)\n",
        "# 위 추정값이 얼마나 정확한지를 알기 위해 일반화 오차의 95% 신뢰 구간 계산\n",
        "from scipy import stats\n",
        "confidence = 0.95\n",
        "\n",
        "# 1. 각 샘플의 오차의 제곱을 구한다.\n",
        "squared_error = (X_test_predictions - y_test) ** 2\n",
        "np.sqrt(\n",
        "    stats.t.interval(\n",
        "        confidence,\n",
        "        len(squared_error) - 1,\n",
        "        loc=squared_error.mean(),\n",
        "        scale=stats.sem(squared_error)\n",
        "    )\n",
        ")"
      ],
      "metadata": {
        "colab": {
          "base_uri": "https://localhost:8080/"
        },
        "id": "25e9F8isKC-K",
        "outputId": "9327de6f-5c3e-4bb6-b47f-6a1bf6db4e8e"
      },
      "execution_count": null,
      "outputs": [
        {
          "output_type": "execute_result",
          "data": {
            "text/plain": [
              "array([45946.01700429, 49787.34467443])"
            ]
          },
          "metadata": {},
          "execution_count": 85
        }
      ]
    },
    {
      "cell_type": "code",
      "source": [],
      "metadata": {
        "id": "e_RBkHiTL6vL"
      },
      "execution_count": null,
      "outputs": []
    }
  ]
}